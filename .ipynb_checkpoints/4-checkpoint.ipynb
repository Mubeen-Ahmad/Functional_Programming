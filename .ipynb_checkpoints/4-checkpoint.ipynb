{
 "cells": [
  {
   "cell_type": "markdown",
   "id": "e24f3451-3de7-4c9e-abe3-52c90d5c34be",
   "metadata": {},
   "source": [
    "<h1 style=\"text-align:center; color:#005bbd; font-size:20px; font-family:Sans-serif; font-style: oblique; text-shadow: 0 0 3px white, 0 0 1px Black;\">\n",
    "   Closure Function\n",
    "</h1>"
   ]
  },
  {
   "cell_type": "markdown",
   "id": "a065f3db-430b-4718-8fc0-9dda15e582de",
   "metadata": {},
   "source": [
    "<body style=\"font-family: Sans-serif;\">\n",
    "    <div style=\"color: black; font-size: 15px; font-style: oblique; text-shadow: 0 0 3px white, 0 0 1px black; padding: 20px;\">\n",
    "\n",
    "  Ye woh functions hain jo outer function ke variables ko capture (yaad) kar lete hain, aur phir outer function ke execution ke baad bhi un captured values ko use karte hain.\n",
    "\n",
    "- **Key Points:**  \n",
    "  - Closure tab banta hai jab ek inner function ko outer function se return kar diya jata hai, aur woh inner function outer function ke scope ke variables ko \"remember\" kar leta hai.  \n",
    "  - Har closure higher-order function hota hai (kyunki woh function return hota hai), lekin har higher-order function closure nahi hota.\n"
   ]
  },
  {
   "cell_type": "code",
   "execution_count": 24,
   "id": "6f404ea2-c802-4203-aa42-0efd8c77404c",
   "metadata": {
    "tags": []
   },
   "outputs": [
    {
     "name": "stdout",
     "output_type": "stream",
     "text": [
      "10\n"
     ]
    }
   ],
   "source": [
    "def multiplier(n):\n",
    "    def multiply(x):\n",
    "        return x * n  # Yahan 'n' capture ho raha hai (closure)\n",
    "    return multiply\n",
    "\n",
    "double = multiplier(2)\n",
    "print(double(5))  # Output: 10, kyunki 5 * 2 = 10"
   ]
  },
  {
   "cell_type": "markdown",
   "id": "cd8cc8f8-4ddc-4bb0-b85f-98ae1059b578",
   "metadata": {},
   "source": [
    "<h1 style=\"text-align:center; color:#005bbd; font-size:20px; font-family:Sans-serif; font-style: oblique; text-shadow: 0 0 3px white, 0 0 1px Black;\">\n",
    "   Closure and Higher Order Function Difference\n",
    "</h1>"
   ]
  },
  {
   "cell_type": "markdown",
   "id": "3c97feee-2c19-47ed-9d45-de4d0f650aaa",
   "metadata": {},
   "source": [
    "<body style=\"font-family: Sans-serif;\">\n",
    "    <div style=\"color: black; font-size: 15px; font-style: oblique; text-shadow: 0 0 3px white, 0 0 1px black; padding: 20px;\">\n",
    "\n",
    "Higher-Order Functions aur Closure Functions dono related concepts hain, lekin inmein kuch farq hai.<br>\n",
    "\n",
    "- **Closure:**  \n",
    "  Ek aisa function jo apne outer (enclosing) scope ke variables ko capture (yaad) kar leta hai, chahe outer function ka execution khatam ho chuka ho.  \n",
    "- **Higher-Order Function:**  \n",
    "  Aise functions jo functions ko argument ke taur pe lete hain ya functions ko return karte hain."
   ]
  },
  {
   "cell_type": "markdown",
   "id": "c00c4019-dd91-4bc4-b303-268c8bdee1e8",
   "metadata": {},
   "source": [
    "<body style=\"font-family: Sans-serif;\">\n",
    "    <div style=\"color: black; font-size: 15px; font-style: oblique; text-shadow: 0 0 3px white, 0 0 1px black; padding: 20px;\">\n",
    "\n",
    "#### **Example 1: Higher-Order Function (Non-Closure)**\n",
    "\n",
    "Agar aap sirf kisi function ko argument ke taur par pass karte hain ya return karte hain, lekin us returned function ne outer scope ke koi variable capture nahi kiya, to woh higher-order function to hai, lekin strict sense mein closure nahi hai."
   ]
  },
  {
   "cell_type": "code",
   "execution_count": 25,
   "id": "fb8b2acf-a9bc-43d8-8555-26bee8c890fc",
   "metadata": {
    "tags": []
   },
   "outputs": [
    {
     "name": "stdout",
     "output_type": "stream",
     "text": [
      "25\n"
     ]
    }
   ],
   "source": [
    "def apply_function(func, value):\n",
    "    return func(value)\n",
    "\n",
    "def square(x):\n",
    "    return x * x\n",
    "\n",
    "print(apply_function(square, 5))  # Output: 25"
   ]
  },
  {
   "cell_type": "markdown",
   "id": "8b8539c0-562a-48bd-af17-269a20174086",
   "metadata": {},
   "source": [
    "<body style=\"font-family: Sans-serif;\">\n",
    "    <div style=\"color: black; font-size: 15px; font-style: oblique; text-shadow: 0 0 3px white, 0 0 1px black; padding: 20px;\">\n",
    "\n",
    "Yahan, `apply_function` higher-order function hai kyunki woh function (`square`) ko argument ke taur par leta hai.<br>Lekin is example mein koi free variable (outer variable) capture nahi hota, isliye ye closure nahi hai."
   ]
  },
  {
   "cell_type": "markdown",
   "id": "77cd56c0-00d0-40e0-86a9-15b14cdb9224",
   "metadata": {},
   "source": [
    "<body style=\"font-family: Sans-serif;\">\n",
    "    <div style=\"color: black; font-size: 15px; font-style: oblique; text-shadow: 0 0 3px white, 0 0 1px black; padding: 20px;\">\n",
    "\n",
    "#### **Example 2:** \n",
    "- #### Function Returning Function Without Capturing External State **(Non Clouser)**"
   ]
  },
  {
   "cell_type": "code",
   "execution_count": 26,
   "id": "9d89bc8f-fff5-44b8-8767-2fa973486aad",
   "metadata": {
    "tags": []
   },
   "outputs": [
    {
     "name": "stdout",
     "output_type": "stream",
     "text": [
      "10\n"
     ]
    }
   ],
   "source": [
    "def get_multiplier():\n",
    "    def multiply(x):\n",
    "        return x * 2  # Yahaan 2 ek literal hai, koi outer variable capture nahi hua\n",
    "    return multiply\n",
    "\n",
    "double = get_multiplier()\n",
    "print(double(5))  # Output: 10"
   ]
  },
  {
   "cell_type": "markdown",
   "id": "87f0e45d-7351-4499-b7bf-cb5265484ab0",
   "metadata": {},
   "source": [
    "<body style=\"font-family: Sans-serif;\">\n",
    "    <div style=\"color: black; font-size: 15px; font-style: oblique; text-shadow: 0 0 3px white, 0 0 1px black; padding: 20px;\">\n",
    "\n",
    "Is example mein, `get_multiplier` ek higher-order function hai kyunki ye function (`multiply`) return kar raha hai. Lekin `multiply` ke andar koi free variable (jaise ke koi outer variable jo function ke bahar define ho) capture nahi ho raha—yahaan 2 directly likha gaya hai. Is liye strict sense mein, isay closure nahi kehte."
   ]
  },
  {
   "cell_type": "markdown",
   "id": "59b77b76-d297-4655-9ed7-44fd95c321b0",
   "metadata": {},
   "source": [
    "<body style=\"font-family: Sans-serif;\">\n",
    "    <div style=\"color: black; font-size: 15px; font-style: oblique; text-shadow: 0 0 3px white, 0 0 1px black; padding: 20px;\">\n",
    "        \n",
    "#### **Closure: Example**  \n",
    "  Ek higher-order function ka special case hai, jahan returned (ya nested) function outer function ke variable(s) ko capture kar leta hai.  "
   ]
  },
  {
   "cell_type": "code",
   "execution_count": 29,
   "id": "05c9200b-634e-4e5d-bc30-014b7da2bf8a",
   "metadata": {
    "tags": []
   },
   "outputs": [
    {
     "name": "stdout",
     "output_type": "stream",
     "text": [
      "10\n"
     ]
    }
   ],
   "source": [
    "def multiplier(n):\n",
    "    def multiply(x):\n",
    "        return x * n  # Yahaan 'n' capture ho raha hai\n",
    "    return multiply\n",
    "\n",
    "double = multiplier(2)\n",
    "print(double(5))  # Output: 10"
   ]
  },
  {
   "cell_type": "markdown",
   "id": "4d7b31d0-455c-45d3-9dd4-7a2d9efb9611",
   "metadata": {},
   "source": [
    "<body style=\"font-family: Sans-serif;\">\n",
    "    <div style=\"color: black; font-size: 15px; font-style: oblique; text-shadow: 0 0 3px white, 0 0 1px black; padding: 20px;\">\n",
    "\n",
    "#### Is example mein `multiply` ne `n` (jo 2 hai) capture kar liya, isliye ye closure hai.\n",
    "        \n",
    "- #### Har **closure** higher-order function hota hai (kyunki woh function return hota hai), \n",
    "\n",
    "- #### lekin har **higher-order** function closure nahi hota."
   ]
  }
 ],
 "metadata": {
  "kernelspec": {
   "display_name": "Python 3 (ipykernel)",
   "language": "python",
   "name": "python3"
  },
  "language_info": {
   "codemirror_mode": {
    "name": "ipython",
    "version": 3
   },
   "file_extension": ".py",
   "mimetype": "text/x-python",
   "name": "python",
   "nbconvert_exporter": "python",
   "pygments_lexer": "ipython3",
   "version": "3.10.12"
  }
 },
 "nbformat": 4,
 "nbformat_minor": 5
}
