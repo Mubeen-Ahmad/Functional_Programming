{
 "cells": [
  {
   "cell_type": "markdown",
   "id": "3d3b28b7-6230-4e2e-8769-e509af02f910",
   "metadata": {},
   "source": [
    "<h1 style=\"text-align:center; color:#005bbd; font-size:20px; font-family:Sans-serif; font-style: oblique; text-shadow: 0 0 3px white, 0 0 1px Black;\">\n",
    "   First Class Function\n",
    "</h1>"
   ]
  },
  {
   "cell_type": "markdown",
   "id": "ff8cb9aa-50dd-4e42-b8b1-3edc467f9825",
   "metadata": {},
   "source": [
    "<body style=\"font-family: Sans-serif;\">\n",
    "    <div style=\"color: black; font-size: 15px; font-style: oblique; text-shadow: 0 0 3px white, 0 0 1px black; padding: 20px;\">\n",
    "                \n",
    "First-Class Functions ka matlab hai ke programming language mein functions ko \"first-class citizens\" treat kia jata hai. Matlab aap functions ko variables ki tarah treat kar sakte hain:<br><br>\n",
    "Aap kisi bhi function ko ek variable mein assign kar sakte hain. Is se woh variable function jaisa behave karega."
   ]
  },
  {
   "cell_type": "markdown",
   "id": "b4931169-6345-4e6d-afab-1689d523265c",
   "metadata": {},
   "source": [
    "<body style=\"font-family: Sans-serif;\">\n",
    "    <div style=\"color: black; font-size: 15px; font-style: oblique; text-shadow: 0 0 3px white, 0 0 1px black; padding: 20px;\">\n",
    "                \n",
    "\n"
   ]
  },
  {
   "cell_type": "code",
   "execution_count": 4,
   "id": "cfa182d4-1972-4b00-a443-a9fef91bc8cd",
   "metadata": {
    "tags": []
   },
   "outputs": [],
   "source": [
    "# Ek simple function jo greeting return karta hai\n",
    "def greet(name):\n",
    "    return f\"Hello, {name}!\""
   ]
  },
  {
   "cell_type": "code",
   "execution_count": 5,
   "id": "5582768b-da7c-4c30-b577-6023292ef9b6",
   "metadata": {
    "tags": []
   },
   "outputs": [],
   "source": [
    "# 'greet' function ko 'say_hello' variable mein assign kar diya.\n",
    "\n",
    "say_hello = greet"
   ]
  },
  {
   "cell_type": "code",
   "execution_count": 6,
   "id": "dce88d09-a1ff-45c3-9047-60a9e2dca102",
   "metadata": {
    "tags": []
   },
   "outputs": [
    {
     "name": "stdout",
     "output_type": "stream",
     "text": [
      "Hello, Mubeen!\n"
     ]
    }
   ],
   "source": [
    "# Ab 'say_hello' bhi function ki tarah use ho sakta hai.\n",
    "\n",
    "print(say_hello(\"Mubeen\"))  # Output: Hello, Mubeen!"
   ]
  },
  {
   "cell_type": "markdown",
   "id": "71e22bf8-5de1-4284-a968-642ead27819a",
   "metadata": {},
   "source": [
    "<h1 style=\"text-align:center; color:#005bbd; font-size:20px; font-family:Sans-serif; font-style: oblique; text-shadow: 0 0 3px white, 0 0 1px Black;\">\n",
    "   Higher-Order Functions\n",
    "</h1>"
   ]
  },
  {
   "cell_type": "markdown",
   "id": "9a0e5d40-0918-42e3-9916-b37a99fbb0c6",
   "metadata": {},
   "source": [
    "<body style=\"font-family: Sans-serif;\">\n",
    "    <div style=\"color: black; font-size: 15px; font-style: oblique; text-shadow: 0 0 3px white, 0 0 1px black; padding: 20px;\">\n",
    "\n",
    "#### Higher-Order Functions (HOFs) **2 tarah ke hotay hain:**\n",
    "\n",
    "1. **Function as Argument (Callback Functions)**\n",
    "2. **Function as Return Value (Closures & Function Factories)**\n",
    "\n",
    "Yeh dono cases **Higher-Order Functions** ke andar aatay hain, kyunki **ek function dusre function ko ya to accept kar raha hai, ya return kar raha hai.** 🔥  "
   ]
  },
  {
   "cell_type": "markdown",
   "id": "44a40810-ecd9-4190-a1eb-8007462555f7",
   "metadata": {
    "tags": []
   },
   "source": [
    "<body style=\"font-family: Sans-serif;\">\n",
    "    <div style=\"color: black; font-size: 15px; font-style: oblique; text-shadow: 0 0 3px white, 0 0 1px black; padding: 20px;\">\n",
    "\n",
    " #### **🔹1. Function as Argument (Callback Functions)**\n",
    "Is type me **ek function ko doosre function ke argument me pass kiya jata hai.**  \n",
    "Ye **zyada tar decorators, event handlers, aur loops me use hota hai.**  \n"
   ]
  },
  {
   "cell_type": "code",
   "execution_count": 88,
   "id": "3a2b1cdf-c5ee-45dd-af88-edaa515ccd9a",
   "metadata": {
    "tags": []
   },
   "outputs": [],
   "source": [
    "def apply_operation(func, a, b):\n",
    "    return func(a, b)\n",
    "\n",
    "def add(x, y):\n",
    "    return x + y  \n",
    "\n",
    "def multiply(x, y):\n",
    "    return x * y  "
   ]
  },
  {
   "cell_type": "code",
   "execution_count": 90,
   "id": "3153f827-9a14-40de-aba6-d97fb09cf484",
   "metadata": {
    "tags": []
   },
   "outputs": [
    {
     "name": "stdout",
     "output_type": "stream",
     "text": [
      "8\n"
     ]
    }
   ],
   "source": [
    "print(apply_operation(add, 5, 3))"
   ]
  },
  {
   "cell_type": "code",
   "execution_count": 91,
   "id": "0cb677ce-7a0a-431a-abc1-0a1b17de81d9",
   "metadata": {
    "tags": []
   },
   "outputs": [
    {
     "name": "stdout",
     "output_type": "stream",
     "text": [
      "15\n"
     ]
    }
   ],
   "source": [
    "print(apply_operation(multiply, 5, 3))"
   ]
  },
  {
   "cell_type": "markdown",
   "id": "56fb122b-dc4f-41af-99f7-83cd5f3623b1",
   "metadata": {},
   "source": [
    "<body style=\"font-family: Sans-serif;\">\n",
    "    <div style=\"color: black; font-size: 15px; font-style: oblique; text-shadow: 0 0 3px white, 0 0 1px black; padding: 20px;\">\n",
    "\n",
    "#### **🔹 2. Function as Return Value (Closures & Function Factories)**\n",
    "Is type me **ek function doosre function ke andar define hota hai, aur return hota hai.**  \n",
    "Yeh **closures** aur **factory functions** me use hota hai.  \n"
   ]
  },
  {
   "cell_type": "code",
   "execution_count": 1,
   "id": "a843dd57-5576-44e0-93e6-171a8b32983b",
   "metadata": {
    "tags": []
   },
   "outputs": [],
   "source": [
    "def multiplier(n):  # Outer Function\n",
    "    def multiply(x):  # Inner Function\n",
    "        return x * n  # `n` yaad rakhta hai (Closure)\n",
    "    return multiply  "
   ]
  },
  {
   "cell_type": "code",
   "execution_count": 3,
   "id": "79d7c593-efb5-428e-9247-86bf7127cdbd",
   "metadata": {
    "tags": []
   },
   "outputs": [
    {
     "data": {
      "text/plain": [
       "<function __main__.multiplier.<locals>.multiply(x)>"
      ]
     },
     "execution_count": 3,
     "metadata": {},
     "output_type": "execute_result"
    }
   ],
   "source": [
    "multiplier(2)"
   ]
  },
  {
   "cell_type": "markdown",
   "id": "7a460e5c-a726-4004-9bc6-044be510a59d",
   "metadata": {},
   "source": [
    "<body style=\"font-family: Sans-serif;\">\n",
    "    <div style=\"color: black; font-size: 15px; font-style: oblique; text-shadow: 0 0 3px white, 0 0 1px black; padding: 20px;\">\n",
    "\n",
    "Yahan, 2 value parameter n mein pass ho rahi hai.<br>\n",
    "multiplier function ke andar ek inner function multiply(x) define hua hai.<br>\n",
    "Ye inner function n ki value (jo ke ab 2 hai) ko capture kar leta hai (yani closure create ho jata hai)."
   ]
  },
  {
   "cell_type": "code",
   "execution_count": 5,
   "id": "b17ad4bb-79d6-4552-a5a8-4ed273b9d2c7",
   "metadata": {
    "tags": []
   },
   "outputs": [
    {
     "data": {
      "text/plain": [
       "6"
      ]
     },
     "execution_count": 5,
     "metadata": {},
     "output_type": "execute_result"
    }
   ],
   "source": [
    "multiplier(2)(3)"
   ]
  },
  {
   "cell_type": "markdown",
   "id": "752f45a2-8991-45a8-9a3f-bb89cf8e1952",
   "metadata": {},
   "source": [
    "<body style=\"font-family: Sans-serif;\">\n",
    "    <div style=\"color: black; font-size: 15px; font-style: oblique; text-shadow: 0 0 3px white, 0 0 1px black; padding: 20px;\">\n",
    "\n",
    "<p>Jab aap `multiplier(2)(3)` call karte hain, to pehle `multiplier(2)` execute hota hai, jismein `2` parameter `n` ke liye pass hota hai.<br>Is se `multiplier` function ke andar defined inner function `multiply(x)` create hota hai, jo closure ban jata hai kyunki isne `n = 2` ko capture kar liya hota hai.<br><br>Ab `multiplier(2)` ke call ke natije mein, aapko ek function object milta hai (yani `multiply`) jismein `n` already bind ho chuka hai. <br><br>Jab phir aap is returned function ko `(3)` ke saath call karte hain, to yeh `multiply(3)` execute hota hai, jismein `x` ki value `3` set hoti hai. Is tarah, inner function `multiply(x)` 3 ko 2 se multiply karta hai aur final output `6` return karta hai.\n",
    "\n",
    "Is explanation se clear ho jata hai ke `multiplier(2)(3)` call karne ka matlab hai pehle `n` ko set karna (2) aur phir inner function ke through `x` ko set kar ke multiplication karna (3 * 2 = 6).m"
   ]
  },
  {
   "cell_type": "code",
   "execution_count": 93,
   "id": "ea8174f7-4466-4cee-bdbb-ae45d3a4c1c6",
   "metadata": {
    "tags": []
   },
   "outputs": [],
   "source": [
    "double = multiplier(2)  \n",
    "triple = multiplier(3)"
   ]
  },
  {
   "cell_type": "code",
   "execution_count": 94,
   "id": "0489655e-df1d-4c53-8826-d9a4928b2cd3",
   "metadata": {
    "tags": []
   },
   "outputs": [
    {
     "name": "stdout",
     "output_type": "stream",
     "text": [
      "10\n"
     ]
    }
   ],
   "source": [
    "print(double(5))"
   ]
  },
  {
   "cell_type": "code",
   "execution_count": 95,
   "id": "ec31a3b8-61a2-4c8a-83b2-06ef7632cf60",
   "metadata": {
    "tags": []
   },
   "outputs": [
    {
     "name": "stdout",
     "output_type": "stream",
     "text": [
      "15\n"
     ]
    }
   ],
   "source": [
    "print(triple(5))"
   ]
  },
  {
   "cell_type": "markdown",
   "id": "f4c7aa7d-803e-42a6-9ed7-fcd4a080bc57",
   "metadata": {},
   "source": [
    "<body style=\"font-family: Sans-serif;\">\n",
    "    <div style=\"color: black; font-size: 15px; font-style: oblique; text-shadow: 0 0 3px white, 0 0 1px black; padding: 20px;\">\n",
    "aap is returned function ko ek alag variable mein store karke phir use baad mein ek function ki tarah call kar sakte hain"
   ]
  },
  {
   "cell_type": "markdown",
   "id": "195e3412-c5a2-4460-9a31-864fca9ded0a",
   "metadata": {},
   "source": [
    "<h1 style=\"text-align:center; color:#005bbd; font-size:20px; font-family:Sans-serif; font-style: oblique; text-shadow: 0 0 3px white, 0 0 1px Black;\">\n",
    "Examples\n",
    "</h1>"
   ]
  },
  {
   "cell_type": "markdown",
   "id": "c0f105a7-e4a4-4bd9-b2da-f3d2cc2493f7",
   "metadata": {},
   "source": [
    "<body style=\"font-family: Sans-serif;\">\n",
    "    <div style=\"color: black; font-size: 15px; font-style: oblique; text-shadow: 0 0 3px white, 0 0 1px black; padding: 20px;\">\n",
    "\n",
    "**Example 1 <br>First Class Function**\n",
    "        \n",
    "Agar aap calculator app bana rahe hain jisme user dynamic operation choose kar sake."
   ]
  },
  {
   "cell_type": "code",
   "execution_count": 19,
   "id": "5342bb09-31af-45db-87de-2c5f212b8023",
   "metadata": {
    "tags": []
   },
   "outputs": [],
   "source": [
    "def add(x, y):\n",
    "    return x + y\n",
    "\n",
    "def subtract(x, y):\n",
    "    return x - y"
   ]
  },
  {
   "cell_type": "code",
   "execution_count": 20,
   "id": "295b52cc-9f0e-4c6d-a69e-6ca096eed901",
   "metadata": {
    "tags": []
   },
   "outputs": [
    {
     "name": "stdout",
     "output_type": "stream",
     "text": [
      "15\n"
     ]
    }
   ],
   "source": [
    "operation = add  \n",
    "print(operation(10, 5))"
   ]
  },
  {
   "cell_type": "code",
   "execution_count": 21,
   "id": "a222849e-2cba-417a-877c-4bcb42b1a306",
   "metadata": {
    "tags": []
   },
   "outputs": [
    {
     "name": "stdout",
     "output_type": "stream",
     "text": [
      "5\n"
     ]
    }
   ],
   "source": [
    "operation = subtract  \n",
    "print(operation(10, 5))"
   ]
  },
  {
   "cell_type": "markdown",
   "id": "6edc2935-a196-460e-a7ef-fc357e3a3c34",
   "metadata": {},
   "source": [
    "<body style=\"font-family: Sans-serif;\">\n",
    "    <div style=\"color: black; font-size: 15px; font-style: oblique; text-shadow: 0 0 3px white, 0 0 1px black; padding: 20px;\">\n",
    "\n",
    "**Example 2 <br>First Class Function**\n",
    "        \n",
    "AI assistant (Google Assistant, Siri) me custom greetings generate karna chahein.  \n",
    "        "
   ]
  },
  {
   "cell_type": "code",
   "execution_count": 22,
   "id": "cc7b9966-908a-48b0-a021-c9258e7d64b6",
   "metadata": {
    "tags": []
   },
   "outputs": [],
   "source": [
    "def morning_greeting(name):\n",
    "    return f\"Good morning, {name}! Have a great day! ☀️\"\n",
    "\n",
    "def evening_greeting(name):\n",
    "    return f\"Good evening, {name}! Hope you had a great day! 🌙\""
   ]
  },
  {
   "cell_type": "code",
   "execution_count": 24,
   "id": "971150a6-dcb5-4ad4-a641-a7cac220040b",
   "metadata": {
    "tags": []
   },
   "outputs": [
    {
     "name": "stdout",
     "output_type": "stream",
     "text": [
      "Good morning, Ali! Have a great day! ☀️\n"
     ]
    }
   ],
   "source": [
    "greet = morning_greeting\n",
    "\n",
    "print(greet(\"Ali\"))  # Output: Good morning, Ali! Have a great day!"
   ]
  },
  {
   "cell_type": "code",
   "execution_count": 25,
   "id": "5ffb1583-8a41-4332-a3fe-45bd5ca5228b",
   "metadata": {
    "tags": []
   },
   "outputs": [
    {
     "name": "stdout",
     "output_type": "stream",
     "text": [
      "Good evening, Mubeen! Hope you had a great day! 🌙\n"
     ]
    }
   ],
   "source": [
    "greet = evening_greeting\n",
    "print(greet(\"Mubeen\"))  # Output: Good evening, Sara! Hope you had a great day!"
   ]
  },
  {
   "cell_type": "markdown",
   "id": "380b7a58-fb82-4054-a928-48e04e82423a",
   "metadata": {},
   "source": [
    "<body style=\"font-family: Sans-serif;\">\n",
    "    <div style=\"color: black; font-size: 15px; font-style: oblique; text-shadow: 0 0 3px white, 0 0 1px black; padding: 20px;\">\n",
    "\n",
    "**Example 3 <br>First Class Function**\n",
    "        \n",
    "Security System – Alert Messages (Cybersecurity 🔒)<br>\n",
    "Agar aap **security system** me **alerts send** karna chahein jo **different severity levels** ke hon.          "
   ]
  },
  {
   "cell_type": "code",
   "execution_count": 26,
   "id": "9af00cdb-4ed5-4fab-a3b2-728a45d020a8",
   "metadata": {
    "tags": []
   },
   "outputs": [],
   "source": [
    "def critical_alert(message):\n",
    "    return f\"🚨 CRITICAL: {message}\"\n",
    "\n",
    "def warning_alert(message):\n",
    "    return f\"⚠️ WARNING: {message}\"\n",
    "\n",
    "def info_alert(message):\n",
    "    return f\"ℹ️ INFO: {message}\" "
   ]
  },
  {
   "cell_type": "code",
   "execution_count": 27,
   "id": "67a21a05-3582-4f47-827f-6c22491af8a4",
   "metadata": {
    "tags": []
   },
   "outputs": [
    {
     "name": "stdout",
     "output_type": "stream",
     "text": [
      "🚨 CRITICAL: Unauthorized access detected!\n"
     ]
    }
   ],
   "source": [
    "send_alert = critical_alert \n",
    "\n",
    "print(send_alert(\"Unauthorized access detected!\")) "
   ]
  },
  {
   "cell_type": "code",
   "execution_count": 28,
   "id": "da967d61-948e-4d34-8405-51bbf6fc24b0",
   "metadata": {
    "tags": []
   },
   "outputs": [
    {
     "name": "stdout",
     "output_type": "stream",
     "text": [
      "⚠️ WARNING: Server CPU usage high!\n"
     ]
    }
   ],
   "source": [
    "send_alert = warning_alert  \n",
    "print(send_alert(\"Server CPU usage high!\"))  "
   ]
  },
  {
   "cell_type": "code",
   "execution_count": 29,
   "id": "09f348c3-f456-45bd-9ae6-afc27201d12f",
   "metadata": {
    "tags": []
   },
   "outputs": [
    {
     "name": "stdout",
     "output_type": "stream",
     "text": [
      "ℹ️ INFO: New user registered.\n"
     ]
    }
   ],
   "source": [
    "send_alert = info_alert  \n",
    "print(send_alert(\"New user registered.\"))  "
   ]
  },
  {
   "cell_type": "markdown",
   "id": "55647930-44b7-4e04-b76d-c3c10b3d545f",
   "metadata": {},
   "source": [
    "<body style=\"font-family: Sans-serif;\">\n",
    "    <div style=\"color: black; font-size: 15px; font-style: oblique; text-shadow: 0 0 3px white, 0 0 1px black; padding: 20px;\">\n",
    "\n",
    "**Example 1 <br>Higher Order Function (Callback)**\n",
    "        \n",
    "AI Voice Assistant Commands (Alexa, Siri, Google Assistant 🗣️)<br>\n",
    "Agar aap **voice assistant** bana rahe hain jo **different commands** ko process kar sake.  \n",
    "\n"
   ]
  },
  {
   "cell_type": "code",
   "execution_count": 38,
   "id": "fd5f4edb-e25b-42ab-9cad-fd84ed2cdaa6",
   "metadata": {
    "tags": []
   },
   "outputs": [],
   "source": [
    "def voice_assistant(command_func, query):\n",
    "    return command_func(query)\n",
    "\n",
    "def play_music(song):\n",
    "    return f\"🎵 Playing '{song}' on Spotify.\"\n",
    "\n",
    "def check_weather(city):\n",
    "    return f\"🌦️ Checking weather for {city}.\"\n",
    "\n",
    "def set_alarm(time):\n",
    "    return f\"⏰ Alarm set for {time}.\""
   ]
  },
  {
   "cell_type": "code",
   "execution_count": 39,
   "id": "1a8a4c40-5256-4499-ae88-2b4f93fe32a8",
   "metadata": {
    "tags": []
   },
   "outputs": [
    {
     "name": "stdout",
     "output_type": "stream",
     "text": [
      "🎵 Playing 'Despacito' on Spotify.\n"
     ]
    }
   ],
   "source": [
    "print(voice_assistant(play_music, \"Despacito\"))  "
   ]
  },
  {
   "cell_type": "code",
   "execution_count": 40,
   "id": "0d93368a-1f96-437d-a940-4d98aac5123d",
   "metadata": {
    "tags": []
   },
   "outputs": [
    {
     "name": "stdout",
     "output_type": "stream",
     "text": [
      "🌦️ Checking weather for Karachi.\n"
     ]
    }
   ],
   "source": [
    "print(voice_assistant(check_weather, \"Karachi\"))  "
   ]
  },
  {
   "cell_type": "code",
   "execution_count": 41,
   "id": "d7c5977f-7b11-457f-9cf0-9a36556fab1f",
   "metadata": {
    "tags": []
   },
   "outputs": [
    {
     "name": "stdout",
     "output_type": "stream",
     "text": [
      "⏰ Alarm set for 7:00 AM.\n"
     ]
    }
   ],
   "source": [
    "print(voice_assistant(set_alarm, \"7:00 AM\"))  "
   ]
  },
  {
   "cell_type": "markdown",
   "id": "a1be33d3-78c6-4edd-a6d5-3df6aba3681c",
   "metadata": {},
   "source": [
    "<body style=\"font-family: Sans-serif;\">\n",
    "    <div style=\"color: black; font-size: 15px; font-style: oblique; text-shadow: 0 0 3px white, 0 0 1px black; padding: 20px;\">\n",
    "\n",
    "**Example 2 <br>Higher Order Function**\n",
    "        \n",
    "Cybersecurity – User Authentication System (🔐 Login System) <br>\n",
    "Agar aap ek **secure authentication system** bana rahe hain jo **different security checks** implement kare.  \n",
    "\n"
   ]
  },
  {
   "cell_type": "code",
   "execution_count": 96,
   "id": "1244f622-4bba-43dc-98fb-92762e38c35a",
   "metadata": {
    "tags": []
   },
   "outputs": [],
   "source": [
    "def authenticate_user(method):\n",
    "    def security_check(username):\n",
    "        return method(username)  # 👌 Inner function, jo parent ka function return karega\n",
    "    return security_check  # 🎯 Function return ho raha hai (Closure ban gaya)\n",
    "\n",
    "# Functions for authentication\n",
    "def check_password(username):\n",
    "    return f\"🔑 Password verified for {username}.\"\n",
    "\n",
    "def check_fingerprint(username):\n",
    "    return f\"🖐️ Fingerprint verified for {username}.\"\n"
   ]
  },
  {
   "cell_type": "code",
   "execution_count": 98,
   "id": "51f42f86-5048-491d-bed2-a96a5c59d582",
   "metadata": {
    "tags": []
   },
   "outputs": [],
   "source": [
    "password_authenticator = authenticate_user(check_password)\n",
    "fingerprint_authenticator = authenticate_user(check_fingerprint)"
   ]
  },
  {
   "cell_type": "code",
   "execution_count": 99,
   "id": "df836d4e-cb30-4158-8326-7275824f9836",
   "metadata": {
    "tags": []
   },
   "outputs": [
    {
     "name": "stdout",
     "output_type": "stream",
     "text": [
      "🔑 Password verified for Ali.\n"
     ]
    }
   ],
   "source": [
    "print(password_authenticator(\"Ali\")) "
   ]
  },
  {
   "cell_type": "code",
   "execution_count": 100,
   "id": "12f0bfb1-44ce-4011-8008-04bd663ed993",
   "metadata": {
    "tags": []
   },
   "outputs": [
    {
     "name": "stdout",
     "output_type": "stream",
     "text": [
      "🖐️ Fingerprint verified for Ali.\n"
     ]
    }
   ],
   "source": [
    "print(fingerprint_authenticator(\"Ali\")) "
   ]
  }
 ],
 "metadata": {
  "kernelspec": {
   "display_name": "Python 3 (ipykernel)",
   "language": "python",
   "name": "python3"
  },
  "language_info": {
   "codemirror_mode": {
    "name": "ipython",
    "version": 3
   },
   "file_extension": ".py",
   "mimetype": "text/x-python",
   "name": "python",
   "nbconvert_exporter": "python",
   "pygments_lexer": "ipython3",
   "version": "3.10.12"
  }
 },
 "nbformat": 4,
 "nbformat_minor": 5
}
