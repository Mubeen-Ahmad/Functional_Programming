{
 "cells": [
  {
   "cell_type": "markdown",
   "id": "c1b8193a-ea14-4a53-a206-c423af2d7121",
   "metadata": {},
   "source": [
    "<h1 style=\"text-align:center; color:#005bbd; font-size:20px; font-family:Sans-serif; font-style: oblique; text-shadow: 0 0 3px white, 0 0 1px Black;\">\n",
    "   Pure Functions\n",
    "</h1>"
   ]
  },
  {
   "cell_type": "markdown",
   "id": "e2f998bf-0799-40fb-adca-341f73e41b0d",
   "metadata": {},
   "source": [
    "<body style=\"font-family: Sans-serif;\">\n",
    "    <div style=\"color: black; font-size: 15px; font-style: oblique; text-shadow: 0 0 3px white, 0 0 1px black; padding: 20px;\">\n",
    "        \n",
    "1. **Deterministic Behavior:** <br>\n",
    "   - Pure function hamesha same input ke sath same output return karta hai.<br><br>\n",
    "\n",
    "2. **No Side Effects:**        \n",
    "   - Yeh function kisi external state ko change nahi karta, jaise global variables, file system, ya database.<br><br>\n",
    "\n",
    "3. **Easily Testable:**  <br>\n",
    "   - Kyun ke inka output predictable hota hai, isliye testing aur debugging aasan hoti hai."
   ]
  },
  {
   "cell_type": "code",
   "execution_count": 1,
   "id": "2fbc9d0b-a369-4568-b844-95b77b060f1b",
   "metadata": {
    "tags": []
   },
   "outputs": [],
   "source": [
    "def add(a, b):\n",
    "    # Sirf input values par depend karta hai aur \n",
    "    # aur koi external state change nahi karta.\n",
    "    \n",
    "    return a + b"
   ]
  },
  {
   "cell_type": "code",
   "execution_count": 3,
   "id": "18ae8cca-c0fe-4177-9999-729f469d5dc2",
   "metadata": {
    "tags": []
   },
   "outputs": [
    {
     "name": "stdout",
     "output_type": "stream",
     "text": [
      "5\n"
     ]
    }
   ],
   "source": [
    "print(add(2, 3))  # Hamesha 5 return karega."
   ]
  },
  {
   "cell_type": "code",
   "execution_count": 4,
   "id": "0e591363-3a5a-47a7-9293-13f88e2a97f7",
   "metadata": {
    "tags": []
   },
   "outputs": [
    {
     "name": "stdout",
     "output_type": "stream",
     "text": [
      "5\n"
     ]
    }
   ],
   "source": [
    "print(add(2, 3)) # Dubara call karne par bhi 5 hi return karega."
   ]
  },
  {
   "cell_type": "markdown",
   "id": "6f070162-b386-4d78-8c25-9859454ead98",
   "metadata": {},
   "source": [
    "<h1 style=\"text-align:center; color:#005bbd; font-size:20px; font-family:Sans-serif; font-style: oblique; text-shadow: 0 0 3px white, 0 0 1px Black;\">\n",
    "   Impure (Normal) Functions\n",
    "</h1>"
   ]
  },
  {
   "cell_type": "markdown",
   "id": "6063906f-aa73-47bd-a691-d35b0e1461a9",
   "metadata": {},
   "source": [
    "<body style=\"font-family: Sans-serif;\">\n",
    "    <div style=\"color: black; font-size: 15px; font-style: oblique; text-shadow: 0 0 3px white, 0 0 1px black; padding: 20px;\">\n",
    "        \n",
    "1. **Non-Deterministic Behavior:**  <br>\n",
    "   - Normal functions input ke alawa external factors par depend kar sakta hain, jiski wajah se same input par different outputs mil sakte hain.<br><br>\n",
    "\n",
    "2. **Side Effects:**  \n",
    "   - Yeh functions external state ko modify kar sakti hain, jaise global variables, I/O operations, ya database writes.<br><br>\n",
    "\n",
    "3. **Difficult to Test:**  \n",
    "   - Side effects ki wajah se testing aur debugging mushkil ho sakti hai kyun ke function ka behavior predictable nahi hota.\n"
   ]
  },
  {
   "cell_type": "code",
   "execution_count": 5,
   "id": "0f1b5d17-d5fd-444b-8beb-afab7c400ec7",
   "metadata": {
    "tags": []
   },
   "outputs": [],
   "source": [
    "# Global variable jis par function side effect create karega:\n",
    "global_list = []\n",
    "\n",
    "def append_to_list(item):\n",
    "    \n",
    "    # Global variable ko modify karta hai (side effect)\n",
    "    \n",
    "    global_list.append(item)\n",
    "    return global_list"
   ]
  },
  {
   "cell_type": "code",
   "execution_count": 6,
   "id": "cae2c681-808a-41a6-911c-a8fbca64cb50",
   "metadata": {
    "tags": []
   },
   "outputs": [
    {
     "name": "stdout",
     "output_type": "stream",
     "text": [
      "[10]\n"
     ]
    }
   ],
   "source": [
    "print(append_to_list(10))  # Pehli call par output: [10]"
   ]
  },
  {
   "cell_type": "code",
   "execution_count": 7,
   "id": "cf37b7de-b493-4c08-9c74-56ed2113229e",
   "metadata": {
    "tags": []
   },
   "outputs": [
    {
     "name": "stdout",
     "output_type": "stream",
     "text": [
      "[10, 20]\n"
     ]
    }
   ],
   "source": [
    "print(append_to_list(20))  # Dusri call par output: [10, 20]"
   ]
  }
 ],
 "metadata": {
  "kernelspec": {
   "display_name": "Python 3 (ipykernel)",
   "language": "python",
   "name": "python3"
  },
  "language_info": {
   "codemirror_mode": {
    "name": "ipython",
    "version": 3
   },
   "file_extension": ".py",
   "mimetype": "text/x-python",
   "name": "python",
   "nbconvert_exporter": "python",
   "pygments_lexer": "ipython3",
   "version": "3.10.12"
  }
 },
 "nbformat": 4,
 "nbformat_minor": 5
}
