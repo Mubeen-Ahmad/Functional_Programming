{
 "cells": [
  {
   "cell_type": "markdown",
   "id": "4899b163-687e-4760-88d3-74f28c9aa2ce",
   "metadata": {},
   "source": [
    "<h1 style=\"text-align:center; color:#005bbd; font-size:20px; font-family:Sans-serif; font-style: oblique; text-shadow: 0 0 3px white, 0 0 1px Black;\">\n",
    "   Pass By Value or Refference\n",
    "</h1>"
   ]
  },
  {
   "cell_type": "markdown",
   "id": "16d5ea2c-f2c3-49fd-95b2-9b1463a62e93",
   "metadata": {},
   "source": [
    "<body style=\"font-family: Sans-serif;\">\n",
    "    <div style=\"color: black; font-size: 15px; font-style: oblique; text-shadow: 0 0 3px white, 0 0 1px black; padding: 20px;\">\n",
    "        \n",
    "Python mein har variable name ek **reference** hota hai. Jab hum kisi variable ko function mein pass karte hain, to asal object ka ek naya reference function ko diya jata hai.<br><br>Lekin Python **pass-by-value** ya **pass-by-reference** ke pure model ko follow nahi karta.<br>Iske bajaye, Python **pass-by-object-reference** ya **pass-by-assignment** use karta hai"
   ]
  },
  {
   "cell_type": "markdown",
   "id": "0733e74d-d53c-47cc-a860-4ff8688f9e8b",
   "metadata": {},
   "source": [
    "<body style=\"font-family: Sans-serif;\">\n",
    "    <div style=\"color: black; font-size: 15px; font-style: oblique; text-shadow: 0 0 3px white, 0 0 1px black; padding: 20px;\">\n",
    "        \n",
    "- **Immutable Objects:**  \n",
    "  Jaise ke integers, strings, tuples, etc.  \n",
    "  Agar aap function ke andar immutable object ko change karne ki koshish karte hain, to actually naya object memory mein create ho jata hai. Is wajah se asal object par koi asar nahi hota.  \n"
   ]
  },
  {
   "cell_type": "code",
   "execution_count": 1,
   "id": "ad16bcbb-4efe-48f0-a08e-742704750944",
   "metadata": {
    "tags": []
   },
   "outputs": [],
   "source": [
    "x = 10\n",
    "\n",
    "def change(x):\n",
    "    x = 0        # Yahan x ko reassign kiya gaya hai, jo naya object banata hai\n",
    "    print(x)     # 0 print hoga\n",
    "    return id(x) # 0 ka naya id return karega"
   ]
  },
  {
   "cell_type": "code",
   "execution_count": 2,
   "id": "26da3dc7-e12d-4c6e-b74e-b975bf26f1ed",
   "metadata": {
    "tags": []
   },
   "outputs": [
    {
     "name": "stdout",
     "output_type": "stream",
     "text": [
      "128114205131280 10\n"
     ]
    }
   ],
   "source": [
    "print(id(x), x)"
   ]
  },
  {
   "cell_type": "code",
   "execution_count": 3,
   "id": "c868302c-49ed-43c1-a902-d164c21e68ea",
   "metadata": {
    "tags": []
   },
   "outputs": [
    {
     "name": "stdout",
     "output_type": "stream",
     "text": [
      "0\n"
     ]
    },
    {
     "data": {
      "text/plain": [
       "128114205130960"
      ]
     },
     "execution_count": 3,
     "metadata": {},
     "output_type": "execute_result"
    }
   ],
   "source": [
    "change(x)"
   ]
  },
  {
   "cell_type": "markdown",
   "id": "0d522adb-3668-4180-b885-606b77779fd3",
   "metadata": {},
   "source": [
    "<body style=\"font-family: Sans-serif;\">\n",
    "    <div style=\"color: black; font-size: 15px; font-style: oblique; text-shadow: 0 0 3px white, 0 0 1px black; padding: 20px;\">\n",
    "        \n",
    "- Jab `change(x)` call hota hai, function ke andar `x` ko `0` assign karne se ek naya object create hota hai.  \n",
    "\n",
    "- Bahar ke `x` ki value aur id change nahi hoti kyunki 10 immutable hai."
   ]
  },
  {
   "cell_type": "markdown",
   "id": "39cbb7a4-fd3f-4c1f-848c-98f326076f16",
   "metadata": {},
   "source": [
    "  **Example 2 (Immutable value same rehti hai):**"
   ]
  },
  {
   "cell_type": "code",
   "execution_count": 5,
   "id": "58188014-5e63-4258-a60b-f221b225528f",
   "metadata": {
    "tags": []
   },
   "outputs": [],
   "source": [
    "def unchange(x):\n",
    "    \n",
    "    x = 10  # Agar x pehle se 10 hai, \n",
    "            # to Python aksar wahi immutable object reuse karta hai.\n",
    "    \n",
    "    return id(x), x\n"
   ]
  },
  {
   "cell_type": "code",
   "execution_count": 7,
   "id": "3c67bf71-a08f-4604-9d88-359fb7687c1e",
   "metadata": {
    "tags": []
   },
   "outputs": [
    {
     "name": "stdout",
     "output_type": "stream",
     "text": [
      "128114205131280 10\n",
      "(128114205131280, 10)\n"
     ]
    }
   ],
   "source": [
    "print(id(x), x)\n",
    "print(unchange(x))"
   ]
  },
  {
   "cell_type": "markdown",
   "id": "67c7fb5f-1810-406e-87d2-a27c26ddd75e",
   "metadata": {},
   "source": [
    "<body style=\"font-family: Sans-serif;\">\n",
    "    <div style=\"color: black; font-size: 15px; font-style: oblique; text-shadow: 0 0 3px white, 0 0 1px black; padding: 20px;\">\n",
    "\n",
    "- Agar aap immutable object (jaise integer 10) ko function ke andar phir se wahi value assign karte hain, to Python aksar ussi object ko reuse karta hai (interning), isliye id same rahegi."
   ]
  },
  {
   "cell_type": "markdown",
   "id": "b53b3da3-535b-4324-99b8-181edebdb4cb",
   "metadata": {},
   "source": [
    "<body style=\"font-family: Sans-serif;\">\n",
    "    <div style=\"color: black; font-size: 15px; font-style: oblique; text-shadow: 0 0 3px white, 0 0 1px black; padding: 20px;\">\n",
    "        \n",
    "- **Mutable Objects**  \n",
    "  Jaise ke lists, dictionaries, sets, etc.  \n",
    "  Agar aap mutable object ko function mein pass karte hain aur uske andar koi modification karte hain (jaise element change karna), to asal object modify ho jata hai.  \n",
    "  Kyunki dono (caller aur function) same object ko point karte hain, isliye changes function ke bahar bhi dikhai dete hain."
   ]
  },
  {
   "cell_type": "code",
   "execution_count": 8,
   "id": "41a4aa2d-faac-42e1-a972-343b484a6b17",
   "metadata": {
    "tags": []
   },
   "outputs": [],
   "source": [
    "def change(data):\n",
    "    \n",
    "    data[0] = \"\"   # List ke pehle element ko modify kar rahe hain\n",
    "    \n",
    "    return (id(data), data)"
   ]
  },
  {
   "cell_type": "code",
   "execution_count": 9,
   "id": "7a224f61-272c-4c2b-b069-f9ecccc3b855",
   "metadata": {
    "tags": []
   },
   "outputs": [
    {
     "name": "stdout",
     "output_type": "stream",
     "text": [
      "128113977846336 [3, 2, 1]\n"
     ]
    }
   ],
   "source": [
    "lst = [3, 2, 1]\n",
    "print(id(lst), lst)"
   ]
  },
  {
   "cell_type": "code",
   "execution_count": 10,
   "id": "777b3a73-8227-4baa-b621-9d254acbede1",
   "metadata": {
    "tags": []
   },
   "outputs": [
    {
     "name": "stdout",
     "output_type": "stream",
     "text": [
      "128113977846336 ['', 2, 1]\n"
     ]
    }
   ],
   "source": [
    "change(lst)        \n",
    "print(id(lst), lst)"
   ]
  },
  {
   "cell_type": "markdown",
   "id": "a4cc25dd-fda6-4d04-9d83-51848a3d0d53",
   "metadata": {},
   "source": [
    "<body style=\"font-family: Sans-serif;\">\n",
    "    <div style=\"color: black; font-size: 15px; font-style: oblique; text-shadow: 0 0 3px white, 0 0 1px black; padding: 20px;\">\n",
    "\n",
    "- Yahan `lst` mutable object hai (list).  \n",
    "- Function ke andar `lst[0]` ko modify karne se asal list change ho jati hai.  \n",
    "- List ka id same rehta hai, magar uska content badal jata hai."
   ]
  },
  {
   "cell_type": "markdown",
   "id": "93cc6728-b9c9-47da-af9f-673346cac44d",
   "metadata": {},
   "source": [
    "<body style=\"font-family: Sans-serif;\">\n",
    "    <div style=\"color: black; font-size: 15px; font-style: oblique; text-shadow: 0 0 3px white, 0 0 1px black; padding: 20px;\">\n",
    "        \n",
    "- **Python ka mechanism:**  \n",
    "  - Har variable ek reference hai.  \n",
    "  - Function call ke dauran, naya reference create hota hai jo asal object ko point karta hai.<br><br>\n",
    "  \n",
    "- **Immutable Objects:**  \n",
    "  - Modification se naya object banta hai (pass by object value).  \n",
    "  - Asal object (caller ke scope mein) change nahi hota.<br><br>\n",
    "\n",
    "- **Mutable Objects:**  \n",
    "  - Modification directly asal object ko affect karta hai (lagbhag pass by reference).  \n",
    "  - Isliye agar aap list, dictionary, ya set function ke andar modify karte hain, to ye changes function ke bahar bhi nazar aayenge.\n",
    "\n",
    "Yeh approach \"pass-by-object-reference\" ya \"pass-by-assignment\" kehlata hai, jismein behavior object ki mutability par depend karta hai."
   ]
  }
 ],
 "metadata": {
  "kernelspec": {
   "display_name": "Python 3 (ipykernel)",
   "language": "python",
   "name": "python3"
  },
  "language_info": {
   "codemirror_mode": {
    "name": "ipython",
    "version": 3
   },
   "file_extension": ".py",
   "mimetype": "text/x-python",
   "name": "python",
   "nbconvert_exporter": "python",
   "pygments_lexer": "ipython3",
   "version": "3.10.12"
  }
 },
 "nbformat": 4,
 "nbformat_minor": 5
}
