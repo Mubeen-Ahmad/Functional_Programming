{
 "cells": [
  {
   "cell_type": "code",
   "execution_count": 5,
   "id": "f42aaa09-689f-4f59-8dcd-1836c9cf19f3",
   "metadata": {
    "tags": []
   },
   "outputs": [],
   "source": [
    "import nbformat\n",
    "from nbconvert import HTMLExporter\n",
    "import os"
   ]
  },
  {
   "cell_type": "code",
   "execution_count": null,
   "id": "ea85bc25-271b-4d04-ba19-4dc19e55b121",
   "metadata": {},
   "outputs": [],
   "source": [
    "def convert(file):\n",
    "\n",
    "    with open(file, \"r\", encoding=\"utf-8\") as f:\n",
    "        nb_node = nbformat.read(f, as_version=4)\n",
    "\n",
    "    html_exporter = HTMLExporter()\n",
    "    body, _ = html_exporter.from_notebook_node(nb_node)\n",
    "    name = file[::-1].split(\".\",1)[-1][::-1]\n",
    "    with open(f\"./{name}.html\", \"w\", encoding=\"utf-8\") as f:\n",
    "        f.write(body)\n",
    "\n"
   ]
  },
  {
   "cell_type": "code",
   "execution_count": 17,
   "id": "e242b5fd-0ca2-452b-8eff-e081ede98771",
   "metadata": {
    "tags": []
   },
   "outputs": [
    {
     "name": "stdout",
     "output_type": "stream",
     "text": [
      "0.1\n",
      "0.2\n",
      "0.3\n",
      "0\n",
      "1\n",
      "10\n",
      "11\n",
      "12\n",
      "2\n",
      "3\n",
      "4\n",
      "5\n",
      "6\n",
      "7\n",
      "8\n",
      "9\n",
      "mondas\n",
      "project1\n"
     ]
    }
   ],
   "source": [
    "for i in os.listdir():\n",
    "    if i.endswith(\".ipynb\") and i.startswith(\"tmp\") == False:\n",
    "        print()"
   ]
  },
  {
   "cell_type": "code",
   "execution_count": null,
   "id": "50afe3f6-76d7-418f-8f63-6e32bf4f5a6a",
   "metadata": {},
   "outputs": [],
   "source": []
  }
 ],
 "metadata": {
  "kernelspec": {
   "display_name": "Python 3 (ipykernel)",
   "language": "python",
   "name": "python3"
  },
  "language_info": {
   "codemirror_mode": {
    "name": "ipython",
    "version": 3
   },
   "file_extension": ".py",
   "mimetype": "text/x-python",
   "name": "python",
   "nbconvert_exporter": "python",
   "pygments_lexer": "ipython3",
   "version": "3.10.12"
  }
 },
 "nbformat": 4,
 "nbformat_minor": 5
}
