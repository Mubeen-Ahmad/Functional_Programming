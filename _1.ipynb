{
 "cells": [
  {
   "cell_type": "markdown",
   "id": "c1b8193a-ea14-4a53-a206-c423af2d7121",
   "metadata": {},
   "source": [
    "<h1 style=\"text-align:center; color:#005bbd; font-size:20px; font-family:Sans-serif; font-style: oblique; text-shadow: 0 0 3px white, 0 0 1px Black;\">\n",
    "   Functional programming\n",
    "</h1>"
   ]
  },
  {
   "cell_type": "markdown",
   "id": "21ae1132-72b6-4e9f-9d85-3b55a9cc308a",
   "metadata": {},
   "source": [
    "<body style=\"font-family: Sans-serif;\">\n",
    "    <div style=\"color: black; font-size: 18px; font-style: oblique; text-shadow: 0 0 3px white, 0 0 1px black; padding: 20px;\">\n",
    "       Functional programming aik aisa programming paradigm hai jisme computations ko functions ke zariye express kia jata hai.<br><br>\n",
    "</div>\n",
    "</body>"
   ]
  },
  {
   "cell_type": "markdown",
   "id": "5c51e86e-1b4a-4a06-b621-7e13cb0a5b02",
   "metadata": {},
   "source": [
    "<body style=\"font-family: Sans-serif;\">\n",
    "    <div style=\"color: black; font-size: 15px; font-style: oblique; text-shadow: 0 0 3px white, 0 0 1px black; padding: 20px;\">\n",
    "    \n",
    "#### **1 Imperative Paradigm**\n",
    "\n",
    "Is approach mein programmer explicitly har step batata hai jo computer ko perform karna hota hai. Matlab, \"how\" (kaise) cheezein karni hain, uska detailed sequence likhte hain.\n",
    "\n",
    "- **Key Characteristics:**\n",
    "  - **State & Mutability:** <br>Variables ka use hota hai jo change ho sakte hain.\n",
    "  - **Control Flow:** <br>Loops, conditionals, aur sequential instructions se task perform kia jata hai.\n",
    "  - **Step-by-Step Instructions:** <br>Programmer computer ko har ek instruction deta hai.\n",
    "</body>"
   ]
  },
  {
   "cell_type": "code",
   "execution_count": 3,
   "id": "b9d11366-ec57-4b10-b92d-ad029747b5cc",
   "metadata": {
    "tags": []
   },
   "outputs": [
    {
     "name": "stdout",
     "output_type": "stream",
     "text": [
      "[1, 4, 9, 16, 25]\n"
     ]
    }
   ],
   "source": [
    "numbers = [1, 2, 3, 4, 5]\n",
    "squared = []  # mutable list jo update hoti hai\n",
    "  \n",
    "for num in numbers:\n",
    "    squared.append(num * num)\n",
    "  \n",
    "print(squared)"
   ]
  },
  {
   "cell_type": "markdown",
   "id": "130e916b-cbbf-4cb7-9d4c-e90022681db4",
   "metadata": {
    "tags": []
   },
   "source": [
    "<body style=\"font-family: Sans-serif;\">\n",
    "    <div style=\"color: black; font-size: 15px; font-style: oblique; text-shadow: 0 0 3px white, 0 0 1px black; padding: 20px;\">\n",
    "    \n",
    "#### **2 Functional Paradigm**\n",
    "\n",
    "  Functional programming mein focus hota hai \"what\" (kya) result chahiye, na ke process par. Yeh functions ko first-class citizens samajhta hai aur immutability par zor deta hai.  \n",
    "  Is approach mein aap side effects (jaise variables ko modify karna) ko minimize karte hain aur pure functions (jo same input pe hamesha same output dete hain) ka istemal karte hain.\n",
    "\n",
    "- **Key Characteristics:**\n",
    "  - **Immutability:** <br>Data structures change nahi hote; nayi values return hoti hain.\n",
    "  - **Pure Functions:** <br>Functions ka koi side effect nahi hota.\n",
    "  - **Higher-Order Functions:** <br>Functions ko arguments ke taur pe pass ya functions return kia ja sakta hai.\n",
    "  - **Declarative Style:** <br>Aap specify karte hain ke kya chahiye, kaise achieve hoga woh abstract hota hai.\n",
    "\n",
    "</body>"
   ]
  },
  {
   "cell_type": "code",
   "execution_count": 7,
   "id": "8c9e1ddd-4147-4bbb-b70c-0e05d3aff54f",
   "metadata": {
    "tags": []
   },
   "outputs": [
    {
     "name": "stdout",
     "output_type": "stream",
     "text": [
      "[1, 4, 9, 16, 25]\n"
     ]
    }
   ],
   "source": [
    "numbers = [1, 2, 3, 4, 5]\n",
    "squared = list(map(lambda x: x * x, numbers))\n",
    "print(squared)"
   ]
  },
  {
   "cell_type": "markdown",
   "id": "14176f9c-bca2-4e7e-96f7-70943da58bc6",
   "metadata": {
    "jp-MarkdownHeadingCollapsed": true,
    "tags": []
   },
   "source": [
    "<body style=\"font-family: Sans-serif;\">\n",
    "    <div style=\"color: black; font-size: 15px; font-style: oblique; text-shadow: 0 0 3px white, 0 0 1px black; padding: 20px;\">\n",
    "\n",
    "#### **1. Predictability**\n",
    "        \n",
    "  Predictability ka matlab hai ke aapka code ya function har dafa same input par same output dega. Matlab, agar aap ek function ko same input pass karain, to woh hamesha ek hi result produce karega, bina kisi side effect ke.\n",
    "\n",
    "- **Faida:**  \n",
    "  - **Debugging asaan hoti hai:** <br> Kyun ke agar input same hai to result bhi same hona chahiye. Agar result alag aata hai to clearly pata chal jata hai ke koi issue hai.\n",
    "  - **Code ko samajhna asaan:**  <br>Jab functions pure hon (matlab side effects nahi hain), to aap easily predict kar sakte hain ke unka behavior kaisa hoga.\n",
    "\n",
    "\n",
    "</body>\n"
   ]
  },
  {
   "cell_type": "code",
   "execution_count": 8,
   "id": "52ae9a84-f35b-48f7-bf61-0ed102a47f03",
   "metadata": {
    "tags": []
   },
   "outputs": [],
   "source": [
    "def add(a, b):\n",
    "    return a + b  \n",
    "    # Pure function: same inputs, same output\n"
   ]
  },
  {
   "cell_type": "code",
   "execution_count": 9,
   "id": "294ba9bb-7613-41cd-b435-b1b086046e4e",
   "metadata": {
    "tags": []
   },
   "outputs": [
    {
     "name": "stdout",
     "output_type": "stream",
     "text": [
      "5\n"
     ]
    }
   ],
   "source": [
    "# Hamesha add(2, 3) = 5, predictability ki wajah se\n",
    "print(add(2, 3))"
   ]
  },
  {
   "cell_type": "markdown",
   "id": "f1259567-1130-467f-869e-31b5bf1cf31b",
   "metadata": {},
   "source": [
    "<body style=\"font-family: Sans-serif;\">\n",
    "    <div style=\"color: black; font-size: 15px; font-style: oblique; text-shadow: 0 0 3px white, 0 0 1px black; padding: 20px;\">\n",
    "\n",
    "#### **2. Reusability**\n",
    "  Reusability ka matlab hai code ko aise design karna ke woh alag-alag contexts ya projects mein use kia ja sakay. Jab code modular aur generic hota hai, to ek martaba likha hua function ya module bar bar use ho sakta hai bina usay modify kiye.\n",
    "\n",
    "- **Faida:**  \n",
    "  - **Development time kam hota hai:** <br>Aap pehle se likhe functions ko reuse karke naya code teyar kar sakte hain.\n",
    "  - **Maintenance asaan hoti hai:** <br>Agar ek function ko update karna ho to woh ek jaga update hoga, aur har jagah automatically update ho jata hai.\n",
    "  - **Modular design:** <br>Code ko chhote-chhote functions ya modules mein todna reusability ko promote karta hai.\n",
    "\n",
    "</body>\n"
   ]
  },
  {
   "cell_type": "code",
   "execution_count": 10,
   "id": "df4f13ff-e026-4a88-85e8-59c5d38e4882",
   "metadata": {
    "tags": []
   },
   "outputs": [],
   "source": [
    "def multiply(a, b):\n",
    "    return a * b"
   ]
  },
  {
   "cell_type": "code",
   "execution_count": 11,
   "id": "fc0d5c01-67c8-4cde-a47d-ac541955e138",
   "metadata": {
    "tags": []
   },
   "outputs": [
    {
     "name": "stdout",
     "output_type": "stream",
     "text": [
      "12 30\n"
     ]
    }
   ],
   "source": [
    "# multiply function ko different parts \n",
    "# of the program mein reuse kar sakte hain.\n",
    "\n",
    "result1 = multiply(3, 4)  # Output: 12\n",
    "result2 = multiply(5, 6)  # Output: 30\n",
    "  \n",
    "print(result1, result2)"
   ]
  },
  {
   "cell_type": "markdown",
   "id": "cacd2ddc-210e-41ec-aa3a-99c2bb69a66c",
   "metadata": {},
   "source": [
    "<body style=\"font-family: Sans-serif;\">\n",
    "    <div style=\"color: black; font-size: 15px; font-style: oblique; text-shadow: 0 0 3px white, 0 0 1px black; padding: 20px;\">\n",
    "\n",
    "#### **3 Parallel Execution**\n",
    "        \n",
    "  Parallelism ka matlab hai ke aap apne code ke multiple parts ko simultaneously (ek saath) execute kar sakte hain.<br>Yeh especially un systems par faida mand hai jahan multi-core processors hotay hain, jisse overall performance improve hoti hai.\n",
    "\n",
    "- **Faida:**  \n",
    "  - **Performance enhancement:** <br>Multiple tasks parallel execute honay se overall execution time kam ho jata hai.\n",
    "  - **Efficient resource utilization:**<br> Multi-core processors ka poora use hota hai.\n",
    "  - **Reduced latency:** <br>Large computations ko chhote parallel tasks mein tod kar jaldi results hasil kiye ja sakte hain.\n",
    "<br><br>\n",
    "        \n",
    "- **Functional Programming aur Parallelism:**  \n",
    "  Functional programming mein immutable data structures aur pure functions (jinka koi side effect nahi hota) use kiye jate hain. Is wajah se parallel execution asaan ho jata hai, kyunki functions independent tarike se chal sakte hain bina ek doosray ke data ko affect kiye.\n",
    "\n",
    "</body>\n"
   ]
  },
  {
   "cell_type": "code",
   "execution_count": 12,
   "id": "c8d8c903-8eb8-49e8-b3b0-ba606a9cd3e8",
   "metadata": {
    "tags": []
   },
   "outputs": [],
   "source": [
    "from concurrent.futures import ThreadPoolExecutor"
   ]
  },
  {
   "cell_type": "code",
   "execution_count": 13,
   "id": "01365d3a-68cd-4614-97d5-91ab4215cf77",
   "metadata": {
    "tags": []
   },
   "outputs": [],
   "source": [
    "def square(x):\n",
    "    return x * x"
   ]
  },
  {
   "cell_type": "code",
   "execution_count": 14,
   "id": "af70fc8b-b2b9-41ca-8464-dc7d4af806c0",
   "metadata": {
    "tags": []
   },
   "outputs": [
    {
     "name": "stdout",
     "output_type": "stream",
     "text": [
      "[1, 4, 9, 16, 25]\n"
     ]
    }
   ],
   "source": [
    "numbers = [1, 2, 3, 4, 5]\n",
    "\n",
    "# Parallelism: ThreadPoolExecutor se same time mein multiple square()\n",
    "# calls perform karna.\n",
    "\n",
    "with ThreadPoolExecutor(max_workers=5) as executor:\n",
    "    results = list(executor.map(square, numbers))\n",
    "\n",
    "print(results)"
   ]
  },
  {
   "cell_type": "code",
   "execution_count": null,
   "id": "b7103fa0-f851-47e0-8508-afa1c7b276ed",
   "metadata": {},
   "outputs": [],
   "source": []
  },
  {
   "cell_type": "code",
   "execution_count": null,
   "id": "28059ddf-3454-4d71-943c-476ae4c5c95a",
   "metadata": {},
   "outputs": [],
   "source": []
  },
  {
   "cell_type": "code",
   "execution_count": 3,
   "id": "2fbc9d0b-a369-4568-b844-95b77b060f1b",
   "metadata": {
    "tags": []
   },
   "outputs": [
    {
     "data": {
      "text/plain": [
       "7"
      ]
     },
     "execution_count": 3,
     "metadata": {},
     "output_type": "execute_result"
    }
   ],
   "source": [
    "def add_numbers(a, b):\n",
    "    \n",
    "    # Yeh function do numbers ko add karta hai.\n",
    "    \n",
    "    # Isme koi side-effect nahi hai,\n",
    "    # aur same input per hamesha same output deta hai.\n",
    "    \n",
    "    return a + b\n",
    "\n",
    "add_numbers(3, 4)"
   ]
  },
  {
   "cell_type": "markdown",
   "id": "af4eaec7-54eb-41d9-9cb3-58fc59df99b5",
   "metadata": {},
   "source": [
    "<body style=\"font-family: Sans-serif;\">\n",
    "    <div style=\"color: black; font-size: 18px; font-style: oblique; text-shadow: 0 0 3px white, 0 0 1px black; padding: 20px;\">\n",
    "<ul><li>Immutability:\n",
    "                <ul>Data ko ek martaba create karne ke baad modify nahi kia jata. Agar change karna ho to naya data structure create kia jata hai, jis se code mein bugs aur unexpected behavior kam hota hai."
   ]
  },
  {
   "cell_type": "code",
   "execution_count": 4,
   "id": "d3ead9ab-6c44-4f4c-abc9-67dfcca68a85",
   "metadata": {
    "tags": []
   },
   "outputs": [
    {
     "name": "stdout",
     "output_type": "stream",
     "text": [
      "Original tuple: (1, 2, 3)\n"
     ]
    }
   ],
   "source": [
    "# Pehle ek tuple banate hain:\n",
    "numbers = (1, 2, 3)\n",
    "print(\"Original tuple:\", numbers)"
   ]
  },
  {
   "cell_type": "code",
   "execution_count": 31,
   "id": "62c23056-be60-426e-a855-c3277ef132f8",
   "metadata": {
    "tags": []
   },
   "outputs": [
    {
     "name": "stdout",
     "output_type": "stream",
     "text": [
      "'tuple' object does not support item assignment\n"
     ]
    }
   ],
   "source": [
    "# Agar aapko isme ek naya element add karna ho, \n",
    "# to aap directly modify nahi kar sakte\n",
    "try:\n",
    "    numbers[1] = 9\n",
    "\n",
    "except Exception as e:\n",
    "    print(e)"
   ]
  },
  {
   "cell_type": "code",
   "execution_count": 32,
   "id": "922e80e6-a4cc-439c-ba1f-6c6191e57a9d",
   "metadata": {
    "tags": []
   },
   "outputs": [
    {
     "data": {
      "text/plain": [
       "(1, 9, 3)"
      ]
     },
     "execution_count": 32,
     "metadata": {},
     "output_type": "execute_result"
    }
   ],
   "source": [
    "# balki aapko ek naya tuple create karna padega.\n",
    "new_numbers = (numbers[0],9) + numbers[2:]\n",
    "new_numbers"
   ]
  },
  {
   "cell_type": "markdown",
   "id": "2e357b40-2445-49d7-acec-72c54d43e8de",
   "metadata": {},
   "source": [
    "<body style=\"font-family: Sans-serif;\">\n",
    "    <div style=\"color: black; font-size: 18px; font-style: oblique; text-shadow: 0 0 3px white, 0 0 1px black; padding: 20px;\">\n",
    "<ul>Immutability DataTypes"
   ]
  },
  {
   "cell_type": "markdown",
   "id": "59623db5-a9c1-49c7-8382-aede1920c179",
   "metadata": {},
   "source": [
    "<body style=\"font-family: Sans-serif;\">\n",
    "    <div style=\"color: black; font-size: 18px; font-style: oblique; text-shadow: 0 0 3px white, 0 0 1px black; padding: 20px;\">\n",
    "<ul><li>Integer (int)<ul>\n",
    "    Integer objects change nahi hote.<br>Agar aap arithmetic operation perform karte hain, to naya object create hota hai."
   ]
  },
  {
   "cell_type": "code",
   "execution_count": 37,
   "id": "44d5c15e-20aa-4563-a563-204d428dc578",
   "metadata": {
    "tags": []
   },
   "outputs": [
    {
     "data": {
      "text/plain": [
       "5"
      ]
     },
     "execution_count": 37,
     "metadata": {},
     "output_type": "execute_result"
    }
   ],
   "source": [
    "x = 5\n",
    "x"
   ]
  },
  {
   "cell_type": "code",
   "execution_count": 38,
   "id": "f66e0156-b2e4-4c1b-8b99-eb85f6f507dd",
   "metadata": {
    "tags": []
   },
   "outputs": [
    {
     "data": {
      "text/plain": [
       "134519758782832"
      ]
     },
     "execution_count": 38,
     "metadata": {},
     "output_type": "execute_result"
    }
   ],
   "source": [
    "id(x)"
   ]
  },
  {
   "cell_type": "code",
   "execution_count": 39,
   "id": "4591629b-0a21-4a44-844d-bb56196322a9",
   "metadata": {
    "tags": []
   },
   "outputs": [],
   "source": [
    "x = 2 "
   ]
  },
  {
   "cell_type": "code",
   "execution_count": 40,
   "id": "7567cea7-d179-4bf1-9737-d8abbf009c7d",
   "metadata": {
    "tags": []
   },
   "outputs": [
    {
     "data": {
      "text/plain": [
       "134519758782736"
      ]
     },
     "execution_count": 40,
     "metadata": {},
     "output_type": "execute_result"
    }
   ],
   "source": [
    "id(x) # memory location are change\n",
    "# means x old variable change nahi huwa x new variable create ho gia hn"
   ]
  },
  {
   "cell_type": "markdown",
   "id": "92464680-6fa7-4756-811f-d2b8a07403e7",
   "metadata": {},
   "source": [
    "<body style=\"font-family: Sans-serif;\">\n",
    "    <div style=\"color: black; font-size: 18px; font-style: oblique; text-shadow: 0 0 3px white, 0 0 1px black; padding: 20px;\">\n",
    "<ul><li>Floating Point Numbers<ul>"
   ]
  },
  {
   "cell_type": "code",
   "execution_count": 42,
   "id": "879d24de-4cb1-4425-9ed2-48db48c57a31",
   "metadata": {
    "tags": []
   },
   "outputs": [
    {
     "data": {
      "text/plain": [
       "6.64"
      ]
     },
     "execution_count": 42,
     "metadata": {},
     "output_type": "execute_result"
    }
   ],
   "source": [
    "y = 6.64\n",
    "y"
   ]
  },
  {
   "cell_type": "code",
   "execution_count": 43,
   "id": "80f785bd-23c6-4649-bfa1-7f14dcff7645",
   "metadata": {
    "tags": []
   },
   "outputs": [
    {
     "data": {
      "text/plain": [
       "134519530875120"
      ]
     },
     "execution_count": 43,
     "metadata": {},
     "output_type": "execute_result"
    }
   ],
   "source": [
    "id(y)"
   ]
  },
  {
   "cell_type": "code",
   "execution_count": 44,
   "id": "c5ff7bfc-d163-4754-aef8-a533fc9056e7",
   "metadata": {
    "tags": []
   },
   "outputs": [
    {
     "data": {
      "text/plain": [
       "6.68"
      ]
     },
     "execution_count": 44,
     "metadata": {},
     "output_type": "execute_result"
    }
   ],
   "source": [
    "y = 6.68\n",
    "y"
   ]
  },
  {
   "cell_type": "code",
   "execution_count": 45,
   "id": "c67883db-951f-44cd-baee-81dc480f3169",
   "metadata": {
    "tags": []
   },
   "outputs": [
    {
     "data": {
      "text/plain": [
       "134519696915504"
      ]
     },
     "execution_count": 45,
     "metadata": {},
     "output_type": "execute_result"
    }
   ],
   "source": [
    "id(y) # memory location are change"
   ]
  },
  {
   "cell_type": "markdown",
   "id": "21faf377-0f30-4388-b59c-2964e0a7743a",
   "metadata": {},
   "source": [
    "<body style=\"font-family: Sans-serif;\">\n",
    "    <div style=\"color: black; font-size: 18px; font-style: oblique; text-shadow: 0 0 3px white, 0 0 1px black; padding: 20px;\">\n",
    "<ul><li>Complex Numbers<ul>"
   ]
  },
  {
   "cell_type": "code",
   "execution_count": 60,
   "id": "5ea9a989-ad39-4047-a056-e263972b1614",
   "metadata": {
    "tags": []
   },
   "outputs": [
    {
     "data": {
      "text/plain": [
       "(4+2j)"
      ]
     },
     "execution_count": 60,
     "metadata": {},
     "output_type": "execute_result"
    }
   ],
   "source": [
    "c = 4+2j\n",
    "c"
   ]
  },
  {
   "cell_type": "code",
   "execution_count": 61,
   "id": "f89f717b-a6a3-4fca-ae9c-65a4017b114c",
   "metadata": {
    "tags": []
   },
   "outputs": [
    {
     "data": {
      "text/plain": [
       "134519530874704"
      ]
     },
     "execution_count": 61,
     "metadata": {},
     "output_type": "execute_result"
    }
   ],
   "source": [
    "id(c)"
   ]
  },
  {
   "cell_type": "code",
   "execution_count": 63,
   "id": "9acbba42-23df-451c-8381-4752f1033d19",
   "metadata": {
    "tags": []
   },
   "outputs": [
    {
     "data": {
      "text/plain": [
       "(6-2j)"
      ]
     },
     "execution_count": 63,
     "metadata": {},
     "output_type": "execute_result"
    }
   ],
   "source": [
    "c = 6-2j\n",
    "c"
   ]
  },
  {
   "cell_type": "code",
   "execution_count": 59,
   "id": "3bf4c899-43e3-410a-a24c-451816a7ff99",
   "metadata": {
    "tags": []
   },
   "outputs": [
    {
     "data": {
      "text/plain": [
       "134519530878800"
      ]
     },
     "execution_count": 59,
     "metadata": {},
     "output_type": "execute_result"
    }
   ],
   "source": [
    "id(c) # memory location are change"
   ]
  },
  {
   "cell_type": "markdown",
   "id": "bdaa08c8-970a-4914-8471-fe3fa01f1729",
   "metadata": {},
   "source": [
    "<body style=\"font-family: Sans-serif;\">\n",
    "    <div style=\"color: black; font-size: 18px; font-style: oblique; text-shadow: 0 0 3px white, 0 0 1px black; padding: 20px;\">\n",
    "<ul><li>Boolean (bool)<ul>"
   ]
  },
  {
   "cell_type": "code",
   "execution_count": 64,
   "id": "44a7d4a0-2d4e-4b91-b381-b077d8bcbbac",
   "metadata": {
    "tags": []
   },
   "outputs": [
    {
     "data": {
      "text/plain": [
       "110610128618528"
      ]
     },
     "execution_count": 64,
     "metadata": {},
     "output_type": "execute_result"
    }
   ],
   "source": [
    "x = True\n",
    "id(x)"
   ]
  },
  {
   "cell_type": "code",
   "execution_count": 66,
   "id": "edc8d416-a608-445a-8479-50efbaff45bf",
   "metadata": {
    "tags": []
   },
   "outputs": [
    {
     "data": {
      "text/plain": [
       "110610128618496"
      ]
     },
     "execution_count": 66,
     "metadata": {},
     "output_type": "execute_result"
    }
   ],
   "source": [
    "x = False\n",
    "id(x) # memory location are change"
   ]
  },
  {
   "cell_type": "markdown",
   "id": "90872b4e-39c5-4508-b18b-70e035d8d35a",
   "metadata": {},
   "source": [
    "<body style=\"font-family: Sans-serif;\">\n",
    "    <div style=\"color: black; font-size: 18px; font-style: oblique; text-shadow: 0 0 3px white, 0 0 1px black; padding: 20px;\">\n",
    "<ul><li>String<ul>"
   ]
  },
  {
   "cell_type": "code",
   "execution_count": 73,
   "id": "ada74bc6-477f-4a0b-9452-3f5e4863e18f",
   "metadata": {
    "tags": []
   },
   "outputs": [
    {
     "data": {
      "text/plain": [
       "134519551488176"
      ]
     },
     "execution_count": 73,
     "metadata": {},
     "output_type": "execute_result"
    }
   ],
   "source": [
    "x = \"Mubeen\"\n",
    "id(x)"
   ]
  },
  {
   "cell_type": "code",
   "execution_count": 74,
   "id": "2abb7ea6-2121-45e7-9a75-d2ddfc06a12d",
   "metadata": {
    "tags": []
   },
   "outputs": [],
   "source": [
    "x = x+\" Ahmad\""
   ]
  },
  {
   "cell_type": "code",
   "execution_count": 75,
   "id": "0cad9f66-6b14-4421-b5e1-b558db1bd624",
   "metadata": {
    "tags": []
   },
   "outputs": [
    {
     "data": {
      "text/plain": [
       "134519541100208"
      ]
     },
     "execution_count": 75,
     "metadata": {},
     "output_type": "execute_result"
    }
   ],
   "source": [
    "id(x) # memory location are change"
   ]
  },
  {
   "cell_type": "markdown",
   "id": "8421d472-3452-4d7e-b40c-f102b20e70cf",
   "metadata": {},
   "source": [
    "<body style=\"font-family: Sans-serif;\">\n",
    "    <div style=\"color: black; font-size: 18px; font-style: oblique; text-shadow: 0 0 3px white, 0 0 1px black; padding: 20px;\">\n",
    "<ul><li>Tuple<ul>\n",
    "    Tuple ke elements fixed hain.<br><br>Note: Agar tuple ke andar mutable objects (jaise list) ho, to un objects ko modify kia ja sakta hai, lekin tuple ka structure (length, order) change nahi ho sakta."
   ]
  },
  {
   "cell_type": "code",
   "execution_count": 86,
   "id": "2d4138b4-ece5-4787-9034-a97c771b9ca9",
   "metadata": {
    "tags": []
   },
   "outputs": [
    {
     "data": {
      "text/plain": [
       "(2, 3, 4)"
      ]
     },
     "execution_count": 86,
     "metadata": {},
     "output_type": "execute_result"
    }
   ],
   "source": [
    "x = (2,3,4)\n",
    "x"
   ]
  },
  {
   "cell_type": "code",
   "execution_count": 87,
   "id": "b0256f90-0f37-4982-bfd1-fc900245c323",
   "metadata": {
    "tags": []
   },
   "outputs": [
    {
     "data": {
      "text/plain": [
       "134519651248064"
      ]
     },
     "execution_count": 87,
     "metadata": {},
     "output_type": "execute_result"
    }
   ],
   "source": [
    "id(x)"
   ]
  },
  {
   "cell_type": "code",
   "execution_count": 90,
   "id": "bc2377b9-1f18-41f4-8eb4-0ec15df0e6bc",
   "metadata": {
    "tags": []
   },
   "outputs": [
    {
     "data": {
      "text/plain": [
       "134519651248448"
      ]
     },
     "execution_count": 90,
     "metadata": {},
     "output_type": "execute_result"
    }
   ],
   "source": [
    "x = (1,4,2)\n",
    "id(x) # memory location are change"
   ]
  },
  {
   "cell_type": "markdown",
   "id": "1bea587e-a16a-4cd2-a602-614eef674203",
   "metadata": {},
   "source": [
    "<body style=\"font-family: Sans-serif;\">\n",
    "    <div style=\"color: black; font-size: 18px; font-style: oblique; text-shadow: 0 0 3px white, 0 0 1px black; padding: 20px;\">\n",
    "<ul><li>Frozenset<ul>\n",
    "    Yeh set jaisa object hai jo immutable hai, isme elements add ya remove nahi ho sakte."
   ]
  },
  {
   "cell_type": "code",
   "execution_count": 116,
   "id": "e841e7b8-59c1-4a53-947f-16bc0d599ea4",
   "metadata": {
    "tags": []
   },
   "outputs": [
    {
     "data": {
      "text/plain": [
       "frozenset({1, 2, 3, 4})"
      ]
     },
     "execution_count": 116,
     "metadata": {},
     "output_type": "execute_result"
    }
   ],
   "source": [
    "x = frozenset({1,2,3,4})\n",
    "x"
   ]
  },
  {
   "cell_type": "code",
   "execution_count": 117,
   "id": "794f0263-b574-4640-8219-118821f9fa0a",
   "metadata": {
    "tags": []
   },
   "outputs": [
    {
     "data": {
      "text/plain": [
       "134519525243168"
      ]
     },
     "execution_count": 117,
     "metadata": {},
     "output_type": "execute_result"
    }
   ],
   "source": [
    "id(x)"
   ]
  },
  {
   "cell_type": "code",
   "execution_count": 118,
   "id": "eab24d91-3d46-4d58-af13-6f81063c7099",
   "metadata": {
    "tags": []
   },
   "outputs": [
    {
     "data": {
      "text/plain": [
       "134519525242496"
      ]
     },
     "execution_count": 118,
     "metadata": {},
     "output_type": "execute_result"
    }
   ],
   "source": [
    "x = frozenset({5,7})\n",
    "id(x) # memory location are change"
   ]
  },
  {
   "cell_type": "markdown",
   "id": "9a165ef0-167c-4e3b-bfc0-f1cef8c9c603",
   "metadata": {},
   "source": [
    "<body style=\"font-family: Sans-serif;\">\n",
    "    <div style=\"color: black; font-size: 18px; font-style: oblique; text-shadow: 0 0 3px white, 0 0 1px black; padding: 20px;\">\n",
    "<ul><li>Bytes<ul>\n",
    "    Yeh ek immutable sequence of bytes hai."
   ]
  },
  {
   "cell_type": "code",
   "execution_count": 126,
   "id": "87e9fa6d-433c-425d-a0af-f0bb0bdfc1c5",
   "metadata": {
    "tags": []
   },
   "outputs": [
    {
     "data": {
      "text/plain": [
       "b'Mubeen'"
      ]
     },
     "execution_count": 126,
     "metadata": {},
     "output_type": "execute_result"
    }
   ],
   "source": [
    "x = b'Mubeen'\n",
    "x"
   ]
  },
  {
   "cell_type": "code",
   "execution_count": 127,
   "id": "8d69111f-66b8-4030-a8c7-0c30843a0b14",
   "metadata": {
    "tags": []
   },
   "outputs": [
    {
     "data": {
      "text/plain": [
       "134519561701056"
      ]
     },
     "execution_count": 127,
     "metadata": {},
     "output_type": "execute_result"
    }
   ],
   "source": [
    "id(x)"
   ]
  },
  {
   "cell_type": "code",
   "execution_count": 128,
   "id": "85fe343f-0afd-4924-b5dd-301d5d9a612b",
   "metadata": {
    "tags": []
   },
   "outputs": [
    {
     "data": {
      "text/plain": [
       "134519561707488"
      ]
     },
     "execution_count": 128,
     "metadata": {},
     "output_type": "execute_result"
    }
   ],
   "source": [
    "x = x + b\" Ahmad\"\n",
    "id(x) # memory location are change"
   ]
  },
  {
   "cell_type": "markdown",
   "id": "3cb5687a-bd79-4275-bf2e-14624e88c3f6",
   "metadata": {},
   "source": [
    "<body style=\"font-family: Sans-serif;\">\n",
    "    <div style=\"color: black; font-size: 18px; font-style: oblique; text-shadow: 0 0 3px white, 0 0 1px black; padding: 20px;\">\n",
    "<ul><li>Hashable objects:\n",
    "                <ul>Hashable objects woh hotay hain jinka hash value unki time period ke dauran constant rehta hai. <br>Yeh property aksar immutability ki wajah se hasil hoti hai, kyun ke agar object mutable hota to uska hash value change ho sakta tha, jisse dictionary ya set jaisi data structures mein inconsistency aa jati."
   ]
  },
  {
   "cell_type": "code",
   "execution_count": 129,
   "id": "ca91d28b-3005-4276-817d-457012dd7811",
   "metadata": {
    "tags": []
   },
   "outputs": [
    {
     "name": "stdout",
     "output_type": "stream",
     "text": [
      "Tuple: (1, 2, 3)\n",
      "Hash of tuple: 529344067295497451\n"
     ]
    }
   ],
   "source": [
    "t = (1, 2, 3)\n",
    "print(\"Tuple:\", t)\n",
    "print(\"Hash of tuple:\", hash(t))  # Hash value constant rahegi\n"
   ]
  },
  {
   "cell_type": "code",
   "execution_count": 130,
   "id": "61e0ae48-a34e-42f4-99b7-1373dbe0f8b0",
   "metadata": {
    "tags": []
   },
   "outputs": [
    {
     "name": "stdout",
     "output_type": "stream",
     "text": [
      "Error: unhashable type: 'list'\n"
     ]
    }
   ],
   "source": [
    "# Mutable object - List (hashable nahi hota)\n",
    "l = [1, 2, 3]\n",
    "try:\n",
    "    print(\"Hash of list:\", hash(l))  # Yeh error dega, kyun ke list mutable hai\n",
    "except TypeError as e:\n",
    "    print(\"Error:\", e)"
   ]
  },
  {
   "cell_type": "code",
   "execution_count": 131,
   "id": "0d79d007-91f1-4135-90a8-0f19eecdee05",
   "metadata": {
    "tags": []
   },
   "outputs": [
    {
     "name": "stdout",
     "output_type": "stream",
     "text": [
      "Dictionary: {10: 'Integer key', 'name': 'String key', (1, 2): 'Tuple key'}\n"
     ]
    }
   ],
   "source": [
    "# Dictionary keys ke liye hashable objects ka istemal:\n",
    "\n",
    "d = {\n",
    "    10: \"Integer key\",      # int immutable hai aur hashable hai\n",
    "    \"name\": \"String key\",   # string immutable aur hashable hai\n",
    "    (1, 2): \"Tuple key\"     # tuple immutable aur hashable hai (agar tuple ke elements bhi hashable hon)\n",
    "}\n",
    "\n",
    "print(\"Dictionary:\", d)"
   ]
  },
  {
   "cell_type": "code",
   "execution_count": 136,
   "id": "2e7714eb-29dc-4892-8367-96fe731e82d1",
   "metadata": {
    "tags": []
   },
   "outputs": [
    {
     "name": "stdout",
     "output_type": "stream",
     "text": [
      "unhashable type: 'list'\n"
     ]
    }
   ],
   "source": [
    "# Unhashable key use kar ky dekhty hn\n",
    "\n",
    "try:\n",
    "\n",
    "    d = {\n",
    "        10: \"Integer key\",      \n",
    "        \"name\": \"String key\",  \n",
    "        (1, 2): \"Tuple key\",\n",
    "        [1,2]:'List key'\n",
    "    }\n",
    "\n",
    "except Exception as e:\n",
    "    print(e)"
   ]
  },
  {
   "cell_type": "markdown",
   "id": "6063906f-aa73-47bd-a691-d35b0e1461a9",
   "metadata": {},
   "source": [
    "<body style=\"font-family: Sans-serif;\">\n",
    "    <div style=\"color: black; font-size: 18px; font-style: oblique; text-shadow: 0 0 3px white, 0 0 1px black; padding: 20px;\">\n",
    "<ul><li>First-Class Functions:<ul>Functions ko variables ki tarah treat kia jata hai.<br><br>\n",
    "    Matlab aap functions ko arguments ke taur pe pass kar sakte hain,<br><br>return kar sakte hain, \n",
    "    <br><br>ya kisi variable ko assign kar sakte hain."
   ]
  },
  {
   "cell_type": "code",
   "execution_count": 137,
   "id": "b2702177-23ce-447a-ba4e-fc53123c097d",
   "metadata": {
    "tags": []
   },
   "outputs": [],
   "source": [
    "def square(x):\n",
    "    return x * x"
   ]
  },
  {
   "cell_type": "code",
   "execution_count": 138,
   "id": "8a02cd10-1b4b-4a37-bf1a-00613571a055",
   "metadata": {
    "tags": []
   },
   "outputs": [
    {
     "data": {
      "text/plain": [
       "25"
      ]
     },
     "execution_count": 138,
     "metadata": {},
     "output_type": "execute_result"
    }
   ],
   "source": [
    "square(5)"
   ]
  },
  {
   "cell_type": "code",
   "execution_count": 145,
   "id": "e9e677ee-b5ca-4687-b277-fa82ec69a4b9",
   "metadata": {
    "tags": []
   },
   "outputs": [
    {
     "data": {
      "text/plain": [
       "4"
      ]
     },
     "execution_count": 145,
     "metadata": {},
     "output_type": "execute_result"
    }
   ],
   "source": [
    "x = square\n",
    "x(2)"
   ]
  },
  {
   "cell_type": "code",
   "execution_count": 139,
   "id": "9ab30db9-c838-4826-b769-0cc5ab9e7b74",
   "metadata": {
    "tags": []
   },
   "outputs": [],
   "source": [
    "def apply_func(func, value):\n",
    "    return func(value)"
   ]
  },
  {
   "cell_type": "code",
   "execution_count": 141,
   "id": "c046728e-849b-4dd7-9ff6-6b756b2555af",
   "metadata": {
    "tags": []
   },
   "outputs": [
    {
     "data": {
      "text/plain": [
       "25"
      ]
     },
     "execution_count": 141,
     "metadata": {},
     "output_type": "execute_result"
    }
   ],
   "source": [
    "apply_func(square,5)"
   ]
  },
  {
   "cell_type": "markdown",
   "id": "3c9a0bf8-8c85-4002-bcb8-4ebd21cf43fc",
   "metadata": {},
   "source": [
    "<body style=\"font-family: Sans-serif;\">\n",
    "    <div style=\"color: black; font-size: 18px; font-style: oblique; text-shadow: 0 0 3px white, 0 0 1px black; padding: 20px;\">\n",
    "<ul>apply_func function ek higher-order function hai, jo ek function ko argument ke taur par accept karta hai<br><br>Ab sawaal yeh hai ke agar hum function ko alag se call kar sakte hain (jaise square(5)), to phir function mein function pass kyun karte hain?<ul><br>\n",
    "\n",
    "1. **Abstraction aur Reusability:**\n",
    "   - Agar aap directly `square(5)` call karte hain, to aap sirf square function ke liye code likh rahe hote hain.\n",
    "   - Lekin agar aap `apply_func` jaisa generic function banate hain, to aap kisi bhi function (jo ek argument leta ho) ko pass kar sakte hain. Yeh code ko reusable aur modular banata hai.\n",
    "   - Misal ke taur par, agar aapke paas aur functions hain jaise `cube(x)` ya koi aur calculation, to aap unhe bhi easily `apply_func` ke through call kar sakte hain.\n",
    "\n",
    "2. **Dynamic Behavior:**\n",
    "   - Functions ko argument ke taur par pass karne se aap dynamic behavior create kar sakte hain. Aap run-time pe decide kar sakte hain ke kis function ko call karna hai.\n",
    "   - Yeh approach functional programming ka hissa hai jahan functions ko first-class citizens maana jata hai.\n",
    "\n",
    "3. **Code Simplification:**\n",
    "   - Aap higher-order functions se common patterns ko encapsulate kar sakte hain. Agar aapke paas bohat se similar operations hain jo sirf function mein fark rakhte hain, to ek generic wrapper function se aap code ko simplify kar sakte hain.\n",
    "   - Misal ke taur par, aap logging, error handling, ya performance measuring jaisa behavior add kar sakte hain higher-order function ke through bina har function ke andar changes kiye."
   ]
  },
  {
   "cell_type": "code",
   "execution_count": 142,
   "id": "3abde0f0-054f-4c44-be39-95e770182982",
   "metadata": {
    "tags": []
   },
   "outputs": [],
   "source": [
    "def square(x):\n",
    "    return x * x\n",
    "\n",
    "def cube(x):\n",
    "    return x * x * x\n",
    "\n",
    "def apply_func(func, value):\n",
    "    \n",
    "    # Yahan hum function ko parameter ke taur par pass kar rahe hain\n",
    "    # Yeh generic function hai jo kisi bhi function ko call kar sakta hai\n",
    "    \n",
    "    return func(value)\n",
    "\n"
   ]
  },
  {
   "cell_type": "code",
   "execution_count": 143,
   "id": "c72591df-9912-423d-b661-fffd07ae4c41",
   "metadata": {
    "tags": []
   },
   "outputs": [
    {
     "name": "stdout",
     "output_type": "stream",
     "text": [
      "25\n"
     ]
    }
   ],
   "source": [
    "# Direct call\n",
    "print(square(5))  # Output: 25"
   ]
  },
  {
   "cell_type": "code",
   "execution_count": 144,
   "id": "b0a7ccc3-a92a-4734-892e-649e9ea8cf49",
   "metadata": {
    "tags": []
   },
   "outputs": [
    {
     "name": "stdout",
     "output_type": "stream",
     "text": [
      "25\n",
      "27\n"
     ]
    }
   ],
   "source": [
    "# Higher-order function ke through call\n",
    "print(apply_func(square, 5))  # Output: 25\n",
    "print(apply_func(cube, 3))    # Output: 27"
   ]
  }
 ],
 "metadata": {
  "kernelspec": {
   "display_name": "Python 3 (ipykernel)",
   "language": "python",
   "name": "python3"
  },
  "language_info": {
   "codemirror_mode": {
    "name": "ipython",
    "version": 3
   },
   "file_extension": ".py",
   "mimetype": "text/x-python",
   "name": "python",
   "nbconvert_exporter": "python",
   "pygments_lexer": "ipython3",
   "version": "3.10.12"
  }
 },
 "nbformat": 4,
 "nbformat_minor": 5
}
