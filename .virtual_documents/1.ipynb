numbers = [1, 2, 3, 4, 5]
squared = []  # mutable list jo update hoti hai
  
for num in numbers:
    squared.append(num * num)

print(squared)


numbers = [1, 2, 3, 4, 5]
squared = list(map(lambda x: x * x, numbers))
print(squared)


def add(a, b):
    return a + b  
    # Pure function: same inputs, same output


# Hamesha add(2, 3) = 5, predictability ki wajah se

print(add(2, 3))


def multiply(a, b):
    return a * b


# multiply function ko different parts 
# of the program mein reuse kar sakte hain.

result1 = multiply(3, 4)  # Output: 12
result2 = multiply(5, 6)  # Output: 30
  
print(result1, result2)


from concurrent.futures import ThreadPoolExecutor


def square(x):
    return x * x


numbers = [1, 2, 3, 4, 5]

# Parallelism: ThreadPoolExecutor se same time mein multiple square()
# calls perform karna.

with ThreadPoolExecutor(max_workers=5) as executor:
    results = list(executor.map(square, numbers))

print(results)
