def add_numbers(a, b):
    
    # Yeh function do numbers ko add karta hai.
    
    # Isme koi side-effect nahi hai,
    # aur same input per hamesha same output deta hai.
    
    return a + b

add_numbers(3, 4)


def square(x):
    return x * x


square(5)


x = square
x(2)


def apply_func(func, value):
    return func(value)


apply_func(square,5)


def square(x):
    return x * x

def cube(x):
    return x * x * x

def apply_func(func, value):
    
    # Yahan hum function ko parameter ke taur par pass kar rahe hain
    # Yeh generic function hai jo kisi bhi function ko call kar sakta hai
    
    return func(value)




# Direct call
print(square(5))  # Output: 25


# Higher-order function ke through call
print(apply_func(square, 5))  # Output: 25
print(apply_func(cube, 3))    # Output: 27
