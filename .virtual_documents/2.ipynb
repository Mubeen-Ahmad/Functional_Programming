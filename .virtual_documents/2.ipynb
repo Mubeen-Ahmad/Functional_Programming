def add(a, b):
    # Sirf input values par depend karta hai aur 
    # aur koi external state change nahi karta.
    
    return a + b


print(add(2, 3))  # Hamesha 5 return karega.


print(add(2, 3)) # Dubara call karne par bhi 5 hi return karega.


# Global variable jis par function side effect create karega:
global_list = []

def append_to_list(item):
    
    # Global variable ko modify karta hai (side effect)
    
    global_list.append(item)
    return global_list


print(append_to_list(10))  # Pehli call par output: [10]


print(append_to_list(20))  # Dusri call par output: [10, 20]
