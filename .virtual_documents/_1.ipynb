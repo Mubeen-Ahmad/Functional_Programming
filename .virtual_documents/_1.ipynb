


























def add_numbers(a, b):
    
    # Yeh function do numbers ko add karta hai.
    
    # Isme koi side-effect nahi hai,
    # aur same input per hamesha same output deta hai.
    
    return a + b

add_numbers(3, 4)


# Pehle ek tuple banate hain:
numbers = (1, 2, 3)
print("Original tuple:", numbers)


# Agar aapko isme ek naya element add karna ho, 
# to aap directly modify nahi kar sakte
try:
    numbers[1] = 9

except Exception as e:
    print(e)


# balki aapko ek naya tuple create karna padega.
new_numbers = (numbers[0],9) + numbers[2:]
new_numbers


x = 5
x


id(x)


x = 2 


id(x) # memory location are change
# means x old variable change nahi huwa x new variable create ho gia hn


y = 6.64
y


id(y)


y = 6.68
y


id(y) # memory location are change


c = 4+2j
c


id(c)


c = 6-2j
c


id(c) # memory location are change


x = True
id(x)


x = False
id(x) # memory location are change


x = "Mubeen"
id(x)


x = x+" Ahmad"


id(x) # memory location are change


x = (2,3,4)
x


id(x)


x = (1,4,2)
id(x) # memory location are change


x = frozenset({1,2,3,4})
x


id(x)


x = frozenset({5,7})
id(x) # memory location are change


x = b'Mubeen'
x


id(x)


x = x + b" Ahmad"
id(x) # memory location are change


t = (1, 2, 3)
print("Tuple:", t)
print("Hash of tuple:", hash(t))  # Hash value constant rahegi



# Mutable object - List (hashable nahi hota)
l = [1, 2, 3]
try:
    print("Hash of list:", hash(l))  # Yeh error dega, kyun ke list mutable hai
except TypeError as e:
    print("Error:", e)


# Dictionary keys ke liye hashable objects ka istemal:

d = {
    10: "Integer key",      # int immutable hai aur hashable hai
    "name": "String key",   # string immutable aur hashable hai
    (1, 2): "Tuple key"     # tuple immutable aur hashable hai (agar tuple ke elements bhi hashable hon)
}

print("Dictionary:", d)


# Unhashable key use kar ky dekhty hn

try:

    d = {
        10: "Integer key",      
        "name": "String key",  
        (1, 2): "Tuple key",
        [1,2]:'List key'
    }

except Exception as e:
    print(e)


def square(x):
    return x * x


square(5)


x = square
x(2)


def apply_func(func, value):
    return func(value)


apply_func(square,5)


def square(x):
    return x * x

def cube(x):
    return x * x * x

def apply_func(func, value):
    
    # Yahan hum function ko parameter ke taur par pass kar rahe hain
    # Yeh generic function hai jo kisi bhi function ko call kar sakta hai
    
    return func(value)




# Direct call
print(square(5))  # Output: 25


# Higher-order function ke through call
print(apply_func(square, 5))  # Output: 25
print(apply_func(cube, 3))    # Output: 27
