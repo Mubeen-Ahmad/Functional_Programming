def multiplier(n):
    def multiply(x):
        return x * n  # Yahan 'n' capture ho raha hai (closure)
    return multiply

double = multiplier(2)
print(double(5))  # Output: 10, kyunki 5 * 2 = 10


def apply_function(func, value):
    return func(value)

def square(x):
    return x * x

print(apply_function(square, 5))  # Output: 25


def get_multiplier():
    def multiply(x):
        return x * 2  # Yahaan 2 ek literal hai, koi outer variable capture nahi hua
    return multiply

double = get_multiplier()
print(double(5))  # Output: 10


def multiplier(n):
    def multiply(x):
        return x * n  # Yahaan 'n' capture ho raha hai
    return multiply

double = multiplier(2)
print(double(5))  # Output: 10
