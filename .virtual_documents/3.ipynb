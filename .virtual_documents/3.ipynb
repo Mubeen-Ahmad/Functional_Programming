def square(x):
    return x * x

def cube(x):
    return x * x * x

def apply_func(func, value):
    
    # Yahan hum function ko parameter ke taur par pass kar rahe hain
    # Yeh generic function hai jo kisi bhi function ko call kar sakta hai
    
    return func(value)




# Direct call
print(square(5))  # Output: 25


# Higher-order function ke through call
print(apply_func(square, 5))  # Output: 25
print(apply_func(cube, 3))    # Output: 27
