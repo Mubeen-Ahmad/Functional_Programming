# Ek simple function jo greeting return karta hai
def greet(name):
    return f"Hello, {name}!"


# 'greet' function ko 'say_hello' variable mein assign kar diya.

say_hello = greet


# Ab 'say_hello' bhi function ki tarah use ho sakta hai.

print(say_hello("Mubeen"))  # Output: Hello, Mubeen!


# Ek function jo text ko uppercase mein convert karta hai:

def shout(text):
    return text.upper()


# Higher-order function jo dusre function ko as argument leta hai:

def call_func(func, text):
    
    # 'func' yahan ek function hai jo 'text' par apply hoga.
    return func(text)




# Ab 'shout' function ko 'call_func' mein argument ke taur par pass karte hain.

call_func(shout, "hello")


def multiplier(n):
    
    # ------------------------------------------------------
    # Inner function jo input x ko multiply karta hai n se.
    def multiply(x):
        print("calling Inner Function")
        return x * n
    #-------------------------------------------------------

    return multiply



# 'multiplier' function se ek function return hota hai jo 3 se multiply karta hai.
times3 = multiplier(3)
times3


# Ab times3 ko call kar ke dekhte hain:
print(times3(10))  # Output: 30 (10 * 3)


def add(x, y):
    return x + y

def subtract(x, y):
    return x - y


operation = add  
print(operation(10, 5))


operation = subtract  
print(operation(10, 5))


def morning_greeting(name):
    return f"Good morning, {name}! Have a great day! ☀️"

def evening_greeting(name):
    return f"Good evening, {name}! Hope you had a great day! 🌙"


greet = morning_greeting

print(greet("Ali"))  # Output: Good morning, Ali! Have a great day!


greet = evening_greeting
print(greet("Mubeen"))  # Output: Good evening, Sara! Hope you had a great day!


def critical_alert(message):
    return f"🚨 CRITICAL: {message}"

def warning_alert(message):
    return f"⚠️ WARNING: {message}"

def info_alert(message):
    return f"ℹ️ INFO: {message}" 


send_alert = critical_alert 

print(send_alert("Unauthorized access detected!")) 


send_alert = warning_alert  
print(send_alert("Server CPU usage high!"))  


send_alert = info_alert  
print(send_alert("New user registered."))  


def voice_assistant(command_func, query):
    return command_func(query)

def play_music(song):
    return f"🎵 Playing '{song}' on Spotify."

def check_weather(city):
    return f"🌦️ Checking weather for {city}."

def set_alarm(time):
    return f"⏰ Alarm set for {time}."


print(voice_assistant(play_music, "Despacito"))  


print(voice_assistant(check_weather, "Karachi"))  


print(voice_assistant(set_alarm, "7:00 AM"))  


def authenticate_user(security_check, username):
    return security_check(username)

def check_password(username):
    return f"🔑 Password verified for {username}."

def check_fingerprint(username):
    return f"🖐️ Fingerprint verified for {username}."

def check_face_scan(username):
    return f"📸 Face scan verified for {username}."


print(authenticate_user(check_password, "Ali"))


print(authenticate_user(check_fingerprint, "Mubeen"))  


print(authenticate_user(check_face_scan, "Ahmed"))
