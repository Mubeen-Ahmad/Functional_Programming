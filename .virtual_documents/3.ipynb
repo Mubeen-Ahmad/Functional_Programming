# Ek simple function jo greeting return karta hai
def greet(name):
    return f"Hello, {name}!"


# 'greet' function ko 'say_hello' variable mein assign kar diya.

say_hello = greet


# Ab 'say_hello' bhi function ki tarah use ho sakta hai.

print(say_hello("Mubeen"))  # Output: Hello, Mubeen!


def apply_operation(func, a, b):
    return func(a, b)

def add(x, y):
    return x + y  

def multiply(x, y):
    return x * y  


print(apply_operation(add, 5, 3))


print(apply_operation(multiply, 5, 3))


def multiplier(n):  # Outer Function
    def multiply(x):  # Inner Function
        return x * n  # `n` yaad rakhta hai (Closure)
    return multiply  


multiplier(2)


multiplier(2)(3)


double = multiplier(2)  
triple = multiplier(3)


print(double(5))


print(triple(5))


def add(x, y):
    return x + y

def subtract(x, y):
    return x - y


operation = add  
print(operation(10, 5))


operation = subtract  
print(operation(10, 5))


def morning_greeting(name):
    return f"Good morning, {name}! Have a great day! ☀️"

def evening_greeting(name):
    return f"Good evening, {name}! Hope you had a great day! 🌙"


greet = morning_greeting

print(greet("Ali"))  # Output: Good morning, Ali! Have a great day!


greet = evening_greeting
print(greet("Mubeen"))  # Output: Good evening, Sara! Hope you had a great day!


def critical_alert(message):
    return f"🚨 CRITICAL: {message}"

def warning_alert(message):
    return f"⚠️ WARNING: {message}"

def info_alert(message):
    return f"ℹ️ INFO: {message}" 


send_alert = critical_alert 

print(send_alert("Unauthorized access detected!")) 


send_alert = warning_alert  
print(send_alert("Server CPU usage high!"))  


send_alert = info_alert  
print(send_alert("New user registered."))  


def voice_assistant(command_func, query):
    return command_func(query)

def play_music(song):
    return f"🎵 Playing '{song}' on Spotify."

def check_weather(city):
    return f"🌦️ Checking weather for {city}."

def set_alarm(time):
    return f"⏰ Alarm set for {time}."


print(voice_assistant(play_music, "Despacito"))  


print(voice_assistant(check_weather, "Karachi"))  


print(voice_assistant(set_alarm, "7:00 AM"))  


def authenticate_user(method):
    def security_check(username):
        return method(username)  # 👌 Inner function, jo parent ka function return karega
    return security_check  # 🎯 Function return ho raha hai (Closure ban gaya)

# Functions for authentication
def check_password(username):
    return f"🔑 Password verified for {username}."

def check_fingerprint(username):
    return f"🖐️ Fingerprint verified for {username}."



password_authenticator = authenticate_user(check_password)
fingerprint_authenticator = authenticate_user(check_fingerprint)


print(password_authenticator("Ali")) 


print(fingerprint_authenticator("Ali")) 
