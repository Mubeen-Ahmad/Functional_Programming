{
 "cells": [
  {
   "cell_type": "markdown",
   "id": "58032c81-a071-415d-817d-fb2450575761",
   "metadata": {},
   "source": [
    "<h1 style=\"text-align:center; color:#005bbd; font-size:20px; font-family:Sans-serif; font-style: oblique; text-shadow: 0 0 3px white, 0 0 1px Black;\">\n",
    "   Functions\n",
    "</h1>"
   ]
  },
  {
   "cell_type": "markdown",
   "id": "10b6c218-8a03-4a80-a95b-16b824045314",
   "metadata": {},
   "source": [
    "<body style=\"font-family: Sans-serif;\">\n",
    "    <div style=\"color: black; font-size: 15px; font-style: oblique; text-shadow: 0 0 3px white, 0 0 1px black; padding: 20px;\">\n",
    "        \n",
    "Python functions aik block of statements hotay hain jo aik specific task perform karte hain. function aik set of statements hota hai jo inputs leta hai, kuch specific computation karta hai aur output produce karta hai.\n",
    "\n",
    "Iska maqsad yeh hai ke jo tasks aam tor pe ya baar baar kiye jate hain, unko aik sath rakh kar function banaya jaye, taake har dafa mukhtalif inputs ke liye wahi code likhne ki bajaye function ko call kia jaye.\n",
    "\n",
    "Functions ke 2 types hotay hain:\n",
    "\n",
    "• **User Defined Functions**  \n",
    "• **Built-In Functions**"
   ]
  },
  {
   "cell_type": "markdown",
   "id": "760d8435-9e25-497f-9d5a-fd0afeaa7d46",
   "metadata": {},
   "source": [
    "<body style=\"font-family: Sans-serif;\">\n",
    "    <div style=\"color: black; font-size: 15px; font-style: oblique; text-shadow: 0 0 3px white, 0 0 1px black; padding: 20px;\">\n",
    "        \n",
    "**User Defined Function**  \n",
    "Ek function jo programmer ya user dwara banaya jata hai, usey **User Defined Function** kehte hain.\n",
    "\n",
    "- **Python mein:**  \n",
    "  `def` keyword ka istemal karke user defined functions declare kiye jate hain.\n",
    "\n",
    "- **Syntax:**  \n",
    "  Function ka naam aur uske arguments ke baad ek indented block of statements aata hai jo function ka body hota hai, jahan aap function ki logic likhte hain."
   ]
  },
  {
   "cell_type": "code",
   "execution_count": 1,
   "id": "57cea765-0f15-4c99-9670-c3c8b1de58eb",
   "metadata": {
    "tags": []
   },
   "outputs": [],
   "source": [
    "# Declaring a function\n",
    "\n",
    "def my_function():\n",
    "    print(\"Inside function\")"
   ]
  },
  {
   "cell_type": "code",
   "execution_count": 2,
   "id": "d99de5c5-1fb8-43a3-825b-450152a9b3d6",
   "metadata": {
    "tags": []
   },
   "outputs": [
    {
     "name": "stdout",
     "output_type": "stream",
     "text": [
      "Inside function\n"
     ]
    }
   ],
   "source": [
    "# Calling function\n",
    "\n",
    "my_function()"
   ]
  },
  {
   "cell_type": "code",
   "execution_count": 3,
   "id": "6081092f-ed54-4b9a-b10b-787a14a7c25a",
   "metadata": {
    "tags": []
   },
   "outputs": [],
   "source": [
    "def func():\n",
    "    print(\"This is my Function\")"
   ]
  },
  {
   "cell_type": "code",
   "execution_count": 4,
   "id": "ec631abe-1297-4a69-8757-f118c1836f07",
   "metadata": {
    "tags": []
   },
   "outputs": [
    {
     "name": "stdout",
     "output_type": "stream",
     "text": [
      "This is my Function\n",
      "None\n"
     ]
    }
   ],
   "source": [
    "print(func())"
   ]
  },
  {
   "cell_type": "markdown",
   "id": "0a67b723-4b27-4b9a-a5b5-6d79c8239c40",
   "metadata": {},
   "source": [
    "<body style=\"font-family: Sans-serif;\">\n",
    "    <div style=\"color: black; font-size: 15px; font-style: oblique; text-shadow: 0 0 3px white, 0 0 1px black; padding: 20px;\">\n",
    "\n",
    "#### **Return Statement**  \n",
    "\n",
    "`return` statement function ki execution ko khatam karne ke liye use hota hai aur function ka result (jo bhi value `return` keyword ke baad likhi hoti hai) wapas caller ko bhejta hai.  \n",
    "\n",
    "- **Jo statements `return` ke baad hoti hain, wo execute nahi hoti.**  \n",
    "- **Agar `return` statement kisi bhi expression ke bina likha jaye, to function `None` return karega.**  \n",
    "- **Return statement ka basic maqsad function ko invoke karna hota hai, taake function ke andar likhe gaye statements execute ho sakein.**  \n",
    "- **`return` statement function ke bahar use nahi kiya ja sakta, warna error aayegi.**"
   ]
  },
  {
   "cell_type": "code",
   "execution_count": 5,
   "id": "216e8a34-b5a3-422b-857c-635894fbe25c",
   "metadata": {
    "tags": []
   },
   "outputs": [],
   "source": [
    "def func():\n",
    "    return \"This is My Function\""
   ]
  },
  {
   "cell_type": "code",
   "execution_count": 6,
   "id": "cdab3882-7379-409e-9259-b7f329f26c0b",
   "metadata": {
    "tags": []
   },
   "outputs": [
    {
     "name": "stdout",
     "output_type": "stream",
     "text": [
      "\n",
      "Return Value are Store inside the func() \n"
     ]
    }
   ],
   "source": [
    "func()\n",
    "\n",
    "print(\"\\nReturn Value are Store inside the func() \")"
   ]
  },
  {
   "cell_type": "code",
   "execution_count": 7,
   "id": "f836acdc-d2ff-4bcf-aae5-83bd79196f75",
   "metadata": {
    "tags": []
   },
   "outputs": [
    {
     "name": "stdout",
     "output_type": "stream",
     "text": [
      "This is My Function\n",
      "\n",
      "Calling Function\n"
     ]
    }
   ],
   "source": [
    "# print function\n",
    "\n",
    "print(func())\n",
    "print(\"\\nCalling Function\")"
   ]
  },
  {
   "cell_type": "markdown",
   "id": "0359470c-a816-47a0-9f73-d9c001f9b24d",
   "metadata": {},
   "source": [
    "<body style=\"font-family: Sans-serif;\">\n",
    "    <div style=\"color: black; font-size: 15px; font-style: oblique; text-shadow: 0 0 3px white, 0 0 1px black; padding: 20px;\">\n",
    "\n",
    "**Jab `return` keyword use kar diya jaye, to uske baad wali sari lines execute nahi hoti.**  \n",
    "\n",
    "Yeh is wajah se hota hai kyunki `return` function ki execution ko turant rok deta hai aur jo bhi value return karni ho, usko wapas caller ko bhej deta hai.  "
   ]
  },
  {
   "cell_type": "code",
   "execution_count": 8,
   "id": "300ffaec-7000-4a30-9ec6-eb3bf621e396",
   "metadata": {
    "tags": []
   },
   "outputs": [],
   "source": [
    "def func():\n",
    "    \n",
    "    x = \"THIS IS X\"\n",
    "    return x\n",
    "    \n",
    "    y = \"THIS IS Y\"\n",
    "    return y"
   ]
  },
  {
   "cell_type": "code",
   "execution_count": 9,
   "id": "8bf96589-b67e-4e9a-b4a8-32fe535f2a98",
   "metadata": {
    "tags": []
   },
   "outputs": [
    {
     "name": "stdout",
     "output_type": "stream",
     "text": [
      "THIS IS X\n"
     ]
    }
   ],
   "source": [
    "print(func())"
   ]
  },
  {
   "cell_type": "code",
   "execution_count": 10,
   "id": "7b71a817-7c79-4f0f-a974-77654c781725",
   "metadata": {
    "tags": []
   },
   "outputs": [],
   "source": [
    "def func():\n",
    "    \n",
    "    x = 10\n",
    "    \n",
    "    if x == 9:\n",
    "        return 9\n",
    "    \n",
    "    else:\n",
    "        return 10"
   ]
  },
  {
   "cell_type": "code",
   "execution_count": 11,
   "id": "29d02599-524e-477d-bab0-11964c63ba1e",
   "metadata": {
    "tags": []
   },
   "outputs": [
    {
     "name": "stdout",
     "output_type": "stream",
     "text": [
      "10\n"
     ]
    }
   ],
   "source": [
    "# Now the return statement Execute depend on x coundition\n",
    "\n",
    "print(func())"
   ]
  },
  {
   "cell_type": "markdown",
   "id": "a462d28b-1c3f-4fe0-aec6-949430d9075c",
   "metadata": {},
   "source": [
    "<body style=\"font-family: Sans-serif;\">\n",
    "    <div style=\"color: black; font-size: 15px; font-style: oblique; text-shadow: 0 0 3px white, 0 0 1px black; padding: 20px;\">\n",
    "\n",
    "#### **Nested Function**  \n",
    "\n",
    "Nested function woh function hota hai jo kisi doosre function ke andar define kiya jata hai. <br>\n",
    "Yeh concept **Encapsulation** aur **Code Reusability** ke liye use hota hai.  \n"
   ]
  },
  {
   "cell_type": "code",
   "execution_count": 12,
   "id": "1167f128-6c2b-4f02-a03b-61c5cf50c50f",
   "metadata": {
    "tags": []
   },
   "outputs": [
    {
     "name": "stdout",
     "output_type": "stream",
     "text": [
      "This is func1\n",
      "This is func2\n"
     ]
    }
   ],
   "source": [
    "def func1():\n",
    "    print(\"This is func1\")\n",
    "    \n",
    "    def func2():\n",
    "        print(\"This is func2\")\n",
    "    \n",
    "    func2()\n",
    "    \n",
    "func1()"
   ]
  },
  {
   "cell_type": "markdown",
   "id": "ec9c07e0-fce9-42ae-a599-c7d71078c777",
   "metadata": {},
   "source": [
    "<h1 style=\"text-align:center; color:#005bbd; font-size:20px; font-family:Sans-serif; font-style: oblique; text-shadow: 0 0 3px white, 0 0 1px Black;\">\n",
    "   Parameters\n",
    "</h1>"
   ]
  },
  {
   "cell_type": "markdown",
   "id": "0a6962c2-4a55-4047-9dce-202c16bc6065",
   "metadata": {},
   "source": [
    "<body style=\"font-family: Sans-serif;\">\n",
    "    <div style=\"color: black; font-size: 15px; font-style: oblique; text-shadow: 0 0 3px white, 0 0 1px black; padding: 20px;\">\n",
    "        \n",
    "Function Mein **parameters** wo values hoti hain jo function ko input ke tor par di jati hain. <br>Yeh **parentheses** `()` ke andar likhi jati hain** function ke naam ke baad. <br><br>\n",
    "Parameters function ko **dynamic** banate hain, jisse hum ek hi function ko mukhtalif inputs ke saath use kar sakte hain."
   ]
  },
  {
   "cell_type": "code",
   "execution_count": 14,
   "id": "0cd394cc-0911-4687-9cc5-3702ef1bcb37",
   "metadata": {
    "tags": []
   },
   "outputs": [],
   "source": [
    "def func(arg1):\n",
    "    return arg1"
   ]
  },
  {
   "cell_type": "code",
   "execution_count": 15,
   "id": "a723794c-4640-499f-b474-0f7b5656f038",
   "metadata": {
    "tags": []
   },
   "outputs": [
    {
     "name": "stdout",
     "output_type": "stream",
     "text": [
      "5\n"
     ]
    }
   ],
   "source": [
    "# call function and add value of arg1\n",
    "print(func(5))"
   ]
  },
  {
   "cell_type": "markdown",
   "id": "5b10ee43-e247-420d-a275-c42a23914f60",
   "metadata": {},
   "source": [
    "<body style=\"font-family: Sans-serif;\">\n",
    "    <div style=\"color: black; font-size: 15px; font-style: oblique; text-shadow: 0 0 3px white, 0 0 1px black; padding: 20px;\">\n",
    "        \n",
    "Agar aap ny function mein argument diye hn aur phie bina argument diye call karein, to Error a jai ga"
   ]
  },
  {
   "cell_type": "code",
   "execution_count": 1,
   "id": "147a4d50-9fa5-46e9-b107-efc0c95e469f",
   "metadata": {
    "tags": []
   },
   "outputs": [],
   "source": [
    "def func(arg1):\n",
    "    return \"Hy \"+arg1"
   ]
  },
  {
   "cell_type": "code",
   "execution_count": 2,
   "id": "1cec1ceb-3177-4864-afde-03d7c6cbd918",
   "metadata": {
    "tags": []
   },
   "outputs": [
    {
     "ename": "TypeError",
     "evalue": "func() missing 1 required positional argument: 'arg1'",
     "output_type": "error",
     "traceback": [
      "\u001b[0;31m---------------------------------------------------------------------------\u001b[0m",
      "\u001b[0;31mTypeError\u001b[0m                                 Traceback (most recent call last)",
      "Cell \u001b[0;32mIn[2], line 1\u001b[0m\n\u001b[0;32m----> 1\u001b[0m \u001b[38;5;28mprint\u001b[39m(\u001b[43mfunc\u001b[49m\u001b[43m(\u001b[49m\u001b[43m)\u001b[49m)\n",
      "\u001b[0;31mTypeError\u001b[0m: func() missing 1 required positional argument: 'arg1'"
     ]
    }
   ],
   "source": [
    "print(func())"
   ]
  },
  {
   "cell_type": "code",
   "execution_count": 18,
   "id": "76f6625b-9e82-4ae7-a87d-5c5e0c031082",
   "metadata": {
    "tags": []
   },
   "outputs": [
    {
     "name": "stdout",
     "output_type": "stream",
     "text": [
      "Hy Mubeen\n"
     ]
    }
   ],
   "source": [
    "print(func(\"Mubeen\"))"
   ]
  },
  {
   "cell_type": "markdown",
   "id": "c228358a-a6fd-4ef4-96e6-73e81b862152",
   "metadata": {},
   "source": [
    "<body style=\"font-family: Sans-serif;\">\n",
    "    <div style=\"color: black; font-size: 15px; font-style: oblique; text-shadow: 0 0 3px white, 0 0 1px black; padding: 20px;\">\n",
    "        \n",
    "Agar function ko **2 parameters chahiyein** aur aap sirf **1 argument pass karein**, to Error a jai ga"
   ]
  },
  {
   "cell_type": "code",
   "execution_count": 3,
   "id": "bbe42f8a-c6d3-4467-bf69-afad2b05dde7",
   "metadata": {
    "tags": []
   },
   "outputs": [],
   "source": [
    "def func(arg1,arg2):\n",
    "    return arg1 + arg2"
   ]
  },
  {
   "cell_type": "code",
   "execution_count": 4,
   "id": "185a0834-77f5-4399-a137-2660a135d814",
   "metadata": {
    "tags": []
   },
   "outputs": [
    {
     "ename": "TypeError",
     "evalue": "func() missing 1 required positional argument: 'arg2'",
     "output_type": "error",
     "traceback": [
      "\u001b[0;31m---------------------------------------------------------------------------\u001b[0m",
      "\u001b[0;31mTypeError\u001b[0m                                 Traceback (most recent call last)",
      "Cell \u001b[0;32mIn[4], line 1\u001b[0m\n\u001b[0;32m----> 1\u001b[0m \u001b[38;5;28mprint\u001b[39m(\u001b[43mfunc\u001b[49m\u001b[43m(\u001b[49m\u001b[38;5;241;43m10\u001b[39;49m\u001b[43m)\u001b[49m)\n",
      "\u001b[0;31mTypeError\u001b[0m: func() missing 1 required positional argument: 'arg2'"
     ]
    }
   ],
   "source": [
    "print(func(10))"
   ]
  },
  {
   "cell_type": "markdown",
   "id": "46b7a1e8-ee65-4761-8ce6-6aa5b42008e8",
   "metadata": {},
   "source": [
    "<body style=\"font-family: Sans-serif;\">\n",
    "    <div style=\"color: black; font-size: 15px; font-style: oblique; text-shadow: 0 0 3px white, 0 0 1px black; padding: 20px;\">\n",
    "\n",
    "Agar aap **2 parameters wale function** ko **3 arguments** pass karein, to Error a jai ga"
   ]
  },
  {
   "cell_type": "code",
   "execution_count": 5,
   "id": "f3e06fef-c9f4-40da-a508-32e57db6b529",
   "metadata": {
    "tags": []
   },
   "outputs": [],
   "source": [
    "def func(arg1,arg2):\n",
    "    return arg1 + arg2"
   ]
  },
  {
   "cell_type": "code",
   "execution_count": 6,
   "id": "2e2412c5-74da-4d87-9e07-be03682a4950",
   "metadata": {
    "tags": []
   },
   "outputs": [
    {
     "ename": "TypeError",
     "evalue": "func() takes 2 positional arguments but 3 were given",
     "output_type": "error",
     "traceback": [
      "\u001b[0;31m---------------------------------------------------------------------------\u001b[0m",
      "\u001b[0;31mTypeError\u001b[0m                                 Traceback (most recent call last)",
      "Cell \u001b[0;32mIn[6], line 1\u001b[0m\n\u001b[0;32m----> 1\u001b[0m \u001b[38;5;28mprint\u001b[39m(\u001b[43mfunc\u001b[49m\u001b[43m(\u001b[49m\u001b[38;5;241;43m1\u001b[39;49m\u001b[43m,\u001b[49m\u001b[38;5;241;43m2\u001b[39;49m\u001b[43m,\u001b[49m\u001b[38;5;241;43m3\u001b[39;49m\u001b[43m)\u001b[49m)\n",
      "\u001b[0;31mTypeError\u001b[0m: func() takes 2 positional arguments but 3 were given"
     ]
    }
   ],
   "source": [
    "print(func(1,2,3))"
   ]
  },
  {
   "cell_type": "code",
   "execution_count": 7,
   "id": "50066af8-f029-41b0-b25a-2d7c7d956396",
   "metadata": {
    "tags": []
   },
   "outputs": [
    {
     "name": "stdout",
     "output_type": "stream",
     "text": [
      "3\n"
     ]
    }
   ],
   "source": [
    "print(func(1,2))"
   ]
  },
  {
   "cell_type": "markdown",
   "id": "19c93cf0-d373-4e57-b45d-c144f1977a6a",
   "metadata": {},
   "source": [
    "<body style=\"font-family: Sans-serif;\">\n",
    "    <div style=\"color: black; font-size: 15px; font-style: oblique; text-shadow: 0 0 3px white, 0 0 1px black; padding: 20px;\">\n",
    "\n",
    "#### Agar aap function ko **argument name** ke sath call karna chahte hain, to **keyword arguments** ka use karna hoga. Is tarah argument ka order matter nahi karega, sirf naam match hona chahiye.  "
   ]
  },
  {
   "cell_type": "markdown",
   "id": "3b30cbc2-3c53-4bca-8f73-7ca6648775be",
   "metadata": {},
   "source": [
    "<body style=\"font-family: Sans-serif;\">\n",
    "    <div style=\"color: black; font-size: 15px; font-style: oblique; text-shadow: 0 0 3px white, 0 0 1px black; padding: 20px;\">\n",
    "\n",
    "#### **1. Argument by Name (Keyword Arguments)**\n",
    "\n",
    "- Function arguments **name se match** karte hain, **order se nahi**.  "
   ]
  },
  {
   "cell_type": "code",
   "execution_count": 8,
   "id": "c4de3180-4174-40e3-b549-1a4019ab8bd3",
   "metadata": {
    "tags": []
   },
   "outputs": [],
   "source": [
    "def greet(name, message):\n",
    "    return f\"{message}, {name}!\""
   ]
  },
  {
   "cell_type": "code",
   "execution_count": 9,
   "id": "c0d3acf6-740e-488d-ae66-69a4db51c826",
   "metadata": {
    "tags": []
   },
   "outputs": [
    {
     "name": "stdout",
     "output_type": "stream",
     "text": [
      "Welcome, Ali!\n"
     ]
    }
   ],
   "source": [
    "print(greet(name=\"Ali\", message=\"Welcome\"))  "
   ]
  },
  {
   "cell_type": "code",
   "execution_count": 10,
   "id": "82ee8e34-1765-4743-b3dd-331825a5bace",
   "metadata": {
    "tags": []
   },
   "outputs": [
    {
     "name": "stdout",
     "output_type": "stream",
     "text": [
      "Hello, Welcome!\n"
     ]
    }
   ],
   "source": [
    "print(greet(message=\"Hello\", name=\"Welcome\"))  "
   ]
  },
  {
   "cell_type": "markdown",
   "id": "486984f3-ebf5-4a67-9fd5-63939f289ed2",
   "metadata": {
    "tags": []
   },
   "source": [
    "<body style=\"font-family: Sans-serif;\">\n",
    "    <div style=\"color: black; font-size: 15px; font-style: oblique; text-shadow: 0 0 3px white, 0 0 1px black; padding: 20px;\">\n",
    "\n",
    "#### **2. Mix Positional aur Keyword Arguments**\n",
    "Agar aap pehle **positional** aur baad me **keyword argument** dein, to ye theek chalega:  "
   ]
  },
  {
   "cell_type": "code",
   "execution_count": 12,
   "id": "69f75e07-824f-4c9a-bb94-e50853266659",
   "metadata": {
    "tags": []
   },
   "outputs": [
    {
     "name": "stdout",
     "output_type": "stream",
     "text": [
      "Welcome, Ali!\n"
     ]
    }
   ],
   "source": [
    "print(greet(\"Ali\", message=\"Welcome\")) "
   ]
  },
  {
   "cell_type": "markdown",
   "id": "1056142e-eba6-46ea-8e9e-0b1b79c55a11",
   "metadata": {},
   "source": [
    "<body style=\"font-family: Sans-serif;\">\n",
    "    <div style=\"color: black; font-size: 15px; font-style: oblique; text-shadow: 0 0 3px white, 0 0 1px black; padding: 20px;\">\n",
    "        \n",
    "#### **3. Agar Order Galat Hua To Error**\n",
    "Agar aap **keyword argument** ke baad **positional argument** dein, to **error** aayegi:  "
   ]
  },
  {
   "cell_type": "code",
   "execution_count": 13,
   "id": "3fc4d45d-3cda-4166-a0ce-ab05d479a3a5",
   "metadata": {
    "tags": []
   },
   "outputs": [
    {
     "ename": "SyntaxError",
     "evalue": "positional argument follows keyword argument (3974333954.py, line 1)",
     "output_type": "error",
     "traceback": [
      "\u001b[0;36m  Cell \u001b[0;32mIn[13], line 1\u001b[0;36m\u001b[0m\n\u001b[0;31m    print(greet(name=\"Ali\", \"Welcome\"))\u001b[0m\n\u001b[0m                                     ^\u001b[0m\n\u001b[0;31mSyntaxError\u001b[0m\u001b[0;31m:\u001b[0m positional argument follows keyword argument\n"
     ]
    }
   ],
   "source": [
    "print(greet(name=\"Ali\", \"Welcome\"))"
   ]
  },
  {
   "cell_type": "markdown",
   "id": "07c4771d-b8a4-4d34-b9fe-691b5bf78e64",
   "metadata": {},
   "source": [
    "<body style=\"font-family: Sans-serif;\">\n",
    "    <div style=\"color: black; font-size: 15px; font-style: oblique; text-shadow: 0 0 3px white, 0 0 1px black; padding: 20px;\">\n",
    "    \n",
    "#### **4. Default Values Ka Use**\n",
    "Agar kisi argument ki **default value** ho, to aap use skip bhi kar sakte hain:  "
   ]
  },
  {
   "cell_type": "code",
   "execution_count": 14,
   "id": "7132e5f7-7995-4baf-bd85-f8c386a0c116",
   "metadata": {
    "tags": []
   },
   "outputs": [],
   "source": [
    "def greet(name, message=\"Hello\"):\n",
    "    return f\"{message}, {name}!\""
   ]
  },
  {
   "cell_type": "code",
   "execution_count": 15,
   "id": "fa38d4f2-c098-42eb-b572-26dbc4ba7c36",
   "metadata": {
    "tags": []
   },
   "outputs": [
    {
     "name": "stdout",
     "output_type": "stream",
     "text": [
      "Hello, Ali!\n"
     ]
    }
   ],
   "source": [
    "print(greet(name=\"Ali\"))  # Default message \"Hello\" use kareg"
   ]
  },
  {
   "cell_type": "markdown",
   "id": "7ba25237-95f1-4884-91e8-4e1b51a75d73",
   "metadata": {},
   "source": [
    "<body style=\"font-family: Sans-serif;\">\n",
    "    <div style=\"color: black; font-size: 15px; font-style: oblique; text-shadow: 0 0 3px white, 0 0 1px black; padding: 20px;\">\n",
    "    \n",
    "1. **Keyword arguments (named arguments) ka order matter nahi karta.**  \n",
    "2. **Positional arguments pehle aane chahiye, keyword arguments baad me.**  \n",
    "3. **Agar argument ka default value ho, to use skip bhi kar sakte hain.**"
   ]
  },
  {
   "cell_type": "markdown",
   "id": "3e9dba7f-d370-475d-9128-fa183647d15e",
   "metadata": {},
   "source": [
    "<h1 style=\"text-align:center; color:#005bbd; font-size:20px; font-family:Sans-serif; font-style: oblique; text-shadow: 0 0 3px white, 0 0 1px Black;\">\n",
    "   * Args\n",
    "</h1>"
   ]
  },
  {
   "cell_type": "markdown",
   "id": "8326f19f-8f7b-4188-9ad9-21ea0e2d2787",
   "metadata": {},
   "source": [
    "<body style=\"font-family: Sans-serif;\">\n",
    "    <div style=\"color: black; font-size: 15px; font-style: oblique; text-shadow: 0 0 3px white, 0 0 1px black; padding: 20px;\">\n",
    "  \n",
    "#### **`*args` Python me kya hai?**  \n",
    "`*args` ek special syntax hai jo **multiple arguments** ko function me pass karne ke liye use hota hai. Iska **koi fixed number nahi hota**, yani aap kitne bhi arguments pass kar sakte hain.  \n",
    "\n",
    "✔ **`*args` ka use non-keyworded arguments (positional arguments) ke liye hota hai.**  \n",
    "✔ **Internally ye ek tuple hota hai**, jo sare arguments ko store karta hai.  \n"
   ]
  },
  {
   "cell_type": "code",
   "execution_count": 16,
   "id": "bc3f0ab3-1a9b-4ddd-9056-92a6d541b6a9",
   "metadata": {
    "tags": []
   },
   "outputs": [],
   "source": [
    "def multiply(*args):\n",
    "    \n",
    "    result = 1\n",
    "    for num in args:\n",
    "        result *= num\n",
    "        \n",
    "    return result\n"
   ]
  },
  {
   "cell_type": "code",
   "execution_count": 17,
   "id": "fa40e559-b2f2-4030-8396-f147e600a8f9",
   "metadata": {
    "tags": []
   },
   "outputs": [
    {
     "name": "stdout",
     "output_type": "stream",
     "text": [
      "6\n"
     ]
    }
   ],
   "source": [
    "print(multiply(2, 3))         # Output: 6"
   ]
  },
  {
   "cell_type": "code",
   "execution_count": 18,
   "id": "a1aab0a9-0b42-4039-b4f0-6dff74e269a1",
   "metadata": {
    "tags": []
   },
   "outputs": [
    {
     "name": "stdout",
     "output_type": "stream",
     "text": [
      "24\n"
     ]
    }
   ],
   "source": [
    "print(multiply(2, 3, 4))      # Output: 24"
   ]
  },
  {
   "cell_type": "code",
   "execution_count": 19,
   "id": "341f348b-e41c-4877-a975-a804e3867902",
   "metadata": {
    "tags": []
   },
   "outputs": [
    {
     "name": "stdout",
     "output_type": "stream",
     "text": [
      "1680\n"
     ]
    }
   ],
   "source": [
    "print(multiply(5, 6, 7, 8))   # Output: 1680"
   ]
  },
  {
   "cell_type": "markdown",
   "id": "c8c92966-1bfc-4def-bc20-dd0ffcd5b679",
   "metadata": {},
   "source": [
    "<body style=\"font-family: Sans-serif;\">\n",
    "    <div style=\"color: black; font-size: 15px; font-style: oblique; text-shadow: 0 0 3px white, 0 0 1px black; padding: 20px;\">\n",
    "  \n",
    "- `*args` ek **tuple** hai jo **jitne bhi numbers pass kiye jaye, sabko store karega**.  \n",
    "- Loop chalakar **sabko multiply** kar diya.  \n",
    "- Function kisi bhi **number of arguments** ko accept kar sakta hai.  "
   ]
  },
  {
   "cell_type": "markdown",
   "id": "c98ee601-5c33-4ee8-b2bc-0fe2547a2c09",
   "metadata": {},
   "source": [
    "<body style=\"font-family: Sans-serif;\">\n",
    "    <div style=\"color: black; font-size: 15px; font-style: oblique; text-shadow: 0 0 3px white, 0 0 1px black; padding: 20px;\">\n",
    "  \n",
    "#### **`*args` with Normal Argument**\n",
    "Agar function me **ek fixed argument** bhi ho, to `*args` uske baad likhna hoga:  "
   ]
  },
  {
   "cell_type": "code",
   "execution_count": 22,
   "id": "90e4c5de-439e-4fc0-b64d-f384f9765f2d",
   "metadata": {
    "tags": []
   },
   "outputs": [],
   "source": [
    "def greet(msg, *names):\n",
    "    \n",
    "    for name in names:\n",
    "        print(f\"{msg}, {name}!\")\n"
   ]
  },
  {
   "cell_type": "code",
   "execution_count": 24,
   "id": "b92fc7fd-07eb-4440-a3e9-15e6f683c99b",
   "metadata": {
    "tags": []
   },
   "outputs": [
    {
     "name": "stdout",
     "output_type": "stream",
     "text": [
      "Welcome, Ali!\n",
      "Welcome, Imran!\n"
     ]
    }
   ],
   "source": [
    "greet(\"Welcome\", \"Ali\", \"Imran\")"
   ]
  },
  {
   "cell_type": "markdown",
   "id": "13e3ce3c-cc3f-4e90-a55d-bc46aeee3027",
   "metadata": {},
   "source": [
    "<body style=\"font-family: Sans-serif;\">\n",
    "    <div style=\"color: black; font-size: 15px; font-style: oblique; text-shadow: 0 0 3px white, 0 0 1px black; padding: 20px;\">\n",
    "        \n",
    "- `msg` ek **normal argument** hai.  \n",
    "- `*names` ek **tuple** hai jo multiple **names ko store karega**.  "
   ]
  },
  {
   "cell_type": "markdown",
   "id": "e371d767-acb0-48a2-b16e-aaaabcf79156",
   "metadata": {},
   "source": [
    "<h1 style=\"text-align:center; color:#005bbd; font-size:20px; font-family:Sans-serif; font-style: oblique; text-shadow: 0 0 3px white, 0 0 1px Black;\">\n",
    "   ** Kwargs\n",
    "</h1>"
   ]
  },
  {
   "cell_type": "markdown",
   "id": "e6c5a670-3c10-4efe-9a37-f6529d7c3c6b",
   "metadata": {
    "tags": []
   },
   "source": [
    "<body style=\"font-family: Sans-serif;\">\n",
    "    <div style=\"color: black; font-size: 15px; font-style: oblique; text-shadow: 0 0 3px white, 0 0 1px black; padding: 20px;\">\n",
    "        \n",
    "#### **Python `**kwargs` Kya Hai?**  \n",
    "\n",
    "`**kwargs` ek special syntax hai jo function ko **keyword arguments** (named arguments) accept karne ki ijazat deta hai.  \n",
    "✔ **Ye ek dictionary hoti hai jo keys aur values ko store karti hai.**  \n",
    "✔ **Har key ek variable ka naam hoti hai, aur uski value uska data hota hai.**  \n",
    "✔ **`*args` positional arguments accept karta hai, jabke `**kwargs` named arguments ko handle karta hai.**  \n"
   ]
  },
  {
   "cell_type": "code",
   "execution_count": 26,
   "id": "4efd9592-b7f4-4764-86d8-d74de3afb402",
   "metadata": {
    "tags": []
   },
   "outputs": [
    {
     "name": "stdout",
     "output_type": "stream",
     "text": [
      "{'name': 'Mubeen', 'age': 25, 'city': 'Lahore'}\n"
     ]
    }
   ],
   "source": [
    "def display_info(**kwargs):\n",
    "    print(kwargs)\n",
    "\n",
    "display_info(name=\"Mubeen\", age=25, city=\"Lahore\")"
   ]
  },
  {
   "cell_type": "markdown",
   "id": "97a364a1-20f5-43df-8ef5-53967131bd32",
   "metadata": {},
   "source": [
    "<body style=\"font-family: Sans-serif;\">\n",
    "    <div style=\"color: black; font-size: 15px; font-style: oblique; text-shadow: 0 0 3px white, 0 0 1px black; padding: 20px;\">\n",
    "     \n",
    "- `**kwargs` ek **dictionary** return karta hai.  \n",
    "- `name`, `age`, aur `city` **keys** hain, aur unki **values** store hoti hain.  "
   ]
  },
  {
   "cell_type": "markdown",
   "id": "a7774ce9-b316-48d9-bafb-daedfd9dbaaa",
   "metadata": {},
   "source": [
    "<body style=\"font-family: Sans-serif;\">\n",
    "    <div style=\"color: black; font-size: 15px; font-style: oblique; text-shadow: 0 0 3px white, 0 0 1px black; padding: 20px;\">\n",
    "    \n",
    "#### **`*args` aur `**kwargs` Ek Sath**\n",
    "Agar function **dono type ke arguments** accept kare:  "
   ]
  },
  {
   "cell_type": "code",
   "execution_count": 27,
   "id": "3206c585-a14a-43cf-88cf-05d0bc736f96",
   "metadata": {
    "tags": []
   },
   "outputs": [],
   "source": [
    "def func(*args, **kwargs):\n",
    "    print(\"Args:\", args)\n",
    "    print(\"Kwargs:\", kwargs)"
   ]
  },
  {
   "cell_type": "code",
   "execution_count": 28,
   "id": "9126d70e-3933-4ead-8f9b-6ba2a9baf2aa",
   "metadata": {
    "tags": []
   },
   "outputs": [
    {
     "name": "stdout",
     "output_type": "stream",
     "text": [
      "Args: ('Mubeen', 'Ahmad')\n",
      "Kwargs: {'key1': 'value1', 'key2': 'value2'}\n"
     ]
    }
   ],
   "source": [
    "func(\"Mubeen\", \"Ahmad\", key1=\"value1\", key2=\"value2\")"
   ]
  },
  {
   "cell_type": "markdown",
   "id": "42e362c6-36c4-4fa8-be1e-2e507955d3fb",
   "metadata": {},
   "source": [
    "<body style=\"font-family: Sans-serif;\">\n",
    "    <div style=\"color: black; font-size: 15px; font-style: oblique; text-shadow: 0 0 3px white, 0 0 1px black; padding: 20px;\">\n",
    "    \n",
    "- `*args` positional arguments ko store karega.  \n",
    "- `**kwargs` named arguments ko ek dictionary me store karega.  "
   ]
  },
  {
   "cell_type": "markdown",
   "id": "969f6315-e6df-4d21-8d47-14a3982dd6f4",
   "metadata": {},
   "source": [
    "<body style=\"font-family: Sans-serif;\">\n",
    "    <div style=\"color: black; font-size: 15px; font-style: oblique; text-shadow: 0 0 3px white, 0 0 1px black; padding: 20px;\">\n",
    "    \n",
    "#### **Agar `kwargs` Empty Aa Raha Ho?**\n",
    "Agar hum sirf positional arguments pass karein, to `kwargs` empty hoga:  "
   ]
  },
  {
   "cell_type": "code",
   "execution_count": 29,
   "id": "bb5e1e5a-1466-4f92-9de0-8d233dd1596e",
   "metadata": {
    "tags": []
   },
   "outputs": [
    {
     "name": "stdout",
     "output_type": "stream",
     "text": [
      "Args: ('Mubeen', 'Ahmad')\n",
      "Kwargs: {}\n"
     ]
    }
   ],
   "source": [
    "func(\"Mubeen\", \"Ahmad\")"
   ]
  },
  {
   "cell_type": "markdown",
   "id": "21da7be8-e694-4f76-a366-46b3c005da44",
   "metadata": {},
   "source": [
    "<body style=\"font-family: Sans-serif;\">\n",
    "    <div style=\"color: black; font-size: 15px; font-style: oblique; text-shadow: 0 0 3px white, 0 0 1px black; padding: 20px;\">\n",
    "\n",
    "#### **`kwargs` Sirf Function Call Ke Andar Accept Hota Hai**\n",
    "Agar hum `kwargs` ko dictionary ki tarah pass karein, to ye accept nahi karega:  \n"
   ]
  },
  {
   "cell_type": "code",
   "execution_count": 36,
   "id": "93e10567-920a-4c81-8eee-ddfb408beab2",
   "metadata": {
    "tags": []
   },
   "outputs": [
    {
     "name": "stdout",
     "output_type": "stream",
     "text": [
      "Args: ('Mubeen', {'key1', 'Value1'})\n",
      "Kwargs: {}\n"
     ]
    }
   ],
   "source": [
    "args1 = \"Mubeen\"\n",
    "kwargs1 = {\"key1\", \"Value1\"}  # Yeh galat hai, yeh ek set ban gaya hai\n",
    "\n",
    "func(args1, kwargs1)"
   ]
  },
  {
   "cell_type": "markdown",
   "id": "0b926e5d-5f17-4c79-a7b6-04d0a14545c7",
   "metadata": {},
   "source": [
    "<body style=\"font-family: Sans-serif;\">\n",
    "    <div style=\"color: black; font-size: 15px; font-style: oblique; text-shadow: 0 0 3px white, 0 0 1px black; padding: 20px;\">\n",
    "\n",
    "#### **Sahi Sequence: `(parameter, *args, default=None, **kwargs)`**\n",
    "Functions **hamesha ek fix order** follow karte hain:  \n",
    "✔ **Pehle normal parameters**  \n",
    "✔ **Phir `*args` (positional arguments)**  \n",
    "✔ **Phir default values**  \n",
    "✔ **Akhir me `**kwargs` (keyword arguments)**  \n"
   ]
  },
  {
   "cell_type": "code",
   "execution_count": 37,
   "id": "ef5d2afe-6ab3-483e-ae8c-2559ef2bde26",
   "metadata": {
    "tags": []
   },
   "outputs": [],
   "source": [
    "def func(parameter, *args, default=None, **kwargs):\n",
    "    print(\"parameter =\", parameter)\n",
    "    print(\"*args =\", args)\n",
    "    print(\"default =\", default)\n",
    "    print(\"kwargs =\", kwargs)"
   ]
  },
  {
   "cell_type": "code",
   "execution_count": 38,
   "id": "8d3b55f7-a353-4b05-beed-85d691f74525",
   "metadata": {
    "tags": []
   },
   "outputs": [
    {
     "name": "stdout",
     "output_type": "stream",
     "text": [
      "parameter = Mubeen\n",
      "*args = ('args 1', 'args 2')\n",
      "default = None\n",
      "kwargs = {'key1': 'value1', 'key2': 'value2'}\n"
     ]
    }
   ],
   "source": [
    "func(\"Mubeen\", \"args 1\", \"args 2\", key1=\"value1\", key2=\"value2\")"
   ]
  },
  {
   "cell_type": "code",
   "execution_count": 39,
   "id": "d489f68c-0813-45d2-90dc-7985cc37d36a",
   "metadata": {
    "tags": []
   },
   "outputs": [
    {
     "name": "stdout",
     "output_type": "stream",
     "text": [
      "parameter = Mubeen\n",
      "*args = ('args 1',)\n",
      "default = None\n",
      "kwargs = {'key1': 'value1', 'key2': 'value2'}\n"
     ]
    }
   ],
   "source": [
    "func(\"Mubeen\", \"args 1\", key1=\"value1\", key2=\"value2\")"
   ]
  },
  {
   "cell_type": "markdown",
   "id": "1dc917c2-b254-435d-bf6a-2c53f9b3ecf0",
   "metadata": {},
   "source": [
    "<body style=\"font-family: Sans-serif;\">\n",
    "    <div style=\"color: black; font-size: 15px; font-style: oblique; text-shadow: 0 0 3px white, 0 0 1px black; padding: 20px;\">\n",
    "\n",
    "#### **🔴 Wronge Example:**"
   ]
  },
  {
   "cell_type": "code",
   "execution_count": 1,
   "id": "2166855f-36a0-4340-8bf2-c4e7ef0b6861",
   "metadata": {
    "tags": []
   },
   "outputs": [
    {
     "ename": "SyntaxError",
     "evalue": "invalid syntax (1155263639.py, line 1)",
     "output_type": "error",
     "traceback": [
      "\u001b[0;36m  Cell \u001b[0;32mIn[1], line 1\u001b[0;36m\u001b[0m\n\u001b[0;31m    def func(**kwargs, default=None):  # Yeh syntax error dega ❌\u001b[0m\n\u001b[0m                       ^\u001b[0m\n\u001b[0;31mSyntaxError\u001b[0m\u001b[0;31m:\u001b[0m invalid syntax\n"
     ]
    }
   ],
   "source": [
    "def func(**kwargs, default=None):  # Yeh syntax error dega ❌\n",
    "    print(kwargs)\n",
    "    print(default)\n",
    "    "
   ]
  }
 ],
 "metadata": {
  "kernelspec": {
   "display_name": "Python 3 (ipykernel)",
   "language": "python",
   "name": "python3"
  },
  "language_info": {
   "codemirror_mode": {
    "name": "ipython",
    "version": 3
   },
   "file_extension": ".py",
   "mimetype": "text/x-python",
   "name": "python",
   "nbconvert_exporter": "python",
   "pygments_lexer": "ipython3",
   "version": "3.10.12"
  }
 },
 "nbformat": 4,
 "nbformat_minor": 5
}
