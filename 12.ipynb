{
 "cells": [
  {
   "cell_type": "markdown",
   "id": "ac82357f-de94-433e-9056-9ca3807acc8c",
   "metadata": {},
   "source": [
    "<h1 style=\"text-align:center; color:#005bbd; font-size:20px; font-family:Sans-serif; font-style: oblique; text-shadow: 0 0 3px white, 0 0 1px Black;\">\n",
    "   Comprehensions\n",
    "</h1>"
   ]
  },
  {
   "cell_type": "markdown",
   "id": "76ccd324-f24b-402c-a11f-78434d8ed73d",
   "metadata": {},
   "source": [
    "<body style=\"font-family: Sans-serif;\">\n",
    "    <div style=\"color: black; font-size: 15px; font-style: oblique; text-shadow: 0 0 3px white, 0 0 1px black; padding: 20px;\">\n",
    "        \n",
    "Python mein comprehensions ek chhota aur mukhtasar tareeqa provide karte hain naye sequences banane ka, jaise lists, sets, dictionaries, etc., un sequences ko use karke jo pehle se defined hon.\n",
    "\n",
    "Python in 4 qisam ke comprehensions support karta hai:\n",
    "\n",
    "- **List Comprehensions**  \n",
    "- **Dictionary Comprehensions**  \n",
    "- **Set Comprehensions**  \n",
    "- **Generator Comprehensions**"
   ]
  },
  {
   "cell_type": "markdown",
   "id": "ecacd45a-8fb2-4ddd-9db5-779140593d7c",
   "metadata": {},
   "source": [
    "<body style=\"font-family: Sans-serif;\">\n",
    "    <div style=\"color: black; font-size: 15px; font-style: oblique; text-shadow: 0 0 3px white, 0 0 1px black; padding: 20px;\">\n",
    "\n",
    "- ## List Comprehensions\n",
    "        \n",
    "    - List comprehensions ek bohat elegant aur succinct tareeqa hain naye lists banane ka. \n",
    "    \n",
    "    - Is technique se aap existing iterables (jaise lists, tuples, etc.) ke elements ko process karke ek nayi list generate kar sakte hain, aur ye traditional loops se kaafi compact aur readable hota hai."
   ]
  },
  {
   "cell_type": "code",
   "execution_count": 1,
   "id": "fa2f5a4c-9d8d-4508-b294-143629c371f7",
   "metadata": {
    "tags": []
   },
   "outputs": [
    {
     "data": {
      "text/plain": [
       "[0, 1, 2, 3, 4, 5, 6, 7, 8, 9]"
      ]
     },
     "execution_count": 1,
     "metadata": {},
     "output_type": "execute_result"
    }
   ],
   "source": [
    "[i for i in range(10)]"
   ]
  },
  {
   "cell_type": "code",
   "execution_count": 2,
   "id": "a4a750b3-4b1a-4c6b-ac2b-cf51ee1a68c5",
   "metadata": {
    "tags": []
   },
   "outputs": [
    {
     "data": {
      "text/plain": [
       "[2, 4, 4, 6]"
      ]
     },
     "execution_count": 2,
     "metadata": {},
     "output_type": "execute_result"
    }
   ],
   "source": [
    "input_list = [1, 2, 3, 4, 4, 5, 6, 7, 7]\n",
    "\n",
    "lst = [var for var in input_list if var % 2 == 0]\n",
    "lst"
   ]
  },
  {
   "cell_type": "code",
   "execution_count": 3,
   "id": "ef26c85b-f0e4-45ea-ad0e-2aee40b3e862",
   "metadata": {
    "tags": []
   },
   "outputs": [
    {
     "data": {
      "text/plain": [
       "['1 is odd',\n",
       " '2 is even',\n",
       " '3 is odd',\n",
       " '4 is even',\n",
       " '4 is even',\n",
       " '5 is odd',\n",
       " '6 is even',\n",
       " '7 is odd',\n",
       " '7 is odd']"
      ]
     },
     "execution_count": 3,
     "metadata": {},
     "output_type": "execute_result"
    }
   ],
   "source": [
    "[str(i)+\" is even\" if (i%2==0) else str(i)+\" is odd\" for i in  input_list ]"
   ]
  },
  {
   "cell_type": "markdown",
   "id": "d1f363d3-7375-4635-bf59-3188bc875a84",
   "metadata": {},
   "source": [
    "<body style=\"font-family: Sans-serif;\">\n",
    "    <div style=\"color: black; font-size: 15px; font-style: oblique; text-shadow: 0 0 3px white, 0 0 1px black; padding: 20px;\">\n",
    "\n",
    "- ## Dictionary Comprehensions\n",
    "        \n",
    "    - Dictionary comprehensions, list comprehensions ka idea extend karte hue, dictionaries banane ka ek elegant tareeqa hain. \n",
    "    - Is se aap key-value pairs ko ek concise syntax ke zariye generate kar sakte hain."
   ]
  },
  {
   "cell_type": "code",
   "execution_count": 5,
   "id": "2843b4d4-cad5-4525-b7db-a65aeb60e233",
   "metadata": {
    "tags": []
   },
   "outputs": [],
   "source": [
    "students = [\"student1\",\"student2\",\"student3\",\"student4\"]\n",
    "marks = [34,23,521,73]"
   ]
  },
  {
   "cell_type": "code",
   "execution_count": 8,
   "id": "56a73c8b-a755-42f0-9cba-f7a2cdc92651",
   "metadata": {
    "tags": []
   },
   "outputs": [
    {
     "data": {
      "text/plain": [
       "{'student1': 34, 'student2': 23, 'student3': 521, 'student4': 73}"
      ]
     },
     "execution_count": 8,
     "metadata": {},
     "output_type": "execute_result"
    }
   ],
   "source": [
    "{i[0]:i[1] for i in zip(students,marks)}"
   ]
  },
  {
   "cell_type": "code",
   "execution_count": 10,
   "id": "4536e7a3-c362-4d03-bcf8-55bdefd53ca1",
   "metadata": {
    "tags": []
   },
   "outputs": [
    {
     "data": {
      "text/plain": [
       "{0: 0, 1: 1, 2: 4, 3: 9, 4: 16}"
      ]
     },
     "execution_count": 10,
     "metadata": {},
     "output_type": "execute_result"
    }
   ],
   "source": [
    "{x: x*x for x in range(5)}"
   ]
  },
  {
   "cell_type": "code",
   "execution_count": 12,
   "id": "89d18536-5fad-4152-b6d7-53af3e6e5791",
   "metadata": {
    "tags": []
   },
   "outputs": [
    {
     "data": {
      "text/plain": [
       "{'M': 1, 'u': 1, 'b': 1, 'e': 2, 'n': 1}"
      ]
     },
     "execution_count": 12,
     "metadata": {},
     "output_type": "execute_result"
    }
   ],
   "source": [
    "name = \"Mubeen\"\n",
    "\n",
    "{k : name.count(k) for k in name}"
   ]
  },
  {
   "cell_type": "markdown",
   "id": "cc4ed7df-8216-49b8-b14a-fc64518bf95c",
   "metadata": {},
   "source": [
    "<body style=\"font-family: Sans-serif;\">\n",
    "    <div style=\"color: black; font-size: 15px; font-style: oblique; text-shadow: 0 0 3px white, 0 0 1px black; padding: 20px;\">\n",
    "\n",
    "- ## Set Comprehensions\n",
    "        \n",
    "    - Set comprehensions, list comprehensions jaisi hi hoti hain, magar yahan hum curly brackets { } ka use karte hain instead of square brackets. \n",
    "    "
   ]
  },
  {
   "cell_type": "code",
   "execution_count": 13,
   "id": "177f69a5-97d1-49ea-8632-d9ec739ed919",
   "metadata": {
    "tags": []
   },
   "outputs": [
    {
     "data": {
      "text/plain": [
       "{0, 1, 2, 3, 4, 5, 6, 7, 8, 9, 10}"
      ]
     },
     "execution_count": 13,
     "metadata": {},
     "output_type": "execute_result"
    }
   ],
   "source": [
    "{i for i in range(11)}"
   ]
  },
  {
   "cell_type": "code",
   "execution_count": 14,
   "id": "5ed9c084-6e40-4e05-88ca-268948842a95",
   "metadata": {
    "tags": []
   },
   "outputs": [
    {
     "data": {
      "text/plain": [
       "{2, 4, 6}"
      ]
     },
     "execution_count": 14,
     "metadata": {},
     "output_type": "execute_result"
    }
   ],
   "source": [
    "input_list = [1, 2, 3, 4, 4, 5, 6, 6, 6, 7, 7]\n",
    "{var for var in input_list if var % 2 == 0}"
   ]
  },
  {
   "cell_type": "markdown",
   "id": "706f75b6-7a39-47c5-8db8-772f9894ebd6",
   "metadata": {},
   "source": [
    "<body style=\"font-family: Sans-serif;\">\n",
    "    <div style=\"color: black; font-size: 15px; font-style: oblique; text-shadow: 0 0 3px white, 0 0 1px black; padding: 20px;\">\n",
    "\n",
    "## Generator Comprehensions\n",
    "        \n",
    "Generator comprehensions list comprehensions ki tarah hi hoti hain, lekin inka syntax aur memory usage different hota hai.\n",
    "\n",
    "- **Syntax Difference:**  \n",
    "  - List comprehensions mein square brackets `[ ]` use hote hain.  \n",
    "  - Generator comprehensions mein circular brackets `( )` use hote hain.<br><br>\n",
    "\n",
    "- **Memory Efficiency:**  \n",
    "  - List comprehensions saari values ko memory mein store karte hain.  \n",
    "  - Generator comprehensions values ko one-by-one generate karte hain, isliye woh memory efficient hote hain.\n"
   ]
  },
  {
   "cell_type": "code",
   "execution_count": 16,
   "id": "f6347ec9-8e87-465c-8966-b9a99367a2a4",
   "metadata": {
    "tags": []
   },
   "outputs": [
    {
     "data": {
      "text/plain": [
       "<generator object <genexpr> at 0x7869f8317530>"
      ]
     },
     "execution_count": 16,
     "metadata": {},
     "output_type": "execute_result"
    }
   ],
   "source": [
    "gen = (i for i in range(3))\n",
    "gen"
   ]
  },
  {
   "cell_type": "code",
   "execution_count": 17,
   "id": "9d9d40f4-278f-4b40-ac67-4863a710d9c5",
   "metadata": {
    "tags": []
   },
   "outputs": [
    {
     "data": {
      "text/plain": [
       "0"
      ]
     },
     "execution_count": 17,
     "metadata": {},
     "output_type": "execute_result"
    }
   ],
   "source": [
    "next(gen)"
   ]
  },
  {
   "cell_type": "code",
   "execution_count": 18,
   "id": "bc6cca2a-8712-451f-9f27-557832a26372",
   "metadata": {
    "tags": []
   },
   "outputs": [
    {
     "data": {
      "text/plain": [
       "1"
      ]
     },
     "execution_count": 18,
     "metadata": {},
     "output_type": "execute_result"
    }
   ],
   "source": [
    "next(gen)"
   ]
  },
  {
   "cell_type": "code",
   "execution_count": 19,
   "id": "2b4b1d22-1922-40f0-951e-718715c19e45",
   "metadata": {
    "tags": []
   },
   "outputs": [
    {
     "data": {
      "text/plain": [
       "2"
      ]
     },
     "execution_count": 19,
     "metadata": {},
     "output_type": "execute_result"
    }
   ],
   "source": [
    "next(gen)"
   ]
  },
  {
   "cell_type": "code",
   "execution_count": 20,
   "id": "1c1eddd9-985a-4638-98e3-e8c15e5fe5f5",
   "metadata": {
    "tags": []
   },
   "outputs": [
    {
     "ename": "StopIteration",
     "evalue": "",
     "output_type": "error",
     "traceback": [
      "\u001b[0;31m---------------------------------------------------------------------------\u001b[0m",
      "\u001b[0;31mStopIteration\u001b[0m                             Traceback (most recent call last)",
      "Cell \u001b[0;32mIn[20], line 1\u001b[0m\n\u001b[0;32m----> 1\u001b[0m \u001b[38;5;28;43mnext\u001b[39;49m\u001b[43m(\u001b[49m\u001b[43mgen\u001b[49m\u001b[43m)\u001b[49m\n",
      "\u001b[0;31mStopIteration\u001b[0m: "
     ]
    }
   ],
   "source": [
    "next(gen)"
   ]
  },
  {
   "cell_type": "code",
   "execution_count": 22,
   "id": "3475de7e-49ef-4199-8d4f-0bd1b0fdbfff",
   "metadata": {
    "tags": []
   },
   "outputs": [
    {
     "name": "stdout",
     "output_type": "stream",
     "text": [
      "0\n",
      "1\n",
      "2\n"
     ]
    }
   ],
   "source": [
    "for i in (i for i in range(3)):\n",
    "    print(i)"
   ]
  },
  {
   "cell_type": "code",
   "execution_count": 25,
   "id": "c4289a97-9b0a-4b98-bacc-d470129e2077",
   "metadata": {
    "tags": []
   },
   "outputs": [
    {
     "data": {
      "text/plain": [
       "generator"
      ]
     },
     "execution_count": 25,
     "metadata": {},
     "output_type": "execute_result"
    }
   ],
   "source": [
    "# check type\n",
    "type((i for i in range(3)))"
   ]
  }
 ],
 "metadata": {
  "kernelspec": {
   "display_name": "Python 3 (ipykernel)",
   "language": "python",
   "name": "python3"
  },
  "language_info": {
   "codemirror_mode": {
    "name": "ipython",
    "version": 3
   },
   "file_extension": ".py",
   "mimetype": "text/x-python",
   "name": "python",
   "nbconvert_exporter": "python",
   "pygments_lexer": "ipython3",
   "version": "3.10.12"
  }
 },
 "nbformat": 4,
 "nbformat_minor": 5
}
