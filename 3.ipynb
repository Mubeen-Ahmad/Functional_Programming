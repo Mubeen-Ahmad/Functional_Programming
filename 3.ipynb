{
 "cells": [
  {
   "cell_type": "markdown",
   "id": "800dffac-c676-423b-b574-a17b88193212",
   "metadata": {},
   "source": [
    "<body style=\"font-family: Sans-serif;\">\n",
    "    <div style=\"color: black; font-size: 18px; font-style: oblique; text-shadow: 0 0 3px white, 0 0 1px black; padding: 20px;\">\n",
    "<ul>apply_func function ek higher-order function hai, jo ek function ko argument ke taur par accept karta hai<br><br>Ab sawaal yeh hai ke agar hum function ko alag se call kar sakte hain (jaise square(5)), to phir function mein function pass kyun karte hain?<ul><br>\n",
    "\n",
    "1. **Abstraction aur Reusability:**\n",
    "   - Agar aap directly `square(5)` call karte hain, to aap sirf square function ke liye code likh rahe hote hain.\n",
    "   - Lekin agar aap `apply_func` jaisa generic function banate hain, to aap kisi bhi function (jo ek argument leta ho) ko pass kar sakte hain. Yeh code ko reusable aur modular banata hai.\n",
    "   - Misal ke taur par, agar aapke paas aur functions hain jaise `cube(x)` ya koi aur calculation, to aap unhe bhi easily `apply_func` ke through call kar sakte hain.\n",
    "\n",
    "2. **Dynamic Behavior:**\n",
    "   - Functions ko argument ke taur par pass karne se aap dynamic behavior create kar sakte hain. Aap run-time pe decide kar sakte hain ke kis function ko call karna hai.\n",
    "   - Yeh approach functional programming ka hissa hai jahan functions ko first-class citizens maana jata hai.\n",
    "\n",
    "3. **Code Simplification:**\n",
    "   - Aap higher-order functions se common patterns ko encapsulate kar sakte hain. Agar aapke paas bohat se similar operations hain jo sirf function mein fark rakhte hain, to ek generic wrapper function se aap code ko simplify kar sakte hain.\n",
    "   - Misal ke taur par, aap logging, error handling, ya performance measuring jaisa behavior add kar sakte hain higher-order function ke through bina har function ke andar changes kiye."
   ]
  },
  {
   "cell_type": "code",
   "execution_count": 1,
   "id": "94d8f793-a74f-447c-8e13-cea6af28e03e",
   "metadata": {
    "tags": []
   },
   "outputs": [],
   "source": [
    "def square(x):\n",
    "    return x * x\n",
    "\n",
    "def cube(x):\n",
    "    return x * x * x\n",
    "\n",
    "def apply_func(func, value):\n",
    "    \n",
    "    # Yahan hum function ko parameter ke taur par pass kar rahe hain\n",
    "    # Yeh generic function hai jo kisi bhi function ko call kar sakta hai\n",
    "    \n",
    "    return func(value)\n",
    "\n"
   ]
  },
  {
   "cell_type": "code",
   "execution_count": 2,
   "id": "12584c37-3c1c-4db9-9973-87deec5a5e3e",
   "metadata": {
    "tags": []
   },
   "outputs": [
    {
     "name": "stdout",
     "output_type": "stream",
     "text": [
      "25\n"
     ]
    }
   ],
   "source": [
    "# Direct call\n",
    "print(square(5))  # Output: 25"
   ]
  },
  {
   "cell_type": "code",
   "execution_count": 3,
   "id": "7e125b3e-b82b-418e-91b5-04b6ae0169b7",
   "metadata": {
    "tags": []
   },
   "outputs": [
    {
     "name": "stdout",
     "output_type": "stream",
     "text": [
      "25\n",
      "27\n"
     ]
    }
   ],
   "source": [
    "# Higher-order function ke through call\n",
    "print(apply_func(square, 5))  # Output: 25\n",
    "print(apply_func(cube, 3))    # Output: 27"
   ]
  }
 ],
 "metadata": {
  "kernelspec": {
   "display_name": "Python 3 (ipykernel)",
   "language": "python",
   "name": "python3"
  },
  "language_info": {
   "codemirror_mode": {
    "name": "ipython",
    "version": 3
   },
   "file_extension": ".py",
   "mimetype": "text/x-python",
   "name": "python",
   "nbconvert_exporter": "python",
   "pygments_lexer": "ipython3",
   "version": "3.10.12"
  }
 },
 "nbformat": 4,
 "nbformat_minor": 5
}
