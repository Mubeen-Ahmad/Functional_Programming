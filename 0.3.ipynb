{
 "cells": [
  {
   "cell_type": "markdown",
   "id": "4899b163-687e-4760-88d3-74f28c9aa2ce",
   "metadata": {},
   "source": [
    "<h1 style=\"text-align:center; color:#005bbd; font-size:20px; font-family:Sans-serif; font-style: oblique; text-shadow: 0 0 3px white, 0 0 1px Black;\">\n",
    "   Namespaces\n",
    "</h1>"
   ]
  },
  {
   "cell_type": "markdown",
   "id": "16d5ea2c-f2c3-49fd-95b2-9b1463a62e93",
   "metadata": {},
   "source": [
    "<body style=\"font-family: Sans-serif;\">\n",
    "    <div style=\"color: black; font-size: 15px; font-style: oblique; text-shadow: 0 0 3px white, 0 0 1px black; padding: 20px;\">\n",
    "        \n",
    "Namespace ek aisi jagah hai jo names (yaani identifiers) ko hold karti hai. \n",
    "<br>Programmatically, namespaces ko hum aik dictionary ki tarah samajh sakte hain, jahan keys names hoti hain aur values unke corresponding objects.\n"
   ]
  },
  {
   "cell_type": "code",
   "execution_count": 1,
   "id": "3b3dfb15-2d22-483b-8e7f-b74a553deece",
   "metadata": {
    "tags": []
   },
   "outputs": [],
   "source": [
    "a = 10   # Iska matlab hai: { 'a' : 10 }\n",
    "b = 32   # Iska matlab hai: { 'b' : 32 }"
   ]
  },
  {
   "cell_type": "markdown",
   "id": "50fbbff2-2f04-45fe-b556-a18451653881",
   "metadata": {},
   "source": [
    "<body style=\"font-family: Sans-serif;\">\n",
    "    <div style=\"color: black; font-size: 15px; font-style: oblique; text-shadow: 0 0 3px white, 0 0 1px black; padding: 20px;\">\n",
    "        \n",
    "**Python mein 4 qisam ke namespaces hotay hain:**\n",
    "        \n",
    "<img src=\"./images/legb.png\" style=\"width:40%;\">"
   ]
  },
  {
   "cell_type": "markdown",
   "id": "8135c955-4f72-4351-9450-5dacf77db010",
   "metadata": {},
   "source": [
    "<body style=\"font-family: Sans-serif;\">\n",
    "    <div style=\"color: black; font-size: 15px; font-style: oblique; text-shadow: 0 0 3px white, 0 0 1px black; padding: 20px;\">\n",
    " \n",
    "4. **Local Namespace:**  \n",
    "   - Jab koi function call hota hai, to us function ka apna local namespace banta hai.  \n",
    "   - Isme function ke local variables store hotay hain.  \n",
    "   - Function call complete hone par yeh namespace khatam ho jata hai."
   ]
  },
  {
   "cell_type": "code",
   "execution_count": 3,
   "id": "c20fdc03-76f1-4665-b1f6-609a872be57b",
   "metadata": {
    "tags": []
   },
   "outputs": [],
   "source": [
    "def temp():\n",
    "    \n",
    "    # local scope\n",
    "    a = 10\n",
    "    \n",
    "    return a"
   ]
  },
  {
   "cell_type": "code",
   "execution_count": 4,
   "id": "28563a39-6c5d-4c3a-833b-2f95fab4b31f",
   "metadata": {
    "tags": []
   },
   "outputs": [
    {
     "data": {
      "text/plain": [
       "10"
      ]
     },
     "execution_count": 4,
     "metadata": {},
     "output_type": "execute_result"
    }
   ],
   "source": [
    "temp()"
   ]
  },
  {
   "cell_type": "markdown",
   "id": "fb14e52f-6e29-4b89-9d61-635b21d0e7c5",
   "metadata": {},
   "source": [
    "<body style=\"font-family: Sans-serif;\">\n",
    "    <div style=\"color: black; font-size: 15px; font-style: oblique; text-shadow: 0 0 3px white, 0 0 1px black; padding: 20px;\">\n",
    "\n",
    "2. **Global Namespace:**  \n",
    "   - Har module ka apna global namespace hota hai.  \n",
    "   - Jab aap koi module run karte hain, to us module ke sare variables aur functions global namespace mein store hotay hain.<br><br>\n"
   ]
  },
  {
   "cell_type": "code",
   "execution_count": 5,
   "id": "939d7317-e46f-4e1e-81f8-8c896d48a37b",
   "metadata": {
    "tags": []
   },
   "outputs": [],
   "source": [
    "# global scope\n",
    "\n",
    "a = 20 # global variable\n",
    "\n",
    "def temp():\n",
    "    \n",
    "    # local scope\n",
    "    a = 10 # local variable\n",
    "    \n",
    "    return a"
   ]
  },
  {
   "cell_type": "code",
   "execution_count": 6,
   "id": "bc33acd2-ee02-4e87-885e-8a002a713623",
   "metadata": {
    "tags": []
   },
   "outputs": [
    {
     "name": "stdout",
     "output_type": "stream",
     "text": [
      "Global Variable 20\n",
      "Local  Variable 10\n"
     ]
    }
   ],
   "source": [
    "print(\"Global Variable\",a)\n",
    "print(\"Local  Variable\",temp())"
   ]
  },
  {
   "cell_type": "markdown",
   "id": "f2352e0a-cc4d-47a3-99f5-f2d5571b6d00",
   "metadata": {},
   "source": [
    "<body style=\"font-family: Sans-serif;\">\n",
    "    <div style=\"color: black; font-size: 15px; font-style: oblique; text-shadow: 0 0 3px white, 0 0 1px black; padding: 20px;\">\n",
    "\n",
    " ❌ Hum global scope mein local variable ko access nahi kar saktay."
   ]
  },
  {
   "cell_type": "code",
   "execution_count": 7,
   "id": "59212b9c-81e0-4162-862a-f7e7d2e52e2b",
   "metadata": {
    "tags": []
   },
   "outputs": [],
   "source": [
    "x = 13\n",
    "\n",
    "def func():\n",
    "    x = 10\n",
    "    return x"
   ]
  },
  {
   "cell_type": "code",
   "execution_count": 8,
   "id": "fdcf91d0-f314-4efc-809f-1846394e8ace",
   "metadata": {
    "tags": []
   },
   "outputs": [
    {
     "name": "stdout",
     "output_type": "stream",
     "text": [
      "Global Variable 20\n",
      "Local  Variable 10\n"
     ]
    }
   ],
   "source": [
    "print(\"Global Variable\",a)\n",
    "print(\"Local  Variable\",func())"
   ]
  },
  {
   "cell_type": "markdown",
   "id": "fc46e915-3e69-4dc4-8c3c-c5b534c35921",
   "metadata": {},
   "source": [
    "<body style=\"font-family: Sans-serif;\">\n",
    "    <div style=\"color: black; font-size: 15px; font-style: oblique; text-shadow: 0 0 3px white, 0 0 1px black; padding: 20px;\">\n",
    "\n",
    "✅ Hum global variable ko local scope ke andar access kar saktay hain.\n",
    "    "
   ]
  },
  {
   "cell_type": "code",
   "execution_count": 9,
   "id": "8e249d19-6e3c-4bba-889c-2bfdcce93e81",
   "metadata": {
    "tags": []
   },
   "outputs": [
    {
     "name": "stdout",
     "output_type": "stream",
     "text": [
      "Global Variable 13\n",
      "Access Inside Local Scope 13\n"
     ]
    }
   ],
   "source": [
    "x = 13\n",
    "\n",
    "def func():\n",
    "    print(\"Access Inside Local Scope\",x)\n",
    "\n",
    "\n",
    "print(\"Global Variable\",x)\n",
    "func()"
   ]
  },
  {
   "cell_type": "markdown",
   "id": "def768cf-99da-4bf1-81d0-d492473a70fe",
   "metadata": {},
   "source": [
    "<body style=\"font-family: Sans-serif;\">\n",
    "    <div style=\"color: black; font-size: 15px; font-style: oblique; text-shadow: 0 0 3px white, 0 0 1px black; padding: 20px;\">\n",
    "Agar variable local scope mein mojood ho to Python usi ko access karega, warna global scope ka variable use karega."
   ]
  },
  {
   "cell_type": "code",
   "execution_count": 10,
   "id": "5b05ed3f-cb42-484b-85f7-2ccd94ea731b",
   "metadata": {
    "tags": []
   },
   "outputs": [
    {
     "name": "stdout",
     "output_type": "stream",
     "text": [
      "Global Value of x is 13\n",
      "Local  Value of x is 12\n"
     ]
    }
   ],
   "source": [
    "x = 13\n",
    "\n",
    "def func():\n",
    "    x = 12\n",
    "    print(\"Local  Value of x is\",x)\n",
    "\n",
    "\n",
    "print(\"Global Value of x is\",x)\n",
    "func()"
   ]
  },
  {
   "cell_type": "markdown",
   "id": "1197ddcc-b216-4ac8-aba0-540daa78686f",
   "metadata": {},
   "source": [
    "<body style=\"font-family: Sans-serif;\">\n",
    "    <div style=\"color: black; font-size: 15px; font-style: oblique; text-shadow: 0 0 3px white, 0 0 1px black; padding: 20px;\">\n",
    "        \n",
    "Kya mai local scope ke andar global variable ko change kar sakta hoon?"
   ]
  },
  {
   "cell_type": "code",
   "execution_count": 11,
   "id": "cf214a85-4f45-424b-9a24-1afbcbf0500c",
   "metadata": {
    "tags": []
   },
   "outputs": [
    {
     "name": "stdout",
     "output_type": "stream",
     "text": [
      "Global Value of x is 13\n"
     ]
    },
    {
     "ename": "UnboundLocalError",
     "evalue": "local variable 'x' referenced before assignment",
     "output_type": "error",
     "traceback": [
      "\u001b[0;31m---------------------------------------------------------------------------\u001b[0m",
      "\u001b[0;31mUnboundLocalError\u001b[0m                         Traceback (most recent call last)",
      "Cell \u001b[0;32mIn[11], line 9\u001b[0m\n\u001b[1;32m      5\u001b[0m     \u001b[38;5;28mprint\u001b[39m(\u001b[38;5;124m\"\u001b[39m\u001b[38;5;124mLocal  Value of x is\u001b[39m\u001b[38;5;124m\"\u001b[39m,x)\n\u001b[1;32m      8\u001b[0m \u001b[38;5;28mprint\u001b[39m(\u001b[38;5;124m\"\u001b[39m\u001b[38;5;124mGlobal Value of x is\u001b[39m\u001b[38;5;124m\"\u001b[39m,x)\n\u001b[0;32m----> 9\u001b[0m \u001b[43mfunc\u001b[49m\u001b[43m(\u001b[49m\u001b[43m)\u001b[49m\n",
      "Cell \u001b[0;32mIn[11], line 4\u001b[0m, in \u001b[0;36mfunc\u001b[0;34m()\u001b[0m\n\u001b[1;32m      3\u001b[0m \u001b[38;5;28;01mdef\u001b[39;00m \u001b[38;5;21mfunc\u001b[39m():\n\u001b[0;32m----> 4\u001b[0m     x \u001b[38;5;241m+\u001b[39m\u001b[38;5;241m=\u001b[39m \u001b[38;5;241m1\u001b[39m\n\u001b[1;32m      5\u001b[0m     \u001b[38;5;28mprint\u001b[39m(\u001b[38;5;124m\"\u001b[39m\u001b[38;5;124mLocal  Value of x is\u001b[39m\u001b[38;5;124m\"\u001b[39m,x)\n",
      "\u001b[0;31mUnboundLocalError\u001b[0m: local variable 'x' referenced before assignment"
     ]
    }
   ],
   "source": [
    "x = 13\n",
    "\n",
    "def func():\n",
    "    x += 1\n",
    "    print(\"Local  Value of x is\",x)\n",
    "\n",
    "\n",
    "print(\"Global Value of x is\",x)\n",
    "func()"
   ]
  },
  {
   "cell_type": "markdown",
   "id": "7eb6b441-1128-4720-856e-b4a1a25a16d8",
   "metadata": {},
   "source": [
    "<body style=\"font-family: Sans-serif;\">\n",
    "    <div style=\"color: black; font-size: 15px; font-style: oblique; text-shadow: 0 0 3px white, 0 0 1px black; padding: 20px;\">\n",
    "Global variable ko change karne ke liye `global` keyword ka istemal karna zaroori hai."
   ]
  },
  {
   "cell_type": "code",
   "execution_count": 12,
   "id": "0d08edac-ba53-442c-9ade-e79127d7d6d5",
   "metadata": {
    "tags": []
   },
   "outputs": [
    {
     "name": "stdout",
     "output_type": "stream",
     "text": [
      "Global Value of x is 13\n",
      "Local  Value of x is 14\n"
     ]
    }
   ],
   "source": [
    "x = 13\n",
    "\n",
    "def func():\n",
    "    global x\n",
    "    x += 1\n",
    "    print(\"Local  Value of x is\",x)\n",
    "\n",
    "\n",
    "print(\"Global Value of x is\",x)\n",
    "func()"
   ]
  },
  {
   "cell_type": "code",
   "execution_count": 13,
   "id": "c301c06f-69aa-4b17-ade5-bdeeab892865",
   "metadata": {
    "tags": []
   },
   "outputs": [
    {
     "name": "stdout",
     "output_type": "stream",
     "text": [
      "Value of x Before Function Call 13\n",
      "\n",
      "    ---- Calling Function ----\n",
      "\n",
      "Value of x After  Function Call 14\n"
     ]
    }
   ],
   "source": [
    "x = 13\n",
    "\n",
    "def func():\n",
    "    print(\"\\n    ---- Calling Function ----\")\n",
    "    global x\n",
    "    x += 1\n",
    "\n",
    "\n",
    "print(\"Value of x Before Function Call\",x)\n",
    "func()\n",
    "print(\"\\nValue of x After  Function Call\",x)"
   ]
  },
  {
   "cell_type": "markdown",
   "id": "09acbbf9-d542-477c-a9f6-3135912c9caa",
   "metadata": {},
   "source": [
    "<body style=\"font-family: Sans-serif;\">\n",
    "    <div style=\"color: black; font-size: 15px; font-style: oblique; text-shadow: 0 0 3px white, 0 0 1px black; padding: 20px;\">\n",
    "        \n",
    "Kya local scope ke andar global variable banana mumkin hai?"
   ]
  },
  {
   "cell_type": "code",
   "execution_count": 14,
   "id": "b12e165a-bf37-4859-8258-2b9e4a44e8bb",
   "metadata": {
    "tags": []
   },
   "outputs": [
    {
     "ename": "NameError",
     "evalue": "name 'k' is not defined",
     "output_type": "error",
     "traceback": [
      "\u001b[0;31m---------------------------------------------------------------------------\u001b[0m",
      "\u001b[0;31mNameError\u001b[0m                                 Traceback (most recent call last)",
      "Cell \u001b[0;32mIn[14], line 8\u001b[0m\n\u001b[1;32m      5\u001b[0m     \u001b[38;5;28;01mglobal\u001b[39;00m k\n\u001b[1;32m      7\u001b[0m func()\n\u001b[0;32m----> 8\u001b[0m \u001b[38;5;28mprint\u001b[39m(\u001b[43mk\u001b[49m)\n",
      "\u001b[0;31mNameError\u001b[0m: name 'k' is not defined"
     ]
    }
   ],
   "source": [
    "# global scope\n",
    "\n",
    "def func():\n",
    "    # local scope\n",
    "    global k\n",
    "\n",
    "func()\n",
    "print(k)"
   ]
  },
  {
   "cell_type": "code",
   "execution_count": 15,
   "id": "47559b35-4826-47c1-aa9c-41b2a7b4fd7c",
   "metadata": {
    "tags": []
   },
   "outputs": [
    {
     "name": "stdout",
     "output_type": "stream",
     "text": [
      "90\n"
     ]
    }
   ],
   "source": [
    "# global scope\n",
    "\n",
    "def func():\n",
    "    # local scope\n",
    "    global k\n",
    "    \n",
    "    # Assign value of k\n",
    "    k = 90\n",
    "\n",
    "func()\n",
    "\n",
    "print(k)"
   ]
  },
  {
   "cell_type": "markdown",
   "id": "fceb1f22-1bc2-44a6-a3d1-d64a83e037b8",
   "metadata": {},
   "source": [
    "<body style=\"font-family: Sans-serif;\">\n",
    "    <div style=\"color: black; font-size: 15px; font-style: oblique; text-shadow: 0 0 3px white, 0 0 1px black; padding: 20px;\">\n",
    "\n",
    "1. **Built-in Namespace:**  \n",
    "   - Yeh wo namespace hai jo Python interpreter ke start hote hi create ho jata hai.  \n",
    "   - Isme Python ke built-in functions, exceptions, aur constants shamil hotay hain.  \n",
    "   - Example: `len()`, `print()`, etc.<br><br>\n"
   ]
  },
  {
   "cell_type": "code",
   "execution_count": 18,
   "id": "4f717093-d4b1-490b-a83c-3ce0b3a9c432",
   "metadata": {
    "tags": []
   },
   "outputs": [
    {
     "name": "stdout",
     "output_type": "stream",
     "text": [
      "Hello\n"
     ]
    }
   ],
   "source": [
    "print(\"Hello\")"
   ]
  },
  {
   "cell_type": "markdown",
   "id": "78b31f61-d1c3-4f0e-b448-c2f8177a07ea",
   "metadata": {},
   "source": [
    "<body style=\"font-family: Sans-serif;\">\n",
    "    <div style=\"color: black; font-size: 15px; font-style: oblique; text-shadow: 0 0 3px white, 0 0 1px black; padding: 20px;\">\n",
    "\n",
    "Check Bulit-in All Variables"
   ]
  },
  {
   "cell_type": "code",
   "execution_count": 19,
   "id": "1f92ceea-6b4b-48ff-a4aa-16621e2c1211",
   "metadata": {
    "tags": []
   },
   "outputs": [],
   "source": [
    "import builtins"
   ]
  },
  {
   "cell_type": "code",
   "execution_count": 20,
   "id": "17da3967-f5d1-4c43-a21f-2499244c7e6d",
   "metadata": {
    "tags": []
   },
   "outputs": [
    {
     "name": "stdout",
     "output_type": "stream",
     "text": [
      "['ArithmeticError', 'AssertionError', 'AttributeError', 'BaseException', 'BlockingIOError', 'BrokenPipeError', 'BufferError', 'BytesWarning', 'ChildProcessError', 'ConnectionAbortedError', 'ConnectionError', 'ConnectionRefusedError', 'ConnectionResetError', 'DeprecationWarning', 'EOFError', 'Ellipsis', 'EncodingWarning', 'EnvironmentError', 'Exception', 'False', 'FileExistsError', 'FileNotFoundError', 'FloatingPointError', 'FutureWarning', 'GeneratorExit', 'IOError', 'ImportError', 'ImportWarning', 'IndentationError', 'IndexError', 'InterruptedError', 'IsADirectoryError', 'KeyError', 'KeyboardInterrupt', 'LookupError', 'MemoryError', 'ModuleNotFoundError', 'NameError', 'None', 'NotADirectoryError', 'NotImplemented', 'NotImplementedError', 'OSError', 'OverflowError', 'PendingDeprecationWarning', 'PermissionError', 'ProcessLookupError', 'RecursionError', 'ReferenceError', 'ResourceWarning', 'RuntimeError', 'RuntimeWarning', 'StopAsyncIteration', 'StopIteration', 'SyntaxError', 'SyntaxWarning', 'SystemError', 'SystemExit', 'TabError', 'TimeoutError', 'True', 'TypeError', 'UnboundLocalError', 'UnicodeDecodeError', 'UnicodeEncodeError', 'UnicodeError', 'UnicodeTranslateError', 'UnicodeWarning', 'UserWarning', 'ValueError', 'Warning', 'ZeroDivisionError', '__IPYTHON__', '__build_class__', '__debug__', '__doc__', '__import__', '__loader__', '__name__', '__package__', '__spec__', 'abs', 'aiter', 'all', 'anext', 'any', 'ascii', 'bin', 'bool', 'breakpoint', 'bytearray', 'bytes', 'callable', 'chr', 'classmethod', 'compile', 'complex', 'copyright', 'credits', 'delattr', 'dict', 'dir', 'display', 'divmod', 'enumerate', 'eval', 'exec', 'execfile', 'filter', 'float', 'format', 'frozenset', 'get_ipython', 'getattr', 'globals', 'hasattr', 'hash', 'help', 'hex', 'id', 'input', 'int', 'isinstance', 'issubclass', 'iter', 'len', 'license', 'list', 'locals', 'map', 'max', 'memoryview', 'min', 'next', 'object', 'oct', 'open', 'ord', 'pow', 'print', 'property', 'range', 'repr', 'reversed', 'round', 'runfile', 'set', 'setattr', 'slice', 'sorted', 'staticmethod', 'str', 'sum', 'super', 'tuple', 'type', 'vars', 'zip']\n"
     ]
    }
   ],
   "source": [
    "print(dir(builtins))"
   ]
  },
  {
   "cell_type": "markdown",
   "id": "5e50dcbc-9bba-4ffd-9938-4a974e7e210f",
   "metadata": {},
   "source": [
    "<body style=\"font-family: Sans-serif;\">\n",
    "    <div style=\"color: black; font-size: 15px; font-style: oblique; text-shadow: 0 0 3px white, 0 0 1px black; padding: 20px;\">\n",
    "\n",
    "yahan `list` mein `print` hai, iska matlab hai ke `print` ek variable ki tarah pehle se hi mojood hai, yani ye built-in scope hai."
   ]
  },
  {
   "cell_type": "markdown",
   "id": "aa467daa-e3dd-4248-8c1d-5693add3ce7f",
   "metadata": {},
   "source": [
    "<body style=\"font-family: Sans-serif;\">\n",
    "    <div style=\"color: black; font-size: 15px; font-style: oblique; text-shadow: 0 0 3px white, 0 0 1px black; padding: 20px;\">\n",
    "Agar aap kisi built-in function ka naam dobara kisi custom function ke liye use karein, to aap us built-in function ko override kar denge. <br><br>Python built-in functions ko variables ki tarah treat karta hai, is wajah se naye function se pehla wala built-in function temporarily replace ho jata hai."
   ]
  },
  {
   "cell_type": "code",
   "execution_count": 2,
   "id": "70594cd3-2924-4029-b748-2a7bc1f05789",
   "metadata": {
    "tags": []
   },
   "outputs": [],
   "source": [
    "l = [3,2,1]\n",
    "\n",
    "def max(l):\n",
    "    print(l)\n"
   ]
  },
  {
   "cell_type": "code",
   "execution_count": 5,
   "id": "35976018-4d7d-47af-9761-04f5f4f8a644",
   "metadata": {
    "tags": []
   },
   "outputs": [
    {
     "name": "stdout",
     "output_type": "stream",
     "text": [
      "[3, 2, 1]\n"
     ]
    }
   ],
   "source": [
    "max(l)"
   ]
  },
  {
   "cell_type": "markdown",
   "id": "3d5f348d-4018-400a-bb40-1484bd186030",
   "metadata": {},
   "source": [
    "<body style=\"font-family: Sans-serif;\">\n",
    "    <div style=\"color: black; font-size: 15px; font-style: oblique; text-shadow: 0 0 3px white, 0 0 1px black; padding: 20px;\">\n",
    "Ab `max` built-in kaam nahi kar raha LEGB rule ke mutabiq, kyunki Python pehle global scope check karta hai phir local scope, aur global scope mein `max` function mil gaya."
   ]
  },
  {
   "cell_type": "markdown",
   "id": "b18dcf84-abc1-4840-b067-73790933509b",
   "metadata": {},
   "source": [
    "<body style=\"font-family: Sans-serif;\">\n",
    "    <div style=\"color: black; font-size: 15px; font-style: oblique; text-shadow: 0 0 3px white, 0 0 1px black; padding: 20px;\">\n",
    "\n",
    "- #### Lekin agar mai built-in function ko function call karne ke baad use karun, to Python built-in scope ko access karega, kyunki pehle global scope mein function nahi mila."
   ]
  },
  {
   "cell_type": "code",
   "execution_count": 6,
   "id": "92725640-2058-43d4-9ae5-2e587527eb12",
   "metadata": {
    "tags": []
   },
   "outputs": [
    {
     "name": "stdout",
     "output_type": "stream",
     "text": [
      "Bulit-in Scope max 3\n"
     ]
    }
   ],
   "source": [
    "del max # remove previous max\n",
    "\n",
    "l = [3,2,1]\n",
    "\n",
    "print(\"Bulit-in Scope max\",max(l))"
   ]
  },
  {
   "cell_type": "code",
   "execution_count": 7,
   "id": "0cdcec98-eff5-4e87-a329-64e69de5473d",
   "metadata": {
    "tags": []
   },
   "outputs": [
    {
     "name": "stdout",
     "output_type": "stream",
     "text": [
      "\n",
      " --- Creating max function ---\n",
      "\n",
      "Global Scope max [3, 2, 1]\n"
     ]
    }
   ],
   "source": [
    "print(\"\\n --- Creating max function ---\\n\")\n",
    "def max(l):\n",
    "    return l\n",
    "\n",
    "max(l)\n",
    "print(\"Global Scope max\",max(l))"
   ]
  },
  {
   "cell_type": "markdown",
   "id": "fbe23d3d-bb4e-48a6-ac13-b208e4d3c86f",
   "metadata": {},
   "source": [
    "<body style=\"font-family: Sans-serif;\">\n",
    "    <div style=\"color: black; font-size: 15px; font-style: oblique; text-shadow: 0 0 3px white, 0 0 1px black; padding: 20px;\">\n",
    "\n",
    "3. **Enclosing Namespace / Non Local:**  \n",
    "   - Yeh namespace un functions ke liye hota hai jo nested functions ke andar define kiye gaye hote hain.  \n",
    "   - Parent (outer) function ka namespace enclosing namespace kehlata hai, jo inner (nested) function ke liye available hota hai"
   ]
  },
  {
   "cell_type": "code",
   "execution_count": 8,
   "id": "5d7b55c3-fd75-4b8c-bf43-aebbaf76920a",
   "metadata": {
    "tags": []
   },
   "outputs": [
    {
     "name": "stdout",
     "output_type": "stream",
     "text": [
      "\n",
      "Inside Outer\n",
      "\n",
      "\n",
      "Inside Inner\n",
      "\n",
      "\n",
      "End Inner\n",
      "\n",
      "\n",
      "End Outer\n",
      "\n"
     ]
    }
   ],
   "source": [
    "def outer():\n",
    "    \n",
    "    print(\"\\nInside Outer\\n\")\n",
    "    \n",
    "    def inner():\n",
    "\n",
    "        print(\"\\nInside Inner\\n\")\n",
    "    \n",
    "        print(\"\\nEnd Inner\\n\")\n",
    "    inner()\n",
    "    \n",
    "    print(\"\\nEnd Outer\\n\")\n",
    "    \n",
    "outer()"
   ]
  },
  {
   "cell_type": "code",
   "execution_count": 11,
   "id": "f9bc6cec-84a7-4b41-a44a-5e4908f14b9b",
   "metadata": {
    "tags": []
   },
   "outputs": [
    {
     "name": "stdout",
     "output_type": "stream",
     "text": [
      "Local Scope\n"
     ]
    }
   ],
   "source": [
    "max = \"Global Scope\"\n",
    "\n",
    "def outer():\n",
    "    \n",
    "    # Local scope, lekin inner function ke liye non-local ya enclosing scope hoti hai.\n",
    "    max = \"Local scope, lekin inner function ke liye non-local ya enclosing scope hoti hai.\"\n",
    "    \n",
    "    def inner():\n",
    "        \n",
    "        max = \"Local Scope\"\n",
    "        print(max)\n",
    "    \n",
    "    \n",
    "    \n",
    "    inner()\n",
    "\n",
    "outer()"
   ]
  },
  {
   "cell_type": "markdown",
   "id": "23c5fe74-7360-415a-b29f-ba7668acafbf",
   "metadata": {},
   "source": [
    "<body style=\"font-family: Sans-serif;\">\n",
    "    <div style=\"color: black; font-size: 15px; font-style: oblique; text-shadow: 0 0 3px white, 0 0 1px black; padding: 20px;\">\n",
    "Agar local scope mein variable na mile to Python `LEGB` rule ke mutabiq non-local (enclosing) scope check karta hai."
   ]
  },
  {
   "cell_type": "code",
   "execution_count": 13,
   "id": "ce1a47f8-27be-48ba-97d7-ccf400287994",
   "metadata": {
    "tags": []
   },
   "outputs": [
    {
     "name": "stdout",
     "output_type": "stream",
     "text": [
      "Here max is the\n",
      "\n",
      "Local Scope of outer\n",
      "Non Local Scope of inner\n"
     ]
    }
   ],
   "source": [
    "max = \"Global Scope\"\n",
    "\n",
    "def outer():\n",
    "    # Local Scope But Non Local / Enclosing for inner\n",
    "    \n",
    "    max = \"Local Scope of outer\\nNon Local Scope of inner\"\n",
    "    \n",
    "    def inner():\n",
    "        print(\"Here max is the\\n\")\n",
    "        print(max)\n",
    "    \n",
    "\n",
    "    inner()\n",
    "    \n",
    "outer()"
   ]
  },
  {
   "cell_type": "markdown",
   "id": "45660d63-1d2a-4e31-8da8-8e67f4ce3d7a",
   "metadata": {},
   "source": [
    "<body style=\"font-family: Sans-serif;\">\n",
    "    <div style=\"color: black; font-size: 15px; font-style: oblique; text-shadow: 0 0 3px white, 0 0 1px black; padding: 20px;\">\n",
    "Agar non-local scope mein bhi variable na mile to Python LEGB rule ke mutabiq global scope check karta hai."
   ]
  },
  {
   "cell_type": "code",
   "execution_count": 1,
   "id": "f3f556e3-c33e-4547-9f9a-e297e81037b5",
   "metadata": {
    "tags": []
   },
   "outputs": [
    {
     "name": "stdout",
     "output_type": "stream",
     "text": [
      "Global Scope\n"
     ]
    }
   ],
   "source": [
    "max = \"Global Scope\"\n",
    "\n",
    "def outer():\n",
    "    def inner():\n",
    "        print(max)\n",
    "    \n",
    "    inner()\n",
    "    \n",
    "outer()"
   ]
  },
  {
   "cell_type": "markdown",
   "id": "cd636ebf-a79e-40c7-9f90-be821fda456a",
   "metadata": {},
   "source": [
    "<body style=\"font-family: Sans-serif;\">\n",
    "    <div style=\"color: black; font-size: 15px; font-style: oblique; text-shadow: 0 0 3px white, 0 0 1px black; padding: 20px;\">\n",
    "Agar global scope mein bhi variable na mile to Python LEGB rule ke mutabiq built-in scope check karta hai."
   ]
  },
  {
   "cell_type": "code",
   "execution_count": 2,
   "id": "507f3d17-b846-41c2-b5fb-550043889c78",
   "metadata": {
    "tags": []
   },
   "outputs": [],
   "source": [
    "del max # first delete variable"
   ]
  },
  {
   "cell_type": "code",
   "execution_count": 3,
   "id": "71a42356-12b2-446c-8495-49008340e818",
   "metadata": {
    "tags": []
   },
   "outputs": [
    {
     "name": "stdout",
     "output_type": "stream",
     "text": [
      "<built-in function max>\n"
     ]
    }
   ],
   "source": [
    "def outer():\n",
    "    def inner():\n",
    "        print(max)\n",
    "    \n",
    "    inner()\n",
    "    \n",
    "outer()"
   ]
  },
  {
   "cell_type": "markdown",
   "id": "817d36d3-6887-41a1-bca3-2a52098b076c",
   "metadata": {},
   "source": [
    "<body style=\"font-family: Sans-serif;\">\n",
    "    <div style=\"color: black; font-size: 15px; font-style: oblique; text-shadow: 0 0 3px white, 0 0 1px black; padding: 20px;\">\n",
    "\n",
    "Yahan ab `max` variable delete ho gaya hai, lekin default `max` ek built-in function hai. Is liye variable remove karne ke baad `max` ko phir se built-in function ki tarah dekha jayega.<br><br>Jab Python ko `max` naam ka koi object local, non-local, ya global scope mein nahi milega, to aakhir mein ye built-in scope check karega."
   ]
  },
  {
   "cell_type": "markdown",
   "id": "772388f1-1c9e-4e91-b18b-742b2dcccf36",
   "metadata": {},
   "source": [
    "<body style=\"font-family: Sans-serif;\">\n",
    "    <div style=\"color: black; font-size: 15px; font-style: oblique; text-shadow: 0 0 3px white, 0 0 1px black; padding: 20px;\">\n",
    "\n",
    "Kya Hum local scope ke andar non-local variable ko change kar saktay hn?"
   ]
  },
  {
   "cell_type": "code",
   "execution_count": 6,
   "id": "9c2df767-eeb1-4213-b40f-f64bd7bf85f5",
   "metadata": {
    "tags": []
   },
   "outputs": [
    {
     "ename": "UnboundLocalError",
     "evalue": "local variable 'a' referenced before assignment",
     "output_type": "error",
     "traceback": [
      "\u001b[0;31m---------------------------------------------------------------------------\u001b[0m",
      "\u001b[0;31mUnboundLocalError\u001b[0m                         Traceback (most recent call last)",
      "Cell \u001b[0;32mIn[6], line 10\u001b[0m\n\u001b[1;32m      6\u001b[0m         \u001b[38;5;28mprint\u001b[39m(a) \n\u001b[1;32m      8\u001b[0m     inner()\n\u001b[0;32m---> 10\u001b[0m \u001b[43mouter\u001b[49m\u001b[43m(\u001b[49m\u001b[43m)\u001b[49m\n",
      "Cell \u001b[0;32mIn[6], line 8\u001b[0m, in \u001b[0;36mouter\u001b[0;34m()\u001b[0m\n\u001b[1;32m      5\u001b[0m     a \u001b[38;5;241m+\u001b[39m\u001b[38;5;241m=\u001b[39m \u001b[38;5;241m1\u001b[39m\n\u001b[1;32m      6\u001b[0m     \u001b[38;5;28mprint\u001b[39m(a) \n\u001b[0;32m----> 8\u001b[0m \u001b[43minner\u001b[49m\u001b[43m(\u001b[49m\u001b[43m)\u001b[49m\n",
      "Cell \u001b[0;32mIn[6], line 5\u001b[0m, in \u001b[0;36mouter.<locals>.inner\u001b[0;34m()\u001b[0m\n\u001b[1;32m      4\u001b[0m \u001b[38;5;28;01mdef\u001b[39;00m \u001b[38;5;21minner\u001b[39m():\n\u001b[0;32m----> 5\u001b[0m     a \u001b[38;5;241m+\u001b[39m\u001b[38;5;241m=\u001b[39m \u001b[38;5;241m1\u001b[39m\n\u001b[1;32m      6\u001b[0m     \u001b[38;5;28mprint\u001b[39m(a)\n",
      "\u001b[0;31mUnboundLocalError\u001b[0m: local variable 'a' referenced before assignment"
     ]
    }
   ],
   "source": [
    "def outer():\n",
    "    a = 2 # Non local scope for inner function but local scope of outer function\n",
    "    \n",
    "    def inner():\n",
    "        a += 1\n",
    "        print(a) \n",
    "        \n",
    "    inner()\n",
    "    \n",
    "outer()\n"
   ]
  },
  {
   "cell_type": "markdown",
   "id": "ad66360f-f390-40d9-8ef2-db1eb9b49a01",
   "metadata": {},
   "source": [
    "<body style=\"font-family: Sans-serif;\">\n",
    "    <div style=\"color: black; font-size: 15px; font-style: oblique; text-shadow: 0 0 3px white, 0 0 1px black; padding: 20px;\">\n",
    "\n",
    "aap nonlocal keyword ka istemal karke local scope ke andar non-local variable ko change kar sakte hain.\n"
   ]
  },
  {
   "cell_type": "code",
   "execution_count": 7,
   "id": "bb8a0ad6-17f9-4028-b4e5-9112023d90bf",
   "metadata": {
    "tags": []
   },
   "outputs": [
    {
     "name": "stdout",
     "output_type": "stream",
     "text": [
      "3\n"
     ]
    }
   ],
   "source": [
    "def outer():\n",
    "    a = 2 # Non local scope for inner function but local scope of outer function\n",
    "    \n",
    "    def inner():\n",
    "        nonlocal a\n",
    "        a += 1\n",
    "        print(a) \n",
    "        \n",
    "    inner()\n",
    "    \n",
    "outer()\n"
   ]
  },
  {
   "cell_type": "markdown",
   "id": "85efb379-6903-401f-bef4-77066f2a0a96",
   "metadata": {},
   "source": [
    "<body style=\"font-family: Sans-serif;\">\n",
    "    <div style=\"color: black; font-size: 15px; font-style: oblique; text-shadow: 0 0 3px white, 0 0 1px black; padding: 20px;\">\n",
    "Kya mai local scope ke andar non-local variable create kar sakta hoon?"
   ]
  },
  {
   "cell_type": "code",
   "execution_count": 8,
   "id": "66322e93-1017-44a8-ab9d-0064cd448aff",
   "metadata": {
    "tags": []
   },
   "outputs": [
    {
     "ename": "SyntaxError",
     "evalue": "no binding for nonlocal 'x' found (3553716749.py, line 4)",
     "output_type": "error",
     "traceback": [
      "\u001b[0;36m  Cell \u001b[0;32mIn[8], line 4\u001b[0;36m\u001b[0m\n\u001b[0;31m    nonlocal x\u001b[0m\n\u001b[0m    ^\u001b[0m\n\u001b[0;31mSyntaxError\u001b[0m\u001b[0;31m:\u001b[0m no binding for nonlocal 'x' found\n"
     ]
    }
   ],
   "source": [
    "def outer():\n",
    "    \n",
    "    def inner():\n",
    "        nonlocal x\n",
    "        x = 1\n",
    "        print(a) \n",
    "        \n",
    "    inner()\n",
    "    \n",
    "outer()\n"
   ]
  },
  {
   "cell_type": "markdown",
   "id": "742775fa-26c5-4cd1-81d7-c33139f0f43e",
   "metadata": {
    "tags": []
   },
   "source": [
    "<body style=\"font-family: Sans-serif;\">\n",
    "    <div style=\"color: black; font-size: 15px; font-style: oblique; text-shadow: 0 0 3px white, 0 0 1px black; padding: 20px;\">\n",
    "Allowed nahi hai, lekin hum local scope ke andar global variable create kar sakte hain."
   ]
  },
  {
   "cell_type": "code",
   "execution_count": 10,
   "id": "4b279927-7501-4e77-9b44-e7735aef855a",
   "metadata": {
    "tags": []
   },
   "outputs": [
    {
     "name": "stdout",
     "output_type": "stream",
     "text": [
      "inner\n"
     ]
    }
   ],
   "source": [
    "def outer():\n",
    "        \n",
    "        # Yaha x create nahi ho ga\n",
    "        \n",
    "    def inner():\n",
    "        \n",
    "        global x\n",
    "        x = \"inner\"\n",
    "        print(x) \n",
    "        \n",
    "    inner()\n",
    "    \n",
    "outer()"
   ]
  },
  {
   "cell_type": "code",
   "execution_count": 11,
   "id": "090b5ba0-47d0-432b-a21d-28b09cad7ade",
   "metadata": {
    "tags": []
   },
   "outputs": [
    {
     "data": {
      "text/plain": [
       "'inner'"
      ]
     },
     "execution_count": 11,
     "metadata": {},
     "output_type": "execute_result"
    }
   ],
   "source": [
    "x"
   ]
  },
  {
   "cell_type": "markdown",
   "id": "210294ee-9bb2-4d84-a22b-dc4d10611e33",
   "metadata": {
    "tags": []
   },
   "source": [
    "<body style=\"font-family: Sans-serif;\">\n",
    "    <div style=\"color: black; font-size: 15px; font-style: oblique; text-shadow: 0 0 3px white, 0 0 1px black; padding: 20px;\">\n",
    "\n",
    "### *globals() Function*\n",
    "\n",
    "`globals()` ek built-in function hai jo current global namespace dictionary ka reference return karta hai.  \n",
    "\n",
    "Iska istemal global namespace ke objects ko access karne ke liye hota hai.  \n",
    "\n",
    "**Note:** `global` ek keyword hai, jabke `globals()` ek built-in function hai."
   ]
  },
  {
   "cell_type": "code",
   "execution_count": 1,
   "id": "98c570a9-3cb9-4f35-b270-08d15c617428",
   "metadata": {
    "tags": []
   },
   "outputs": [],
   "source": [
    "# global scope\n",
    "a = 2"
   ]
  },
  {
   "cell_type": "code",
   "execution_count": 2,
   "id": "198896ee-4a0a-4369-aece-d69cc7ee273a",
   "metadata": {
    "tags": []
   },
   "outputs": [
    {
     "data": {
      "text/plain": [
       "{'__name__': '__main__',\n",
       " '__doc__': 'Automatically created module for IPython interactive environment',\n",
       " '__package__': None,\n",
       " '__loader__': None,\n",
       " '__spec__': None,\n",
       " '__builtin__': <module 'builtins' (built-in)>,\n",
       " '__builtins__': <module 'builtins' (built-in)>,\n",
       " '_ih': ['', '# global scope\\na = 2', 'globals()'],\n",
       " '_oh': {},\n",
       " '_dh': [PosixPath('/media/mubeen/Programming Data { Disk 0 }/Python_codes/Functional_Programming')],\n",
       " 'In': ['', '# global scope\\na = 2', 'globals()'],\n",
       " 'Out': {},\n",
       " 'get_ipython': <bound method InteractiveShell.get_ipython of <ipykernel.zmqshell.ZMQInteractiveShell object at 0x72fdd0517040>>,\n",
       " 'exit': <IPython.core.autocall.ZMQExitAutocall at 0x72fdd0517ee0>,\n",
       " 'quit': <IPython.core.autocall.ZMQExitAutocall at 0x72fdd0517ee0>,\n",
       " 'open': <function io.open(file, mode='r', buffering=-1, encoding=None, errors=None, newline=None, closefd=True, opener=None)>,\n",
       " '_': '',\n",
       " '__': '',\n",
       " '___': '',\n",
       " '__session__': '/media/mubeen/Programming Data { Disk 0 }/Python_codes/Functional_Programming/0.3.ipynb',\n",
       " '_i': '# global scope\\na = 2',\n",
       " '_ii': '',\n",
       " '_iii': '',\n",
       " '_i1': '# global scope\\na = 2',\n",
       " 'a': 2,\n",
       " '_i2': 'globals()'}"
      ]
     },
     "execution_count": 2,
     "metadata": {},
     "output_type": "execute_result"
    }
   ],
   "source": [
    "globals()\n"
   ]
  },
  {
   "cell_type": "code",
   "execution_count": 3,
   "id": "4bc96092-fb87-4aa2-be5e-b9b1a097611d",
   "metadata": {
    "tags": []
   },
   "outputs": [
    {
     "data": {
      "text/plain": [
       "2"
      ]
     },
     "execution_count": 3,
     "metadata": {},
     "output_type": "execute_result"
    }
   ],
   "source": [
    "globals()[\"a\"]"
   ]
  },
  {
   "cell_type": "markdown",
   "id": "67d0d112-bacd-4d65-9d3d-a8df9efdf507",
   "metadata": {},
   "source": [
    "<body style=\"font-family: Sans-serif;\">\n",
    "    <div style=\"color: black; font-size: 15px; font-style: oblique; text-shadow: 0 0 3px white, 0 0 1px black; padding: 20px;\">\n",
    "\n",
    "### *locals() Function*\n",
    "        \n",
    "`locals()` ek built-in function hai jo current local namespace ke objects ko access karta hai.  \n",
    "\n",
    "Ye `globals()` ki tarah kaam karta hai, lekin sirf local namespace ke liye use hota hai.  \n",
    "\n",
    "**Note:** `nonlocal` ek keyword hai, jabke `locals()` ek built-in function hai."
   ]
  },
  {
   "cell_type": "code",
   "execution_count": 4,
   "id": "bbb5638d-715d-4b69-892c-9057bd7acb18",
   "metadata": {
    "tags": []
   },
   "outputs": [
    {
     "name": "stdout",
     "output_type": "stream",
     "text": [
      "{'name': 'Mubeen'}\n"
     ]
    }
   ],
   "source": [
    "# global scope\n",
    "\n",
    "def scope():\n",
    "    \n",
    "    # local scope\n",
    "    name = \"Mubeen\"\n",
    "    print(locals())\n",
    "    \n",
    "    # here name is a local scope so name are exist in locals \n",
    "\n",
    "scope()"
   ]
  },
  {
   "cell_type": "code",
   "execution_count": 5,
   "id": "069f2220-3ba8-4b22-8643-b5ea58c873dd",
   "metadata": {
    "tags": []
   },
   "outputs": [
    {
     "data": {
      "text/plain": [
       "{'__name__': '__main__',\n",
       " '__doc__': 'Automatically created module for IPython interactive environment',\n",
       " '__package__': None,\n",
       " '__loader__': None,\n",
       " '__spec__': None,\n",
       " '__builtin__': <module 'builtins' (built-in)>,\n",
       " '__builtins__': <module 'builtins' (built-in)>,\n",
       " '_ih': ['',\n",
       "  '# global scope\\na = 2',\n",
       "  'globals()',\n",
       "  'globals()[\"a\"]',\n",
       "  '# global scope\\n\\ndef scope():\\n    \\n    # local scope\\n    name = \"Mubeen\"\\n    print(locals())\\n    \\n    # here name is a local scope so name are exist in locals \\n\\nscope()',\n",
       "  '# try locals in global scope\\n\\nlocals()'],\n",
       " '_oh': {2: {...}, 3: 2},\n",
       " '_dh': [PosixPath('/media/mubeen/Programming Data { Disk 0 }/Python_codes/Functional_Programming')],\n",
       " 'In': ['',\n",
       "  '# global scope\\na = 2',\n",
       "  'globals()',\n",
       "  'globals()[\"a\"]',\n",
       "  '# global scope\\n\\ndef scope():\\n    \\n    # local scope\\n    name = \"Mubeen\"\\n    print(locals())\\n    \\n    # here name is a local scope so name are exist in locals \\n\\nscope()',\n",
       "  '# try locals in global scope\\n\\nlocals()'],\n",
       " 'Out': {2: {...}, 3: 2},\n",
       " 'get_ipython': <bound method InteractiveShell.get_ipython of <ipykernel.zmqshell.ZMQInteractiveShell object at 0x72fdd0517040>>,\n",
       " 'exit': <IPython.core.autocall.ZMQExitAutocall at 0x72fdd0517ee0>,\n",
       " 'quit': <IPython.core.autocall.ZMQExitAutocall at 0x72fdd0517ee0>,\n",
       " 'open': <function io.open(file, mode='r', buffering=-1, encoding=None, errors=None, newline=None, closefd=True, opener=None)>,\n",
       " '_': 2,\n",
       " '__': {...},\n",
       " '___': '',\n",
       " '__session__': '/media/mubeen/Programming Data { Disk 0 }/Python_codes/Functional_Programming/0.3.ipynb',\n",
       " '_i': '# global scope\\n\\ndef scope():\\n    \\n    # local scope\\n    name = \"Mubeen\"\\n    print(locals())\\n    \\n    # here name is a local scope so name are exist in locals \\n\\nscope()',\n",
       " '_ii': 'globals()[\"a\"]',\n",
       " '_iii': 'globals()',\n",
       " '_i1': '# global scope\\na = 2',\n",
       " 'a': 2,\n",
       " '_i2': 'globals()',\n",
       " '_2': {...},\n",
       " '_i3': 'globals()[\"a\"]',\n",
       " '_3': 2,\n",
       " '_i4': '# global scope\\n\\ndef scope():\\n    \\n    # local scope\\n    name = \"Mubeen\"\\n    print(locals())\\n    \\n    # here name is a local scope so name are exist in locals \\n\\nscope()',\n",
       " 'scope': <function __main__.scope()>,\n",
       " '_i5': '# try locals in global scope\\n\\nlocals()'}"
      ]
     },
     "execution_count": 5,
     "metadata": {},
     "output_type": "execute_result"
    }
   ],
   "source": [
    "# try locals in global scope\n",
    "\n",
    "locals()\n"
   ]
  },
  {
   "cell_type": "code",
   "execution_count": 6,
   "id": "3c02301c-3279-494c-96ec-229dbbbc6cb5",
   "metadata": {
    "tags": []
   },
   "outputs": [
    {
     "data": {
      "text/plain": [
       "'not found'"
      ]
     },
     "execution_count": 6,
     "metadata": {},
     "output_type": "execute_result"
    }
   ],
   "source": [
    "locals().get(\"name\",\"not found\") # name are not exists in global scope"
   ]
  }
 ],
 "metadata": {
  "kernelspec": {
   "display_name": "Python 3 (ipykernel)",
   "language": "python",
   "name": "python3"
  },
  "language_info": {
   "codemirror_mode": {
    "name": "ipython",
    "version": 3
   },
   "file_extension": ".py",
   "mimetype": "text/x-python",
   "name": "python",
   "nbconvert_exporter": "python",
   "pygments_lexer": "ipython3",
   "version": "3.10.12"
  }
 },
 "nbformat": 4,
 "nbformat_minor": 5
}
