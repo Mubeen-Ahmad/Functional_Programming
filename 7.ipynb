{
 "cells": [
  {
   "cell_type": "markdown",
   "id": "a12ae0f8-7bac-42c5-918c-d738777c7d92",
   "metadata": {},
   "source": [
    "<h1 style=\"text-align:center; color:#005bbd; font-size:20px; font-family:Sans-serif; font-style: oblique; text-shadow: 0 0 3px white, 0 0 1px Black;\">\n",
    "   wraps Functions\n",
    "</h1>"
   ]
  },
  {
   "cell_type": "markdown",
   "id": "3f3a6e56-40c7-43cb-873a-60c244850526",
   "metadata": {},
   "source": [
    "<body style=\"font-family: Sans-serif;\">\n",
    "    <div style=\"color: black; font-size: 15px; font-style: oblique; text-shadow: 0 0 3px white, 0 0 1px black; padding: 20px;\">\n",
    "\n",
    "**Functools.wraps** ek decorator hai jo aapke wrapper function ko original function ke metadata (jaise ke docstring, function name, aur module information) copy karne mein madad karta hai.  \n",
    "  \n",
    "**Bina wraps ke, problem ye hoti hai:**  \n",
    "- Jab aap koi decorator use karte hain, toh wrapper function original function ko wrap kar leta hai.  \n",
    "- Is se original function ka **docstring, name, aur dusri attributes lost ho jati hain** aur wrapper function ka metadata show hota hai.  \n",
    "- Yeh debugging, documentation, aur introspection mein problem create karta hai."
   ]
  },
  {
   "cell_type": "code",
   "execution_count": 1,
   "id": "24a8c244-7d86-4f99-851f-4d8eff7bfc73",
   "metadata": {
    "tags": []
   },
   "outputs": [],
   "source": [
    "def my_decorator(func):\n",
    "    \n",
    "    def wrapper(*args, **kwargs):\n",
    "        \"\"\"This is my decorator\"\"\"\n",
    "        \n",
    "        result = func(*args, **kwargs)\n",
    "        return result\n",
    "    \n",
    "    return wrapper"
   ]
  },
  {
   "cell_type": "code",
   "execution_count": 2,
   "id": "9df89fea-058d-451e-85bf-0bf7a53c4308",
   "metadata": {
    "tags": []
   },
   "outputs": [],
   "source": [
    "@my_decorator\n",
    "def greet(name):\n",
    "    \"\"\"This is greet function\"\"\"\n",
    "    print(f\"Hello, {name}!\")"
   ]
  },
  {
   "cell_type": "code",
   "execution_count": 3,
   "id": "021df8dd-b990-4286-bef7-f5082d427f46",
   "metadata": {
    "tags": []
   },
   "outputs": [
    {
     "name": "stdout",
     "output_type": "stream",
     "text": [
      "Hello, Mubeen!\n"
     ]
    }
   ],
   "source": [
    "greet(\"Mubeen\")"
   ]
  },
  {
   "cell_type": "markdown",
   "id": "e63a2b09-d51b-4c1d-9435-5d1258cf299d",
   "metadata": {},
   "source": [
    "<body style=\"font-family: Sans-serif;\">\n",
    "    <div style=\"color: black; font-size: 15px; font-style: oblique; text-shadow: 0 0 3px white, 0 0 1px black; padding: 20px;\">\n",
    ".__name__ current function ka name check karny k lye use kia gia hy"
   ]
  },
  {
   "cell_type": "code",
   "execution_count": 6,
   "id": "42d0f302-5540-46e0-a413-776a2fa5c5e0",
   "metadata": {
    "tags": []
   },
   "outputs": [
    {
     "data": {
      "text/plain": [
       "'wrapper'"
      ]
     },
     "execution_count": 6,
     "metadata": {},
     "output_type": "execute_result"
    }
   ],
   "source": [
    "greet.__name__"
   ]
  },
  {
   "cell_type": "code",
   "execution_count": 7,
   "id": "34f16556-aa30-435b-b361-a2239451b6e8",
   "metadata": {
    "tags": []
   },
   "outputs": [
    {
     "data": {
      "text/plain": [
       "'This is my decorator'"
      ]
     },
     "execution_count": 7,
     "metadata": {},
     "output_type": "execute_result"
    }
   ],
   "source": [
    "greet.__doc__"
   ]
  },
  {
   "cell_type": "markdown",
   "id": "a07669bb-6f26-4d07-aca4-4fd58f7c5463",
   "metadata": {},
   "source": [
    "<body style=\"font-family: Sans-serif;\">\n",
    "    <div style=\"color: black; font-size: 15px; font-style: oblique; text-shadow: 0 0 3px white, 0 0 1px black; padding: 20px;\">\n",
    "        \n",
    "#### Solution: **functools.wraps ka use**"
   ]
  },
  {
   "cell_type": "code",
   "execution_count": 3,
   "id": "04e3f6bf-081c-4067-8bc9-490fc39ca3b8",
   "metadata": {
    "tags": []
   },
   "outputs": [],
   "source": [
    "from functools import wraps"
   ]
  },
  {
   "cell_type": "code",
   "execution_count": 18,
   "id": "c496ad6b-9090-4b72-8954-021b5e1df628",
   "metadata": {
    "tags": []
   },
   "outputs": [],
   "source": [
    "def my_decorator(func):\n",
    "    \n",
    "    @wraps(func) # Yeh decorator original function ke metadata copy karega.\n",
    "    \n",
    "    def wrapper(*args, **kwargs):\n",
    "        \"\"\"This is my decorator\"\"\"\n",
    "        \n",
    "        result = func(*args, **kwargs)\n",
    "        return result\n",
    "    \n",
    "    return wrapper"
   ]
  },
  {
   "cell_type": "code",
   "execution_count": 24,
   "id": "3fd9056e-c816-4455-89b3-12f0314d8f50",
   "metadata": {
    "tags": []
   },
   "outputs": [],
   "source": [
    "@my_decorator\n",
    "def greet(name):\n",
    "    \"\"\"This is greet function\"\"\"\n",
    "    print(f\"Hello, {name}!\")"
   ]
  },
  {
   "cell_type": "code",
   "execution_count": 25,
   "id": "9888ec64-c6a4-4ba8-b7d4-fc42d145b2bd",
   "metadata": {
    "tags": []
   },
   "outputs": [
    {
     "name": "stdout",
     "output_type": "stream",
     "text": [
      "Hello, Mubeen!\n"
     ]
    }
   ],
   "source": [
    "greet(\"Mubeen\")"
   ]
  },
  {
   "cell_type": "code",
   "execution_count": 26,
   "id": "b3418a94-1810-4577-8f3a-9d1a80eff4eb",
   "metadata": {
    "tags": []
   },
   "outputs": [
    {
     "data": {
      "text/plain": [
       "'greet'"
      ]
     },
     "execution_count": 26,
     "metadata": {},
     "output_type": "execute_result"
    }
   ],
   "source": [
    "greet.__name__"
   ]
  },
  {
   "cell_type": "code",
   "execution_count": 27,
   "id": "4fa60fe7-f6a2-439e-9b9c-7c271b9f239d",
   "metadata": {
    "tags": []
   },
   "outputs": [
    {
     "data": {
      "text/plain": [
       "'This is greet function'"
      ]
     },
     "execution_count": 27,
     "metadata": {},
     "output_type": "execute_result"
    }
   ],
   "source": [
    "greet.__doc__"
   ]
  },
  {
   "cell_type": "markdown",
   "id": "a89cf4f0-2752-45f6-bfae-615569ee04ec",
   "metadata": {
    "tags": []
   },
   "source": [
    "<h1 style=\"text-align:center; color:#005bbd; font-size:20px; font-family:Sans-serif; font-style: oblique; text-shadow: 0 0 3px white, 0 0 1px Black;\">\n",
    "   singledispatch Functions\n",
    "</h1>"
   ]
  },
  {
   "cell_type": "markdown",
   "id": "5ee7d06b-58be-4b4f-8015-f1abad715610",
   "metadata": {},
   "source": [
    "<body style=\"font-family: Sans-serif;\">\n",
    "    <div style=\"color: black; font-size: 15px; font-style: oblique; text-shadow: 0 0 3px white, 0 0 1px black; padding: 20px;\">\n",
    "        \n",
    "`functools.singledispatch` Python ka ek powerful tool hai jo aapko **generic functions** bananay ki sahulat deta hai. \n",
    "\n",
    "Iska matlab hai ke aap ek single function define kar sakte hain jo different types ke liye different behavior show kare—matlab type ke basis par function overloading. \n",
    "\n",
    "Yeh feature Python mein built-in function overloading ko simulate karta hai, kyunki Python mein traditionally overloading supported nahin hota.\n",
    "\n",
    "---\n",
    "\n",
    "#### **Why Use `singledispatch`? (Istemaal kyun karte hain?)**\n",
    "\n",
    "1. **Code Organization aur Reusability:**\n",
    "   - Aap ek generic function likh sakte hain jo multiple types handle kare.\n",
    "   - Alag alag type-specific implementations ko ek hi function ke through organize kiya ja sakta hai.<br><br>\n",
    "\n",
    "2. **Maintainability:**\n",
    "   - Har type ke liye alag function likhne ki bajaye, aap base function define karke usko extend kar sakte hain.\n",
    "   - Code ko modular aur asaan maintain karna hota hai.<br><br>\n",
    "\n",
    "3. **Polymorphism:**\n",
    "   - Function behavior ko type ke hisaab se change kar sakte hain bina function ke naam badle.\n"
   ]
  },
  {
   "cell_type": "code",
   "execution_count": 55,
   "id": "5fd58686-45f2-498c-ae52-ab8f9c583a49",
   "metadata": {
    "tags": []
   },
   "outputs": [],
   "source": [
    "from functools import singledispatch"
   ]
  },
  {
   "cell_type": "code",
   "execution_count": 44,
   "id": "761286de-b25e-43f2-9b34-19a5156757d4",
   "metadata": {
    "tags": []
   },
   "outputs": [],
   "source": [
    "@singledispatch\n",
    "def process_data(data):\n",
    "    return f\"Cannot process data of type {type(data)}\""
   ]
  },
  {
   "cell_type": "markdown",
   "id": "67fc26bf-f7bd-4772-8065-6bd8f7bf037d",
   "metadata": {},
   "source": [
    "<body style=\"font-family: Sans-serif;\">\n",
    "    <div style=\"color: black; font-size: 15px; font-style: oblique; text-shadow: 0 0 3px white, 0 0 1px black; padding: 20px;\"> for Int"
   ]
  },
  {
   "cell_type": "code",
   "execution_count": 45,
   "id": "da43429c-49b6-4bd7-a5d8-6d9c9f010325",
   "metadata": {
    "tags": []
   },
   "outputs": [],
   "source": [
    "@process_data.register(int)\n",
    "def _(data):\n",
    "    print(f\"Processing integer: {data}\")\n",
    "    return data * 2"
   ]
  },
  {
   "cell_type": "markdown",
   "id": "35c1ba78-27d1-40c7-a6d0-ee6d8e8c4f85",
   "metadata": {},
   "source": [
    "<body style=\"font-family: Sans-serif;\">\n",
    "    <div style=\"color: black; font-size: 15px; font-style: oblique; text-shadow: 0 0 3px white, 0 0 1px black; padding: 20px;\"> for string"
   ]
  },
  {
   "cell_type": "code",
   "execution_count": 47,
   "id": "d8e0e960-c307-4ba6-ab1e-6fdaf72f3fb1",
   "metadata": {
    "tags": []
   },
   "outputs": [],
   "source": [
    "@process_data.register(str)\n",
    "def _(data):\n",
    "    print(f\"Processing string: {data}\")\n",
    "    return data.upper()"
   ]
  },
  {
   "cell_type": "markdown",
   "id": "5981482c-6c33-4fce-894a-7519e10fceac",
   "metadata": {},
   "source": [
    "<body style=\"font-family: Sans-serif;\">\n",
    "    <div style=\"color: black; font-size: 15px; font-style: oblique; text-shadow: 0 0 3px white, 0 0 1px black; padding: 20px;\"> for list"
   ]
  },
  {
   "cell_type": "code",
   "execution_count": 48,
   "id": "46630e36-f716-464e-a09b-7dec0b80c479",
   "metadata": {
    "tags": []
   },
   "outputs": [],
   "source": [
    "@process_data.register(list)\n",
    "def _(data):\n",
    "    print(f\"Processing list with {len(data)} elements.\")\n",
    "    return [x * 2 for x in data]"
   ]
  },
  {
   "cell_type": "code",
   "execution_count": 49,
   "id": "12c97010-46e6-4f39-8ce1-1c3b6866f74b",
   "metadata": {
    "tags": []
   },
   "outputs": [
    {
     "name": "stdout",
     "output_type": "stream",
     "text": [
      "Processing integer: 10\n"
     ]
    },
    {
     "data": {
      "text/plain": [
       "20"
      ]
     },
     "execution_count": 49,
     "metadata": {},
     "output_type": "execute_result"
    }
   ],
   "source": [
    "process_data(10) # int"
   ]
  },
  {
   "cell_type": "code",
   "execution_count": 50,
   "id": "d0d6cf5b-b485-4b74-83ce-35f5ed41677c",
   "metadata": {
    "tags": []
   },
   "outputs": [
    {
     "name": "stdout",
     "output_type": "stream",
     "text": [
      "Processing string: mubeen\n"
     ]
    },
    {
     "data": {
      "text/plain": [
       "'MUBEEN'"
      ]
     },
     "execution_count": 50,
     "metadata": {},
     "output_type": "execute_result"
    }
   ],
   "source": [
    "process_data(\"mubeen\") # string"
   ]
  },
  {
   "cell_type": "code",
   "execution_count": 51,
   "id": "b72dfe4b-b23e-4aba-8a41-e518903d6def",
   "metadata": {
    "tags": []
   },
   "outputs": [
    {
     "name": "stdout",
     "output_type": "stream",
     "text": [
      "Processing list with 3 elements.\n"
     ]
    },
    {
     "data": {
      "text/plain": [
       "[2, 4, 6]"
      ]
     },
     "execution_count": 51,
     "metadata": {},
     "output_type": "execute_result"
    }
   ],
   "source": [
    "process_data([1,2,3]) # list"
   ]
  },
  {
   "cell_type": "markdown",
   "id": "1f8934b5-9745-49f3-be2d-64a84e4d40d0",
   "metadata": {},
   "source": [
    "<body style=\"font-family: Sans-serif;\">\n",
    "    <div style=\"color: black; font-size: 15px; font-style: oblique; text-shadow: 0 0 3px white, 0 0 1px black; padding: 20px;\"> Example 2"
   ]
  },
  {
   "cell_type": "code",
   "execution_count": 58,
   "id": "99118437-4d26-4aa4-be52-36fb26423622",
   "metadata": {
    "tags": []
   },
   "outputs": [],
   "source": [
    "import json\n",
    "\n",
    "@singledispatch\n",
    "def serialize(obj):\n",
    "    return f\"Serialization not supported for type {type(obj)}\""
   ]
  },
  {
   "cell_type": "code",
   "execution_count": 59,
   "id": "ba93d866-15aa-43e1-a4a9-02ce52c2b62d",
   "metadata": {
    "tags": []
   },
   "outputs": [],
   "source": [
    "@serialize.register(dict)\n",
    "def _(obj: dict):\n",
    "    print(\"Serializing dictionary\")\n",
    "    return json.dumps(obj)"
   ]
  },
  {
   "cell_type": "code",
   "execution_count": 60,
   "id": "0ea039a3-3b0e-40d6-a41c-6b8efb2a3e30",
   "metadata": {
    "tags": []
   },
   "outputs": [],
   "source": [
    "@serialize.register(list)\n",
    "def _(obj: list):\n",
    "    print(\"Serializing list\")\n",
    "    return json.dumps(obj)"
   ]
  },
  {
   "cell_type": "code",
   "execution_count": 61,
   "id": "8aca8140-5fe2-45ed-acfc-f539ce9f36c7",
   "metadata": {
    "tags": []
   },
   "outputs": [],
   "source": [
    "@serialize.register(int)\n",
    "def _(obj: int):\n",
    "    print(\"Serializing integer\")\n",
    "    return str(obj)"
   ]
  },
  {
   "cell_type": "code",
   "execution_count": 63,
   "id": "70caac8a-4bf0-4a24-8993-2322b795dfa9",
   "metadata": {
    "tags": []
   },
   "outputs": [],
   "source": [
    "# Custom class ke liye serializer.\n",
    "class Person:\n",
    "    def __init__(self, name, age):\n",
    "        self.name = name\n",
    "        self.age = age\n",
    "        \n",
    "@serialize.register(Person)\n",
    "def _(obj: Person):\n",
    "    print(\"Serializing Person object\")\n",
    "    return json.dumps({\"name\": obj.name, \"age\": obj.age})"
   ]
  },
  {
   "cell_type": "code",
   "execution_count": 65,
   "id": "bf83f4de-cbab-40d9-ba18-958504b6dc2e",
   "metadata": {
    "tags": []
   },
   "outputs": [
    {
     "name": "stdout",
     "output_type": "stream",
     "text": [
      "Serializing list\n"
     ]
    },
    {
     "data": {
      "text/plain": [
       "'[1, 2, 3, 4]'"
      ]
     },
     "execution_count": 65,
     "metadata": {},
     "output_type": "execute_result"
    }
   ],
   "source": [
    "serialize([1, 2, 3, 4])"
   ]
  },
  {
   "cell_type": "code",
   "execution_count": null,
   "id": "1dbb7ab4-1e74-46d8-850e-9b70e780a129",
   "metadata": {},
   "outputs": [],
   "source": [
    "serialize({\"key\": \"value\", \"num\": 42})"
   ]
  },
  {
   "cell_type": "code",
   "execution_count": 66,
   "id": "146b55c0-1664-4cc8-94ca-210109714af8",
   "metadata": {
    "tags": []
   },
   "outputs": [
    {
     "name": "stdout",
     "output_type": "stream",
     "text": [
      "Serializing integer\n"
     ]
    },
    {
     "data": {
      "text/plain": [
       "'123'"
      ]
     },
     "execution_count": 66,
     "metadata": {},
     "output_type": "execute_result"
    }
   ],
   "source": [
    "serialize(123)"
   ]
  },
  {
   "cell_type": "code",
   "execution_count": 67,
   "id": "125beda8-8211-4506-88be-8634ff5a18c1",
   "metadata": {
    "tags": []
   },
   "outputs": [
    {
     "name": "stdout",
     "output_type": "stream",
     "text": [
      "Serializing Person object\n"
     ]
    },
    {
     "data": {
      "text/plain": [
       "'{\"name\": \"Ali\", \"age\": 30}'"
      ]
     },
     "execution_count": 67,
     "metadata": {},
     "output_type": "execute_result"
    }
   ],
   "source": [
    "serialize(Person(\"Ali\", 30))"
   ]
  },
  {
   "cell_type": "markdown",
   "id": "9259f369-c3ef-4cc5-a961-551fc0cf1c76",
   "metadata": {},
   "source": [
    "<h1 style=\"text-align:center; color:#005bbd; font-size:20px; font-family:Sans-serif; font-style: oblique; text-shadow: 0 0 3px white, 0 0 1px Black;\">\n",
    "   lru_cache Functions\n",
    "</h1>"
   ]
  },
  {
   "cell_type": "markdown",
   "id": "3e436800-f2da-4e4b-919f-71bd8f64b15d",
   "metadata": {},
   "source": [
    "<body style=\"font-family: Sans-serif;\">\n",
    "    <div style=\"color: black; font-size: 15px; font-style: oblique; text-shadow: 0 0 3px white, 0 0 1px black; padding: 20px;\"> \n",
    "        \n",
    "`functools.lru_cache` ek decorator hai jo function ke results ko cache (yaani temporarily store) kar leta hai.\n",
    "\n",
    "Is se agar aap same arguments ke saath function ko dobara call karte hain, to function dobara calculation nahi karta, balkay cached result return kar deta hai. \n",
    "        \n",
    "Yeh feature khas taur pe un functions ke liye bohot useful hai jin ki calculations expensive  hoti hain aur jinhen bar bar same input ke saath call kiya jata hai.\n",
    "\n",
    "### **Key Points:**\n",
    "\n",
    "- **LRU ka matlab hai \"Least Recently Used\":**  \n",
    "  Yeh cache mechanism aisa hai ke agar cache full ho jaye (maxsize set ho), to sabse pehle un entries ko remove karta hai jo sab se kam use hui hain.\n",
    "  \n",
    "- **Performance Improvement:**  \n",
    "  Agar koi function expensive calculation karta hai (jaise recursive functions, database queries, ya heavy computation), to caching se execution time significantly reduce ho sakta hai.\n",
    "  \n",
    "- **Usage:**  \n",
    "  `@functools.lru_cache(maxsize=None)` se aap cache ka size specify kar sakte hain. Agar `maxsize` ko None set kar dein, to cache size unlimited ho jayegi.\n"
   ]
  },
  {
   "cell_type": "code",
   "execution_count": 4,
   "id": "8254528f-0ec7-4227-8f3e-54c83d2a52e1",
   "metadata": {
    "tags": []
   },
   "outputs": [],
   "source": [
    "from functools import lru_cache\n",
    "import time"
   ]
  },
  {
   "cell_type": "code",
   "execution_count": 27,
   "id": "e373016b-329c-4543-8a46-0bf2e2f93b77",
   "metadata": {
    "tags": []
   },
   "outputs": [],
   "source": [
    "@lru_cache(maxsize=128)\n",
    "def heavy_computation(n):\n",
    "    print(f\"Performing heavy computation for n = {n}\")\n",
    "    time.sleep(2)  \n",
    "    return sum(i * i for i in range(n))"
   ]
  },
  {
   "cell_type": "code",
   "execution_count": 28,
   "id": "ab1d75ca-dfb2-4919-ad7e-02ba7aa1b7d1",
   "metadata": {
    "tags": []
   },
   "outputs": [
    {
     "name": "stdout",
     "output_type": "stream",
     "text": [
      "Performing heavy computation for n = 100000\n",
      "First call result: 333328333350000\n",
      "Time taken for first call: 2.008514404296875 seconds\n",
      "\n"
     ]
    }
   ],
   "source": [
    "start_time = time.time()\n",
    "result1 = heavy_computation(100000)\n",
    "end_time = time.time()\n",
    "print(\"First call result:\", result1)\n",
    "print(\"Time taken for first call:\", end_time - start_time, \"seconds\\n\")"
   ]
  },
  {
   "cell_type": "code",
   "execution_count": 30,
   "id": "3013ee8c-1ff9-4f56-aa33-8dca546b178c",
   "metadata": {
    "tags": []
   },
   "outputs": [
    {
     "name": "stdout",
     "output_type": "stream",
     "text": [
      "Second call result: 333283335000\n",
      "Time taken for second call: 0.00020003318786621094 seconds\n"
     ]
    }
   ],
   "source": [
    "start_time = time.time()\n",
    "result2 = heavy_computation(10000)\n",
    "end_time = time.time()\n",
    "print(\"Second call result:\", result2)\n",
    "print(\"Time taken for second call:\", end_time - start_time, \"seconds\")"
   ]
  },
  {
   "cell_type": "markdown",
   "id": "f6792980-ebeb-4922-8d62-4e82145ea417",
   "metadata": {},
   "source": [
    "<body style=\"font-family: Sans-serif;\">\n",
    "    <div style=\"color: black; font-size: 15px; font-style: oblique; text-shadow: 0 0 3px white, 0 0 1px black; padding: 20px;\"> \n",
    "        \n",
    "1. **Inside Function:**  \n",
    "   - `heavy_computation(n)` ek function hai jo heavy calculation perform karta hai.  \n",
    "   - Is mein `time.sleep(2)` ka use karke 2 seconds ka delay simulate kiya gaya hai, jo represent karta hai ke computation expensive hai.  \n",
    "   - Function n tak ke numbers ke squares ka sum calculate karta hai.<br><br>\n",
    "\n",
    "2. **Caching with lru_cache:**  \n",
    "   - `@functools.lru_cache(maxsize=128)` decorator se function ke results cache ho jate hain.  \n",
    "   - Agar same `n` ke sath function dobara call ho, to expensive computation repeat nahi hogi; balkay cached result turant return ho jayega.<br><br>\n",
    "\n",
    "3. **Performance Improvement:**  \n",
    "   - Pehli call `heavy_computation(10000)` mein 2 seconds ka delay hota hai, kyunki computation actual perform hoti hai.  \n",
    "   - Second call mein same argument ke sath function jaldi execute ho jata hai kyunki result cache mein available hota hai, aur delay bohat kam (almost zero) hota hai."
   ]
  },
  {
   "cell_type": "markdown",
   "id": "c5b54c3a-ff4d-4b05-ab79-1b3556e062b9",
   "metadata": {},
   "source": [
    "<body style=\"font-family: Sans-serif;\">\n",
    "    <div style=\"color: black; font-size: 15px; font-style: oblique; text-shadow: 0 0 3px white, 0 0 1px black; padding: 20px;\"> \n",
    "        \n",
    "### **Advantage of lru_cache** \n",
    "\n",
    "1. **Expensive, Pure Computations:**  \n",
    "   - Aise functions jinka output sirf unke input arguments pe depend karta hai aur jismein koi side effects (jaise file I/O, network calls, ya database updates) nahi hotay.\n",
    "   - Misal ke taur pe, recursive algorithms (jaise Fibonacci), complex mathematical computations, ya koi heavy calculation jismein bar bar same input pe same result milta hai.\n",
    "\n",
    "2. **Repeated Calls with Same Inputs:**  \n",
    "   - Jab function ko baar baar same input ke saath call kiya jata hai, aur har baar woh expensive computation perform kar raha ho.\n",
    "   - Caching se result ek dafa calculate hone ke baad fast return hota hai, jis se performance improve hoti hai.\n",
    "\n",
    "---\n",
    "        \n",
    "### **Disadvantage of Lru_cache:**\n",
    "\n",
    "1. **Functions with Side Effects:**  \n",
    "   - Agar function external state change karta hai (jaise file write, network request, database update) ya koi real-time data fetch karta hai, to caching se expected behavior disturb ho sakta hai.<br><br>\n",
    "\n",
    "2. **Dynamic/Time-Varying Results:**  \n",
    "   - Jab function ka result sirf inputs pe depend nahi karta, balkay environment, time, ya kisi external resource se bhi mutasir hota hai.\n",
    "   - Misal ke taur pe, sensor readings, live API responses, ya koi aisa function jo continuously update hota rahta hai.<br><br>\n",
    "\n",
    "3. **Mutable Inputs:**  \n",
    "   - Agar function mutable objects ke sath kaam karta hai aur in objects mein changes aate rehte hain, to caching se inconsistent ya outdated results mil sakte hain."
   ]
  }
 ],
 "metadata": {
  "kernelspec": {
   "display_name": "Python 3 (ipykernel)",
   "language": "python",
   "name": "python3"
  },
  "language_info": {
   "codemirror_mode": {
    "name": "ipython",
    "version": 3
   },
   "file_extension": ".py",
   "mimetype": "text/x-python",
   "name": "python",
   "nbconvert_exporter": "python",
   "pygments_lexer": "ipython3",
   "version": "3.10.12"
  }
 },
 "nbformat": 4,
 "nbformat_minor": 5
}
