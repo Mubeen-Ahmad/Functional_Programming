{
 "cells": [
  {
   "cell_type": "markdown",
   "id": "6b74dc9d-88c1-4049-8d07-4b2cd58f483b",
   "metadata": {},
   "source": [
    "<h1 style=\"text-align:center; color:#005bbd; font-size:20px; font-family:Sans-serif; font-style: oblique; text-shadow: 0 0 3px white, 0 0 1px Black;\">\n",
    "   Decorators\n",
    "</h1>"
   ]
  },
  {
   "cell_type": "markdown",
   "id": "a9c1e084-07c7-4ca5-be27-773862580060",
   "metadata": {},
   "source": [
    "<body style=\"font-family: Sans-serif;\">\n",
    "    <div style=\"color: black; font-size: 15px; font-style: oblique; text-shadow: 0 0 3px white, 0 0 1px black; padding: 20px;\">\n",
    "Decorators Python mein ek aisa powerful concept hai jo aapko existing functions ya classes ki behavior ko modify karne ka mauka deta hai bina unke source code ko directly badle.<br><br>Ye ek tarah ka \"wrapper\" hota hai jo ek function ko wrap karta hai aur usmein extra functionality add kar deta hai.<br><br>\n",
    "        Python mein decorators 2 qisam ke hote hain:\n",
    "        \n",
    "#### **1. Built-in Decorators**  \n",
    "        \n",
    "- **Definition:**  \n",
    "  Ye woh decorators hain jo Python ke andar pehle se available hote hain aur aap inhe directly use kar sakte hain.  \n",
    "- **Example:**  \n",
    "  - **@staticmethod:**  \n",
    "    - Is ka istemal class ke methods ko static banane ke liye hota hai, jismein instance (self) ya class (cls) ka reference pass nahi hota.  \n",
    "  - **@classmethod:**  \n",
    "    - Ye class methods define karne ke liye use hota hai. In methods mein class ka reference (cls) automatically pass ho jata hai.  \n",
    "  - **@property:**  \n",
    "    - Is se aap getter methods define kar sakte hain, jisse aap class attributes ko property ke roop mein access kar sakte hain bina direct attribute ko modify kiye.  \n",
    "  - **@abstractmethod:**  \n",
    "    - Ye abstract base classes mein use hota hai. Is se aap derived classes ko force karte hain ke woh is method ko override karein.\n",
    "        \n",
    "### **2. User-Defined Decorators**  \n",
    "- **Definition:**  \n",
    "  Ye woh decorators hain jo programmers khud apni zaroorat ke mutabiq create karte hain.  "
   ]
  },
  {
   "cell_type": "code",
   "execution_count": 1,
   "id": "fc991a55-0c6e-49a3-b3f0-cb9eaf9fec0e",
   "metadata": {
    "tags": []
   },
   "outputs": [],
   "source": [
    "def decorator(func):\n",
    "    def wrapper():\n",
    "        print(\"******************** Start ********************\")\n",
    "\n",
    "        # call func (argument of decorator function)\n",
    "        func()\n",
    "\n",
    "        print(\"******************** End ********************\")\n",
    "\n",
    "    return wrapper"
   ]
  },
  {
   "cell_type": "code",
   "execution_count": 2,
   "id": "29a1e8d2-7e77-405a-8602-5c3474f0e560",
   "metadata": {
    "tags": []
   },
   "outputs": [],
   "source": [
    "def message():\n",
    "    print(\"Welcome Mubeen\")"
   ]
  },
  {
   "cell_type": "code",
   "execution_count": 3,
   "id": "79158d98-640f-4b2b-a7a3-7679dfacd1a6",
   "metadata": {
    "tags": []
   },
   "outputs": [
    {
     "name": "stdout",
     "output_type": "stream",
     "text": [
      "******************** Start ********************\n",
      "Welcome Mubeen\n",
      "******************** End ********************\n"
     ]
    }
   ],
   "source": [
    "dec = decorator(message)\n",
    "dec()"
   ]
  },
  {
   "cell_type": "markdown",
   "id": "0c57404b-a72a-4923-8c2d-e58150664f9f",
   "metadata": {},
   "source": [
    "<body style=\"font-family: Sans-serif;\">\n",
    "    <div style=\"color: black; font-size: 15px; font-style: oblique; text-shadow: 0 0 3px white, 0 0 1px black; padding: 20px;\">\n",
    " <br>       \n",
    "Decorators higher order functions hi hotay hain. Higher order functions wo functions hotay hain jo:\n",
    "        <ul><li>Dusre functions ko argument ke tor par accept karte hain, ya</li>\n",
    "            <li>Ek function ko as result return karte hain.</li>\n",
    "        </ul><br>\n",
    "Decorator bhi isi concept par based hotay hain. Wo kisi function ko modify ya enhance karne ke liye use kiye jatay hain, jismein aap original function ko as argument pass karte hain aur ek naya function return hota hai.\n"
   ]
  },
  {
   "cell_type": "code",
   "execution_count": 161,
   "id": "f3b4edfe-3819-4391-bfdc-8307b6b1153b",
   "metadata": {
    "tags": []
   },
   "outputs": [],
   "source": [
    "def decoractors(function):\n",
    "    def wrapper():\n",
    "        print(\"\\nWelcome\\n\")\n",
    "\n",
    "        return function()  # call function\n",
    "\n",
    "    return wrapper"
   ]
  },
  {
   "cell_type": "code",
   "execution_count": 162,
   "id": "25df7858-633c-48a7-af86-34cccc05a798",
   "metadata": {
    "tags": []
   },
   "outputs": [],
   "source": [
    "def func_1():\n",
    "    print(\"I am func_1\")"
   ]
  },
  {
   "cell_type": "code",
   "execution_count": 166,
   "id": "96ad5ef8-bffb-4e3f-af09-04325c2b931a",
   "metadata": {
    "tags": []
   },
   "outputs": [],
   "source": [
    "var = decoractors(func_1)"
   ]
  },
  {
   "cell_type": "code",
   "execution_count": 168,
   "id": "72c4c27a-2f4c-492d-832e-a938ba8bd64b",
   "metadata": {
    "tags": []
   },
   "outputs": [
    {
     "name": "stdout",
     "output_type": "stream",
     "text": [
      "\n",
      "Welcome\n",
      "\n",
      "I am func_1\n"
     ]
    }
   ],
   "source": [
    "var()"
   ]
  },
  {
   "cell_type": "markdown",
   "id": "c6d159e4-60c4-45f1-9c18-26bb775d5cf4",
   "metadata": {},
   "source": [
    "<body style=\"font-family: Sans-serif;\">\n",
    "    <div style=\"color: black; font-size: 15px; font-style: oblique; text-shadow: 0 0 3px white, 0 0 1px black; padding: 20px;\">\n",
    "Dono functions ko ek sath bhi call kar sakte hain bina kisi variable mein store kiye.<br>Aap directly function ko call kar sakte hain."
   ]
  },
  {
   "cell_type": "code",
   "execution_count": 169,
   "id": "cb89e29c-1090-423e-8e0b-85991e3b71b0",
   "metadata": {
    "tags": []
   },
   "outputs": [
    {
     "name": "stdout",
     "output_type": "stream",
     "text": [
      "\n",
      "Welcome\n",
      "\n",
      "I am func_1\n"
     ]
    }
   ],
   "source": [
    "decoractors(func_1)()"
   ]
  },
  {
   "cell_type": "markdown",
   "id": "b2890b66-8a18-4c23-bd59-ef0bb445669d",
   "metadata": {},
   "source": [
    "<body style=\"font-family: Sans-serif;\">\n",
    "    <div style=\"color: black; font-size: 15px; font-style: oblique; text-shadow: 0 0 3px white, 0 0 1px black; padding: 20px;\">\n",
    "        <h4>@ Symbole</h4>\n",
    "        <ul>@ Symbole Ko decorator syntax kehte hain. Iska maksad yeh hota hai ke aap kisi function ko directly decorate kar saken without usay manually kisi variable mein store kiye.</ul>"
   ]
  },
  {
   "cell_type": "code",
   "execution_count": 170,
   "id": "d48ab2c0-a202-47bb-86e9-f52a1462045b",
   "metadata": {
    "tags": []
   },
   "outputs": [],
   "source": [
    "def decoractors(function):\n",
    "    def wrapper():\n",
    "        print(\"\\nWelcome\\n\")\n",
    "\n",
    "        return function()\n",
    "\n",
    "    return wrapper"
   ]
  },
  {
   "cell_type": "markdown",
   "id": "687e00b8-d0a2-49d3-9e69-67641904e809",
   "metadata": {},
   "source": [
    "<body style=\"font-family: Sans-serif;\">\n",
    "    <div style=\"color: black; font-size: 15px; font-style: oblique; text-shadow: 0 0 3px white, 0 0 1px black; padding: 20px;\">\n",
    "@function_name yeh decorators ko use karne ka ek shortcut hai jo code ko readable aur clean banata hai."
   ]
  },
  {
   "cell_type": "code",
   "execution_count": 178,
   "id": "ed2c4d01-2d55-4b45-98cc-579f14a3cd63",
   "metadata": {
    "tags": []
   },
   "outputs": [],
   "source": [
    "@decoractors\n",
    "def func1():\n",
    "    print(\"I am func1\")"
   ]
  },
  {
   "cell_type": "code",
   "execution_count": 179,
   "id": "fe218d1f-d064-4a12-9bd8-d6770ec8225c",
   "metadata": {
    "tags": []
   },
   "outputs": [
    {
     "name": "stdout",
     "output_type": "stream",
     "text": [
      "\n",
      "Welcome\n",
      "\n",
      "I am func1\n"
     ]
    }
   ],
   "source": [
    "func1()"
   ]
  },
  {
   "cell_type": "code",
   "execution_count": 181,
   "id": "a7f5e6cb-bb0e-4c93-a9bb-52f6c7f5aef2",
   "metadata": {
    "tags": []
   },
   "outputs": [],
   "source": [
    "@decoractors\n",
    "def func2():\n",
    "    print(\"I am func2\")\n",
    "\n",
    "\n",
    "@decoractors\n",
    "def func3():\n",
    "    print(\"I am func3\")"
   ]
  },
  {
   "cell_type": "code",
   "execution_count": 182,
   "id": "3d864b41-323e-4d41-aa9f-5f8e1de5163c",
   "metadata": {
    "tags": []
   },
   "outputs": [
    {
     "name": "stdout",
     "output_type": "stream",
     "text": [
      "\n",
      "Welcome\n",
      "\n",
      "I am func2\n"
     ]
    }
   ],
   "source": [
    "func2()"
   ]
  },
  {
   "cell_type": "code",
   "execution_count": 183,
   "id": "297e1ae5-26b7-4798-abc8-41a7b927df39",
   "metadata": {
    "tags": []
   },
   "outputs": [
    {
     "name": "stdout",
     "output_type": "stream",
     "text": [
      "\n",
      "Welcome\n",
      "\n",
      "I am func3\n"
     ]
    }
   ],
   "source": [
    "func3()"
   ]
  },
  {
   "cell_type": "markdown",
   "id": "be996c37-647e-4d74-82a6-480ac13d8a64",
   "metadata": {},
   "source": [
    "<body style=\"font-family: Sans-serif;\">\n",
    "    <div style=\"color: black; font-size: 15px; font-style: oblique; text-shadow: 0 0 3px white, 0 0 1px black; padding: 20px;\">\n",
    "        \n",
    " #### **Python decorators** ke liye yeh 3 cheezen **zaroori** hoti hain:  \n",
    "\n",
    "#### **1. Function ko as Parameter Lena**  \n",
    "   - Decorator ek **higher-order function** hota hai jo kisi function ko input mein leta hai.  \n",
    "   \n",
    "#### **2. Inner Function Se Naya Behavior Add Karna**  \n",
    "   - Ek **inner function** likhna hota hai jo **original function ki functionality modify ya enhance kare**.  \n",
    "   \n",
    "#### **3. Function Reference Return Karna**  \n",
    "   - Decorator **inner function ka reference return** karta hai, taake original function ki jagah **modified function** execute ho.  "
   ]
  },
  {
   "cell_type": "code",
   "execution_count": 185,
   "id": "6ef64524-a3e8-44a3-9837-b770f87a3892",
   "metadata": {
    "tags": []
   },
   "outputs": [],
   "source": [
    "def my_decorator(func):  # (1) Function ko parameter lena\n",
    "    def wrapper():  # (2) Inner function jo extra functionality add karega\n",
    "        print(\"Function call hone se pehle...\")\n",
    "\n",
    "        func()\n",
    "\n",
    "        print(\"Function call hone ke baad...\")\n",
    "\n",
    "    return wrapper  # (3) Inner function ka reference return karna"
   ]
  },
  {
   "cell_type": "code",
   "execution_count": 186,
   "id": "18beb9f9-6058-433d-83bf-f0a9b2f31df5",
   "metadata": {
    "tags": []
   },
   "outputs": [
    {
     "name": "stdout",
     "output_type": "stream",
     "text": [
      "Function call hone se pehle...\n",
      "Hello, World!\n",
      "Function call hone ke baad...\n"
     ]
    }
   ],
   "source": [
    "@my_decorator  # Yeh \"say_hello = my_decorator(say_hello)\" ke barabar hai\n",
    "def say_hello():\n",
    "    print(\"Hello, World!\")\n",
    "\n",
    "\n",
    "say_hello()"
   ]
  },
  {
   "cell_type": "markdown",
   "id": "1750c7bf-f91f-475c-9a23-36f1e3d2a113",
   "metadata": {},
   "source": [
    "<h1 style=\"text-align:center; color:#005bbd; font-size:20px; font-family:Sans-serif; font-style: oblique; text-shadow: 0 0 3px white, 0 0 1px Black;\">\n",
    "   Decorators Vs Higer Order Function\n",
    "</h1>"
   ]
  },
  {
   "cell_type": "markdown",
   "id": "df0750cd-f40c-4487-9a56-528b823a836a",
   "metadata": {},
   "source": [
    "<body style=\"font-family: Sans-serif;\">\n",
    "    <div style=\"color: black; font-size: 15px; font-style: oblique; text-shadow: 0 0 3px white, 0 0 1px black; padding: 20px;\">\n",
    "        \n",
    "- **Higher Order Function:**  \n",
    "  - General purpose functions hotay hain, jaise callbacks, iterations, etc.  \n",
    "  - Aap inhein alag alag tasks ke liye use kar sakte hain.  <br><br>\n",
    "\n",
    "- **Decorator:**  \n",
    "  - Special tarike se likhe jate hain function modifications ke liye.  \n",
    "  - `@` syntax ka istemal karke directly function definition ke upar lagaya jata hai, jisse code zyada readable aur maintainable hota hai."
   ]
  },
  {
   "cell_type": "markdown",
   "id": "dd653bbd-da49-4cdf-9d55-583117c7c3a8",
   "metadata": {},
   "source": [
    "- **Higher Order Function Example:**  \n",
    "  Aap manually function ko pass karke ya uska result store karke use karte hain.  "
   ]
  },
  {
   "cell_type": "code",
   "execution_count": 190,
   "id": "5eec0ed2-b0f9-4a3d-9cd1-6d2abbcf6c57",
   "metadata": {
    "tags": []
   },
   "outputs": [
    {
     "name": "stdout",
     "output_type": "stream",
     "text": [
      "Pehle call hota hai (HOF)\n",
      "Hello, World!\n",
      "Baad mein call hota hai (HOF)\n"
     ]
    }
   ],
   "source": [
    "def hof(func):\n",
    "\n",
    "    # Extra functionality add karne ke liye inner function\n",
    "    def inner():\n",
    "        print(\"Pehle call hota hai (HOF)\")\n",
    "\n",
    "        result = func()\n",
    "\n",
    "        print(\"Baad mein call hota hai (HOF)\")\n",
    "        return result\n",
    "\n",
    "    return inner\n",
    "\n",
    "\n",
    "def say_hello():\n",
    "    print(\"Hello, World!\")\n",
    "\n",
    "\n",
    "# Manually higher order function use karna:\n",
    "decorated_func = hof(say_hello)\n",
    "decorated_func()"
   ]
  },
  {
   "cell_type": "markdown",
   "id": "59b70b71-e2b4-4278-b3dc-d3ea488615e4",
   "metadata": {},
   "source": [
    "- **Decorator:**  \n",
    "  Aap `@decorator_name` ka syntax use karte hain jo internally higher order function hi hota hai."
   ]
  },
  {
   "cell_type": "code",
   "execution_count": 192,
   "id": "a93ea9b3-571c-47f6-ad06-64977c1d5cd3",
   "metadata": {
    "tags": []
   },
   "outputs": [
    {
     "name": "stdout",
     "output_type": "stream",
     "text": [
      "Pehle call hota hai (Decorator)\n",
      "Hello, Decorators!\n",
      "Baad mein call hota hai (Decorator)\n"
     ]
    }
   ],
   "source": [
    "def my_decorator(func):\n",
    "    def wrapper():\n",
    "        print(\"Pehle call hota hai (Decorator)\")\n",
    "\n",
    "        result = func()\n",
    "\n",
    "        print(\"Baad mein call hota hai (Decorator)\")\n",
    "        return result\n",
    "\n",
    "    return wrapper\n",
    "\n",
    "\n",
    "@my_decorator  # Yeh decorator syntax hai\n",
    "def greet():\n",
    "    print(\"Hello, Decorators!\")\n",
    "\n",
    "\n",
    "greet()"
   ]
  },
  {
   "cell_type": "markdown",
   "id": "ac473337-771f-4d26-8bff-35c1f6e103bc",
   "metadata": {},
   "source": [
    "<body style=\"font-family: Sans-serif;\">\n",
    "    <div style=\"color: black; font-size: 15px; font-style: oblique; text-shadow: 0 0 3px white, 0 0 1px black; padding: 20px;\">\n",
    "        \n",
    "- **Har decorator ek higher order function hi hota hai,** magar har higher order function decorator nahi hota.  <br><br>\n",
    "- Decorators ka maqsad mainly function ke behavior ko modify ya enhance karna hota hai, jabke higher order functions ka scope zyada generic hai.  <br><br>\n",
    "- Decorators ko apply karne se code zyada concise aur readable ban jata hai, kyunke aap function definitions ke upar hi extra functionality specify kar dete hain.\n"
   ]
  },
  {
   "cell_type": "markdown",
   "id": "278a1691-5075-4f95-81a6-c89b1ce475a5",
   "metadata": {},
   "source": [
    "<body style=\"font-family: Sans-serif;\">\n",
    "    <div style=\"color: black; font-size: 15px; font-style: oblique; text-shadow: 0 0 3px white, 0 0 1px black; padding: 20px;\">\n",
    "\n",
    "- #### Decorators kahan use kiye jate hain?\n",
    "        \n",
    "Example :\n",
    "        map 1 Bulit in Higher Order Function hy Jo 1 Iterator ky all Elements Per Operations Perform Karta hy"
   ]
  },
  {
   "cell_type": "code",
   "execution_count": 293,
   "id": "8eb43e45-b2db-4f09-bcc1-1ca58ea5a412",
   "metadata": {
    "tags": []
   },
   "outputs": [],
   "source": [
    "def square(n):\n",
    "    return n * 2"
   ]
  },
  {
   "cell_type": "code",
   "execution_count": 349,
   "id": "6a4e951d-ff6c-4ad3-8733-155496a36dc0",
   "metadata": {
    "tags": []
   },
   "outputs": [],
   "source": [
    "numbers = [5, 3, 4, 9, 5, 9]"
   ]
  },
  {
   "cell_type": "code",
   "execution_count": 350,
   "id": "501a1cba-a63b-4730-8118-1ba6f49a1c45",
   "metadata": {
    "tags": []
   },
   "outputs": [
    {
     "data": {
      "text/plain": [
       "[10, 6, 8, 18, 10, 18]"
      ]
     },
     "execution_count": 350,
     "metadata": {},
     "output_type": "execute_result"
    }
   ],
   "source": [
    "list(map(double, numbers))"
   ]
  },
  {
   "cell_type": "markdown",
   "id": "45157733-2b83-47f3-8210-3023d4541a2c",
   "metadata": {
    "tags": []
   },
   "source": [
    "<body style=\"font-family: Sans-serif;\">\n",
    "    <div style=\"color: black; font-size: 15px; font-style: oblique; text-shadow: 0 0 3px white, 0 0 1px black; padding: 20px;\">\n",
    "Ab Hum Khud a map Function banaty hn"
   ]
  },
  {
   "cell_type": "code",
   "execution_count": 351,
   "id": "711e6443-e97e-44bd-b388-5c95dad5f6e7",
   "metadata": {
    "tags": []
   },
   "outputs": [],
   "source": [
    "def my_map(func):\n",
    "    def wrapper(lst):\n",
    "\n",
    "        data = []\n",
    "\n",
    "        for i in lst:\n",
    "            item = func(i)\n",
    "            data.append(item)\n",
    "\n",
    "        return data\n",
    "\n",
    "    return wrapper"
   ]
  },
  {
   "cell_type": "code",
   "execution_count": 352,
   "id": "a78bdcd7-3b5c-46a8-9399-237d36706e5a",
   "metadata": {
    "tags": []
   },
   "outputs": [],
   "source": [
    "def square(n):\n",
    "    return n * 2"
   ]
  },
  {
   "cell_type": "code",
   "execution_count": 353,
   "id": "b31f6020-68fc-4c90-8cb0-4f1f1307a6b7",
   "metadata": {
    "tags": []
   },
   "outputs": [
    {
     "data": {
      "text/plain": [
       "[10, 6, 8, 18, 10, 18]"
      ]
     },
     "execution_count": 353,
     "metadata": {},
     "output_type": "execute_result"
    }
   ],
   "source": [
    "var = my_map(square)\n",
    "\n",
    "var(numbers)"
   ]
  },
  {
   "cell_type": "markdown",
   "id": "417d7d17-d05b-4962-b9b0-794a68d898de",
   "metadata": {
    "tags": []
   },
   "source": [
    "<body style=\"font-family: Sans-serif;\">\n",
    "    <div style=\"color: black; font-size: 15px; font-style: oblique; text-shadow: 0 0 3px white, 0 0 1px black; padding: 20px;\">\n",
    "Ab Hum agr @ ka use kary gn to Decorators Kahy gn"
   ]
  },
  {
   "cell_type": "code",
   "execution_count": 354,
   "id": "ce948cd1-d7dc-48bf-960d-0207e494bcb3",
   "metadata": {
    "tags": []
   },
   "outputs": [],
   "source": [
    "@my_map\n",
    "def square(n):\n",
    "    return n * 2"
   ]
  },
  {
   "cell_type": "code",
   "execution_count": 355,
   "id": "60b6538e-d78e-48c9-8c3d-ed0679e9ba87",
   "metadata": {
    "tags": []
   },
   "outputs": [
    {
     "data": {
      "text/plain": [
       "[10, 6, 8, 18, 10, 18]"
      ]
     },
     "execution_count": 355,
     "metadata": {},
     "output_type": "execute_result"
    }
   ],
   "source": [
    "square(numbers)"
   ]
  },
  {
   "cell_type": "markdown",
   "id": "4b54f24e-3a7f-49a1-822f-815c745dce2d",
   "metadata": {},
   "source": [
    "<body style=\"font-family: Sans-serif;\">\n",
    "    <div style=\"color: black; font-size: 15px; font-style: oblique; text-shadow: 0 0 3px white, 0 0 1px black; padding: 20px;\">\n",
    "Ab Hume ye karna hy ky 9 sy bady Numbers ko Hata dn to Hume Additional Functionality Chiye To hum Decorators ka use kry gn bcz ye Functionality map mein nahi hn"
   ]
  },
  {
   "cell_type": "code",
   "execution_count": 363,
   "id": "4982ba0a-e4fc-46ce-a060-5407f3dcc41e",
   "metadata": {
    "tags": []
   },
   "outputs": [],
   "source": [
    "def limit_map(func):\n",
    "    def wrapper(iterator):\n",
    "\n",
    "        data = []\n",
    "\n",
    "        for i in iterator:\n",
    "\n",
    "            item = func(i)\n",
    "\n",
    "            if item <= 9:\n",
    "                data.append(item)\n",
    "\n",
    "        return data\n",
    "\n",
    "    return wrapper"
   ]
  },
  {
   "cell_type": "code",
   "execution_count": 365,
   "id": "5890f16d-d20b-414e-b106-e85db8e62515",
   "metadata": {
    "tags": []
   },
   "outputs": [],
   "source": [
    "@limit_map\n",
    "def square(n):\n",
    "    return n * 2"
   ]
  },
  {
   "cell_type": "code",
   "execution_count": 366,
   "id": "deaf5166-512e-4bba-bcef-87445e8dded7",
   "metadata": {
    "tags": []
   },
   "outputs": [
    {
     "data": {
      "text/plain": [
       "[6, 8]"
      ]
     },
     "execution_count": 366,
     "metadata": {},
     "output_type": "execute_result"
    }
   ],
   "source": [
    "square(numbers)"
   ]
  },
  {
   "cell_type": "markdown",
   "id": "9a499b45-703c-485b-8d0f-c2dead5f7b0c",
   "metadata": {},
   "source": [
    "<body style=\"font-family: Sans-serif;\">\n",
    "    <div style=\"color: black; font-size: 15px; font-style: oblique; text-shadow: 0 0 3px white, 0 0 1px black; padding: 20px;\">\n",
    "Agar aapko kisi function ke behavior mein extra functionality add karni ho (bina us function ke code ko directly modify kiye, to aap decorator ka use karte hain."
   ]
  },
  {
   "cell_type": "markdown",
   "id": "2395d296-44d3-41dc-acb8-f957042c2f3c",
   "metadata": {
    "tags": []
   },
   "source": [
    "<h1 style=\"text-align:center; color:#005bbd; font-size:20px; font-family:Sans-serif; font-style: oblique; text-shadow: 0 0 3px white, 0 0 1px Black;\">\n",
    "Multiple Decorators\n",
    "</h1>"
   ]
  },
  {
   "cell_type": "markdown",
   "id": "d58d3509-74f1-4562-a3f2-cf74c2387181",
   "metadata": {},
   "source": [
    "<body style=\"font-family: Sans-serif;\">\n",
    "    <div style=\"color: black; font-size: 15px; font-style: oblique; text-shadow: 0 0 3px white, 0 0 1px black; padding: 20px;\">\n",
    "        \n",
    "Multiple decorators ka matlab hai ke aap ek function par ek se zyada decorators apply kar sakte hain. \n",
    "        \n",
    "Iska matlab yeh hua ke function ke upar multiple decorator lines likh sakte hain, jo function ke behavior ko modify ya enhance karte hain. \n",
    "        <br><br><b>Example\n",
    "            <img src=\"./images/multi_dec.png\">"
   ]
  },
  {
   "cell_type": "code",
   "execution_count": 291,
   "id": "5e4f8db3-b7d5-41f3-8cfb-20b688fbd219",
   "metadata": {},
   "outputs": [],
   "source": [
    "def dec1(func):\n",
    "    def inner(n):\n",
    "        # =========================================\n",
    "                                                # 1\n",
    "        print(\"dec1 - inner\")\n",
    "        data = func(n) # dec2 - inner function  \n",
    "        print(\"dec1 - inner\")                   # 5\n",
    "        return data\n",
    "        #==========================================\n",
    "    return inner\n",
    "        \n",
    "        \n",
    "\n",
    "def dec2(func):\n",
    "    def inner(n):\n",
    "        # =========================================\n",
    "                                                # 2\n",
    "        print(\"dec2 - inner\")\n",
    "        data = func(n) # main function    \n",
    "        print(\"dec2 - inner\")                   # 4\n",
    "        return data\n",
    "        # =========================================\n",
    "    return inner\n",
    "        "
   ]
  },
  {
   "cell_type": "code",
   "execution_count": 292,
   "id": "a742df57-6228-493f-b7fc-56eb88ec9405",
   "metadata": {},
   "outputs": [],
   "source": [
    "@dec1\n",
    "@dec2\n",
    "def main(n):\n",
    "    # 3\n",
    "    print(\"main function\")\n",
    "    return n"
   ]
  },
  {
   "cell_type": "code",
   "execution_count": 293,
   "id": "3166a5db-779a-44a8-9795-5bccc4f12eb3",
   "metadata": {},
   "outputs": [
    {
     "name": "stdout",
     "output_type": "stream",
     "text": [
      "dec1 - inner\n",
      "dec2 - inner\n",
      "main function\n",
      "dec2 - inner\n",
      "dec1 - inner\n"
     ]
    },
    {
     "data": {
      "text/plain": [
       "10"
      ]
     },
     "execution_count": 293,
     "metadata": {},
     "output_type": "execute_result"
    }
   ],
   "source": [
    "main(10)"
   ]
  },
  {
   "cell_type": "markdown",
   "id": "30782975-a40f-4b3e-89b5-a16c05a63130",
   "metadata": {
    "tags": []
   },
   "source": [
    "<body style=\"font-family: Sans-serif;\">\n",
    "<div style=\"color: black; font-size: 15px; font-style: oblique; text-shadow: 0 0 3px white, 0 0 1px black; padding: 20px;\">\n",
    "      Useful Example"
   ]
  },
  {
   "cell_type": "code",
   "execution_count": 295,
   "id": "2a4e7241-add4-4933-9862-5ef15035b4ad",
   "metadata": {
    "tags": []
   },
   "outputs": [],
   "source": [
    "import time"
   ]
  },
  {
   "cell_type": "code",
   "execution_count": 303,
   "id": "45e8b5b0-e6d2-4153-90bf-d67380f90a75",
   "metadata": {
    "tags": []
   },
   "outputs": [],
   "source": [
    "def logs(func):\n",
    "    def inner(n):\n",
    "        data = func(n)\n",
    "        return f\"Length {len(data)}\"\n",
    "    return inner\n",
    "\n",
    "def time_log(func):\n",
    "    def inner(n):\n",
    "        t1 = time.time()\n",
    "        data = func(n)\n",
    "        t2 = time.time()\n",
    "        print(\"Time\",t2-t1)\n",
    "        return data\n",
    "    return inner"
   ]
  },
  {
   "cell_type": "code",
   "execution_count": 304,
   "id": "bf6ed7fb-4c56-4bc6-a990-5bf978d2adbd",
   "metadata": {
    "tags": []
   },
   "outputs": [],
   "source": [
    "@logs\n",
    "@time_log\n",
    "def process(n):\n",
    "    return [i for i in range(n)]"
   ]
  },
  {
   "cell_type": "code",
   "execution_count": 305,
   "id": "b5f2d401-0b0c-4261-9416-8aaf539795ac",
   "metadata": {
    "tags": []
   },
   "outputs": [
    {
     "name": "stdout",
     "output_type": "stream",
     "text": [
      "Time 2.8741507530212402\n"
     ]
    },
    {
     "data": {
      "text/plain": [
       "'Length 90000000'"
      ]
     },
     "execution_count": 305,
     "metadata": {},
     "output_type": "execute_result"
    }
   ],
   "source": [
    "process(90000000)"
   ]
  },
  {
   "cell_type": "markdown",
   "id": "da364465-b22e-4de7-a3e7-8d02d1979336",
   "metadata": {},
   "source": [
    "<h1 style=\"text-align:center; color:#005bbd; font-size:20px; font-family:Sans-serif; font-style: oblique; text-shadow: 0 0 3px white, 0 0 1px Black;\">\n",
    "Parameters in Decorators\n",
    "</h1>"
   ]
  },
  {
   "cell_type": "markdown",
   "id": "3d9bcec2-cc99-413e-be51-44c0ef970b2b",
   "metadata": {
    "tags": []
   },
   "source": [
    "<body style=\"font-family: Sans-serif;\">\n",
    "<div style=\"color: black; font-size: 15px; font-style: oblique; text-shadow: 0 0 3px white, 0 0 1px black; padding: 20px;\">\n",
    "\n",
    "<h4><li>Agar hum decorator ko koi extra parameter dena chahein, toh ek extra function banana hoga."
   ]
  },
  {
   "cell_type": "code",
   "execution_count": 314,
   "id": "54582833-057c-46ec-9466-c994cee42ea2",
   "metadata": {
    "tags": []
   },
   "outputs": [],
   "source": [
    "def log(level): \n",
    "    def decorator(func):  \n",
    "        def wrapper():\n",
    "            print(\"START\")\n",
    "            func()\n",
    "            print(\"Parameter\",level)\n",
    "            print(\"END\")\n",
    "        return wrapper\n",
    "    return decorator  "
   ]
  },
  {
   "cell_type": "code",
   "execution_count": 315,
   "id": "79bfefce-af43-49d0-97da-d3f539707cf6",
   "metadata": {
    "tags": []
   },
   "outputs": [
    {
     "name": "stdout",
     "output_type": "stream",
     "text": [
      "START\n",
      "Hello, World!\n",
      "Parameter DEBUG\n",
      "END\n"
     ]
    }
   ],
   "source": [
    "@log(\"DEBUG\") \n",
    "def greet():\n",
    "    print(\"Hello, World!\")\n",
    "\n",
    "greet()"
   ]
  },
  {
   "cell_type": "markdown",
   "id": "ea98666d-e218-44c3-a8c8-93856f51aa5c",
   "metadata": {},
   "source": [
    "<body style=\"font-family: Sans-serif;\">\n",
    "<div style=\"color: black; font-size: 15px; font-style: oblique; text-shadow: 0 0 3px white, 0 0 1px black; padding: 20px;\">\n",
    "Example 1"
   ]
  },
  {
   "cell_type": "code",
   "execution_count": 331,
   "id": "6eb0312c-d1d7-48b8-8d78-b829dc1718dd",
   "metadata": {
    "tags": []
   },
   "outputs": [],
   "source": [
    "def logs(level):\n",
    "    def decorator(func):\n",
    "        def inner(n):\n",
    "            \n",
    "            if level == \"INFO\":\n",
    "                print(\"Information log are activated\")\n",
    "                func(n)\n",
    "                \n",
    "            elif level == \"DEBUG\":\n",
    "                print(\"Debugging log are activated\")\n",
    "                func(n)\n",
    "                \n",
    "        return inner\n",
    "    return decorator"
   ]
  },
  {
   "cell_type": "code",
   "execution_count": 332,
   "id": "569c4aca-bf16-472a-85a9-99204b4edb64",
   "metadata": {
    "tags": []
   },
   "outputs": [],
   "source": [
    "@logs(\"INFO\")\n",
    "def process(n):\n",
    "    print(f\"Processing {n} items...\")"
   ]
  },
  {
   "cell_type": "code",
   "execution_count": 334,
   "id": "c4b3f078-4664-4d30-9028-ca69f7f5b357",
   "metadata": {
    "tags": []
   },
   "outputs": [],
   "source": [
    "@logs(\"DEBUG\")\n",
    "def capture(n):\n",
    "    print(f\"Capturing {n} items...\")"
   ]
  },
  {
   "cell_type": "code",
   "execution_count": 329,
   "id": "e7373258-955c-4c15-a44b-9c141c8f9224",
   "metadata": {
    "tags": []
   },
   "outputs": [
    {
     "name": "stdout",
     "output_type": "stream",
     "text": [
      "Information log are activated\n",
      "Processing 100 items...\n"
     ]
    }
   ],
   "source": [
    "process(100)"
   ]
  },
  {
   "cell_type": "code",
   "execution_count": 335,
   "id": "77942c9c-9e73-4cce-a6f5-e8a954761732",
   "metadata": {
    "tags": []
   },
   "outputs": [
    {
     "name": "stdout",
     "output_type": "stream",
     "text": [
      "Debugging log are activated\n",
      "Capturing 30 items...\n"
     ]
    }
   ],
   "source": [
    "capture(30)"
   ]
  },
  {
   "cell_type": "markdown",
   "id": "b51e2f56-587a-463b-9e1b-8435d1955be7",
   "metadata": {},
   "source": [
    "<body style=\"font-family: Sans-serif;\">\n",
    "<div style=\"color: black; font-size: 15px; font-style: oblique; text-shadow: 0 0 3px white, 0 0 1px black; padding: 20px;\">\n",
    "Example 2"
   ]
  },
  {
   "cell_type": "code",
   "execution_count": 345,
   "id": "5192bff4-34ca-43ea-9c09-847d8a16b304",
   "metadata": {
    "tags": []
   },
   "outputs": [],
   "source": [
    "def debug_mode(enable=True):\n",
    "    def decorator(func):\n",
    "        def wrapper():\n",
    "            \n",
    "            if enable:\n",
    "                print(f\"DEGUG MODE ACTIWATED\")\n",
    "                \n",
    "            result = func()\n",
    "            \n",
    "            if enable:\n",
    "                print(f\"EXECUATION COMPLETED\")\n",
    "                \n",
    "            return result\n",
    "        return wrapper\n",
    "    return decorator"
   ]
  },
  {
   "cell_type": "code",
   "execution_count": 346,
   "id": "46497936-027d-4776-b983-36569833200b",
   "metadata": {
    "tags": []
   },
   "outputs": [],
   "source": [
    "@debug_mode(True)\n",
    "def run_task():\n",
    "    print(\"Running Task...\")"
   ]
  },
  {
   "cell_type": "code",
   "execution_count": 347,
   "id": "b3dcea80-a955-4f33-af3e-833cc74f67a3",
   "metadata": {
    "tags": []
   },
   "outputs": [],
   "source": [
    "@debug_mode(False)\n",
    "def silent_task():\n",
    "    print(\"Silent Task Running...\")"
   ]
  },
  {
   "cell_type": "code",
   "execution_count": 348,
   "id": "9c58195b-9b7f-4388-8687-3b18456d7b1f",
   "metadata": {
    "tags": []
   },
   "outputs": [
    {
     "name": "stdout",
     "output_type": "stream",
     "text": [
      "DEGUG MODE ACTIWATED\n",
      "Running Task...\n",
      "EXECUATION COMPLETED\n"
     ]
    }
   ],
   "source": [
    "run_task()"
   ]
  },
  {
   "cell_type": "code",
   "execution_count": 349,
   "id": "8c4916a5-0132-4d7d-98f7-1fcfa8fab82d",
   "metadata": {
    "tags": []
   },
   "outputs": [
    {
     "name": "stdout",
     "output_type": "stream",
     "text": [
      "Silent Task Running...\n"
     ]
    }
   ],
   "source": [
    "silent_task()"
   ]
  },
  {
   "cell_type": "markdown",
   "id": "21b8f06e-2429-49ab-b2d0-949a4300f99d",
   "metadata": {},
   "source": [
    "<h1 style=\"text-align:center; color:#005bbd; font-size:20px; font-family:Sans-serif; font-style: oblique; text-shadow: 0 0 3px white, 0 0 1px Black;\">\n",
    "Arags and Kwargs in Decorators\n",
    "</h1>"
   ]
  },
  {
   "cell_type": "markdown",
   "id": "c046e5c2-0635-4cd3-85d7-3bb1486047dc",
   "metadata": {},
   "source": [
    "<body style=\"font-family: Sans-serif;\">\n",
    "<div style=\"color: black; font-size: 15px; font-style: oblique; text-shadow: 0 0 3px white, 0 0 1px black; padding: 20px;\">\n",
    "Agar hum ek decorator banayen jo sirf fixed arguments handle kare, toh uska use limited ho jata hai."
   ]
  },
  {
   "cell_type": "code",
   "execution_count": 350,
   "id": "103e973d-0b48-482c-9e71-8d0e432277da",
   "metadata": {
    "tags": []
   },
   "outputs": [],
   "source": [
    "def log(func):\n",
    "    def wrapper(a, b): # only accept 2 arguments\n",
    "        result = func(a, b)\n",
    "        return result\n",
    "    return wrapper"
   ]
  },
  {
   "cell_type": "code",
   "execution_count": 351,
   "id": "1e1159e5-1489-4ecd-a865-50c07eab5417",
   "metadata": {
    "tags": []
   },
   "outputs": [],
   "source": [
    "@log\n",
    "def add(x, y):\n",
    "    return x + y"
   ]
  },
  {
   "cell_type": "code",
   "execution_count": 352,
   "id": "3d339d52-9d9c-49b7-84ba-4164421037fb",
   "metadata": {
    "tags": []
   },
   "outputs": [
    {
     "data": {
      "text/plain": [
       "8"
      ]
     },
     "execution_count": 352,
     "metadata": {},
     "output_type": "execute_result"
    }
   ],
   "source": [
    "add(5, 3)"
   ]
  },
  {
   "cell_type": "code",
   "execution_count": 353,
   "id": "9674bfbe-6139-4ddd-9544-1832e89a07b0",
   "metadata": {
    "tags": []
   },
   "outputs": [
    {
     "ename": "TypeError",
     "evalue": "log.<locals>.wrapper() takes 2 positional arguments but 3 were given",
     "output_type": "error",
     "traceback": [
      "\u001b[0;31m---------------------------------------------------------------------------\u001b[0m",
      "\u001b[0;31mTypeError\u001b[0m                                 Traceback (most recent call last)",
      "Cell \u001b[0;32mIn[353], line 1\u001b[0m\n\u001b[0;32m----> 1\u001b[0m \u001b[43madd\u001b[49m\u001b[43m(\u001b[49m\u001b[38;5;241;43m10\u001b[39;49m\u001b[43m,\u001b[49m\u001b[43m \u001b[49m\u001b[38;5;241;43m4\u001b[39;49m\u001b[43m,\u001b[49m\u001b[43m \u001b[49m\u001b[38;5;241;43m6\u001b[39;49m\u001b[43m)\u001b[49m\n",
      "\u001b[0;31mTypeError\u001b[0m: log.<locals>.wrapper() takes 2 positional arguments but 3 were given"
     ]
    }
   ],
   "source": [
    "add(10, 4, 6)"
   ]
  },
  {
   "cell_type": "markdown",
   "id": "cc1ede73-3b14-44e6-a1e3-606235fc16fd",
   "metadata": {},
   "source": [
    "<body style=\"font-family: Sans-serif;\">\n",
    "<div style=\"color: black; font-size: 15px; font-style: oblique; text-shadow: 0 0 3px white, 0 0 1px black; padding: 20px;\">\n",
    "Agar kisi bhi function ke arguments ko dynamically accept karna ho, toh *args aur **kwargs use karte hain."
   ]
  },
  {
   "cell_type": "code",
   "execution_count": 354,
   "id": "3fc016cb-da59-45b8-b929-7995bd2dd92a",
   "metadata": {
    "tags": []
   },
   "outputs": [],
   "source": [
    "def log(func):\n",
    "    def wrapper(*args, **kwargs):  \n",
    "        result = func(*args, **kwargs)\n",
    "        return result\n",
    "    return wrapper"
   ]
  },
  {
   "cell_type": "code",
   "execution_count": 355,
   "id": "7bcc4002-eafd-4cf4-b63e-e24b61141204",
   "metadata": {
    "tags": []
   },
   "outputs": [],
   "source": [
    "@log\n",
    "def add(x, y):\n",
    "    return x + y\n",
    "\n",
    "@log\n",
    "def multiply(x, y, z):\n",
    "    return x * y * z\n",
    "\n",
    "@log\n",
    "def greet(name, greeting=\"Hello\"):\n",
    "    return f\"{greeting}, {name}!\""
   ]
  },
  {
   "cell_type": "code",
   "execution_count": 356,
   "id": "2d9f22e1-6e1b-4947-81fc-c500f1c07725",
   "metadata": {
    "tags": []
   },
   "outputs": [
    {
     "data": {
      "text/plain": [
       "8"
      ]
     },
     "execution_count": 356,
     "metadata": {},
     "output_type": "execute_result"
    }
   ],
   "source": [
    "add(5, 3)"
   ]
  },
  {
   "cell_type": "code",
   "execution_count": 357,
   "id": "841b3690-7331-4722-9e5c-0e3259d8e540",
   "metadata": {
    "tags": []
   },
   "outputs": [
    {
     "data": {
      "text/plain": [
       "24"
      ]
     },
     "execution_count": 357,
     "metadata": {},
     "output_type": "execute_result"
    }
   ],
   "source": [
    "multiply(2, 3, 4)"
   ]
  },
  {
   "cell_type": "code",
   "execution_count": 358,
   "id": "c24f0303-a366-4921-8eee-afaf36cd19fe",
   "metadata": {
    "tags": []
   },
   "outputs": [
    {
     "data": {
      "text/plain": [
       "'Hello, Mubeen!'"
      ]
     },
     "execution_count": 358,
     "metadata": {},
     "output_type": "execute_result"
    }
   ],
   "source": [
    "greet(name=\"Mubeen\")"
   ]
  },
  {
   "cell_type": "code",
   "execution_count": 359,
   "id": "e97b6424-c0cf-414b-b087-d00fe194afcb",
   "metadata": {
    "tags": []
   },
   "outputs": [
    {
     "data": {
      "text/plain": [
       "'Salam, Mubeen!'"
      ]
     },
     "execution_count": 359,
     "metadata": {},
     "output_type": "execute_result"
    }
   ],
   "source": [
    "greet(\"Mubeen\", greeting=\"Salam\")"
   ]
  },
  {
   "cell_type": "code",
   "execution_count": 373,
   "id": "26cb03c0-32d3-4f8f-8401-65bf31791238",
   "metadata": {
    "tags": []
   },
   "outputs": [],
   "source": [
    "def logs(func):\n",
    "    def inner(*args, **kwargs):\n",
    "        data = func(*args, **kwargs)\n",
    "        return f\"Length: {len(data)}\"\n",
    "    return inner\n",
    "\n",
    "def time_log(func):\n",
    "    def inner(*args, **kwargs):\n",
    "        t1 = time.time()\n",
    "        data = func(*args, **kwargs)\n",
    "        t2 = time.time()\n",
    "        print(f\"Execution Time: {t2 - t1:.4f} sec\")\n",
    "        return data\n",
    "    return inner"
   ]
  },
  {
   "cell_type": "code",
   "execution_count": 374,
   "id": "063a0f39-cff1-41c4-af47-ffec6896c6b8",
   "metadata": {
    "tags": []
   },
   "outputs": [],
   "source": [
    "@logs\n",
    "@time_log\n",
    "def process(n, multiplier=1):\n",
    "    print(f\"Processing {n} items with multiplier {multiplier}...\")\n",
    "    return [i * multiplier for i in range(n)]"
   ]
  },
  {
   "cell_type": "code",
   "execution_count": 382,
   "id": "47b6872f-75d9-48ce-880a-3b74b927fd16",
   "metadata": {
    "tags": []
   },
   "outputs": [
    {
     "name": "stdout",
     "output_type": "stream",
     "text": [
      "Processing 10 items with multiplier 400...\n",
      "Execution Time: 0.0001 sec\n"
     ]
    },
    {
     "data": {
      "text/plain": [
       "'Length: 10'"
      ]
     },
     "execution_count": 382,
     "metadata": {},
     "output_type": "execute_result"
    }
   ],
   "source": [
    "process(10, multiplier=400)"
   ]
  },
  {
   "cell_type": "code",
   "execution_count": 397,
   "id": "8d5aa223-4934-438e-9bac-4428de92403c",
   "metadata": {
    "tags": []
   },
   "outputs": [
    {
     "name": "stdout",
     "output_type": "stream",
     "text": [
      "Processing 1000 items with multiplier 400...\n",
      "Execution Time: 0.0003 sec\n"
     ]
    },
    {
     "data": {
      "text/plain": [
       "'Length: 1000'"
      ]
     },
     "execution_count": 397,
     "metadata": {},
     "output_type": "execute_result"
    }
   ],
   "source": [
    "process(1000, multiplier=400)"
   ]
  },
  {
   "cell_type": "code",
   "execution_count": 398,
   "id": "a471fa60-d768-413c-b149-b32a527466d1",
   "metadata": {
    "tags": []
   },
   "outputs": [
    {
     "name": "stdout",
     "output_type": "stream",
     "text": [
      "Processing 1000000 items with multiplier 400...\n",
      "Execution Time: 0.0573 sec\n"
     ]
    },
    {
     "data": {
      "text/plain": [
       "'Length: 1000000'"
      ]
     },
     "execution_count": 398,
     "metadata": {},
     "output_type": "execute_result"
    }
   ],
   "source": [
    "process(1000000, multiplier=400)"
   ]
  },
  {
   "cell_type": "markdown",
   "id": "15b4cd59-68cc-4c42-b111-bd599ea5bb26",
   "metadata": {},
   "source": [
    "<body style=\"font-family: Sans-serif;\">\n",
    "<div style=\"color: black; font-size: 15px; font-style: oblique; text-shadow: 0 0 3px white, 0 0 1px black; padding: 20px;\">\n",
    "Example 3"
   ]
  },
  {
   "cell_type": "code",
   "execution_count": 399,
   "id": "0555c582-8b67-461c-a1eb-b3bbf95afba8",
   "metadata": {
    "tags": []
   },
   "outputs": [],
   "source": [
    "import math\n",
    "\n",
    "# Validation Decorator: Radius positive hona chahiye.\n",
    "def validate(func):\n",
    "    def wrapper(*args, **kwargs):\n",
    "        \n",
    "        # Assume karte hain ke pehla positional argument radius hai.\n",
    "        \n",
    "        if args and args[0] <= 0:\n",
    "            print(\"Validation Error: Radius must be positive.\")\n",
    "            return None\n",
    "        \n",
    "        return func(*args, **kwargs)\n",
    "    return wrapper"
   ]
  },
  {
   "cell_type": "code",
   "execution_count": 400,
   "id": "90ba2372-f3c5-411c-828b-db4b0ba4dfae",
   "metadata": {
    "tags": []
   },
   "outputs": [],
   "source": [
    "def timer(func):\n",
    "    def wrapper(*args, **kwargs):\n",
    "        start = time.time()\n",
    "        result = func(*args, **kwargs)\n",
    "        end = time.time()\n",
    "        print(f\"Execution Time: {end - start:.4f} seconds\")\n",
    "        return result\n",
    "    return wrapper"
   ]
  },
  {
   "cell_type": "code",
   "execution_count": 401,
   "id": "2ccd86c8-a277-49ab-a616-e85e3a16b2bb",
   "metadata": {
    "tags": []
   },
   "outputs": [],
   "source": [
    "def logger(func):\n",
    "    def wrapper(*args, **kwargs):\n",
    "        result = func(*args, **kwargs)\n",
    "        return result\n",
    "    return wrapper"
   ]
  },
  {
   "cell_type": "code",
   "execution_count": 402,
   "id": "671575bf-4078-4fda-9d0c-a3a784c1031d",
   "metadata": {
    "tags": []
   },
   "outputs": [],
   "source": [
    "@logger\n",
    "@timer\n",
    "@validate\n",
    "def calculate_area(radius):\n",
    "    return math.pi * radius * radius"
   ]
  },
  {
   "cell_type": "code",
   "execution_count": 403,
   "id": "8a408a5f-830f-4f09-ab45-7092f6c41293",
   "metadata": {
    "tags": []
   },
   "outputs": [
    {
     "name": "stdout",
     "output_type": "stream",
     "text": [
      "Execution Time: 0.0000 seconds\n"
     ]
    },
    {
     "data": {
      "text/plain": [
       "78.53981633974483"
      ]
     },
     "execution_count": 403,
     "metadata": {},
     "output_type": "execute_result"
    }
   ],
   "source": [
    "calculate_area(5)"
   ]
  },
  {
   "cell_type": "code",
   "execution_count": 404,
   "id": "87788eff-73e8-48ee-acef-f432fe28eb13",
   "metadata": {
    "tags": []
   },
   "outputs": [
    {
     "name": "stdout",
     "output_type": "stream",
     "text": [
      "Validation Error: Radius must be positive.\n",
      "Execution Time: 0.0004 seconds\n"
     ]
    }
   ],
   "source": [
    "calculate_area(-3)"
   ]
  }
 ],
 "metadata": {
  "kernelspec": {
   "display_name": "Python 3 (ipykernel)",
   "language": "python",
   "name": "python3"
  },
  "language_info": {
   "codemirror_mode": {
    "name": "ipython",
    "version": 3
   },
   "file_extension": ".py",
   "mimetype": "text/x-python",
   "name": "python",
   "nbconvert_exporter": "python",
   "pygments_lexer": "ipython3",
   "version": "3.10.12"
  }
 },
 "nbformat": 4,
 "nbformat_minor": 5
}
