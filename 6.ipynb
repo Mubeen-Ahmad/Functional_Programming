{
 "cells": [
  {
   "cell_type": "markdown",
   "id": "6b74dc9d-88c1-4049-8d07-4b2cd58f483b",
   "metadata": {},
   "source": [
    "<h1 style=\"text-align:center; color:#005bbd; font-size:20px; font-family:Sans-serif; font-style: oblique; text-shadow: 0 0 3px white, 0 0 1px Black;\">\n",
    "   Decorators\n",
    "</h1>"
   ]
  },
  {
   "cell_type": "markdown",
   "id": "a9c1e084-07c7-4ca5-be27-773862580060",
   "metadata": {},
   "source": [
    "<body style=\"font-family: Sans-serif;\">\n",
    "    <div style=\"color: black; font-size: 15px; font-style: oblique; text-shadow: 0 0 3px white, 0 0 1px black; padding: 20px;\">\n",
    "Decorators Python mein ek aisa powerful concept hai jo aapko existing functions ya classes ki behavior ko modify karne ka mauka deta hai bina unke source code ko directly badle.<br><br>Ye ek tarah ka \"wrapper\" hota hai jo ek function ko wrap karta hai aur usmein extra functionality add kar deta hai.<br><br>\n",
    "        Python mein decorators 2 qisam ke hote hain:\n",
    "        \n",
    "#### **1. Built-in Decorators**  \n",
    "        \n",
    "- **Definition:**  \n",
    "  Ye woh decorators hain jo Python ke andar pehle se available hote hain aur aap inhe directly use kar sakte hain.  \n",
    "- **Example:**  \n",
    "  - **@staticmethod:**  \n",
    "    - Is ka istemal class ke methods ko static banane ke liye hota hai, jismein instance (self) ya class (cls) ka reference pass nahi hota.  \n",
    "  - **@classmethod:**  \n",
    "    - Ye class methods define karne ke liye use hota hai. In methods mein class ka reference (cls) automatically pass ho jata hai.  \n",
    "  - **@property:**  \n",
    "    - Is se aap getter methods define kar sakte hain, jisse aap class attributes ko property ke roop mein access kar sakte hain bina direct attribute ko modify kiye.  \n",
    "  - **@abstractmethod:**  \n",
    "    - Ye abstract base classes mein use hota hai. Is se aap derived classes ko force karte hain ke woh is method ko override karein.\n",
    "        \n",
    "### **2. User-Defined Decorators**  \n",
    "- **Definition:**  \n",
    "  Ye woh decorators hain jo programmers khud apni zaroorat ke mutabiq create karte hain.  "
   ]
  },
  {
   "cell_type": "code",
   "execution_count": 1,
   "id": "fc991a55-0c6e-49a3-b3f0-cb9eaf9fec0e",
   "metadata": {
    "tags": []
   },
   "outputs": [],
   "source": [
    "def decorator(func):\n",
    "    \n",
    "    def wrapper():\n",
    "        print(\"******************** Start ********************\")\n",
    "        \n",
    "        # call func (argument of decorator function)\n",
    "        func()\n",
    "        \n",
    "        print(\"******************** End ********************\")\n",
    "        \n",
    "    return wrapper"
   ]
  },
  {
   "cell_type": "code",
   "execution_count": 2,
   "id": "29a1e8d2-7e77-405a-8602-5c3474f0e560",
   "metadata": {
    "tags": []
   },
   "outputs": [],
   "source": [
    "def message():\n",
    "    print(\"Welcome Mubeen\")"
   ]
  },
  {
   "cell_type": "code",
   "execution_count": 3,
   "id": "79158d98-640f-4b2b-a7a3-7679dfacd1a6",
   "metadata": {
    "tags": []
   },
   "outputs": [
    {
     "name": "stdout",
     "output_type": "stream",
     "text": [
      "******************** Start ********************\n",
      "Welcome Mubeen\n",
      "******************** End ********************\n"
     ]
    }
   ],
   "source": [
    "dec = decorator(message)\n",
    "dec()"
   ]
  },
  {
   "cell_type": "markdown",
   "id": "0c57404b-a72a-4923-8c2d-e58150664f9f",
   "metadata": {},
   "source": [
    "<body style=\"font-family: Sans-serif;\">\n",
    "    <div style=\"color: black; font-size: 15px; font-style: oblique; text-shadow: 0 0 3px white, 0 0 1px black; padding: 20px;\">\n",
    " <br>       \n",
    "Decorators higher order functions hi hotay hain. Higher order functions wo functions hotay hain jo:\n",
    "        <ul><li>Dusre functions ko argument ke tor par accept karte hain, ya</li>\n",
    "            <li>Ek function ko as result return karte hain.</li>\n",
    "        </ul><br>\n",
    "Decorator bhi isi concept par based hotay hain. Wo kisi function ko modify ya enhance karne ke liye use kiye jatay hain, jismein aap original function ko as argument pass karte hain aur ek naya function return hota hai.\n"
   ]
  },
  {
   "cell_type": "code",
   "execution_count": 161,
   "id": "f3b4edfe-3819-4391-bfdc-8307b6b1153b",
   "metadata": {
    "tags": []
   },
   "outputs": [],
   "source": [
    "def decoractors(function):\n",
    "    \n",
    "    def wrapper():\n",
    "        print(\"\\nWelcome\\n\")\n",
    "        \n",
    "        return function() # call function\n",
    "    return wrapper\n"
   ]
  },
  {
   "cell_type": "code",
   "execution_count": 162,
   "id": "25df7858-633c-48a7-af86-34cccc05a798",
   "metadata": {
    "tags": []
   },
   "outputs": [],
   "source": [
    "def func_1():\n",
    "    print(\"I am func_1\")"
   ]
  },
  {
   "cell_type": "code",
   "execution_count": 166,
   "id": "96ad5ef8-bffb-4e3f-af09-04325c2b931a",
   "metadata": {
    "tags": []
   },
   "outputs": [],
   "source": [
    "var = decoractors(func_1)"
   ]
  },
  {
   "cell_type": "code",
   "execution_count": 168,
   "id": "72c4c27a-2f4c-492d-832e-a938ba8bd64b",
   "metadata": {
    "tags": []
   },
   "outputs": [
    {
     "name": "stdout",
     "output_type": "stream",
     "text": [
      "\n",
      "Welcome\n",
      "\n",
      "I am func_1\n"
     ]
    }
   ],
   "source": [
    "var()"
   ]
  },
  {
   "cell_type": "markdown",
   "id": "c6d159e4-60c4-45f1-9c18-26bb775d5cf4",
   "metadata": {},
   "source": [
    "<body style=\"font-family: Sans-serif;\">\n",
    "    <div style=\"color: black; font-size: 15px; font-style: oblique; text-shadow: 0 0 3px white, 0 0 1px black; padding: 20px;\">\n",
    "Dono functions ko ek sath bhi call kar sakte hain bina kisi variable mein store kiye.<br>Aap directly function ko call kar sakte hain."
   ]
  },
  {
   "cell_type": "code",
   "execution_count": 169,
   "id": "cb89e29c-1090-423e-8e0b-85991e3b71b0",
   "metadata": {
    "tags": []
   },
   "outputs": [
    {
     "name": "stdout",
     "output_type": "stream",
     "text": [
      "\n",
      "Welcome\n",
      "\n",
      "I am func_1\n"
     ]
    }
   ],
   "source": [
    "decoractors(func_1)()"
   ]
  },
  {
   "cell_type": "markdown",
   "id": "b2890b66-8a18-4c23-bd59-ef0bb445669d",
   "metadata": {},
   "source": [
    "<body style=\"font-family: Sans-serif;\">\n",
    "    <div style=\"color: black; font-size: 15px; font-style: oblique; text-shadow: 0 0 3px white, 0 0 1px black; padding: 20px;\">\n",
    "        <h4>@ Symbole</h4>\n",
    "        <ul>@ Symbole Ko decorator syntax kehte hain. Iska maksad yeh hota hai ke aap kisi function ko directly decorate kar saken without usay manually kisi variable mein store kiye.</ul>"
   ]
  },
  {
   "cell_type": "code",
   "execution_count": 170,
   "id": "d48ab2c0-a202-47bb-86e9-f52a1462045b",
   "metadata": {
    "tags": []
   },
   "outputs": [],
   "source": [
    "def decoractors(function):\n",
    "    \n",
    "    def wrapper():\n",
    "        print(\"\\nWelcome\\n\")\n",
    "        \n",
    "        return function()\n",
    "    return wrapper"
   ]
  },
  {
   "cell_type": "markdown",
   "id": "687e00b8-d0a2-49d3-9e69-67641904e809",
   "metadata": {},
   "source": [
    "<body style=\"font-family: Sans-serif;\">\n",
    "    <div style=\"color: black; font-size: 15px; font-style: oblique; text-shadow: 0 0 3px white, 0 0 1px black; padding: 20px;\">\n",
    "@function_name yeh decorators ko use karne ka ek shortcut hai jo code ko readable aur clean banata hai."
   ]
  },
  {
   "cell_type": "code",
   "execution_count": 178,
   "id": "ed2c4d01-2d55-4b45-98cc-579f14a3cd63",
   "metadata": {
    "tags": []
   },
   "outputs": [],
   "source": [
    "@decoractors\n",
    "def func1():\n",
    "    print(\"I am func1\")"
   ]
  },
  {
   "cell_type": "code",
   "execution_count": 179,
   "id": "fe218d1f-d064-4a12-9bd8-d6770ec8225c",
   "metadata": {
    "tags": []
   },
   "outputs": [
    {
     "name": "stdout",
     "output_type": "stream",
     "text": [
      "\n",
      "Welcome\n",
      "\n",
      "I am func1\n"
     ]
    }
   ],
   "source": [
    "func1()"
   ]
  },
  {
   "cell_type": "code",
   "execution_count": 181,
   "id": "a7f5e6cb-bb0e-4c93-a9bb-52f6c7f5aef2",
   "metadata": {
    "tags": []
   },
   "outputs": [],
   "source": [
    "@decoractors\n",
    "def func2():\n",
    "    print(\"I am func2\")\n",
    "    \n",
    "@decoractors    \n",
    "def func3():\n",
    "    print(\"I am func3\")"
   ]
  },
  {
   "cell_type": "code",
   "execution_count": 182,
   "id": "3d864b41-323e-4d41-aa9f-5f8e1de5163c",
   "metadata": {
    "tags": []
   },
   "outputs": [
    {
     "name": "stdout",
     "output_type": "stream",
     "text": [
      "\n",
      "Welcome\n",
      "\n",
      "I am func2\n"
     ]
    }
   ],
   "source": [
    "func2()"
   ]
  },
  {
   "cell_type": "code",
   "execution_count": 183,
   "id": "297e1ae5-26b7-4798-abc8-41a7b927df39",
   "metadata": {
    "tags": []
   },
   "outputs": [
    {
     "name": "stdout",
     "output_type": "stream",
     "text": [
      "\n",
      "Welcome\n",
      "\n",
      "I am func3\n"
     ]
    }
   ],
   "source": [
    "func3()"
   ]
  },
  {
   "cell_type": "markdown",
   "id": "be996c37-647e-4d74-82a6-480ac13d8a64",
   "metadata": {},
   "source": [
    "<body style=\"font-family: Sans-serif;\">\n",
    "    <div style=\"color: black; font-size: 15px; font-style: oblique; text-shadow: 0 0 3px white, 0 0 1px black; padding: 20px;\">\n",
    "        \n",
    " #### **Python decorators** ke liye yeh 3 cheezen **zaroori** hoti hain:  \n",
    "\n",
    "#### **1. Function ko as Parameter Lena**  \n",
    "   - Decorator ek **higher-order function** hota hai jo kisi function ko input mein leta hai.  \n",
    "   \n",
    "#### **2. Inner Function Se Naya Behavior Add Karna**  \n",
    "   - Ek **inner function** likhna hota hai jo **original function ki functionality modify ya enhance kare**.  \n",
    "   \n",
    "#### **3. Function Reference Return Karna**  \n",
    "   - Decorator **inner function ka reference return** karta hai, taake original function ki jagah **modified function** execute ho.  "
   ]
  },
  {
   "cell_type": "code",
   "execution_count": 185,
   "id": "6ef64524-a3e8-44a3-9837-b770f87a3892",
   "metadata": {
    "tags": []
   },
   "outputs": [],
   "source": [
    "def my_decorator(func):  # (1) Function ko parameter lena\n",
    "    \n",
    "    def wrapper():  # (2) Inner function jo extra functionality add karega\n",
    "        print(\"Function call hone se pehle...\")\n",
    "        \n",
    "        func()\n",
    "        \n",
    "        print(\"Function call hone ke baad...\")\n",
    "        \n",
    "    return wrapper  # (3) Inner function ka reference return karna"
   ]
  },
  {
   "cell_type": "code",
   "execution_count": 186,
   "id": "18beb9f9-6058-433d-83bf-f0a9b2f31df5",
   "metadata": {
    "tags": []
   },
   "outputs": [
    {
     "name": "stdout",
     "output_type": "stream",
     "text": [
      "Function call hone se pehle...\n",
      "Hello, World!\n",
      "Function call hone ke baad...\n"
     ]
    }
   ],
   "source": [
    "@my_decorator  # Yeh \"say_hello = my_decorator(say_hello)\" ke barabar hai\n",
    "def say_hello():\n",
    "    print(\"Hello, World!\")\n",
    "\n",
    "say_hello()"
   ]
  },
  {
   "cell_type": "markdown",
   "id": "1750c7bf-f91f-475c-9a23-36f1e3d2a113",
   "metadata": {},
   "source": [
    "<h1 style=\"text-align:center; color:#005bbd; font-size:20px; font-family:Sans-serif; font-style: oblique; text-shadow: 0 0 3px white, 0 0 1px Black;\">\n",
    "   Decorators Vs Higer Order Function\n",
    "</h1>"
   ]
  },
  {
   "cell_type": "markdown",
   "id": "df0750cd-f40c-4487-9a56-528b823a836a",
   "metadata": {},
   "source": [
    "<body style=\"font-family: Sans-serif;\">\n",
    "    <div style=\"color: black; font-size: 15px; font-style: oblique; text-shadow: 0 0 3px white, 0 0 1px black; padding: 20px;\">\n",
    "        \n",
    "- **Higher Order Function:**  \n",
    "  - General purpose functions hotay hain, jaise callbacks, iterations, etc.  \n",
    "  - Aap inhein alag alag tasks ke liye use kar sakte hain.  <br><br>\n",
    "\n",
    "- **Decorator:**  \n",
    "  - Special tarike se likhe jate hain function modifications ke liye.  \n",
    "  - `@` syntax ka istemal karke directly function definition ke upar lagaya jata hai, jisse code zyada readable aur maintainable hota hai."
   ]
  },
  {
   "cell_type": "markdown",
   "id": "dd653bbd-da49-4cdf-9d55-583117c7c3a8",
   "metadata": {},
   "source": [
    "- **Higher Order Function Example:**  \n",
    "  Aap manually function ko pass karke ya uska result store karke use karte hain.  "
   ]
  },
  {
   "cell_type": "code",
   "execution_count": 190,
   "id": "5eec0ed2-b0f9-4a3d-9cd1-6d2abbcf6c57",
   "metadata": {
    "tags": []
   },
   "outputs": [
    {
     "name": "stdout",
     "output_type": "stream",
     "text": [
      "Pehle call hota hai (HOF)\n",
      "Hello, World!\n",
      "Baad mein call hota hai (HOF)\n"
     ]
    }
   ],
   "source": [
    "def hof(func):\n",
    "    \n",
    "    # Extra functionality add karne ke liye inner function\n",
    "    def inner():\n",
    "        print(\"Pehle call hota hai (HOF)\")\n",
    "        \n",
    "        result = func()\n",
    "        \n",
    "        print(\"Baad mein call hota hai (HOF)\")\n",
    "        return result\n",
    "    return inner\n",
    "\n",
    "def say_hello():\n",
    "    print(\"Hello, World!\")\n",
    "\n",
    "# Manually higher order function use karna:\n",
    "decorated_func = hof(say_hello)\n",
    "decorated_func()"
   ]
  },
  {
   "cell_type": "markdown",
   "id": "59b70b71-e2b4-4278-b3dc-d3ea488615e4",
   "metadata": {},
   "source": [
    "- **Decorator:**  \n",
    "  Aap `@decorator_name` ka syntax use karte hain jo internally higher order function hi hota hai."
   ]
  },
  {
   "cell_type": "code",
   "execution_count": 192,
   "id": "a93ea9b3-571c-47f6-ad06-64977c1d5cd3",
   "metadata": {
    "tags": []
   },
   "outputs": [
    {
     "name": "stdout",
     "output_type": "stream",
     "text": [
      "Pehle call hota hai (Decorator)\n",
      "Hello, Decorators!\n",
      "Baad mein call hota hai (Decorator)\n"
     ]
    }
   ],
   "source": [
    "def my_decorator(func):\n",
    "    \n",
    "    def wrapper():\n",
    "        print(\"Pehle call hota hai (Decorator)\")\n",
    "        \n",
    "        result = func()\n",
    "        \n",
    "        print(\"Baad mein call hota hai (Decorator)\")\n",
    "        return result\n",
    "    return wrapper\n",
    "  \n",
    "@my_decorator  # Yeh decorator syntax hai\n",
    "def greet():\n",
    "    print(\"Hello, Decorators!\")\n",
    "    \n",
    "greet()"
   ]
  },
  {
   "cell_type": "markdown",
   "id": "ac473337-771f-4d26-8bff-35c1f6e103bc",
   "metadata": {},
   "source": [
    "<body style=\"font-family: Sans-serif;\">\n",
    "    <div style=\"color: black; font-size: 15px; font-style: oblique; text-shadow: 0 0 3px white, 0 0 1px black; padding: 20px;\">\n",
    "        \n",
    "- **Har decorator ek higher order function hi hota hai,** magar har higher order function decorator nahi hota.  <br><br>\n",
    "- Decorators ka maqsad mainly function ke behavior ko modify ya enhance karna hota hai, jabke higher order functions ka scope zyada generic hai.  <br><br>\n",
    "- Decorators ko apply karne se code zyada concise aur readable ban jata hai, kyunke aap function definitions ke upar hi extra functionality specify kar dete hain.\n"
   ]
  },
  {
   "cell_type": "markdown",
   "id": "278a1691-5075-4f95-81a6-c89b1ce475a5",
   "metadata": {},
   "source": [
    "<body style=\"font-family: Sans-serif;\">\n",
    "    <div style=\"color: black; font-size: 15px; font-style: oblique; text-shadow: 0 0 3px white, 0 0 1px black; padding: 20px;\">\n",
    "\n",
    "- #### Decorators kahan use kiye jate hain?\n",
    "        \n",
    "Example :\n",
    "        map 1 Bulit in Higher Order Function hy Jo 1 Iterator ky all Elements Per Operations Perform Karta hy"
   ]
  },
  {
   "cell_type": "code",
   "execution_count": 293,
   "id": "8eb43e45-b2db-4f09-bcc1-1ca58ea5a412",
   "metadata": {
    "tags": []
   },
   "outputs": [],
   "source": [
    "def square(n):\n",
    "    return n * 2"
   ]
  },
  {
   "cell_type": "code",
   "execution_count": 349,
   "id": "6a4e951d-ff6c-4ad3-8733-155496a36dc0",
   "metadata": {
    "tags": []
   },
   "outputs": [],
   "source": [
    "numbers = [5, 3, 4, 9, 5,9]"
   ]
  },
  {
   "cell_type": "code",
   "execution_count": 350,
   "id": "501a1cba-a63b-4730-8118-1ba6f49a1c45",
   "metadata": {
    "tags": []
   },
   "outputs": [
    {
     "data": {
      "text/plain": [
       "[10, 6, 8, 18, 10, 18]"
      ]
     },
     "execution_count": 350,
     "metadata": {},
     "output_type": "execute_result"
    }
   ],
   "source": [
    "list(map(double, numbers))"
   ]
  },
  {
   "cell_type": "markdown",
   "id": "45157733-2b83-47f3-8210-3023d4541a2c",
   "metadata": {
    "tags": []
   },
   "source": [
    "<body style=\"font-family: Sans-serif;\">\n",
    "    <div style=\"color: black; font-size: 15px; font-style: oblique; text-shadow: 0 0 3px white, 0 0 1px black; padding: 20px;\">\n",
    "Ab Hum Khud a map Function banaty hn"
   ]
  },
  {
   "cell_type": "code",
   "execution_count": 351,
   "id": "711e6443-e97e-44bd-b388-5c95dad5f6e7",
   "metadata": {
    "tags": []
   },
   "outputs": [],
   "source": [
    "def my_map(func):\n",
    "    \n",
    "    def wrapper(lst):\n",
    "    \n",
    "        data = []\n",
    "        \n",
    "        for i in lst:\n",
    "            item = func(i)\n",
    "            data.append(item)\n",
    "            \n",
    "        return data\n",
    "    \n",
    "    return wrapper"
   ]
  },
  {
   "cell_type": "code",
   "execution_count": 352,
   "id": "a78bdcd7-3b5c-46a8-9399-237d36706e5a",
   "metadata": {
    "tags": []
   },
   "outputs": [],
   "source": [
    "def square(n):\n",
    "    return n * 2"
   ]
  },
  {
   "cell_type": "code",
   "execution_count": 353,
   "id": "b31f6020-68fc-4c90-8cb0-4f1f1307a6b7",
   "metadata": {
    "tags": []
   },
   "outputs": [
    {
     "data": {
      "text/plain": [
       "[10, 6, 8, 18, 10, 18]"
      ]
     },
     "execution_count": 353,
     "metadata": {},
     "output_type": "execute_result"
    }
   ],
   "source": [
    "var = my_map(square)\n",
    "\n",
    "var(numbers)"
   ]
  },
  {
   "cell_type": "markdown",
   "id": "417d7d17-d05b-4962-b9b0-794a68d898de",
   "metadata": {
    "tags": []
   },
   "source": [
    "<body style=\"font-family: Sans-serif;\">\n",
    "    <div style=\"color: black; font-size: 15px; font-style: oblique; text-shadow: 0 0 3px white, 0 0 1px black; padding: 20px;\">\n",
    "Ab Hum agr @ ka use kary gn to Decorators Kahy gn"
   ]
  },
  {
   "cell_type": "code",
   "execution_count": 354,
   "id": "ce948cd1-d7dc-48bf-960d-0207e494bcb3",
   "metadata": {
    "tags": []
   },
   "outputs": [],
   "source": [
    "@my_map\n",
    "def square(n):\n",
    "    return n * 2"
   ]
  },
  {
   "cell_type": "code",
   "execution_count": 355,
   "id": "60b6538e-d78e-48c9-8c3d-ed0679e9ba87",
   "metadata": {
    "tags": []
   },
   "outputs": [
    {
     "data": {
      "text/plain": [
       "[10, 6, 8, 18, 10, 18]"
      ]
     },
     "execution_count": 355,
     "metadata": {},
     "output_type": "execute_result"
    }
   ],
   "source": [
    "square(numbers)"
   ]
  },
  {
   "cell_type": "markdown",
   "id": "4b54f24e-3a7f-49a1-822f-815c745dce2d",
   "metadata": {},
   "source": [
    "<body style=\"font-family: Sans-serif;\">\n",
    "    <div style=\"color: black; font-size: 15px; font-style: oblique; text-shadow: 0 0 3px white, 0 0 1px black; padding: 20px;\">\n",
    "Ab Hume ye karna hy ky 9 sy bady Numbers ko Hata dn to Hume Additional Functionality Chiye To hum Decorators ka use kry gn bcz ye Functionality map mein nahi hn"
   ]
  },
  {
   "cell_type": "code",
   "execution_count": 363,
   "id": "4982ba0a-e4fc-46ce-a060-5407f3dcc41e",
   "metadata": {
    "tags": []
   },
   "outputs": [],
   "source": [
    "def limit_map(func):\n",
    "    \n",
    "    def wrapper(iterator):\n",
    "        \n",
    "        data = []\n",
    "        \n",
    "        for i in iterator:\n",
    "            \n",
    "            item = func(i)\n",
    "            \n",
    "            if item <= 9:\n",
    "                data.append(item)\n",
    "                \n",
    "        return data\n",
    "    \n",
    "    return wrapper"
   ]
  },
  {
   "cell_type": "code",
   "execution_count": 365,
   "id": "5890f16d-d20b-414e-b106-e85db8e62515",
   "metadata": {
    "tags": []
   },
   "outputs": [],
   "source": [
    "@limit_map\n",
    "def square(n):\n",
    "    return n * 2"
   ]
  },
  {
   "cell_type": "code",
   "execution_count": 366,
   "id": "deaf5166-512e-4bba-bcef-87445e8dded7",
   "metadata": {
    "tags": []
   },
   "outputs": [
    {
     "data": {
      "text/plain": [
       "[6, 8]"
      ]
     },
     "execution_count": 366,
     "metadata": {},
     "output_type": "execute_result"
    }
   ],
   "source": [
    "square(numbers)"
   ]
  },
  {
   "cell_type": "markdown",
   "id": "9a499b45-703c-485b-8d0f-c2dead5f7b0c",
   "metadata": {},
   "source": [
    "<body style=\"font-family: Sans-serif;\">\n",
    "    <div style=\"color: black; font-size: 15px; font-style: oblique; text-shadow: 0 0 3px white, 0 0 1px black; padding: 20px;\">\n",
    "Agar aapko kisi function ke behavior mein extra functionality add karni ho (bina us function ke code ko directly modify kiye, to aap decorator ka use karte hain."
   ]
  }
 ],
 "metadata": {
  "kernelspec": {
   "display_name": "Python 3 (ipykernel)",
   "language": "python",
   "name": "python3"
  },
  "language_info": {
   "codemirror_mode": {
    "name": "ipython",
    "version": 3
   },
   "file_extension": ".py",
   "mimetype": "text/x-python",
   "name": "python",
   "nbconvert_exporter": "python",
   "pygments_lexer": "ipython3",
   "version": "3.10.12"
  }
 },
 "nbformat": 4,
 "nbformat_minor": 5
}
