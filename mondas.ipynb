{
 "cells": [
  {
   "cell_type": "markdown",
   "id": "6583c8df-5450-4c64-a1d5-17f2434f48f6",
   "metadata": {},
   "source": [
    "<h1 style=\"text-align:center; color:#005bbd; font-size:20px; font-family:Sans-serif; font-style: oblique; text-shadow: 0 0 3px white, 0 0 1px Black;\">Monads\n",
    "</h1>"
   ]
  },
  {
   "cell_type": "markdown",
   "id": "2767153a-b256-4156-902e-d133faa241fd",
   "metadata": {},
   "source": [
    "<body style=\"font-family: Sans-serif;\">\n",
    "    <div style=\"color: black; font-size: 20px; font-style: oblique; text-shadow: 0 0 3px white, 0 0 1px black; padding: 20px;\">\n",
    "        \n",
    "Monads aik design pattern hai jo functional programming mein computations ko sequence (chain) mein execute karne ke liye use hota hai, aur saath hi side effects ya errors ko elegantly handle karta hai. \n",
    "\n",
    "- Yani, monads aapko ek consistent tareeke se values ko ek \"context\" mein wrap karne aur un par operations apply karne ka method provide karte hain."
   ]
  },
  {
   "cell_type": "markdown",
   "id": "cef199d3-d7e8-4cc1-a44b-0f912ede6759",
   "metadata": {},
   "source": [
    "<body style=\"font-family: Sans-serif;\">\n",
    "    <div style=\"color: black; font-size: 15px; font-style: oblique; text-shadow: 0 0 3px white, 0 0 1px black; padding: 20px;\">\n",
    "        \n",
    "## 1 Monadic Value\n",
    "- #### Monadic value ka matlab hai ek aisi value jo monad ke container mein wrapped ho. \n",
    "- #### Yeh value \"lifted\" form mein hoti hai, jisse aap us par safe tarike se operations (jaise bind) apply kar sakte hain."
   ]
  },
  {
   "cell_type": "markdown",
   "id": "24c8258e-ecb5-4a7d-9a72-53592083e922",
   "metadata": {
    "tags": []
   },
   "source": [
    "<body style=\"font-family: Sans-serif;\">\n",
    "    <div style=\"color: black; font-size: 15px; font-style: oblique; text-shadow: 0 0 3px white, 0 0 1px black; padding: 20px;\">\n",
    "\n",
    "- ### Convert Plain Value to Monadic Value\n",
    "    - #### *`Value Encapsulation (Unit/Return)`*\n",
    "\n",
    "Yeh basic condition yeh ensure karti hai ke har normal value ko monadic context (container) mein convert kiya ja sake. Isko **unit** ya **return** function kehte hain.\n",
    "\n",
    "**Concept**\n",
    "- **Plain Value → Monadic Value:**  \n",
    "  Har normal value ko ek standard format mein \"lift\" karna, taake woh monadic operations (chain of functions) mein use ho sake.<br><br>\n"
   ]
  },
  {
   "cell_type": "code",
   "execution_count": 367,
   "id": "2fab4778-f3d7-47e0-b6db-f26d2c999f63",
   "metadata": {
    "tags": []
   },
   "outputs": [],
   "source": [
    "def unit(value):\n",
    "    return (\"just\", value)"
   ]
  },
  {
   "cell_type": "code",
   "execution_count": 368,
   "id": "620d9ea5-1e2a-4709-8b1c-2fba456e0dd9",
   "metadata": {
    "tags": []
   },
   "outputs": [
    {
     "data": {
      "text/plain": [
       "('just', 10)"
      ]
     },
     "execution_count": 368,
     "metadata": {},
     "output_type": "execute_result"
    }
   ],
   "source": [
    "plain_value = 10\n",
    "monadic_value = unit(plain_value)\n",
    "\n",
    "monadic_value"
   ]
  },
  {
   "cell_type": "markdown",
   "id": "0d74e933-8748-4ca6-a0be-9171e5973b93",
   "metadata": {},
   "source": [
    "<body style=\"font-family: Sans-serif;\">\n",
    "    <div style=\"color: black; font-size: 15px; font-style: oblique; text-shadow: 0 0 3px white, 0 0 1px black; padding: 20px;\">\n",
    "        \n",
    "## 2 Bind (>>=) Operation\n",
    "- #### Agar monadic container (jaise (\"just\", value)) mein valid value hai, to specified function ko us value par apply karo.\n",
    "- #### Agar container error state (\"nothing\", None) mein ho, to bina function call kiye wahi error state return karo.\n",
    "\n",
    "Is se aap sequential operations (chaining) ko easily perform kar sakte hain, jahan har operation ka result automatically next operation ko feed hota hai."
   ]
  },
  {
   "cell_type": "code",
   "execution_count": 369,
   "id": "a3c77353-10be-4ad6-988a-046451b2e710",
   "metadata": {
    "tags": []
   },
   "outputs": [],
   "source": [
    "def bind(container,func):\n",
    "    tag,value = container\n",
    "    \n",
    "    if tag == \"nothing\":\n",
    "        return (\"nothing\",None)\n",
    "    \n",
    "    return func(value)"
   ]
  },
  {
   "cell_type": "code",
   "execution_count": 370,
   "id": "0b21c041-1dbb-4d47-afb2-f130609212d2",
   "metadata": {
    "tags": []
   },
   "outputs": [],
   "source": [
    "def safe_divide(x):\n",
    "    \n",
    "    if x != 0:\n",
    "        return (\"just\",x / 2)\n",
    "    \n",
    "    return (\"nothing\",None)"
   ]
  },
  {
   "cell_type": "code",
   "execution_count": 371,
   "id": "a98ddd33-2b2a-4838-a7b6-a41b15d43952",
   "metadata": {
    "tags": []
   },
   "outputs": [
    {
     "data": {
      "text/plain": [
       "('just', 10)"
      ]
     },
     "execution_count": 371,
     "metadata": {},
     "output_type": "execute_result"
    }
   ],
   "source": [
    "plain_value = 10\n",
    "monadic_value = unit(plain_value)\n",
    "\n",
    "monadic_value"
   ]
  },
  {
   "cell_type": "code",
   "execution_count": 372,
   "id": "e4e8a48c-06de-4494-ae90-0917d554b5b2",
   "metadata": {
    "tags": []
   },
   "outputs": [
    {
     "data": {
      "text/plain": [
       "('just', 5.0)"
      ]
     },
     "execution_count": 372,
     "metadata": {},
     "output_type": "execute_result"
    }
   ],
   "source": [
    "bind(monadic_value,safe_divide)"
   ]
  },
  {
   "cell_type": "markdown",
   "id": "5db93da9-b0a5-4fa1-8c6e-0017a19530f2",
   "metadata": {},
   "source": [
    "<img src=\"./images/mondas1.jpg\" style=\"display: block;margin-left: auto; margin-right: auto;width: 60%\">"
   ]
  },
  {
   "cell_type": "markdown",
   "id": "1aac79b4-afc5-469d-b747-075dfec92b36",
   "metadata": {},
   "source": [
    "<body style=\"font-family: Sans-serif;\">\n",
    "    <div style=\"color: black; font-size: 15px; font-style: oblique; text-shadow: 0 0 3px white, 0 0 1px black; padding: 20px;\">\n",
    "        \n",
    "## 3 Sequential Chaining\n",
    "- #### Chaining ka matlab hai ke aap monadic operations ko ek sequence (chain) mein execute karte ho, \n",
    "- #### jahan har operation ka result directly next operation ko feed karta hai. \n",
    "- #### Is tarah agar beech mein koi operation \"nothing\" (error state) return kar de, to poora chain fail ho jati hai aur aage ke operations perform nahi hote."
   ]
  },
  {
   "cell_type": "code",
   "execution_count": 373,
   "id": "baa401f5-1f3d-4f0e-ba80-f91f82064f1b",
   "metadata": {
    "tags": []
   },
   "outputs": [
    {
     "data": {
      "text/plain": [
       "('just', 10)"
      ]
     },
     "execution_count": 373,
     "metadata": {},
     "output_type": "execute_result"
    }
   ],
   "source": [
    "result = unit(plain_value)\n",
    "result"
   ]
  },
  {
   "cell_type": "code",
   "execution_count": 374,
   "id": "6e0cd222-d264-4244-ab6a-198e0f4bbdf4",
   "metadata": {
    "tags": []
   },
   "outputs": [
    {
     "data": {
      "text/plain": [
       "('just', 11)"
      ]
     },
     "execution_count": 374,
     "metadata": {},
     "output_type": "execute_result"
    }
   ],
   "source": [
    "result = bind(result,lambda x : unit(x+1)) # call unit function\n",
    "result"
   ]
  },
  {
   "cell_type": "code",
   "execution_count": 375,
   "id": "dd92bae7-ecc3-4efc-80ee-5b6edab4584f",
   "metadata": {
    "tags": []
   },
   "outputs": [
    {
     "data": {
      "text/plain": [
       "('just', 3)"
      ]
     },
     "execution_count": 375,
     "metadata": {},
     "output_type": "execute_result"
    }
   ],
   "source": [
    "result = bind(result,lambda x : unit(x-8)) # call unit function\n",
    "result"
   ]
  },
  {
   "cell_type": "code",
   "execution_count": 376,
   "id": "3291672a-d606-453d-918d-c4093d9ae89a",
   "metadata": {
    "tags": []
   },
   "outputs": [
    {
     "data": {
      "text/plain": [
       "('just', 0)"
      ]
     },
     "execution_count": 376,
     "metadata": {},
     "output_type": "execute_result"
    }
   ],
   "source": [
    "result = bind(result,lambda x : unit(x-3)) # call unit function\n",
    "result"
   ]
  },
  {
   "cell_type": "code",
   "execution_count": 377,
   "id": "e98cbf88-041f-4f5d-8c32-df4a8c3ed162",
   "metadata": {
    "tags": []
   },
   "outputs": [
    {
     "data": {
      "text/plain": [
       "('nothing', None)"
      ]
     },
     "execution_count": 377,
     "metadata": {},
     "output_type": "execute_result"
    }
   ],
   "source": [
    "# now try to pass ('just',0) in save_divide function\n",
    "result = bind(result,safe_divide)\n",
    "result # return nothing none"
   ]
  },
  {
   "cell_type": "code",
   "execution_count": 378,
   "id": "592edf46-75b5-4404-a547-79ff1d7ba7e2",
   "metadata": {
    "tags": []
   },
   "outputs": [
    {
     "data": {
      "text/plain": [
       "('nothing', None)"
      ]
     },
     "execution_count": 378,
     "metadata": {},
     "output_type": "execute_result"
    }
   ],
   "source": [
    "result"
   ]
  },
  {
   "cell_type": "markdown",
   "id": "96888d00-9591-4f35-a594-e0f53257b209",
   "metadata": {},
   "source": [
    "<body style=\"font-family: Sans-serif;\">\n",
    "    <div style=\"color: black; font-size: 15px; font-style: oblique; text-shadow: 0 0 3px white, 0 0 1px black; padding: 20px;\">\n",
    "        \n",
    "#### Is chaining se aap multiple operations ko sequentially execute kar sakte ho bina extra error checks ke. \n",
    "#### Agar beech mein koi operation error state (\"nothing\") return karta hai, to aage ka chain automatically break ho jata hai."
   ]
  },
  {
   "cell_type": "markdown",
   "id": "86771676-bb00-42ef-a232-fcd1bebd57ff",
   "metadata": {},
   "source": [
    "<h1 style=\"text-align:center; color:#005bbd; font-size:20px; font-family:Sans-serif; font-style: oblique; text-shadow: 0 0 3px white, 0 0 1px Black;\">Monads Use Case\n",
    "</h1>"
   ]
  },
  {
   "cell_type": "markdown",
   "id": "0ad27e9f-5d83-4230-9902-caedf5b73a8a",
   "metadata": {},
   "source": [
    "<body style=\"font-family: Sans-serif;\">\n",
    "    <div style=\"color: black; font-size: 15px; font-style: oblique; text-shadow: 0 0 3px white, 0 0 1px black; padding: 20px;\">\n",
    "        \n",
    "### Monads ke use cases bohat zyada hain. \n",
    "        \n",
    "- #### Yeh sirf error handling ke liye nahi balki different computation contexts ko manage karne ke liye use hoti hain. "
   ]
  },
  {
   "cell_type": "markdown",
   "id": "ac771e35-0b7a-4580-b5a5-cdf9a7f79c7a",
   "metadata": {},
   "source": [
    "<body style=\"font-family: Sans-serif;\">\n",
    "    <div style=\"color: black; font-size: 15px; font-style: oblique; text-shadow: 0 0 3px white, 0 0 1px black; padding: 20px;\">\n",
    "        \n",
    "### 1. Maybe Monad (Error Handling / Optional Values)\n",
    "\n",
    "- Jab aapko uncertain data ya missing value handle karni ho.  \n",
    "- Agar koi function valid value return kare to aage chain ho, warna \"nothing\" ya error state propagate ho jaye."
   ]
  },
  {
   "cell_type": "code",
   "execution_count": 385,
   "id": "ce947f4b-0a39-44a3-9838-8f121bdfcf68",
   "metadata": {
    "tags": []
   },
   "outputs": [],
   "source": [
    "def unit(value):\n",
    "    return (\"just\",value)\n",
    "\n",
    "def bind(container,func):\n",
    "    tag,value = container\n",
    "    \n",
    "    if tag == \"nothing\":\n",
    "        return (\"nothing\",None)\n",
    "    return func(value)\n",
    "\n",
    "def divide(x):\n",
    "    if x !=0:\n",
    "        return ('just',x / 2)\n",
    "    else:\n",
    "        return (\"nothing\",None)\n"
   ]
  },
  {
   "cell_type": "code",
   "execution_count": 386,
   "id": "858f5509-305a-4185-a184-69de806718d1",
   "metadata": {
    "tags": []
   },
   "outputs": [
    {
     "data": {
      "text/plain": [
       "('just', 5.0)"
      ]
     },
     "execution_count": 386,
     "metadata": {},
     "output_type": "execute_result"
    }
   ],
   "source": [
    "bind(unit(10),divide)"
   ]
  },
  {
   "cell_type": "code",
   "execution_count": 387,
   "id": "cd7296e5-465c-494d-92ed-ebf2fd79e32a",
   "metadata": {
    "tags": []
   },
   "outputs": [
    {
     "data": {
      "text/plain": [
       "('just', 5.0)"
      ]
     },
     "execution_count": 387,
     "metadata": {},
     "output_type": "execute_result"
    }
   ],
   "source": [
    "result = bind(unit(10),divide)\n",
    "result"
   ]
  },
  {
   "cell_type": "code",
   "execution_count": 388,
   "id": "b731ca45-af0e-49cd-8f7c-a7ee090b3fda",
   "metadata": {
    "tags": []
   },
   "outputs": [
    {
     "data": {
      "text/plain": [
       "('just', 0.0)"
      ]
     },
     "execution_count": 388,
     "metadata": {},
     "output_type": "execute_result"
    }
   ],
   "source": [
    "result = bind(result,lambda x:unit(x-5))\n",
    "result"
   ]
  },
  {
   "cell_type": "code",
   "execution_count": 390,
   "id": "5f27e1b2-bbb8-4609-b060-811519dd48ce",
   "metadata": {
    "tags": []
   },
   "outputs": [
    {
     "data": {
      "text/plain": [
       "('nothing', None)"
      ]
     },
     "execution_count": 390,
     "metadata": {},
     "output_type": "execute_result"
    }
   ],
   "source": [
    "bind(result,divide) # again try to use divide function"
   ]
  },
  {
   "cell_type": "markdown",
   "id": "bffea030-c340-49cb-85a4-2df556fbd2cf",
   "metadata": {},
   "source": [
    "<body style=\"font-family: Sans-serif;\">\n",
    "    <div style=\"color: black; font-size: 15px; font-style: oblique; text-shadow: 0 0 3px white, 0 0 1px black; padding: 20px;\">\n",
    "        \n",
    "### 2. List Monad (Non-Deterministic Computations)\n",
    "\n",
    "- Jab aapko multiple possible outcomes ko model karna ho.  \n",
    "- Har operation multiple possibilities generate karta hai, jise flatten karke final result list milti hai.\n"
   ]
  },
  {
   "cell_type": "markdown",
   "id": "62757e48-53df-4051-9b5b-0e9627cbb1e8",
   "metadata": {},
   "source": [
    "### raw logic"
   ]
  },
  {
   "cell_type": "code",
   "execution_count": 415,
   "id": "d680bdd7-6ee5-4e8b-892c-f0a1d3a6145c",
   "metadata": {
    "tags": []
   },
   "outputs": [],
   "source": [
    "def f(lst):\n",
    "    new = []\n",
    "    for i in lst:\n",
    "        new.append(i)\n",
    "        new.append(i+1)\n",
    "    return new"
   ]
  },
  {
   "cell_type": "code",
   "execution_count": 416,
   "id": "4e76bfff-755b-4d34-bfe0-8c2637bd6248",
   "metadata": {
    "tags": []
   },
   "outputs": [
    {
     "data": {
      "text/plain": [
       "[10, 11]"
      ]
     },
     "execution_count": 416,
     "metadata": {},
     "output_type": "execute_result"
    }
   ],
   "source": [
    "f([10])"
   ]
  },
  {
   "cell_type": "code",
   "execution_count": 417,
   "id": "7f69ce8d-303f-4c43-9ba0-2146bf4a130e",
   "metadata": {
    "tags": []
   },
   "outputs": [
    {
     "data": {
      "text/plain": [
       "[10, 11, 11, 12]"
      ]
     },
     "execution_count": 417,
     "metadata": {},
     "output_type": "execute_result"
    }
   ],
   "source": [
    "f(f([10]))"
   ]
  },
  {
   "cell_type": "code",
   "execution_count": 418,
   "id": "ef20da2c-02da-4e55-bca6-2331c354ffe5",
   "metadata": {
    "tags": []
   },
   "outputs": [
    {
     "data": {
      "text/plain": [
       "[10, 11, 11, 12, 11, 12, 12, 13]"
      ]
     },
     "execution_count": 418,
     "metadata": {},
     "output_type": "execute_result"
    }
   ],
   "source": [
    "f(f(f([10])))"
   ]
  },
  {
   "cell_type": "markdown",
   "id": "cd2baaf3-ebb7-4dad-b931-0ac723d29d2f",
   "metadata": {},
   "source": [
    "### Mondas logic"
   ]
  },
  {
   "cell_type": "code",
   "execution_count": 488,
   "id": "a2f98166-2a6f-4d72-8087-40b8355253a7",
   "metadata": {
    "tags": []
   },
   "outputs": [],
   "source": [
    "def list_unit(value):\n",
    "    return [value]\n",
    "\n",
    "def list_bind(lst, func):\n",
    "    # Har element par function apply karo jo list return karta hai, phir flatten karo.\n",
    "    return [y for x in lst for y in func(x)]"
   ]
  },
  {
   "cell_type": "code",
   "execution_count": 445,
   "id": "f6cd91e2-7769-4ef3-946b-4d12fd47ef2b",
   "metadata": {
    "tags": []
   },
   "outputs": [],
   "source": [
    "def add_options(x):\n",
    "    # Do options return karta hai: original value aur value + 1.\n",
    "    return [x, x + 1]\n"
   ]
  },
  {
   "cell_type": "code",
   "execution_count": 489,
   "id": "a5224a6c-a49c-4176-97ba-72da1340d31b",
   "metadata": {
    "tags": []
   },
   "outputs": [
    {
     "data": {
      "text/plain": [
       "[10]"
      ]
     },
     "execution_count": 489,
     "metadata": {},
     "output_type": "execute_result"
    }
   ],
   "source": [
    "initial = list_unit(10)\n",
    "initial"
   ]
  },
  {
   "cell_type": "code",
   "execution_count": 490,
   "id": "a71bb166-ae62-497d-b8a4-1b2123b40043",
   "metadata": {
    "tags": []
   },
   "outputs": [
    {
     "data": {
      "text/plain": [
       "[10, 11]"
      ]
     },
     "execution_count": 490,
     "metadata": {},
     "output_type": "execute_result"
    }
   ],
   "source": [
    "result = list_bind(initial, add_options)\n",
    "result"
   ]
  },
  {
   "cell_type": "code",
   "execution_count": 491,
   "id": "8622fb81-dbee-44dd-b0de-9ba20e1e4c18",
   "metadata": {
    "tags": []
   },
   "outputs": [
    {
     "data": {
      "text/plain": [
       "[10, 11, 11, 12]"
      ]
     },
     "execution_count": 491,
     "metadata": {},
     "output_type": "execute_result"
    }
   ],
   "source": [
    "result = list_bind(result, add_options)\n",
    "result"
   ]
  },
  {
   "cell_type": "markdown",
   "id": "abd243b2-d537-4173-b6e4-40d3e7c23310",
   "metadata": {},
   "source": [
    "<body style=\"font-family: Sans-serif;\">\n",
    "    <div style=\"color: black; font-size: 15px; font-style: oblique; text-shadow: 0 0 3px white, 0 0 1px black; padding: 20px;\">\n",
    "        \n",
    "### 3. State Monad (Stateful Computations)\n",
    "\n",
    "- Jab aapko state management ko pure functional tareeke se handle karna ho.  \n",
    "- State monad current state ko input leta hai aur updated state ke sath result return karta hai, bina global variables ke.\n"
   ]
  },
  {
   "cell_type": "code",
   "execution_count": 495,
   "id": "bf05d362-d8be-45b8-950b-81895783903f",
   "metadata": {
    "tags": []
   },
   "outputs": [],
   "source": [
    "def state_unit(value):\n",
    "    return lambda state: (value, state)\n",
    "\n",
    "def state_bind(m, f):\n",
    "    # Monadic function ko chain karta hai.\n",
    "    return lambda state: f(m(state)[0])(m(state)[1])\n",
    "\n",
    "# Ek simple state transformation: current state add karo aur state ko increment karo.\n",
    "def add_state(x):\n",
    "    return lambda state: (x + state, state + 1)"
   ]
  },
  {
   "cell_type": "code",
   "execution_count": 503,
   "id": "2fec59ba-aebd-4f19-ba07-83f7238f325a",
   "metadata": {
    "tags": []
   },
   "outputs": [],
   "source": [
    "# Start with state = 0, value = 10 wrapped in monad.\n",
    "m = state_unit(10)"
   ]
  },
  {
   "cell_type": "code",
   "execution_count": 504,
   "id": "3e83de33-38d3-475f-a788-514e70b99f1b",
   "metadata": {
    "tags": []
   },
   "outputs": [
    {
     "data": {
      "text/plain": [
       "<function __main__.state_bind.<locals>.<lambda>(state)>"
      ]
     },
     "execution_count": 504,
     "metadata": {},
     "output_type": "execute_result"
    }
   ],
   "source": [
    "m = state_bind(m, add_state)     # Pehla operation: (10 + state, state+1)\n",
    "m"
   ]
  },
  {
   "cell_type": "code",
   "execution_count": 505,
   "id": "9c2a39b6-79e9-48ee-8439-81ce1f669781",
   "metadata": {
    "tags": []
   },
   "outputs": [
    {
     "data": {
      "text/plain": [
       "<function __main__.state_bind.<locals>.<lambda>(state)>"
      ]
     },
     "execution_count": 505,
     "metadata": {},
     "output_type": "execute_result"
    }
   ],
   "source": [
    "m = state_bind(m, lambda y: state_unit(y * 2))  # Dusra operation: Multiply result by 2\n",
    "m"
   ]
  },
  {
   "cell_type": "code",
   "execution_count": 506,
   "id": "32e8240d-93c8-4bfb-ba20-e65459e79cb4",
   "metadata": {
    "tags": []
   },
   "outputs": [
    {
     "name": "stdout",
     "output_type": "stream",
     "text": [
      "State Monad Result: (20, 1)\n"
     ]
    }
   ],
   "source": [
    "result = m(0)  # Start state = 0\n",
    "print(\"State Monad Result:\", result)  # Expected output: (20, updated_state)"
   ]
  }
 ],
 "metadata": {
  "kernelspec": {
   "display_name": "Python 3 (ipykernel)",
   "language": "python",
   "name": "python3"
  },
  "language_info": {
   "codemirror_mode": {
    "name": "ipython",
    "version": 3
   },
   "file_extension": ".py",
   "mimetype": "text/x-python",
   "name": "python",
   "nbconvert_exporter": "python",
   "pygments_lexer": "ipython3",
   "version": "3.10.12"
  }
 },
 "nbformat": 4,
 "nbformat_minor": 5
}
