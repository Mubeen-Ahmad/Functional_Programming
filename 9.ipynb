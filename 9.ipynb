{
 "cells": [
  {
   "cell_type": "markdown",
   "id": "d305faa9-6655-45fc-885e-bb2b1bb3b300",
   "metadata": {},
   "source": [
    "<h1 style=\"text-align:center; color:#005bbd; font-size:20px; font-family:Sans-serif; font-style: oblique; text-shadow: 0 0 3px white, 0 0 1px Black;\">Recursion\n",
    "</h1>"
   ]
  },
  {
   "cell_type": "markdown",
   "id": "105f25ac-bdad-4e35-b982-73e99d5e75b4",
   "metadata": {},
   "source": [
    "<body style=\"font-family: Sans-serif;\">\n",
    "    <div style=\"color: black; font-size: 15px; font-style: oblique; text-shadow: 0 0 3px white, 0 0 1px black; padding: 20px;\">\n",
    "\n",
    "**Recursion** aik programming technique hai jahan ek function apne aap ko call karta hai. Iska istemal aksar complex problems ko chote aur manageable sub-problems mein divide karne ke liye kiya jata hai. \n",
    "\n",
    "- Recursion mein 2 Main cheezen hoti hain:\n",
    "    - 1. **Base Case:** Wo condition jahan recursion ruk jata hai, warna infinite loop ho jata hai.\n",
    "    - 2. **Recursive Case:** Wo hissa jahan function apne aap ko call karta hai, aur problem ko chota karta hai."
   ]
  },
  {
   "cell_type": "code",
   "execution_count": 73,
   "id": "1ea25d62-90de-465a-ad9d-cb07a678f6d4",
   "metadata": {
    "tags": []
   },
   "outputs": [],
   "source": [
    "def factorial(n):\n",
    "\n",
    "    # Base Case\n",
    "    if n == 0:\n",
    "        return 1\n",
    "\n",
    "    # Recursive Case\n",
    "    else:\n",
    "        return n * factorial(n - 1)"
   ]
  },
  {
   "cell_type": "code",
   "execution_count": 74,
   "id": "f71266e8-dfe1-48f8-9539-26b9407c43e5",
   "metadata": {
    "tags": []
   },
   "outputs": [
    {
     "data": {
      "text/plain": [
       "6"
      ]
     },
     "execution_count": 74,
     "metadata": {},
     "output_type": "execute_result"
    }
   ],
   "source": [
    "factorial(3)"
   ]
  },
  {
   "cell_type": "markdown",
   "id": "c220a474-d30e-4535-ac5d-f30fc4aeda73",
   "metadata": {},
   "source": [
    "<img src=\"./images/rc1.jpg\" style=\"display: block;margin-left: auto; margin-right: auto;width: 60%\">"
   ]
  },
  {
   "cell_type": "markdown",
   "id": "1f8b28a4-5597-4abb-ae7e-5165d5321fbc",
   "metadata": {},
   "source": [
    "<h1 style=\"text-align:center; color:#005bbd; font-size:20px; font-family:Sans-serif; font-style: oblique; text-shadow: 0 0 3px white, 0 0 1px Black;\">Direct Recursion\n",
    "</h1>"
   ]
  },
  {
   "cell_type": "markdown",
   "id": "fb5352fa-8d75-461f-ac13-63cff2fa6fb1",
   "metadata": {},
   "source": [
    "<body style=\"font-family: Sans-serif;\">\n",
    "    <div style=\"color: black; font-size: 15px; font-style: oblique; text-shadow: 0 0 3px white, 0 0 1px black; padding: 20px;\">\n",
    "\n",
    "Direct Recursion ka matlab hai ke ek function seedha apne aap ko call karta hai. Yani, function ke andar hi us function ka call likha hota hai, bina kisi doosre function ke beech mein.\n",
    "        \n",
    "Jab ek function directly apne aap ko call karta hai, usay direct recursion kehte hain. \n",
    "        \n",
    "Iska simple matlab hai ke function apne body ke andar hi \"self-call\" karta hai."
   ]
  },
  {
   "cell_type": "code",
   "execution_count": 4,
   "id": "5cac120d-321f-4501-90c8-60a1d0525bbc",
   "metadata": {
    "tags": []
   },
   "outputs": [
    {
     "name": "stdout",
     "output_type": "stream",
     "text": [
      "3\n",
      "2\n",
      "1\n",
      "End\n"
     ]
    }
   ],
   "source": [
    "def count_down(n):\n",
    "\n",
    "    if n <= 0:\n",
    "        print(\"End\")\n",
    "        return\n",
    "    else:\n",
    "        print(n)\n",
    "        count_down(n - 1)\n",
    "\n",
    "\n",
    "count_down(3)"
   ]
  },
  {
   "cell_type": "markdown",
   "id": "aa96a68b-1a63-4266-8adc-1bf508e661f4",
   "metadata": {},
   "source": [
    "<img src=\"./images/rc2.jpg\" style=\"display: block;margin-left: auto; margin-right: auto;width: 60%\">"
   ]
  },
  {
   "cell_type": "code",
   "execution_count": 111,
   "id": "0c9ed487-fe86-4b47-85a0-5ead0a13b880",
   "metadata": {
    "tags": []
   },
   "outputs": [
    {
     "data": {
      "text/plain": [
       "'cba'"
      ]
     },
     "execution_count": 111,
     "metadata": {},
     "output_type": "execute_result"
    }
   ],
   "source": [
    "def reverse(i):\n",
    "\n",
    "    if len(i) == 0:\n",
    "        return i\n",
    "    else:\n",
    "        return reverse(i[1:]) + i[0]\n",
    "\n",
    "\n",
    "reverse(\"abc\")"
   ]
  },
  {
   "cell_type": "markdown",
   "id": "b3feb152-5545-441c-a9ed-a01933c0c464",
   "metadata": {},
   "source": [
    "<img src=\"./images/rc3.jpg\" style=\"display: block;margin-left: auto; margin-right: auto;width: 60%\">"
   ]
  },
  {
   "cell_type": "markdown",
   "id": "eefe3ada-aa35-4653-9076-f0b2bfbcb735",
   "metadata": {},
   "source": [
    "\n",
    "<h1 style=\"text-align:center; color:#005bbd; font-size:20px; font-family:Sans-serif; font-style: oblique; text-shadow: 0 0 3px white, 0 0 1px Black;\">InDirect Recursion\n",
    "</h1>"
   ]
  },
  {
   "cell_type": "markdown",
   "id": "3eaf419d-a1ec-48d0-b478-90e3595a51bd",
   "metadata": {},
   "source": [
    "<body style=\"font-family: Sans-serif;\">\n",
    "    <div style=\"color: black; font-size: 15px; font-style: oblique; text-shadow: 0 0 3px white, 0 0 1px black; padding: 20px;\">\n",
    "\n",
    "Indirect Recursion ka matlab hai do ya zyada functions ka aapas mein ek doosre ko call karna taake ek recursive cycle ban jaye. \n",
    "\n",
    "- Ye direct recursion se alag hai, jahan sirf ek function khud ko call karta hai. \n",
    "- Indirect recursion mein functions ka group ek doosre ke through repeat hota hai.\n",
    "        \n",
    "**funcA** andar **funcB** ko call karta hai.\n",
    "        \n",
    "**funcB** phir **funcA** ko dobara call karta hai.\n",
    "\n",
    "Yeh cycle tab tak chalti hai jab tak base condition reach nahi hoti."
   ]
  },
  {
   "cell_type": "code",
   "execution_count": 225,
   "id": "f1f4796e-1bee-4a43-8d55-7c9250b58a91",
   "metadata": {
    "tags": []
   },
   "outputs": [],
   "source": [
    "def funcA(n):\n",
    "    if n <= 0:\n",
    "        return\n",
    "    \n",
    "    print(\"FuncA:\", n)\n",
    "    funcB(n - 1) \n",
    "    \n",
    "def funcB(n):\n",
    "    print(\"FuncB:\", n)\n",
    "    funcA(n - 1) "
   ]
  },
  {
   "cell_type": "code",
   "execution_count": 235,
   "id": "c383e219-8015-43d4-a8eb-39ffbbd9d112",
   "metadata": {
    "tags": []
   },
   "outputs": [
    {
     "name": "stdout",
     "output_type": "stream",
     "text": [
      "FuncA: 3\n",
      "FuncB: 2\n",
      "FuncA: 1\n",
      "FuncB: 0\n"
     ]
    }
   ],
   "source": [
    "funcA(3)"
   ]
  },
  {
   "cell_type": "markdown",
   "id": "f3ad41f7-2443-49a0-8170-21f27198844d",
   "metadata": {},
   "source": [
    "<img src=\"./images/rc4.jpg\" style=\"display: block;margin-left: auto; margin-right: auto;width: 60%\">"
   ]
  },
  {
   "cell_type": "markdown",
   "id": "40c5600f-1811-447e-825a-bb213b945288",
   "metadata": {},
   "source": [
    "\n",
    "<h1 style=\"text-align:center; color:#005bbd; font-size:20px; font-family:Sans-serif; font-style: oblique; text-shadow: 0 0 3px white, 0 0 1px Black;\">Tail Recursion\n",
    "</h1>"
   ]
  },
  {
   "cell_type": "markdown",
   "id": "de93a89b-ac82-42bc-8f41-548736ab11a8",
   "metadata": {},
   "source": [
    "<body style=\"font-family: Sans-serif;\">\n",
    "    <div style=\"color: black; font-size: 15px; font-style: oblique; text-shadow: 0 0 3px white, 0 0 1px black; padding: 20px;\">\n",
    "\n",
    "Tail Recursion ek aisa recursion hai jahan recursive call function ka aakhri operation (last action) hota hai. \n",
    "\n",
    "Iska matlab hai ke function apna kaam khatam karne ke baad seedhe recursive call karta hai, aur uske baad koi aur calculation ya process nahi hoti. \n",
    "\n",
    "Yeh approach stack memory ko optimize karne mein madad karti hai, kyunki har recursive call ka stack frame replace ho sakta hai (agar compiler/optimizer support kare).."
   ]
  },
  {
   "cell_type": "code",
   "execution_count": 13,
   "id": "509473ff-4012-4829-8ae8-30ea7b98d25c",
   "metadata": {
    "tags": []
   },
   "outputs": [],
   "source": [
    "def tail(n, acc=1):\n",
    "    \n",
    "    if n == 0:\n",
    "        return acc\n",
    "    \n",
    "    return tail(n-1, n * acc)"
   ]
  },
  {
   "cell_type": "code",
   "execution_count": 14,
   "id": "c0f4c2a9-155a-482b-9e39-579b919b6a3f",
   "metadata": {
    "tags": []
   },
   "outputs": [
    {
     "data": {
      "text/plain": [
       "6"
      ]
     },
     "execution_count": 14,
     "metadata": {},
     "output_type": "execute_result"
    }
   ],
   "source": [
    "tail(3)"
   ]
  },
  {
   "cell_type": "markdown",
   "id": "54265325-4953-4b68-9fb0-76a762a9fc6a",
   "metadata": {},
   "source": [
    "<img src=\"./images/rc5.jpg\" style=\"display: block;margin-left: auto; margin-right: auto;width: 60%\">"
   ]
  },
  {
   "cell_type": "markdown",
   "id": "a22b543b-053e-417d-91c3-3e6959822b32",
   "metadata": {},
   "source": [
    "\n",
    "<h1 style=\"text-align:center; color:#005bbd; font-size:20px; font-family:Sans-serif; font-style: oblique; text-shadow: 0 0 3px white, 0 0 1px Black;\">Tree Recursion\n",
    "</h1>"
   ]
  },
  {
   "cell_type": "markdown",
   "id": "7ef3aaa5-ee21-48a4-9052-a805d5a854cb",
   "metadata": {},
   "source": [
    "<body style=\"font-family: Sans-serif;\">\n",
    "    <div style=\"color: black; font-size: 15px; font-style: oblique; text-shadow: 0 0 3px white, 0 0 1px black; padding: 20px;\">\n",
    "\n",
    "Tree Recursion aik aisa recursion hai jismein ek function apne andar ek se zyada recursive calls karta hai.\n",
    "\n",
    "Is tarah se, function call ka structure ek tree ki tarah ho jata hai\n",
    "        \n",
    "har function call se multiple recursive calls nikalti hain jo phir further recursive calls generate karti hain."
   ]
  },
  {
   "cell_type": "code",
   "execution_count": 2,
   "id": "33249aca-ae9a-4b3f-94de-95534378ee24",
   "metadata": {
    "tags": []
   },
   "outputs": [
    {
     "data": {
      "text/plain": [
       "3"
      ]
     },
     "execution_count": 2,
     "metadata": {},
     "output_type": "execute_result"
    }
   ],
   "source": [
    "def fib(n):\n",
    "    \n",
    "    if n < 2:\n",
    "        return n             \n",
    "    return fib(n-1) + fib(n-2)  \n",
    "\n",
    "fib(4)"
   ]
  },
  {
   "cell_type": "markdown",
   "id": "9c741e46-190e-4c38-a97e-a14669fe0491",
   "metadata": {},
   "source": [
    "<img src=\"./images/rc6.jpg\" style=\"display: block;margin-left: auto; margin-right: auto;width: 60%\">"
   ]
  },
  {
   "cell_type": "markdown",
   "id": "55246d1b-143e-44db-afc1-83435885f666",
   "metadata": {},
   "source": [
    "\n",
    "<h1 style=\"text-align:center; color:#005bbd; font-size:20px; font-family:Sans-serif; font-style: oblique; text-shadow: 0 0 3px white, 0 0 1px Black;\">Nested Recursion\n",
    "</h1>"
   ]
  },
  {
   "cell_type": "markdown",
   "id": "9cdcc10b-35d7-4cc7-89a1-7054fb9f55fe",
   "metadata": {},
   "source": [
    "<body style=\"font-family: Sans-serif;\">\n",
    "    <div style=\"color: black; font-size: 15px; font-style: oblique; text-shadow: 0 0 3px white, 0 0 1px black; padding: 20px;\">\n",
    "Nested recursion wo technique hai jismein recursive call apne aap ke argument ke andar hoti hai. \n",
    "\n",
    "Matlab, function call ke andar hi function ka call hota hai, jo ke ek nested structure create karta hai"
   ]
  },
  {
   "cell_type": "code",
   "execution_count": 16,
   "id": "f26b2ca4-8a38-451a-9205-b42ab50d122b",
   "metadata": {
    "tags": []
   },
   "outputs": [
    {
     "data": {
      "text/plain": [
       "4"
      ]
     },
     "execution_count": 16,
     "metadata": {},
     "output_type": "execute_result"
    }
   ],
   "source": [
    "def f(n):\n",
    "    \n",
    "    if n > 3:\n",
    "        return n\n",
    "    else:\n",
    "        return f(f(n+1))\n",
    "f(2)   "
   ]
  },
  {
   "cell_type": "markdown",
   "id": "2947b28e-978e-4146-a2c9-f29120b3489a",
   "metadata": {},
   "source": [
    "<img src=\"./images/rc7.jpg\" style=\"display: block;margin-left: auto; margin-right: auto;width: 60%\">"
   ]
  },
  {
   "cell_type": "markdown",
   "id": "8cb787c7-dd7e-46e7-95b0-9d0b599e0d60",
   "metadata": {},
   "source": [
    "\n",
    "<h1 style=\"text-align:center; color:#005bbd; font-size:20px; font-family:Sans-serif; font-style: oblique; text-shadow: 0 0 3px white, 0 0 1px Black;\">Common Mistakes in Recursion\n",
    "</h1>"
   ]
  },
  {
   "cell_type": "markdown",
   "id": "1b3ac002-0f14-447f-9f7a-9939fe5fa1aa",
   "metadata": {},
   "source": [
    "<body style=\"font-family: Sans-serif;\">\n",
    "    <div style=\"color: black; font-size: 15px; font-style: oblique; text-shadow: 0 0 3px white, 0 0 1px black; padding: 20px;\">\n",
    "Common mistakes in recursion aksar beginners aur even experienced programmers ke liye challenging ho sakti hain. \n",
    "<br><br>\n",
    "Yeh rahi kuch aam galtiyan jo log recursion likhte waqt karte hain :"
   ]
  },
  {
   "cell_type": "markdown",
   "id": "1858dc7a-9980-48c9-a985-91bcdadfac12",
   "metadata": {},
   "source": [
    "<body style=\"font-family: Sans-serif;\">\n",
    "    <div style=\"color: black; font-size: 15px; font-style: oblique; text-shadow: 0 0 3px white, 0 0 1px black; padding: 20px;\">\n",
    "        \n",
    "- 1 **Agar base case sahi tarah define na ho to function expected termination se pehle hi infinite recursion mein chala jata hai.**"
   ]
  },
  {
   "cell_type": "code",
   "execution_count": 17,
   "id": "ced186da-baca-4676-9f6c-f9a2c6379484",
   "metadata": {
    "tags": []
   },
   "outputs": [
    {
     "ename": "RecursionError",
     "evalue": "maximum recursion depth exceeded in comparison",
     "output_type": "error",
     "traceback": [
      "\u001b[0;31m---------------------------------------------------------------------------\u001b[0m",
      "\u001b[0;31mRecursionError\u001b[0m                            Traceback (most recent call last)",
      "Cell \u001b[0;32mIn[17], line 12\u001b[0m\n\u001b[1;32m      8\u001b[0m     \u001b[38;5;28;01mreturn\u001b[39;00m n \u001b[38;5;241m*\u001b[39m faulty_factorial(n\u001b[38;5;241m-\u001b[39m\u001b[38;5;241m1\u001b[39m)\n\u001b[1;32m     10\u001b[0m \u001b[38;5;66;03m# Agar hum faulty_factorial(0) call karenge, \u001b[39;00m\n\u001b[1;32m     11\u001b[0m \u001b[38;5;66;03m# to yeh infinite recursion create karega.\u001b[39;00m\n\u001b[0;32m---> 12\u001b[0m \u001b[43mfaulty_factorial\u001b[49m\u001b[43m(\u001b[49m\u001b[38;5;241;43m0\u001b[39;49m\u001b[43m)\u001b[49m\n",
      "Cell \u001b[0;32mIn[17], line 8\u001b[0m, in \u001b[0;36mfaulty_factorial\u001b[0;34m(n)\u001b[0m\n\u001b[1;32m      6\u001b[0m \u001b[38;5;28;01mif\u001b[39;00m n \u001b[38;5;241m==\u001b[39m \u001b[38;5;241m1\u001b[39m:\n\u001b[1;32m      7\u001b[0m     \u001b[38;5;28;01mreturn\u001b[39;00m \u001b[38;5;241m1\u001b[39m\n\u001b[0;32m----> 8\u001b[0m \u001b[38;5;28;01mreturn\u001b[39;00m n \u001b[38;5;241m*\u001b[39m \u001b[43mfaulty_factorial\u001b[49m\u001b[43m(\u001b[49m\u001b[43mn\u001b[49m\u001b[38;5;241;43m-\u001b[39;49m\u001b[38;5;241;43m1\u001b[39;49m\u001b[43m)\u001b[49m\n",
      "Cell \u001b[0;32mIn[17], line 8\u001b[0m, in \u001b[0;36mfaulty_factorial\u001b[0;34m(n)\u001b[0m\n\u001b[1;32m      6\u001b[0m \u001b[38;5;28;01mif\u001b[39;00m n \u001b[38;5;241m==\u001b[39m \u001b[38;5;241m1\u001b[39m:\n\u001b[1;32m      7\u001b[0m     \u001b[38;5;28;01mreturn\u001b[39;00m \u001b[38;5;241m1\u001b[39m\n\u001b[0;32m----> 8\u001b[0m \u001b[38;5;28;01mreturn\u001b[39;00m n \u001b[38;5;241m*\u001b[39m \u001b[43mfaulty_factorial\u001b[49m\u001b[43m(\u001b[49m\u001b[43mn\u001b[49m\u001b[38;5;241;43m-\u001b[39;49m\u001b[38;5;241;43m1\u001b[39;49m\u001b[43m)\u001b[49m\n",
      "    \u001b[0;31m[... skipping similar frames: faulty_factorial at line 8 (2968 times)]\u001b[0m\n",
      "Cell \u001b[0;32mIn[17], line 8\u001b[0m, in \u001b[0;36mfaulty_factorial\u001b[0;34m(n)\u001b[0m\n\u001b[1;32m      6\u001b[0m \u001b[38;5;28;01mif\u001b[39;00m n \u001b[38;5;241m==\u001b[39m \u001b[38;5;241m1\u001b[39m:\n\u001b[1;32m      7\u001b[0m     \u001b[38;5;28;01mreturn\u001b[39;00m \u001b[38;5;241m1\u001b[39m\n\u001b[0;32m----> 8\u001b[0m \u001b[38;5;28;01mreturn\u001b[39;00m n \u001b[38;5;241m*\u001b[39m \u001b[43mfaulty_factorial\u001b[49m\u001b[43m(\u001b[49m\u001b[43mn\u001b[49m\u001b[38;5;241;43m-\u001b[39;49m\u001b[38;5;241;43m1\u001b[39;49m\u001b[43m)\u001b[49m\n",
      "Cell \u001b[0;32mIn[17], line 6\u001b[0m, in \u001b[0;36mfaulty_factorial\u001b[0;34m(n)\u001b[0m\n\u001b[1;32m      1\u001b[0m \u001b[38;5;28;01mdef\u001b[39;00m \u001b[38;5;21mfaulty_factorial\u001b[39m(n):\n\u001b[1;32m      2\u001b[0m     \n\u001b[1;32m      3\u001b[0m     \u001b[38;5;66;03m# Yahan base case sirf tab trigger hoga jab n == 1,\u001b[39;00m\n\u001b[1;32m      4\u001b[0m     \u001b[38;5;66;03m# lekin agar n == 0 pass kiya jaye, to base case kabhi hit nahi hota.\u001b[39;00m\n\u001b[0;32m----> 6\u001b[0m     \u001b[38;5;28;01mif\u001b[39;00m \u001b[43mn\u001b[49m\u001b[43m \u001b[49m\u001b[38;5;241;43m==\u001b[39;49m\u001b[43m \u001b[49m\u001b[38;5;241;43m1\u001b[39;49m:\n\u001b[1;32m      7\u001b[0m         \u001b[38;5;28;01mreturn\u001b[39;00m \u001b[38;5;241m1\u001b[39m\n\u001b[1;32m      8\u001b[0m     \u001b[38;5;28;01mreturn\u001b[39;00m n \u001b[38;5;241m*\u001b[39m faulty_factorial(n\u001b[38;5;241m-\u001b[39m\u001b[38;5;241m1\u001b[39m)\n",
      "\u001b[0;31mRecursionError\u001b[0m: maximum recursion depth exceeded in comparison"
     ]
    }
   ],
   "source": [
    "def faulty_factorial(n):\n",
    "    \n",
    "    # Yahan base case sirf tab trigger hoga jab n == 1,\n",
    "    # lekin agar n == 0 pass kiya jaye, to base case kabhi hit nahi hota.\n",
    "    \n",
    "    if n == 1:\n",
    "        return 1\n",
    "    return n * faulty_factorial(n-1)\n",
    "\n",
    "# Agar hum faulty_factorial(0) call karenge, \n",
    "# to yeh infinite recursion create karega.\n",
    "faulty_factorial(0)"
   ]
  },
  {
   "cell_type": "markdown",
   "id": "524e6f2b-6011-4701-955d-8ec66845bf96",
   "metadata": {},
   "source": [
    "<body style=\"font-family: Sans-serif;\">\n",
    "    <div style=\"color: black; font-size: 15px; font-style: oblique; text-shadow: 0 0 3px white, 0 0 1px black; padding: 20px;\">\n",
    "        \n",
    "        Is function mein base case sirf n == 1 check karta hai. Agar input 0 diya jaye, to recursion kabhi rukegi nahi, jis se infinite recursion aur eventually stack overflow ho sakta hai.\n",
    "---"
   ]
  },
  {
   "cell_type": "markdown",
   "id": "ceef7447-e8b2-4c38-b8e4-779574624bf5",
   "metadata": {},
   "source": [
    "<body style=\"font-family: Sans-serif;\">\n",
    "    <div style=\"color: black; font-size: 15px; font-style: oblique; text-shadow: 0 0 3px white, 0 0 1px black; padding: 20px;\">\n",
    "        \n",
    "- 2 **Agar base case hi define na ho ya logic aisa ho ke function kabhi base case tak na pohnche, to infinite recursion ho jati hai.**"
   ]
  },
  {
   "cell_type": "code",
   "execution_count": 18,
   "id": "0c1f055a-5f7e-4bf5-aa34-bfaeb8d1ba26",
   "metadata": {
    "tags": []
   },
   "outputs": [
    {
     "ename": "RecursionError",
     "evalue": "maximum recursion depth exceeded in comparison",
     "output_type": "error",
     "traceback": [
      "\u001b[0;31m---------------------------------------------------------------------------\u001b[0m",
      "\u001b[0;31mRecursionError\u001b[0m                            Traceback (most recent call last)",
      "Cell \u001b[0;32mIn[18], line 10\u001b[0m\n\u001b[1;32m      7\u001b[0m         \u001b[38;5;28;01mreturn\u001b[39;00m n\n\u001b[1;32m      8\u001b[0m     \u001b[38;5;28;01mreturn\u001b[39;00m infinite_recursion(n \u001b[38;5;241m+\u001b[39m \u001b[38;5;241m1\u001b[39m)\n\u001b[0;32m---> 10\u001b[0m \u001b[43minfinite_recursion\u001b[49m\u001b[43m(\u001b[49m\u001b[38;5;241;43m5\u001b[39;49m\u001b[43m)\u001b[49m\n",
      "Cell \u001b[0;32mIn[18], line 8\u001b[0m, in \u001b[0;36minfinite_recursion\u001b[0;34m(n)\u001b[0m\n\u001b[1;32m      6\u001b[0m \u001b[38;5;28;01mif\u001b[39;00m n \u001b[38;5;241m<\u001b[39m \u001b[38;5;241m0\u001b[39m:\n\u001b[1;32m      7\u001b[0m     \u001b[38;5;28;01mreturn\u001b[39;00m n\n\u001b[0;32m----> 8\u001b[0m \u001b[38;5;28;01mreturn\u001b[39;00m \u001b[43minfinite_recursion\u001b[49m\u001b[43m(\u001b[49m\u001b[43mn\u001b[49m\u001b[43m \u001b[49m\u001b[38;5;241;43m+\u001b[39;49m\u001b[43m \u001b[49m\u001b[38;5;241;43m1\u001b[39;49m\u001b[43m)\u001b[49m\n",
      "Cell \u001b[0;32mIn[18], line 8\u001b[0m, in \u001b[0;36minfinite_recursion\u001b[0;34m(n)\u001b[0m\n\u001b[1;32m      6\u001b[0m \u001b[38;5;28;01mif\u001b[39;00m n \u001b[38;5;241m<\u001b[39m \u001b[38;5;241m0\u001b[39m:\n\u001b[1;32m      7\u001b[0m     \u001b[38;5;28;01mreturn\u001b[39;00m n\n\u001b[0;32m----> 8\u001b[0m \u001b[38;5;28;01mreturn\u001b[39;00m \u001b[43minfinite_recursion\u001b[49m\u001b[43m(\u001b[49m\u001b[43mn\u001b[49m\u001b[43m \u001b[49m\u001b[38;5;241;43m+\u001b[39;49m\u001b[43m \u001b[49m\u001b[38;5;241;43m1\u001b[39;49m\u001b[43m)\u001b[49m\n",
      "    \u001b[0;31m[... skipping similar frames: infinite_recursion at line 8 (2968 times)]\u001b[0m\n",
      "Cell \u001b[0;32mIn[18], line 8\u001b[0m, in \u001b[0;36minfinite_recursion\u001b[0;34m(n)\u001b[0m\n\u001b[1;32m      6\u001b[0m \u001b[38;5;28;01mif\u001b[39;00m n \u001b[38;5;241m<\u001b[39m \u001b[38;5;241m0\u001b[39m:\n\u001b[1;32m      7\u001b[0m     \u001b[38;5;28;01mreturn\u001b[39;00m n\n\u001b[0;32m----> 8\u001b[0m \u001b[38;5;28;01mreturn\u001b[39;00m \u001b[43minfinite_recursion\u001b[49m\u001b[43m(\u001b[49m\u001b[43mn\u001b[49m\u001b[43m \u001b[49m\u001b[38;5;241;43m+\u001b[39;49m\u001b[43m \u001b[49m\u001b[38;5;241;43m1\u001b[39;49m\u001b[43m)\u001b[49m\n",
      "Cell \u001b[0;32mIn[18], line 6\u001b[0m, in \u001b[0;36minfinite_recursion\u001b[0;34m(n)\u001b[0m\n\u001b[1;32m      1\u001b[0m \u001b[38;5;28;01mdef\u001b[39;00m \u001b[38;5;21minfinite_recursion\u001b[39m(n):\n\u001b[1;32m      2\u001b[0m     \n\u001b[1;32m      3\u001b[0m     \u001b[38;5;66;03m# Yahan base case kabhi nahi aata kyunki condition galat hai.\u001b[39;00m\n\u001b[1;32m      4\u001b[0m     \u001b[38;5;66;03m# n ko badhaya jata hai, is liye agar n >= 0 ho, to kabhi n < 0 nahi hoga.\u001b[39;00m\n\u001b[0;32m----> 6\u001b[0m     \u001b[38;5;28;01mif\u001b[39;00m \u001b[43mn\u001b[49m\u001b[43m \u001b[49m\u001b[38;5;241;43m<\u001b[39;49m\u001b[43m \u001b[49m\u001b[38;5;241;43m0\u001b[39;49m:\n\u001b[1;32m      7\u001b[0m         \u001b[38;5;28;01mreturn\u001b[39;00m n\n\u001b[1;32m      8\u001b[0m     \u001b[38;5;28;01mreturn\u001b[39;00m infinite_recursion(n \u001b[38;5;241m+\u001b[39m \u001b[38;5;241m1\u001b[39m)\n",
      "\u001b[0;31mRecursionError\u001b[0m: maximum recursion depth exceeded in comparison"
     ]
    }
   ],
   "source": [
    "def infinite_recursion(n):\n",
    "    \n",
    "    # Yahan base case kabhi nahi aata kyunki condition galat hai.\n",
    "    # n ko badhaya jata hai, is liye agar n >= 0 ho, to kabhi n < 0 nahi hoga.\n",
    "    \n",
    "    if n < 0:\n",
    "        return n\n",
    "    return infinite_recursion(n + 1)\n",
    "\n",
    "infinite_recursion(5)"
   ]
  },
  {
   "cell_type": "markdown",
   "id": "206c001c-60a5-438f-b0af-4a9fde6af13a",
   "metadata": {},
   "source": [
    "<body style=\"font-family: Sans-serif;\">\n",
    "    <div style=\"color: black; font-size: 15px; font-style: oblique; text-shadow: 0 0 3px white, 0 0 1px black; padding: 20px;\">\n",
    "        \n",
    "        Yahan, function har call mein n ko barha raha hai. Base case tab trigger hoga jab n < 0 ho, lekin kyunki hum positive number se shuru kar rahe hain aur n ko barha rahe hain, base case kabhi nahi aata. Is se infinite recursion ho jati hai aur eventually stack overflow error aa jati hai.\n",
    "    \n",
    "---"
   ]
  },
  {
   "cell_type": "markdown",
   "id": "4369ea4c-f197-400e-90b2-7f084feadf71",
   "metadata": {},
   "source": [
    "<body style=\"font-family: Sans-serif;\">\n",
    "    <div style=\"color: black; font-size: 15px; font-style: oblique; text-shadow: 0 0 3px white, 0 0 1px black; padding: 20px;\">\n",
    "        \n",
    "- 3 **Recursive call se return statement lagana bhool jana**"
   ]
  },
  {
   "cell_type": "code",
   "execution_count": 20,
   "id": "bf65b19d-63d3-434f-818a-f2dd29139492",
   "metadata": {
    "tags": []
   },
   "outputs": [
    {
     "ename": "TypeError",
     "evalue": "unsupported operand type(s) for *: 'int' and 'NoneType'",
     "output_type": "error",
     "traceback": [
      "\u001b[0;31m---------------------------------------------------------------------------\u001b[0m",
      "\u001b[0;31mTypeError\u001b[0m                                 Traceback (most recent call last)",
      "Cell \u001b[0;32mIn[20], line 8\u001b[0m\n\u001b[1;32m      5\u001b[0m     \u001b[38;5;66;03m# Yahan return statement missing hai\u001b[39;00m\n\u001b[1;32m      6\u001b[0m     n \u001b[38;5;241m*\u001b[39m faulty_factorial(n \u001b[38;5;241m-\u001b[39m \u001b[38;5;241m1\u001b[39m)\n\u001b[0;32m----> 8\u001b[0m \u001b[43mfaulty_factorial\u001b[49m\u001b[43m(\u001b[49m\u001b[38;5;241;43m5\u001b[39;49m\u001b[43m)\u001b[49m\n",
      "Cell \u001b[0;32mIn[20], line 6\u001b[0m, in \u001b[0;36mfaulty_factorial\u001b[0;34m(n)\u001b[0m\n\u001b[1;32m      3\u001b[0m     \u001b[38;5;28;01mreturn\u001b[39;00m \u001b[38;5;241m1\u001b[39m\n\u001b[1;32m      5\u001b[0m \u001b[38;5;66;03m# Yahan return statement missing hai\u001b[39;00m\n\u001b[0;32m----> 6\u001b[0m n \u001b[38;5;241m*\u001b[39m \u001b[43mfaulty_factorial\u001b[49m\u001b[43m(\u001b[49m\u001b[43mn\u001b[49m\u001b[43m \u001b[49m\u001b[38;5;241;43m-\u001b[39;49m\u001b[43m \u001b[49m\u001b[38;5;241;43m1\u001b[39;49m\u001b[43m)\u001b[49m\n",
      "Cell \u001b[0;32mIn[20], line 6\u001b[0m, in \u001b[0;36mfaulty_factorial\u001b[0;34m(n)\u001b[0m\n\u001b[1;32m      3\u001b[0m     \u001b[38;5;28;01mreturn\u001b[39;00m \u001b[38;5;241m1\u001b[39m\n\u001b[1;32m      5\u001b[0m \u001b[38;5;66;03m# Yahan return statement missing hai\u001b[39;00m\n\u001b[0;32m----> 6\u001b[0m n \u001b[38;5;241m*\u001b[39m \u001b[43mfaulty_factorial\u001b[49m\u001b[43m(\u001b[49m\u001b[43mn\u001b[49m\u001b[43m \u001b[49m\u001b[38;5;241;43m-\u001b[39;49m\u001b[43m \u001b[49m\u001b[38;5;241;43m1\u001b[39;49m\u001b[43m)\u001b[49m\n",
      "    \u001b[0;31m[... skipping similar frames: faulty_factorial at line 6 (1 times)]\u001b[0m\n",
      "Cell \u001b[0;32mIn[20], line 6\u001b[0m, in \u001b[0;36mfaulty_factorial\u001b[0;34m(n)\u001b[0m\n\u001b[1;32m      3\u001b[0m     \u001b[38;5;28;01mreturn\u001b[39;00m \u001b[38;5;241m1\u001b[39m\n\u001b[1;32m      5\u001b[0m \u001b[38;5;66;03m# Yahan return statement missing hai\u001b[39;00m\n\u001b[0;32m----> 6\u001b[0m \u001b[43mn\u001b[49m\u001b[43m \u001b[49m\u001b[38;5;241;43m*\u001b[39;49m\u001b[43m \u001b[49m\u001b[43mfaulty_factorial\u001b[49m\u001b[43m(\u001b[49m\u001b[43mn\u001b[49m\u001b[43m \u001b[49m\u001b[38;5;241;43m-\u001b[39;49m\u001b[43m \u001b[49m\u001b[38;5;241;43m1\u001b[39;49m\u001b[43m)\u001b[49m\n",
      "\u001b[0;31mTypeError\u001b[0m: unsupported operand type(s) for *: 'int' and 'NoneType'"
     ]
    }
   ],
   "source": [
    "def faulty_factorial(n):\n",
    "    if n == 0:\n",
    "        return 1\n",
    "    \n",
    "    # Yahan return statement missing hai\n",
    "    n * faulty_factorial(n - 1)\n",
    "\n",
    "faulty_factorial(5)"
   ]
  },
  {
   "cell_type": "markdown",
   "id": "56b4f475-a37f-4bd5-aaf4-77d919752718",
   "metadata": {},
   "source": [
    "<body style=\"font-family: Sans-serif;\">\n",
    "    <div style=\"color: black; font-size: 15px; font-style: oblique; text-shadow: 0 0 3px white, 0 0 1px black; padding: 20px;\">\n",
    "        \n",
    "- 4 **Fibonacci jaise recursive functions mein bohot zyada redundant calculations hoti hain. Har recursive call mein same sub-problems dobara calculate hote hain.**"
   ]
  },
  {
   "cell_type": "code",
   "execution_count": 19,
   "id": "b2c16632-49ca-4468-a901-f00c2acc0eef",
   "metadata": {
    "tags": []
   },
   "outputs": [
    {
     "data": {
      "text/plain": [
       "8"
      ]
     },
     "execution_count": 19,
     "metadata": {},
     "output_type": "execute_result"
    }
   ],
   "source": [
    "def fib(n):\n",
    "    if n < 2:\n",
    "        return n\n",
    "    return fib(n-1) + fib(n-2)\n",
    "\n",
    "fib(6)"
   ]
  },
  {
   "cell_type": "markdown",
   "id": "cd95550a-8b3e-4e1c-b6e0-b1abc487e910",
   "metadata": {},
   "source": [
    "<body style=\"font-family: Sans-serif;\">\n",
    "    <div style=\"color: black; font-size: 15px; font-style: oblique; text-shadow: 0 0 3px white, 0 0 1px black; padding: 20px;\">\n",
    "        \n",
    "        function mein redundant calculations (duplicate sub-problems) se bachna chahte hain, to solution hai memoization ka istemal karna. Python mein iske liye aap functools.lru_cache decorator use kar sakte hain.\n",
    "    "
   ]
  },
  {
   "cell_type": "code",
   "execution_count": 21,
   "id": "4108e219-05a3-4753-8558-c4fdd00c0fbd",
   "metadata": {
    "tags": []
   },
   "outputs": [],
   "source": [
    "from functools import lru_cache"
   ]
  },
  {
   "cell_type": "code",
   "execution_count": 23,
   "id": "7640aca4-c57f-4f70-b53c-e8da50c9036b",
   "metadata": {
    "tags": []
   },
   "outputs": [
    {
     "data": {
      "text/plain": [
       "8"
      ]
     },
     "execution_count": 23,
     "metadata": {},
     "output_type": "execute_result"
    }
   ],
   "source": [
    "@lru_cache(maxsize=None)\n",
    "\n",
    "def fib(n):\n",
    "    if n < 2:\n",
    "        return n\n",
    "    return fib(n-1) + fib(n-2)\n",
    "\n",
    "fib(6)"
   ]
  },
  {
   "cell_type": "code",
   "execution_count": 24,
   "id": "174fbdb9-5126-4465-9c40-da2544a394f4",
   "metadata": {
    "tags": []
   },
   "outputs": [
    {
     "data": {
      "text/plain": [
       "8"
      ]
     },
     "execution_count": 24,
     "metadata": {},
     "output_type": "execute_result"
    }
   ],
   "source": [
    "fib(6)"
   ]
  },
  {
   "cell_type": "markdown",
   "id": "cc82becd-c079-4a47-add7-02864c110935",
   "metadata": {},
   "source": [
    "<body style=\"font-family: Sans-serif;\">\n",
    "    <div style=\"color: black; font-size: 15px; font-style: oblique; text-shadow: 0 0 3px white, 0 0 1px black; padding: 20px;\">\n",
    "        Is approach se computation ka time bohot kam ho jata hai, aur redundant recursion avoid hoti hai.\n",
    "        \n",
    "---"
   ]
  }
 ],
 "metadata": {
  "kernelspec": {
   "display_name": "Python 3 (ipykernel)",
   "language": "python",
   "name": "python3"
  },
  "language_info": {
   "codemirror_mode": {
    "name": "ipython",
    "version": 3
   },
   "file_extension": ".py",
   "mimetype": "text/x-python",
   "name": "python",
   "nbconvert_exporter": "python",
   "pygments_lexer": "ipython3",
   "version": "3.10.12"
  }
 },
 "nbformat": 4,
 "nbformat_minor": 5
}
