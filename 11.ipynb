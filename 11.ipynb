{
 "cells": [
  {
   "cell_type": "markdown",
   "id": "2b18dc6e-af23-478c-bb22-32c23c047873",
   "metadata": {},
   "source": [
    "<h1 style=\"text-align:center; color:#005bbd; font-size:20px; font-family:Sans-serif; font-style: oblique; text-shadow: 0 0 3px white, 0 0 1px Black;\">Generators\n",
    "</h1>"
   ]
  },
  {
   "cell_type": "markdown",
   "id": "a8f9ceee-1d90-4a6a-be5f-998c648dbf0b",
   "metadata": {},
   "source": [
    "<body style=\"font-family: Sans-serif;\">\n",
    "    <div style=\"color: black; font-size: 15px; font-style: oblique; text-shadow: 0 0 3px white, 0 0 1px black; padding: 20px;\">\n",
    "        \n",
    "**Generators** wo special type of iterators hote hain jo values ko **dynamically generate** karte hain, yani **on-the-fly**. \n",
    "        \n",
    "Ye **memory-efficient** hote hain kyunki ye poori sequence ko ek saath memory mein store nahi karte, balkay har value ko **ek ek karke generate** karte hain jab zaroorat ho.\n",
    "\n",
    "### **Generators Main Features:**\n",
    "1. **Lazy Evaluation**: Generators **only when needed** values generate karte hain, is liye ye **memory save** karte hain.\n",
    "        \n",
    "    Ye sirf **required values ko** generate karte hain na ke poora data ek saath load karte hain.\n",
    "        \n",
    "2. **`yield` keyword**: Generators mein values return karne ke liye hum **`yield`** use karte hain, na ke **`return`**. \n",
    "    \n",
    "    Jab **`yield`** execute hota hai, to function ka state save ho jata hai, aur next call pe function wahan se resume hota hai.\n",
    "        \n",
    "3. **Iterable aur Iterator dono** hote hain, matlab aap **`for` loop** ke through inhe iterate kar sakte hain.\n",
    "\n",
    "---"
   ]
  },
  {
   "cell_type": "code",
   "execution_count": 28,
   "id": "480d34dc-b634-4942-9d43-d653ec99b2dc",
   "metadata": {
    "tags": []
   },
   "outputs": [],
   "source": [
    "def gen():\n",
    "    yield \"abc\"\n",
    "    yield \"hy\""
   ]
  },
  {
   "cell_type": "code",
   "execution_count": 34,
   "id": "c5376953-d7d3-4b56-9082-5e32292cf00a",
   "metadata": {
    "tags": []
   },
   "outputs": [
    {
     "data": {
      "text/plain": [
       "<generator object gen at 0x78b69bac93f0>"
      ]
     },
     "execution_count": 34,
     "metadata": {},
     "output_type": "execute_result"
    }
   ],
   "source": [
    "g = gen()\n",
    "g"
   ]
  },
  {
   "cell_type": "code",
   "execution_count": 35,
   "id": "81a28161-b704-4066-a429-3b2004ffc29b",
   "metadata": {
    "tags": []
   },
   "outputs": [
    {
     "data": {
      "text/plain": [
       "'abc'"
      ]
     },
     "execution_count": 35,
     "metadata": {},
     "output_type": "execute_result"
    }
   ],
   "source": [
    "next(g)"
   ]
  },
  {
   "cell_type": "code",
   "execution_count": 36,
   "id": "2951b40a-a449-478c-ab0d-3d277643d8f5",
   "metadata": {
    "tags": []
   },
   "outputs": [
    {
     "data": {
      "text/plain": [
       "'hy'"
      ]
     },
     "execution_count": 36,
     "metadata": {},
     "output_type": "execute_result"
    }
   ],
   "source": [
    "next(g)"
   ]
  },
  {
   "cell_type": "code",
   "execution_count": 37,
   "id": "2f99d822-95aa-45f1-8cda-c6256147a8fb",
   "metadata": {
    "tags": []
   },
   "outputs": [
    {
     "ename": "StopIteration",
     "evalue": "",
     "output_type": "error",
     "traceback": [
      "\u001b[0;31m---------------------------------------------------------------------------\u001b[0m",
      "\u001b[0;31mStopIteration\u001b[0m                             Traceback (most recent call last)",
      "Cell \u001b[0;32mIn[37], line 1\u001b[0m\n\u001b[0;32m----> 1\u001b[0m \u001b[38;5;28;43mnext\u001b[39;49m\u001b[43m(\u001b[49m\u001b[43mg\u001b[49m\u001b[43m)\u001b[49m\n",
      "\u001b[0;31mStopIteration\u001b[0m: "
     ]
    }
   ],
   "source": [
    "next(g)"
   ]
  },
  {
   "cell_type": "markdown",
   "id": "7ba5cff6-16f2-49be-a7ef-50dad1d2a5c4",
   "metadata": {},
   "source": [
    "<body style=\"font-family: Sans-serif;\">\n",
    "    <div style=\"color: black; font-size: 15px; font-style: oblique; text-shadow: 0 0 3px white, 0 0 1px black; padding: 20px;\">\n",
    "        \n",
    "Jab aap `gen()` function ko call karte hain, toh woh ek generator banata hai. Generator ko `g` variable mein store kiya gaya hai.\n",
    "\n",
    "1. **1st `next(g)`:**  \n",
    "   - Generator start hota hai aur pehla `yield \"abc\"` tak pahunchta hai.  \n",
    "   - `\"abc\"` return karta hai aur ruk jata hai.  \n",
    "   - Ab generator ki state first `yield` ke baad freeze ho jati hai.\n",
    "\n",
    "2. **2nd `next(g)`:**  \n",
    "   - Generator phir se wahan se resume hota hai jahan se ruka tha (pehle `yield` ke baad).  \n",
    "   - Agla line `yield \"hy\"` execute hota hai.  \n",
    "   - `\"hy\"` return karta hai aur phir ruk jata hai.  \n",
    "\n",
    "3. **3rd `next(g)` (Agar karein toh):**  \n",
    "   - Ab generator phir resume hoga, lekin is baar koi aur `yield` statement nahi bachi.  \n",
    "   - **`StopIteration` error aayega** kyun ke generator khatam ho chuka hai.  \n",
    "\n",
    "**Note !:**  \n",
    "- Har `next()` call agle `yield` tak jata hai, pichle wale ko dobara check nahi karta.  \n",
    "- Jab saare `yield` khatam, toh generator khatam.  \n",
    "        \n",
    "<img src=\"./images/rc8.jpg\" style=\"display: block;margin-left: auto; margin-right: auto;width: 80%\">"
   ]
  },
  {
   "cell_type": "markdown",
   "id": "0020a2ef-e46d-4c44-bd34-eb0885b43e4a",
   "metadata": {},
   "source": [
    "<h1 style=\"text-align:center; color:#005bbd; font-size:20px; font-family:Sans-serif; font-style: oblique; text-shadow: 0 0 3px white, 0 0 1px Black;\">        Understand Sender & Reciver Concept</h1>"
   ]
  },
  {
   "cell_type": "code",
   "execution_count": 41,
   "id": "559f5c51-5e14-4780-bcaa-f82bd2f08cc9",
   "metadata": {},
   "outputs": [],
   "source": [
    "def gen():\n",
    "    received = yield \"abc\"\n",
    "    print(\"Received value:\", received)\n",
    "    yield received"
   ]
  },
  {
   "cell_type": "code",
   "execution_count": 57,
   "id": "4d363c71-b8ba-482c-83cd-c218c439a9c2",
   "metadata": {
    "tags": []
   },
   "outputs": [],
   "source": [
    "g = gen()"
   ]
  },
  {
   "cell_type": "code",
   "execution_count": 58,
   "id": "58b86e5c-48e5-41a5-a48f-4a2c2688259d",
   "metadata": {
    "tags": []
   },
   "outputs": [
    {
     "data": {
      "text/plain": [
       "'abc'"
      ]
     },
     "execution_count": 58,
     "metadata": {},
     "output_type": "execute_result"
    }
   ],
   "source": [
    "next(g)"
   ]
  },
  {
   "cell_type": "code",
   "execution_count": 59,
   "id": "bd28cbd8-56cc-4ee1-bfbf-d3327e6146e7",
   "metadata": {
    "tags": []
   },
   "outputs": [
    {
     "name": "stdout",
     "output_type": "stream",
     "text": [
      "Received value: None\n"
     ]
    }
   ],
   "source": [
    "next(g)"
   ]
  },
  {
   "cell_type": "code",
   "execution_count": 60,
   "id": "346dab65-954f-463c-9a2c-626c8e30c873",
   "metadata": {
    "tags": []
   },
   "outputs": [
    {
     "ename": "StopIteration",
     "evalue": "",
     "output_type": "error",
     "traceback": [
      "\u001b[0;31m---------------------------------------------------------------------------\u001b[0m",
      "\u001b[0;31mStopIteration\u001b[0m                             Traceback (most recent call last)",
      "Cell \u001b[0;32mIn[60], line 1\u001b[0m\n\u001b[0;32m----> 1\u001b[0m \u001b[38;5;28;43mnext\u001b[39;49m\u001b[43m(\u001b[49m\u001b[43mg\u001b[49m\u001b[43m)\u001b[49m \u001b[38;5;66;03m# Yield Complete\u001b[39;00m\n",
      "\u001b[0;31mStopIteration\u001b[0m: "
     ]
    }
   ],
   "source": [
    "next(g) # Yield Complete"
   ]
  },
  {
   "cell_type": "markdown",
   "id": "30cf66dc-33ab-43b4-b42b-3b913e428b60",
   "metadata": {},
   "source": [
    "<body style=\"font-family: Sans-serif;\">\n",
    "    <div style=\"color: black; font-size: 15px; font-style: oblique; text-shadow: 0 0 3px white, 0 0 1px black; padding: 20px;\">\n",
    "\n",
    "---\n",
    "\n",
    "### **Code Example:**\n",
    "\n",
    "```python\n",
    "def gen():\n",
    "    # Yeh line execute hoti hai aur \"abc\" yield karke pause ho jati hai.\n",
    "    received = yield \"abc\"\n",
    "    # Jab generator resume hoga, \"yield 'abc'\" expression se jo value send hogi (by default None) \n",
    "    # usko \"received\" variable mein assign kar diya jayega.\n",
    "    print(\"Received value:\", received)\n",
    "    # Phir yeh line \"yield received\" execute hogi aur received ka value yield karegi.\n",
    "    yield received\n",
    "\n",
    "g = gen()\n",
    "```\n",
    "\n",
    "---\n",
    "\n",
    "### **Step-by-Step Execution:**\n",
    "\n",
    "1. **Pehla Call: `next(g)`**\n",
    "   - **Execution Start:**  \n",
    "     `gen()` call hota hai aur execution function ke andar jati hai.\n",
    "   - **First Yield:**  \n",
    "     Jab execution `received = yield \"abc\"` tak pohanchti hai, to yeh expression \"abc\" ko yield karta hai.\n",
    "   - **Pause:**  \n",
    "     Generator pause ho jata hai. Ab caller ko \"abc\" milta hai.\n",
    "   - **Note:**  \n",
    "     Abhi tak `received` variable mein koi value assign nahi hui kyunki generator ne value yield karke pause kiya hai. (Assignment complete tab hogi jab generator resume hoga.)\n",
    "\n",
    "2. **Dusra Call: `next(g)` (ya `g.send(None)`)**\n",
    "   - **Resume Generator:**  \n",
    "     Jab aap dusra `next(g)` call karte hain, Python internally `g.send(None)` call karta hai.  \n",
    "   - **Assignment to 'received':**  \n",
    "     Ab, jo value send hoti hai (yahaan `None` by default) woh \"yield\" expression ke left-hand side variable `received` mein assign ho jati hai.\n",
    "     - Matlab, `received` ki **purani koi value nahi thi** (wo abhi tak undefined thi), to ab usmein **new value `None`** assign ho jati hai.\n",
    "   - **Print Statement:**  \n",
    "     Phir, `print(\"Received value:\", received)` execute hota hai, jo output deta hai:  \n",
    "     ```\n",
    "     Received value: None\n",
    "     ```\n",
    "   - **Second Yield:**  \n",
    "     Generator ab agla yield statement `yield received` execute karta hai, jahan `received` (jo ab `None` hai) yield hota hai.\n",
    "   - **Pause:**  \n",
    "     Generator phir se pause ho jata hai after yielding `None`.\n",
    "\n",
    "3. **Teesra Call: `next(g)`**\n",
    "   - **No More Yields:**  \n",
    "     Jab aap teesra `next(g)` call karte hain, generator mein koi aur yield statement nahi hota.\n",
    "   - **StopIteration Exception:**  \n",
    "     Is wajah se, StopIteration exception raise hoti hai.\n",
    "\n",
    "---\n",
    "\n",
    "### **Key Concept Explanation:**\n",
    "\n",
    "- **Old vs New Value:**\n",
    "  - **Old Value:**  \n",
    "    Pehli call mein, `yield \"abc\"` ne \"abc\" return kiya, lekin us waqt `received` variable ko koi value assign nahi hui.\n",
    "  - **New Value:**  \n",
    "    Dusri call mein, aap `next(g)` (ya `g.send(None)`) call karte hain, jismein Python by default **None** send karta hai. Yeh **new value** send hoti hai aur isko `received` variable mein assign kar diya jata hai.\n",
    "  \n",
    "- **Replacement:**  \n",
    "  Yahan \"old\" koi value stored nahi thi, to \"new\" value (None) directly `received` mein assign ho jati hai.  \n",
    "  - Agar aap `g.send(\"xyz\")` use karte to \"xyz\" assign hoti aur print statement output karta:  \n",
    "    ```\n",
    "    Received value: xyz\n",
    "    ```\n",
    "  "
   ]
  },
  {
   "cell_type": "markdown",
   "id": "abfb79d4-6b0f-4784-818d-c0fdc7be17c8",
   "metadata": {},
   "source": [
    "<hr>\n",
    "<body style=\"font-family: Sans-serif;\">\n",
    "    <div style=\"color: black; font-size: 15px; font-style: oblique; text-shadow: 0 0 3px white, 0 0 1px black; padding: 20px;\">\n",
    "Example 2;\n",
    "\n",
    "Chaliye same code ko use kar ke next() aur send(None) ke behavior ko step-by-step samjhte hain:\n",
    "\n",
    "        "
   ]
  },
  {
   "cell_type": "code",
   "execution_count": 61,
   "id": "cb0a8c28-9d8b-4154-a9e1-c9408a19789a",
   "metadata": {},
   "outputs": [],
   "source": [
    "def gen():\n",
    "    received = yield \"abc\"\n",
    "    print(\"Received value:\", received)\n",
    "    yield received"
   ]
  },
  {
   "cell_type": "code",
   "execution_count": 62,
   "id": "f81712c8-c367-4f9c-bbfe-a98862484aa7",
   "metadata": {},
   "outputs": [],
   "source": [
    "g = gen()"
   ]
  },
  {
   "cell_type": "code",
   "execution_count": 63,
   "id": "bdf8a14f-e290-4691-b51a-0f32dd824151",
   "metadata": {
    "tags": []
   },
   "outputs": [
    {
     "data": {
      "text/plain": [
       "'abc'"
      ]
     },
     "execution_count": 63,
     "metadata": {},
     "output_type": "execute_result"
    }
   ],
   "source": [
    "next(g)"
   ]
  },
  {
   "cell_type": "code",
   "execution_count": 64,
   "id": "9705a725-fd2c-4012-ae78-d5cd0f1c4578",
   "metadata": {
    "tags": []
   },
   "outputs": [
    {
     "name": "stdout",
     "output_type": "stream",
     "text": [
      "Received value: None\n"
     ]
    }
   ],
   "source": [
    "g.send(None)"
   ]
  },
  {
   "cell_type": "code",
   "execution_count": 65,
   "id": "ebe0f87d-782d-42e8-8e6f-dd53083d0aaf",
   "metadata": {
    "tags": []
   },
   "outputs": [
    {
     "ename": "StopIteration",
     "evalue": "",
     "output_type": "error",
     "traceback": [
      "\u001b[0;31m---------------------------------------------------------------------------\u001b[0m",
      "\u001b[0;31mStopIteration\u001b[0m                             Traceback (most recent call last)",
      "Cell \u001b[0;32mIn[65], line 1\u001b[0m\n\u001b[0;32m----> 1\u001b[0m \u001b[43mg\u001b[49m\u001b[38;5;241;43m.\u001b[39;49m\u001b[43msend\u001b[49m\u001b[43m(\u001b[49m\u001b[38;5;28;43;01mNone\u001b[39;49;00m\u001b[43m)\u001b[49m\n",
      "\u001b[0;31mStopIteration\u001b[0m: "
     ]
    }
   ],
   "source": [
    "g.send(None)"
   ]
  },
  {
   "cell_type": "markdown",
   "id": "62972873-c470-4faa-935f-f3191263d30b",
   "metadata": {},
   "source": [
    "<body style=\"font-family: Sans-serif;\">\n",
    "    <div style=\"color: black; font-size: 15px; font-style: oblique; text-shadow: 0 0 3px white, 0 0 1px black; padding: 20px;\">\n",
    "        \n",
    "```python\n",
    "def gen():\n",
    "    received = yield \"abc\"\n",
    "    print(\"Received value:\", received)\n",
    "    yield received\n",
    "\n",
    "g = gen()\n",
    "\n",
    "# Pehla call: next(g) ya g.send(None) se same kaam hota hai.\n",
    "print(\"First call:\", next(g))  \n",
    "# Output: \"abc\"\n",
    "# Generator ab \"yield 'abc'\" se pause ho jata hai, aur abhi tak 'received' variable set nahi hua.\n",
    "\n",
    "# Dusra call: g.send(None) ka istemal karte hain.\n",
    "print(\"Second call:\", g.send(None))\n",
    "# Is call mein, jo value send ho rahi hai, wo None hai.\n",
    "# Ab generator resume hota hai: 'received' = None ho jata hai.\n",
    "# Phir print(\"Received value:\", received) execute hota hai, jis se \"Received value: None\" print hota hai.\n",
    "# Uske baad, 'yield received' execute hota hai, jo None yield karta hai.\n",
    "# To second call ka output: None\n",
    "\n",
    "# Teesra call: Agar phir se g.send(None) ya next(g) call karenge to:\n",
    "# print(\"Third call:\", g.send(None))\n",
    "# Ye StopIteration raise karega, kyun ke generator exhaust ho chuka hai.\n",
    "```\n",
    "\n",
    "1. **First call (`next(g)`):**  \n",
    "   - Generator start hota hai, `yield \"abc\"` execute hota hai aur \"abc\" return hota hai.  \n",
    "   - Generator is point par pause ho jata hai, aur abhi `received` variable mein koi value assign nahi hui hoti.\n",
    "\n",
    "2. **Second call (`g.send(None)`):**  \n",
    "   - Jab aap `g.send(None)` call karte hain, to by default None send hota hai.  \n",
    "   - Ye None, `yield \"abc\"` ke expression ke left-hand side, yani `received` variable mein assign ho jata hai.  \n",
    "   - Is ke baad, `print(\"Received value:\", received)` execute hota hai jo \"Received value: None\" print karta hai.  \n",
    "   - Phir `yield received` execute hota hai, jo abhi `received` ki value (jo None hai) yield karta hai.  \n",
    "   - To, second call ka output None hai.\n",
    "\n",
    "3. **Third call:**  \n",
    "   - Agar aap phir se `g.send(None)` ya `next(g)` call karte hain, to generator mein koi aur yield statement nahi hai, isliye StopIteration exception raise ho jata hai.\n",
    "\n",
    "**Key Point:**\n",
    "- **next(g)** aur **g.send(None)** dono pehle call par same value send karte hain (None by default), isliye dono se pehla output \"abc\" hi milta hai.\n",
    "- Dusre call mein, send ki gayi new value (None) hi `received` variable mein assign ho jati hai, jo ke phir yield hoti hai.  \n",
    "- Iss tarah, \"new value\" (jo send hui hai) hi \"received\" mein store ho jati hai, aur koi \"old\" value nahi rehti.\n",
    "\n",
    "---"
   ]
  },
  {
   "cell_type": "code",
   "execution_count": 72,
   "id": "4540ac93-94ec-4f96-b29e-13896785c7d0",
   "metadata": {
    "tags": []
   },
   "outputs": [],
   "source": [
    "def accumulator():\n",
    "    \n",
    "    total = 0\n",
    "    # Initial yield: starting with total\n",
    "    while True:\n",
    "        # Yield current total and wait for a new value to be sent\n",
    "        x = yield total  \n",
    "        if x is None:\n",
    "            # Agar None bheja gaya to coroutine ko close kar dete hain\n",
    "            break\n",
    "        total += x\n"
   ]
  },
  {
   "cell_type": "code",
   "execution_count": 73,
   "id": "de5d6b59-7ea8-4852-a86c-b615b634b78f",
   "metadata": {
    "tags": []
   },
   "outputs": [
    {
     "data": {
      "text/plain": [
       "<generator object accumulator at 0x78b69baca7a0>"
      ]
     },
     "execution_count": 73,
     "metadata": {},
     "output_type": "execute_result"
    }
   ],
   "source": [
    "acc = accumulator()\n",
    "acc"
   ]
  },
  {
   "cell_type": "code",
   "execution_count": 74,
   "id": "01580974-e8fe-4642-bb6e-63c6a34eea91",
   "metadata": {
    "tags": []
   },
   "outputs": [
    {
     "name": "stdout",
     "output_type": "stream",
     "text": [
      "Starting total: 0\n"
     ]
    }
   ],
   "source": [
    "print(\"Starting total:\", next(acc))  # Pehli value: prints 0"
   ]
  },
  {
   "cell_type": "code",
   "execution_count": 75,
   "id": "b6530a6f-66a6-46af-8465-f2636012582e",
   "metadata": {
    "tags": []
   },
   "outputs": [
    {
     "name": "stdout",
     "output_type": "stream",
     "text": [
      "After sending 5: 5\n"
     ]
    }
   ],
   "source": [
    "# Ab send() ke through values bhejo:\n",
    "print(\"After sending 5:\", acc.send(5))   # total becomes 0 + 5 = 5, yields 5"
   ]
  },
  {
   "cell_type": "code",
   "execution_count": 76,
   "id": "60ac2286-fa6b-4720-a80a-3434a361854f",
   "metadata": {
    "tags": []
   },
   "outputs": [
    {
     "name": "stdout",
     "output_type": "stream",
     "text": [
      "After sending 10: 15\n"
     ]
    }
   ],
   "source": [
    "print(\"After sending 10:\", acc.send(10)) # total becomes 5 + 10 = 15, yields 15"
   ]
  },
  {
   "cell_type": "code",
   "execution_count": 77,
   "id": "6ef43451-46c5-4512-a273-8defedd2f130",
   "metadata": {
    "tags": []
   },
   "outputs": [
    {
     "ename": "StopIteration",
     "evalue": "",
     "output_type": "error",
     "traceback": [
      "\u001b[0;31m---------------------------------------------------------------------------\u001b[0m",
      "\u001b[0;31mStopIteration\u001b[0m                             Traceback (most recent call last)",
      "Cell \u001b[0;32mIn[77], line 2\u001b[0m\n\u001b[1;32m      1\u001b[0m \u001b[38;5;66;03m# close karne ke liye, aap None send kar sakte hain:\u001b[39;00m\n\u001b[0;32m----> 2\u001b[0m \u001b[43macc\u001b[49m\u001b[38;5;241;43m.\u001b[39;49m\u001b[43msend\u001b[49m\u001b[43m(\u001b[49m\u001b[38;5;28;43;01mNone\u001b[39;49;00m\u001b[43m)\u001b[49m\n",
      "\u001b[0;31mStopIteration\u001b[0m: "
     ]
    }
   ],
   "source": [
    "# close karne ke liye, aap None send kar sakte hain:\n",
    "acc.send(None)"
   ]
  },
  {
   "cell_type": "markdown",
   "id": "d14fee0b-9793-4793-bd7d-e91671c2031d",
   "metadata": {},
   "source": [
    "<body style=\"font-family: Sans-serif;\">\n",
    "    <div style=\"color: black; font-size: 15px; font-style: oblique; text-shadow: 0 0 3px white, 0 0 1px black; padding: 20px;\">\n",
    "        \n",
    "Yeh ek useful example hai jismein coroutine ka bidirectional communication dikhaya gaya hai. Is example mein hum ek accumulator coroutine bana rahe hain jo continuously numbers ko receive karke unka running total calculate karta hai. Aap send() ke through value bhej sakte hain aur har iteration mein updated total receive kar sakte hain.\n",
    "\n",
    "```python\n",
    "def accumulator():\n",
    "    total = 0\n",
    "    # Initial yield: starting with total\n",
    "    while True:\n",
    "        # Yield current total and wait for a new value to be sent\n",
    "        x = yield total  \n",
    "        if x is None:\n",
    "            # Agar None bheja gaya to coroutine ko close kar dete hain\n",
    "            break\n",
    "        total += x\n",
    "\n",
    "# Coroutine ko start karo:\n",
    "acc = accumulator()\n",
    "print(\"Starting total:\", next(acc))  # Pehli value: prints 0\n",
    "\n",
    "# Ab send() ke through values bhejo:\n",
    "print(\"After sending 5:\", acc.send(5))   # total becomes 0 + 5 = 5, yields 5\n",
    "print(\"After sending 10:\", acc.send(10)) # total becomes 5 + 10 = 15, yields 15\n",
    "\n",
    "# Coroutine ko close karne ke liye, aap None send kar sakte hain:\n",
    "acc.send(None)\n",
    "```\n",
    "1. **accumulator() Coroutine:**\n",
    "   - Yeh function `total` ko 0 se initialize karta hai.\n",
    "   - `while True:` loop ke andar, sabse pehle `yield total` karta hai. Is se generator start ho kar current total (pehle 0) return karta hai aur pause ho jata hai.\n",
    "  \n",
    "2. **Bidirectional Communication:**\n",
    "   - Jab aap `acc.send(5)` call karte hain, to generator resume hota hai aur `yield total` expression mein send ki gayi value (5) ko variable `x` mein assign kar deta hai.\n",
    "   - Phir, `total` mein 5 add ho jata hai (0 + 5 = 5), aur next iteration mein `yield total` updated total (5) return karta hai.\n",
    "   - Isi tarah, `acc.send(10)` se total update ho kar 15 ho jata hai.\n",
    "\n",
    "3. **Closing the Coroutine:**\n",
    "   - Agar aap `acc.send(None)` call karte hain, to yeh ek signal hota hai ke aap coroutine ko close karna chahte hain. Yahan hum break statement se loop se nikal jate hain.\n",
    "\n",
    "Is example se aap dekh sakte hain ke:\n",
    "- **next()** se coroutine ko start kiya jata hai.\n",
    "- **send()** ke zariye values send ki jati hain, aur generator uss value ko receive karke apne state (total) ko update karta hai.\n",
    "- Yeh bidirectional communication ka mechanism hai jahan generator both value send karta hai aur receive karta hai.\n"
   ]
  },
  {
   "cell_type": "markdown",
   "id": "923556ee-120f-4696-b1c8-7efd65e07fa1",
   "metadata": {},
   "source": [
    "<body style=\"font-family: Sans-serif;\">\n",
    "    <div style=\"color: black; font-size: 20px; font-style: oblique; text-shadow: 0 0 3px white, 0 0 1px black; padding: 20px;\">\n",
    "      Example 2"
   ]
  },
  {
   "cell_type": "code",
   "execution_count": 78,
   "id": "2385228f-dd7f-45eb-992f-a94b8761861d",
   "metadata": {
    "tags": []
   },
   "outputs": [],
   "source": [
    "import random"
   ]
  },
  {
   "cell_type": "code",
   "execution_count": 190,
   "id": "37a05bb4-1b6e-48d6-90fd-330583226054",
   "metadata": {
    "tags": []
   },
   "outputs": [],
   "source": [
    "def number_guess():\n",
    "    \n",
    "    points = 0\n",
    "    chances = 3\n",
    "    actual_number = random.randint(0,10)\n",
    "    \n",
    "    guess = None\n",
    "    print(\"Guess a Number Between 0,10\")\n",
    "    \n",
    "    while True:\n",
    "        guess = yield\n",
    "        if guess == actual_number:\n",
    "            points += 1\n",
    "            print(\"Corrected | Your Point is\",points)\n",
    "            actual_number = random.randint(0,10)\n",
    "        \n",
    "        elif guess != actual_number:\n",
    "            chances -= 1\n",
    "            \n",
    "            if chances == 0:\n",
    "                print(\"Game Over\")\n",
    "                print(\"Your's Score is\",points)\n",
    "                print(\"Actual Number is\",actual_number)\n",
    "                break\n",
    "                \n",
    "            if guess > actual_number:\n",
    "                print(guess,\"is Large\")\n",
    "            \n",
    "            else:\n",
    "                print(guess,\"is Small\")\n",
    "                \n",
    "            print(chances,\"Chances are Left\")"
   ]
  },
  {
   "cell_type": "code",
   "execution_count": 191,
   "id": "91dc430e-73e4-4435-b20d-43cbb79e5bc3",
   "metadata": {
    "tags": []
   },
   "outputs": [
    {
     "name": "stdout",
     "output_type": "stream",
     "text": [
      "Guess a Number Between 0,10\n"
     ]
    }
   ],
   "source": [
    "game = number_guess()\n",
    "next(game)"
   ]
  },
  {
   "cell_type": "code",
   "execution_count": 192,
   "id": "ca768f73-724d-409b-9783-0ba561c86d53",
   "metadata": {
    "tags": []
   },
   "outputs": [
    {
     "name": "stdout",
     "output_type": "stream",
     "text": [
      "5 is Small\n",
      "2 Chances are Left\n"
     ]
    }
   ],
   "source": [
    "game.send(5)"
   ]
  },
  {
   "cell_type": "code",
   "execution_count": 193,
   "id": "34c7a96a-c4f3-4e5e-84df-40a53154bc06",
   "metadata": {
    "tags": []
   },
   "outputs": [
    {
     "name": "stdout",
     "output_type": "stream",
     "text": [
      "7 is Small\n",
      "1 Chances are Left\n"
     ]
    }
   ],
   "source": [
    "game.send(7)"
   ]
  },
  {
   "cell_type": "code",
   "execution_count": 194,
   "id": "b892e5e1-0379-448a-9126-de42d80f0496",
   "metadata": {
    "tags": []
   },
   "outputs": [
    {
     "name": "stdout",
     "output_type": "stream",
     "text": [
      "Game Over\n",
      "Your's Score is 0\n",
      "Actual Number is 10\n"
     ]
    },
    {
     "ename": "StopIteration",
     "evalue": "",
     "output_type": "error",
     "traceback": [
      "\u001b[0;31m---------------------------------------------------------------------------\u001b[0m",
      "\u001b[0;31mStopIteration\u001b[0m                             Traceback (most recent call last)",
      "Cell \u001b[0;32mIn[194], line 1\u001b[0m\n\u001b[0;32m----> 1\u001b[0m \u001b[43mgame\u001b[49m\u001b[38;5;241;43m.\u001b[39;49m\u001b[43msend\u001b[49m\u001b[43m(\u001b[49m\u001b[38;5;241;43m8\u001b[39;49m\u001b[43m)\u001b[49m\n",
      "\u001b[0;31mStopIteration\u001b[0m: "
     ]
    }
   ],
   "source": [
    "game.send(8)"
   ]
  },
  {
   "cell_type": "code",
   "execution_count": 198,
   "id": "3319a9d4-1813-4345-850a-7b8971a6905d",
   "metadata": {
    "tags": []
   },
   "outputs": [
    {
     "name": "stdout",
     "output_type": "stream",
     "text": [
      "Guess a Number Between 0,10\n"
     ]
    }
   ],
   "source": [
    "game = number_guess()\n",
    "next(game)"
   ]
  },
  {
   "cell_type": "code",
   "execution_count": 199,
   "id": "6f9c945a-97c9-45bb-aece-c10bf56a491f",
   "metadata": {
    "tags": []
   },
   "outputs": [
    {
     "name": "stdout",
     "output_type": "stream",
     "text": [
      "5 is Large\n",
      "2 Chances are Left\n"
     ]
    }
   ],
   "source": [
    "game.send(5)"
   ]
  },
  {
   "cell_type": "code",
   "execution_count": 200,
   "id": "eb034370-ca71-47eb-99d1-adbddcc31175",
   "metadata": {
    "tags": []
   },
   "outputs": [
    {
     "name": "stdout",
     "output_type": "stream",
     "text": [
      "Corrected | Your Point is 1\n"
     ]
    }
   ],
   "source": [
    "game.send(1)"
   ]
  },
  {
   "cell_type": "code",
   "execution_count": 201,
   "id": "25129b40-431b-47ab-a92a-899f630353d5",
   "metadata": {
    "tags": []
   },
   "outputs": [
    {
     "name": "stdout",
     "output_type": "stream",
     "text": [
      "8 is Large\n",
      "1 Chances are Left\n"
     ]
    }
   ],
   "source": [
    "game.send(8)"
   ]
  },
  {
   "cell_type": "code",
   "execution_count": 202,
   "id": "a680df1c-81e8-4701-aa36-7a254bcd17b0",
   "metadata": {
    "tags": []
   },
   "outputs": [
    {
     "name": "stdout",
     "output_type": "stream",
     "text": [
      "Game Over\n",
      "Your's Score is 1\n",
      "Actual Number is 7\n"
     ]
    },
    {
     "ename": "StopIteration",
     "evalue": "",
     "output_type": "error",
     "traceback": [
      "\u001b[0;31m---------------------------------------------------------------------------\u001b[0m",
      "\u001b[0;31mStopIteration\u001b[0m                             Traceback (most recent call last)",
      "Cell \u001b[0;32mIn[202], line 1\u001b[0m\n\u001b[0;32m----> 1\u001b[0m \u001b[43mgame\u001b[49m\u001b[38;5;241;43m.\u001b[39;49m\u001b[43msend\u001b[49m\u001b[43m(\u001b[49m\u001b[38;5;241;43m1\u001b[39;49m\u001b[43m)\u001b[49m\n",
      "\u001b[0;31mStopIteration\u001b[0m: "
     ]
    }
   ],
   "source": [
    "game.send(1)"
   ]
  },
  {
   "cell_type": "markdown",
   "id": "faea61b3-59ac-4f66-8dbf-38a4aa4b394f",
   "metadata": {
    "tags": []
   },
   "source": [
    "<body style=\"font-family: Sans-serif;\">\n",
    "    <div style=\"color: black; font-size: 20px; font-style: oblique; text-shadow: 0 0 3px white, 0 0 1px black; padding: 20px;\">\n",
    "      Example 3"
   ]
  },
  {
   "cell_type": "code",
   "execution_count": 76,
   "id": "b6cd6474-3345-4cff-97e1-194a3e44243b",
   "metadata": {
    "tags": []
   },
   "outputs": [],
   "source": [
    "def room():\n",
    "    \n",
    "    default_light = \"off\"\n",
    "    state = None\n",
    "    \n",
    "    while True:\n",
    "        \n",
    "        state = yield\n",
    "        \n",
    "        if state == default_light:\n",
    "            print(f\"The Light is already {state}\")\n",
    "            \n",
    "        else:\n",
    "            print(f\"The Light is {state}\")\n",
    "            default_light = state\n"
   ]
  },
  {
   "cell_type": "code",
   "execution_count": 77,
   "id": "67dd5b51-1dfb-4b44-98e4-ddbc0171615f",
   "metadata": {
    "tags": []
   },
   "outputs": [],
   "source": [
    "light = room()\n",
    "next(light)"
   ]
  },
  {
   "cell_type": "code",
   "execution_count": 78,
   "id": "a7abf0b6-eca5-42de-be2f-c28cb311552b",
   "metadata": {
    "tags": []
   },
   "outputs": [
    {
     "name": "stdout",
     "output_type": "stream",
     "text": [
      "The Light is already off\n"
     ]
    }
   ],
   "source": [
    "light.send(\"off\")"
   ]
  },
  {
   "cell_type": "code",
   "execution_count": 79,
   "id": "7c97e311-79bc-4063-a948-70893390e68e",
   "metadata": {
    "tags": []
   },
   "outputs": [
    {
     "name": "stdout",
     "output_type": "stream",
     "text": [
      "The Light is on\n"
     ]
    }
   ],
   "source": [
    "light.send(\"on\")"
   ]
  },
  {
   "cell_type": "code",
   "execution_count": 80,
   "id": "cbc9ed85-5ba3-414b-a822-d04bfd7fee4f",
   "metadata": {
    "tags": []
   },
   "outputs": [
    {
     "name": "stdout",
     "output_type": "stream",
     "text": [
      "The Light is already on\n"
     ]
    }
   ],
   "source": [
    "light.send(\"on\")"
   ]
  },
  {
   "cell_type": "code",
   "execution_count": 81,
   "id": "db07aed8-23d9-49ed-bcfb-ef95ee5cedde",
   "metadata": {
    "tags": []
   },
   "outputs": [
    {
     "name": "stdout",
     "output_type": "stream",
     "text": [
      "The Light is off\n"
     ]
    }
   ],
   "source": [
    "light.send(\"off\")"
   ]
  },
  {
   "cell_type": "markdown",
   "id": "ad2c77fe-77dd-4230-b3b0-c34122894018",
   "metadata": {},
   "source": [
    "<h1 style=\"text-align:center; color:#005bbd; font-size:20px; font-family:Sans-serif; font-style: oblique; text-shadow: 0 0 3px white, 0 0 1px Black;\">Error Handling in Generators (throw) Method\n",
    "</h1>"
   ]
  },
  {
   "cell_type": "markdown",
   "id": "5f882eac-ec3c-43c5-afde-cebc97baf91d",
   "metadata": {
    "tags": []
   },
   "source": [
    "<body style=\"font-family: Sans-serif;\">\n",
    "    <div style=\"color: black; font-size: 15px; font-style: oblique; text-shadow: 0 0 3px white, 0 0 1px black; padding: 20px;\">\n",
    "        \n",
    "`throw()` method ka istemal generator ke andar ek exception raise karne ke liye hota hai jab generator suspended (pause) state mein ho.\n",
    "        \n",
    "Ye aapko generator ke execution ko forcefully alter karne, ya exception handling block trigger karne ke liye use karte hain.\n"
   ]
  },
  {
   "cell_type": "code",
   "execution_count": 107,
   "id": "edf6f6e7-7e67-4acd-acaf-171570050973",
   "metadata": {
    "tags": []
   },
   "outputs": [],
   "source": [
    "def room():\n",
    "    \n",
    "    default_light = \"off\"\n",
    "    state = None\n",
    "    \n",
    "    while True:\n",
    "        try:\n",
    "            state = yield\n",
    "        except Exception as e:\n",
    "            print(e)\n",
    "            continue\n",
    "            \n",
    "        if state == default_light:\n",
    "            print(f\"The Light is already {state}\")\n",
    "        else:\n",
    "            print(f\"The Light is {state}\")\n",
    "            default_light = state\n"
   ]
  },
  {
   "cell_type": "code",
   "execution_count": 108,
   "id": "0184fe75-8287-453f-83d0-5bf3a4646c6b",
   "metadata": {
    "tags": []
   },
   "outputs": [],
   "source": [
    "light = room()\n",
    "next(light)"
   ]
  },
  {
   "cell_type": "code",
   "execution_count": 109,
   "id": "ddd5148e-438b-4023-8c01-fa3489f52de4",
   "metadata": {
    "tags": []
   },
   "outputs": [
    {
     "name": "stdout",
     "output_type": "stream",
     "text": [
      "The Light is on\n"
     ]
    }
   ],
   "source": [
    "light.send(\"on\")"
   ]
  },
  {
   "cell_type": "code",
   "execution_count": 110,
   "id": "52c7f4a6-8833-4eef-a7b9-b303515b327d",
   "metadata": {
    "tags": []
   },
   "outputs": [
    {
     "name": "stdout",
     "output_type": "stream",
     "text": [
      "The Light is off\n"
     ]
    }
   ],
   "source": [
    "light.send(\"off\")"
   ]
  },
  {
   "cell_type": "code",
   "execution_count": 111,
   "id": "1ef09205-6e74-48ab-898b-90070cda80e5",
   "metadata": {
    "tags": []
   },
   "outputs": [
    {
     "name": "stdout",
     "output_type": "stream",
     "text": [
      "Invalid input!\n"
     ]
    }
   ],
   "source": [
    "light.throw(ValueError, \"Invalid input!\")  "
   ]
  },
  {
   "cell_type": "code",
   "execution_count": 115,
   "id": "5eb28c46-0422-4c26-8faa-bba5ec51821e",
   "metadata": {
    "tags": []
   },
   "outputs": [
    {
     "name": "stdout",
     "output_type": "stream",
     "text": [
      "The Light is on\n"
     ]
    }
   ],
   "source": [
    "light.send(\"on\")"
   ]
  },
  {
   "cell_type": "markdown",
   "id": "99f2f272-a5e3-4e1b-b946-451857c31466",
   "metadata": {},
   "source": [
    "<body style=\"font-family: Sans-serif;\">\n",
    "    <div style=\"color: black; font-size: 15px; font-style: oblique; text-shadow: 0 0 3px white, 0 0 1px black; padding: 20px;\">\n",
    "        \n",
    "1. **Normal Execution:**\n",
    "   - Pehle, `next(light)` se generator start hota hai.\n",
    "   - `light.send(\"off\")` se \"off\" send hota hai aur since `default_light` pehle se \"off\" hai, message aata hai: \"The Light is already off\"\n",
    "   - `light.send(\"on\")` se state change ho kar \"on\" ho jata hai, message: \"The Light is on\".<br><br>\n",
    "\n",
    "2. **Using `throw()`:**\n",
    "   - Jab aap `light.throw(ValueError, \"Invalid input!\")` call karte hain, to generator ke pause state mein `yield` ke through exception raise hoti hai.\n",
    "   - Generator ke andar `try...except` block us exception ko catch karta hai, aur message print hota hai: \"Generator ke andar exception handle ho gaya: Invalid input!\".\n",
    "   - Loop continue ho jata hai.<br><br>\n",
    "\n",
    "3. **After Exception:**\n",
    "   - Phir, generator normal execution resume karta hai, aur aap further `send()` calls kar sakte hain.<br><br>\n",
    "\n",
    "---\n",
    "    \n",
    "- `throw()` se aap generator ko exception bhej sakte hain jo uske andar handle ho sakta hai.\n",
    "- Ye mechanism aapko generators ko control karne mein flexibility deta hai, especially jab error handling ya graceful termination ki zarurat ho.<br><br>\n",
    "\n",
    "Is tarah se, `throw()` method se aap generator ke paused state mein exception inject karke uska handling control kar sakte hain."
   ]
  },
  {
   "cell_type": "markdown",
   "id": "ddcffdf4-37d8-4c7e-99fa-e2e77b68eddd",
   "metadata": {},
   "source": [
    "<body style=\"font-family: Sans-serif;\">\n",
    "    <div style=\"color: black; font-size: 20px; font-style: oblique; text-shadow: 0 0 3px white, 0 0 1px black; padding: 20px;\">  \n",
    "Example 2"
   ]
  },
  {
   "cell_type": "code",
   "execution_count": 116,
   "id": "104bb951-ac88-447b-8a64-2f68b2b0f3b0",
   "metadata": {
    "tags": []
   },
   "outputs": [],
   "source": [
    "import time\n",
    "\n",
    "\n",
    "def sensor_data():\n",
    "    try:\n",
    "        while True:\n",
    "            \n",
    "            # Simulate reading sensor data\n",
    "            data = yield \"Reading sensor data...\"\n",
    "            \n",
    "            print(\"Processing sensor data:\", data)\n",
    "            time.sleep(0.5)  \n",
    "            \n",
    "    except Exception as e:\n",
    "        # Error handling inside generator\n",
    "        print(\"Error caught in generator:\", e)\n",
    "        yield \"Sensor error handled. Stopping data stream.\""
   ]
  },
  {
   "cell_type": "code",
   "execution_count": 117,
   "id": "ea9d130a-e1ee-48c6-a319-16e0015019b5",
   "metadata": {
    "tags": []
   },
   "outputs": [
    {
     "data": {
      "text/plain": [
       "'Reading sensor data...'"
      ]
     },
     "execution_count": 117,
     "metadata": {},
     "output_type": "execute_result"
    }
   ],
   "source": [
    "sensor_gen = sensor_data()\n",
    "next(sensor_gen)"
   ]
  },
  {
   "cell_type": "code",
   "execution_count": 118,
   "id": "7a1a577f-f5f0-44c7-a0ae-92563d9f7328",
   "metadata": {
    "tags": []
   },
   "outputs": [
    {
     "name": "stdout",
     "output_type": "stream",
     "text": [
      "Processing sensor data: Temperature: 22°C\n"
     ]
    },
    {
     "data": {
      "text/plain": [
       "'Reading sensor data...'"
      ]
     },
     "execution_count": 118,
     "metadata": {},
     "output_type": "execute_result"
    }
   ],
   "source": [
    "sensor_gen.send(\"Temperature: 22°C\")"
   ]
  },
  {
   "cell_type": "code",
   "execution_count": 120,
   "id": "48d1b826-ac5e-41f1-aed1-8db8cf8bfbdc",
   "metadata": {
    "tags": []
   },
   "outputs": [
    {
     "name": "stdout",
     "output_type": "stream",
     "text": [
      "Error caught in generator: Sensor malfunction detected\n"
     ]
    },
    {
     "data": {
      "text/plain": [
       "'Sensor error handled. Stopping data stream.'"
      ]
     },
     "execution_count": 120,
     "metadata": {},
     "output_type": "execute_result"
    }
   ],
   "source": [
    "sensor_gen.throw(ValueError, \"Sensor malfunction detected\")"
   ]
  },
  {
   "cell_type": "markdown",
   "id": "e766b4c2-4a34-496c-9194-e055173e89a3",
   "metadata": {},
   "source": [
    "<h1 style=\"text-align:center; color:#005bbd; font-size:20px; font-family:Sans-serif; font-style: oblique; text-shadow: 0 0 3px white, 0 0 1px Black;\">close Method\n",
    "</h1>"
   ]
  },
  {
   "cell_type": "markdown",
   "id": "aeca78d2-f470-44f7-845c-3aa8d60490ac",
   "metadata": {},
   "source": [
    "<body style=\"font-family: Sans-serif;\">\n",
    "    <div style=\"color: black; font-size: 15px; font-style: oblique; text-shadow: 0 0 3px white, 0 0 1px black; padding: 20px;\">\n",
    "        \n",
    "**`.close()`** generator ka ek method hai jo generator ko explicitly terminate (band) kar deta hai. \n",
    "        \n",
    "Jab aap `.close()` call karte hain, to generator ke andar `GeneratorExit` exception raise hota hai. \n",
    "\n",
    "Agar generator ne is exception ko handle nahi kiya (ya agar us exception ko re-raise kar diya), to generator gracefully close ho jata hai aur aapko aage koi value yield nahi hoti.\n",
    "\n",
    "\n",
    "- **`.close()` ka kaam:**  \n",
    "  Ye method generator ko signal karta hai ke ab aapko koi further values ki zaroorat nahi, isliye generator ko band kar do.\n",
    "  \n",
    "- **Kaise kaam karta hai:**  \n",
    "  Jab aap `.close()` call karte hain, to generator ke paused state par ek `GeneratorExit` exception throw hoti hai. Agar generator ke andar koi `try...except GeneratorExit` block ho, to woh us exception ko handle kar sakta hai. Agar exception handle karne ke baad re-raise ho jaye ya handle nahi ho to generator terminate ho jata hai.\n",
    "\n",
    "**Use Case:**  \n",
    "- Agar aap asynchronous operations ya data streams process kar rahe hain aur aapko pata chal jaye ke ab further processing ki zaroorat nahi, to aap `.close()` ka use karke resources ko release kar sakte hain aur generator ko band kar sakte hain.\n"
   ]
  },
  {
   "cell_type": "code",
   "execution_count": 128,
   "id": "914a5b84-be44-4098-8b28-633af3e7351d",
   "metadata": {
    "tags": []
   },
   "outputs": [],
   "source": [
    "def room():\n",
    "    \n",
    "    default_light = \"off\"\n",
    "    state = None\n",
    "    \n",
    "    while True:\n",
    "        \n",
    "        state = yield\n",
    "        \n",
    "        if state == default_light:\n",
    "            print(f\"The Light is already {state}\")\n",
    "            \n",
    "        else:\n",
    "            print(f\"The Light is {state}\")\n",
    "            default_light = state\n"
   ]
  },
  {
   "cell_type": "code",
   "execution_count": 129,
   "id": "bb42bdb2-ed76-4676-834e-e26fd7ef376f",
   "metadata": {
    "tags": []
   },
   "outputs": [],
   "source": [
    "light = room()\n",
    "next(light)"
   ]
  },
  {
   "cell_type": "code",
   "execution_count": 130,
   "id": "d6b36b7e-e264-461b-9df6-8ee9fe163283",
   "metadata": {
    "tags": []
   },
   "outputs": [
    {
     "name": "stdout",
     "output_type": "stream",
     "text": [
      "The Light is on\n"
     ]
    }
   ],
   "source": [
    "light.send(\"on\")"
   ]
  },
  {
   "cell_type": "code",
   "execution_count": 131,
   "id": "8f9548bd-3128-42c0-9ce4-6ee9be18eb06",
   "metadata": {
    "tags": []
   },
   "outputs": [
    {
     "name": "stdout",
     "output_type": "stream",
     "text": [
      "The Light is off\n"
     ]
    }
   ],
   "source": [
    "light.send(\"off\")"
   ]
  },
  {
   "cell_type": "code",
   "execution_count": 132,
   "id": "0cb67b98-e651-4da6-840e-3b4e1c42b2c2",
   "metadata": {
    "tags": []
   },
   "outputs": [],
   "source": [
    "light.close() # now generator are close"
   ]
  },
  {
   "cell_type": "code",
   "execution_count": 133,
   "id": "84d35049-3278-4ac6-9052-862d92ac9fe5",
   "metadata": {
    "tags": []
   },
   "outputs": [
    {
     "ename": "StopIteration",
     "evalue": "",
     "output_type": "error",
     "traceback": [
      "\u001b[0;31m---------------------------------------------------------------------------\u001b[0m",
      "\u001b[0;31mStopIteration\u001b[0m                             Traceback (most recent call last)",
      "Cell \u001b[0;32mIn[133], line 1\u001b[0m\n\u001b[0;32m----> 1\u001b[0m \u001b[43mlight\u001b[49m\u001b[38;5;241;43m.\u001b[39;49m\u001b[43msend\u001b[49m\u001b[43m(\u001b[49m\u001b[38;5;124;43m\"\u001b[39;49m\u001b[38;5;124;43mon\u001b[39;49m\u001b[38;5;124;43m\"\u001b[39;49m\u001b[43m)\u001b[49m\n",
      "\u001b[0;31mStopIteration\u001b[0m: "
     ]
    }
   ],
   "source": [
    "light.send(\"on\")"
   ]
  },
  {
   "cell_type": "code",
   "execution_count": 140,
   "id": "d7cad232-462c-4516-a78c-27431399330a",
   "metadata": {
    "tags": []
   },
   "outputs": [],
   "source": [
    "def room():\n",
    "    \n",
    "    default_light = \"off\"\n",
    "    state = None\n",
    "    \n",
    "    try:\n",
    "        while True:\n",
    "            state = yield\n",
    "            if state == default_light:\n",
    "                print(f\"The Light is already {state}\")\n",
    "                \n",
    "            else:\n",
    "                print(f\"The Light is {state}\")\n",
    "                default_light = state\n",
    "                \n",
    "    except GeneratorExit:\n",
    "        print(\"Generator is closing\")"
   ]
  },
  {
   "cell_type": "code",
   "execution_count": 141,
   "id": "ee73274d-ea04-4380-a4bf-574156bf5b9c",
   "metadata": {
    "tags": []
   },
   "outputs": [],
   "source": [
    "light = room()\n",
    "next(light)"
   ]
  },
  {
   "cell_type": "code",
   "execution_count": 142,
   "id": "4f0429aa-aba7-428f-a367-c652b43ac9bb",
   "metadata": {
    "tags": []
   },
   "outputs": [
    {
     "name": "stdout",
     "output_type": "stream",
     "text": [
      "The Light is on\n"
     ]
    }
   ],
   "source": [
    "light.send(\"on\")"
   ]
  },
  {
   "cell_type": "code",
   "execution_count": 143,
   "id": "9c67aeaa-ea28-4abf-ba4b-963e05d1a688",
   "metadata": {
    "tags": []
   },
   "outputs": [
    {
     "name": "stdout",
     "output_type": "stream",
     "text": [
      "The Light is off\n"
     ]
    }
   ],
   "source": [
    "light.send(\"off\")"
   ]
  },
  {
   "cell_type": "code",
   "execution_count": 144,
   "id": "c0fcb975-28ab-4367-a817-1e19959e214f",
   "metadata": {
    "tags": []
   },
   "outputs": [
    {
     "name": "stdout",
     "output_type": "stream",
     "text": [
      "Generator is closing\n"
     ]
    }
   ],
   "source": [
    "light.close()"
   ]
  },
  {
   "cell_type": "markdown",
   "id": "f61c477a-6a40-498d-9e69-799abcb0235e",
   "metadata": {},
   "source": [
    "<h1 style=\"text-align:center; color:#005bbd; font-size:20px; font-family:Sans-serif; font-style: oblique; text-shadow: 0 0 3px white, 0 0 1px Black;\">Normal Iterators Vs Generators\n",
    "</h1>"
   ]
  },
  {
   "cell_type": "markdown",
   "id": "9fbfb337-24e4-44f3-8648-90803d3ec45f",
   "metadata": {},
   "source": [
    "<body style=\"font-family: Sans-serif;\">\n",
    "    <div style=\"color: black; font-size: 15px; font-style: oblique; text-shadow: 0 0 3px white, 0 0 1px black; padding: 20px;\">\n",
    "\n",
    "\n",
    "**Normal Iterator** aur **Generators** mein kuch key differences hain, jo in dono ko alag banate hain. \n",
    "\n",
    "### **1. Definition:**\n",
    "- **Normal Iterator**: Ye ek object hai jo **iterable** ko **step by step** access karta hai. <br>Iterators ko hum **`iter()`** function se bana kar **`next()`** ke zariye use karte hain.\n",
    "        \n",
    "- **Generators**: Ye ek special type of iterator hote hain jo **values ko dynamically generate** karte hain jab zaroorat hoti hai. Ye **`yield`** keyword ka use karte hain.\n",
    "\n",
    "### **2. Memory Usage:**\n",
    "- **Normal Iterator**: Ye **poora iterable** memory mein store karta hai (e.g., list, tuple, etc.), jo memory consume karta hai.\n",
    "        \n",
    "- **Generators**: Ye **memory-efficient** hote hain kyunki **values ko ek waqt pe** generate karte hain aur **store nahi karte**. Ye **lazy evaluation** karte hain, matlab values ko tabhi generate karte hain jab zaroorat ho.\n",
    "\n",
    "### **3. Value Generation:**\n",
    "- **Normal Iterator**: Jab aap **`iter()`** function se iterator create karte hain, to **poora iterable ek hi baar mein iterate hota hai**.\n",
    "        \n",
    "- **Generators**: Generators **`yield`** ka use karte hain, jo ek value return karta hai, aur jab **next()** call hota hai, to function wahan se resume ho jata hai.\n",
    "\n",
    "### **4. Syntax:**\n",
    "- **Normal Iterator**: Iterator ko banane ke liye **`iter()`** function use hota hai aur **`next()`** function se values ko access kiya jata hai.\n",
    "        \n",
    "- **Generators**: Generators ko **`yield`** keyword ke through create kiya jata hai aur ye **function ke andar** values return karte hain.\n",
    "\n",
    "### **5. Exhaustion:**\n",
    "- **Normal Iterator**: Agar iterator ke through saari values access ho jayein, to **`StopIteration` error** aati hai.\n",
    "        \n",
    "- **Generators**: Generators bhi **`StopIteration`** throw karte hain jab saari values access ho jati hain, lekin **value generation** tab tak continue hoti hai jab tak **`yield`** call hota hai.\n",
    "\n",
    "---"
   ]
  },
  {
   "cell_type": "markdown",
   "id": "f59fa815-5bbc-4544-91d7-7fa6cfc65102",
   "metadata": {
    "tags": []
   },
   "source": [
    "### **Normal Iterator Example:**"
   ]
  },
  {
   "cell_type": "code",
   "execution_count": 17,
   "id": "d370c73b-4c89-468e-9972-88daee7bf55a",
   "metadata": {
    "tags": []
   },
   "outputs": [
    {
     "name": "stdout",
     "output_type": "stream",
     "text": [
      "1\n",
      "2\n"
     ]
    }
   ],
   "source": [
    "lst = [1, 2, 3, 4]\n",
    "it = iter(lst)\n",
    "\n",
    "print(next(it))  # Output: 1\n",
    "print(next(it))  # Output: 2"
   ]
  },
  {
   "cell_type": "markdown",
   "id": "872c1afe-88fe-422e-9233-c4721a1987f9",
   "metadata": {},
   "source": [
    "### **Generator Example:**"
   ]
  },
  {
   "cell_type": "code",
   "execution_count": 19,
   "id": "71ff078a-e77d-4c8b-a106-bad2b6bc2c86",
   "metadata": {
    "tags": []
   },
   "outputs": [
    {
     "name": "stdout",
     "output_type": "stream",
     "text": [
      "1\n",
      "2\n"
     ]
    }
   ],
   "source": [
    "def my_generator():\n",
    "    yield 1\n",
    "    yield 2\n",
    "    yield 3\n",
    "\n",
    "gen = my_generator()\n",
    "\n",
    "print(next(gen))  # Output: 1\n",
    "print(next(gen))  # Output: 2"
   ]
  },
  {
   "cell_type": "markdown",
   "id": "46882678-f59e-4a72-a7c0-acbf5aeddf22",
   "metadata": {},
   "source": [
    "<body style=\"font-family: Sans-serif;\">\n",
    "    <div style=\"color: black; font-size: 15px; font-style: oblique; text-shadow: 0 0 3px white, 0 0 1px black; padding: 20px;\">\n",
    "\n",
    "- Agar **large datasets** ke saath kaam kar rahe ho aur **memory optimization** chahiye, to **Generators** best choice hain.\n",
    "        \n",
    "- Agar **simple sequence** ko iterate karna ho aur **memory ka issue na ho**, to normal iterators use kiye ja sakte hain.\n"
   ]
  },
  {
   "cell_type": "markdown",
   "id": "88750f12-914f-4199-8524-5db004a9865c",
   "metadata": {},
   "source": [
    "<h1 style=\"text-align:center; color:#005bbd; font-size:20px; font-family:Sans-serif; font-style: oblique; text-shadow: 0 0 3px white, 0 0 1px Black;\">Generaters Vs Function\n",
    "</h1>"
   ]
  },
  {
   "cell_type": "markdown",
   "id": "c7e9cfb1-51e3-4f06-b6c8-c841ab3dabae",
   "metadata": {},
   "source": [
    "<body style=\"font-family: Sans-serif;\">\n",
    "    <div style=\"color: black; font-size: 15px; font-style: oblique; text-shadow: 0 0 3px white, 0 0 1px black; padding: 20px;\">\n",
    "\n",
    "\n",
    "**Generators** aur **Functions** ke beech bhi kuch important differences hote hain. Dono ko aap **values return karne ke liye** use karte hain, lekin dono ka **kaam karne ka tareeqa** kaafi alag hota hai. \n",
    "\n",
    "### **1. Value Return Mechanism:**\n",
    "- **Function (`return`)**: Normal functions mein **`return`** keyword use hota hai. Jab ek function **`return`** karta hai, to function apna execution **complete kar leta hai** aur value **return** kar di jati hai. Function ek dafa **return** karta hai, uske baad execution **end** ho jata hai.\n",
    "  \n",
    "- **Generator (`yield`)**: Generators mein **`yield`** keyword use hota hai. Jab generator function **`yield`** karta hai, to function apna execution **pause** kar leta hai aur value **return** kar deta hai. Jab **`next()`** call hota hai, to generator function **wahan se resume** hota hai aur **next value** generate karta hai.\n",
    "\n",
    "### **2. Execution Flow:**\n",
    "- **Function (`return`)**: Function ke andar **`return`** se execution **complete** ho jata hai, aur agar function ko dobara call kiya jaye, to execution **phir se shuru hota hai**.\n",
    "  \n",
    "- **Generator (`yield`)**: Generator function **`yield`** pe pause hota hai, jab tak **`next()`** call nahi hota. Agar aap generator function ko dobara call karte ho, to function wahan se **resume** hota hai jahan **last `yield`** call kiya gaya tha.\n",
    "\n",
    "### **3. Memory Usage:**\n",
    "- **Function (`return`)**: Normal function **poori data ko ek saath** return karta hai. Agar data kaafi zyada ho, to yeh **memory consume** karta hai.\n",
    "  \n",
    "- **Generator (`yield`)**: Generators **values ko dynamically generate** karte hain aur sirf jab zaroorat ho tab **value generate** hoti hai. Isliye yeh **memory-efficient** hote hain, especially for large datasets.\n",
    "\n",
    "### **4. Iteration:**\n",
    "- **Function (`return`)**: A normal function sirf ek dafa **value** return karta hai aur agar aapko multiple values chaahiyein to function ko **dobara call** karna padta hai.\n",
    "  \n",
    "- **Generator (`yield`)**: Generator ek ke baad ek **multiple values** return karte hain jab **`next()`** call kiya jata hai. Ek generator function ek baar mein **multiple values** ko **yield** kar sakta hai.\n",
    "\n",
    "### **5. Performance:**\n",
    "- **Function (`return`)**: Agar large data ka deal ho raha ho, to **normal function** zyada memory use karega, jo performance ko slow kar sakta hai.\n",
    "  \n",
    "- **Generator (`yield`)**: Generators memory ko **efficiently** use karte hain aur **on-the-fly** values generate karte hain, jo performance ko **optimize** karte hain, especially large datasets ke liye.\n"
   ]
  },
  {
   "cell_type": "markdown",
   "id": "4fb9a46d-de54-42d2-95c0-2bf2100c42fd",
   "metadata": {},
   "source": [
    "### **Function Example:**"
   ]
  },
  {
   "cell_type": "code",
   "execution_count": 20,
   "id": "6ecfd67d-0ad0-4bf8-9f35-032f35a9c056",
   "metadata": {
    "tags": []
   },
   "outputs": [
    {
     "name": "stdout",
     "output_type": "stream",
     "text": [
      "[1, 4, 9, 16]\n"
     ]
    }
   ],
   "source": [
    "def get_squares(numbers):\n",
    "    return [x * x for x in numbers]\n",
    "\n",
    "result = get_squares([1, 2, 3, 4])\n",
    "print(result)  "
   ]
  },
  {
   "cell_type": "markdown",
   "id": "3f3190ef-d777-47f8-85c2-61de2323ee29",
   "metadata": {},
   "source": [
    "### **Generator Example:**"
   ]
  },
  {
   "cell_type": "code",
   "execution_count": 24,
   "id": "4a0b7b6c-1d8f-4c53-a47e-acff59d34d5d",
   "metadata": {
    "tags": []
   },
   "outputs": [
    {
     "data": {
      "text/plain": [
       "<generator object generate_squares at 0x733d00f051c0>"
      ]
     },
     "execution_count": 24,
     "metadata": {},
     "output_type": "execute_result"
    }
   ],
   "source": [
    "def generate_squares(numbers):\n",
    "    for x in numbers:\n",
    "        yield x * x  # Yield each square one by one\n",
    "\n",
    "gen = generate_squares([1, 2, 3, 4])\n",
    "gen"
   ]
  },
  {
   "cell_type": "code",
   "execution_count": 25,
   "id": "95d2cd75-b099-4c27-8a95-4c8cf1f72e3d",
   "metadata": {
    "tags": []
   },
   "outputs": [
    {
     "name": "stdout",
     "output_type": "stream",
     "text": [
      "1\n",
      "4\n",
      "9\n",
      "16\n"
     ]
    }
   ],
   "source": [
    "for square in gen:\n",
    "    print(square)"
   ]
  }
 ],
 "metadata": {
  "kernelspec": {
   "display_name": "Python 3 (ipykernel)",
   "language": "python",
   "name": "python3"
  },
  "language_info": {
   "codemirror_mode": {
    "name": "ipython",
    "version": 3
   },
   "file_extension": ".py",
   "mimetype": "text/x-python",
   "name": "python",
   "nbconvert_exporter": "python",
   "pygments_lexer": "ipython3",
   "version": "3.10.12"
  }
 },
 "nbformat": 4,
 "nbformat_minor": 5
}
