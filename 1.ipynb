{
 "cells": [
  {
   "cell_type": "markdown",
   "id": "26de551c-cce2-40ad-84be-e2e4b1a96357",
   "metadata": {
    "tags": []
   },
   "source": [
    "<h1 style=\"text-align:center; color:#005bbd; font-size:20px; font-family:Sans-serif; font-style: oblique; text-shadow: 0 0 3px white, 0 0 1px Black;\">\n",
    "   Functional programming\n",
    "</h1>"
   ]
  },
  {
   "cell_type": "markdown",
   "id": "53e51610-65c4-4115-b44e-606f7fab6d0c",
   "metadata": {},
   "source": [
    "<body style=\"font-family: Sans-serif;\">\n",
    "    <div style=\"color: black; font-size: 18px; font-style: oblique; text-shadow: 0 0 3px white, 0 0 1px black; padding: 20px;\">\n",
    "      \n",
    "1. **Functional Programming Kya Hai?**<br> \n",
    "   - Functional Programming (FP) aik aisa paradigm hai jisme functions ko pehli tarjeeh di jati hai.<br><br>\n",
    "   - Is approach mein programs ko mathematical functions ki tarah treat kiya jata hai, jahan input se output generate hota hai bina kisi external state ke badle.<br><br>\n",
    "\n",
    "2. **First-Class Functions:**  <br>\n",
    "   - FP mein functions ko variables ki tarah use kiya jata hai.  <br><br>\n",
    "   - Aap functions ko as arguments pass kar sakte hain, unko return kar sakte hain, ya variables mein store kar sakte hain.<br><br>\n",
    "\n",
    "3. **Pure Functions:**  <br>\n",
    "   - Pure functions woh functions hain jo hamesha same input par same output dete hain.  <br><br>\n",
    "   - Inka koi side effect (jaise ke external state change karna) nahi hota, jis se predictability aur testability behtar hoti hai.<br><br>\n",
    "\n",
    "4. **Immutability:**  <br>\n",
    "   - Is concept ke tehat data ko modify karne ki bajaye naye data structures create kiye jate hain.  <br><br>\n",
    "   - Yeh approach bugs kam karti hai aur code ko thread-safe banati hai.<br><br>\n",
    "\n",
    "5. **Higher-Order Functions:**  <br>\n",
    "   - Higher-order functions woh functions hain jo dusre functions ko as arguments lete hain ya functions ko return karte hain.  <br><br>\n",
    "   - Is se code ko modular aur concise banaya jata hai.<br><br>\n",
    "\n",
    "6. **Recursion:**  <br>\n",
    "   - Functional Programming mein traditional loops ke bajaye recursion ka istemal hota hai.<br><br>  \n",
    "   - Recursion complex problems ko choti, manageable functions mein todne mein madad karta hai.<br><br>\n",
    "\n",
    "7. **Function Composition:** <br> \n",
    "   - Choti functions ko combine kar ke complex operations perform kiye jate hain.<br><br>  \n",
    "   - Yeh approach code ko re-usable, modular, aur maintainable banati hai.<br><br>\n",
    "\n",
    "8. **FP ke Faaide:**  <br>\n",
    "   - Code ko samajhna, test karna, aur debug karna asaan hota hai.  <br><br>\n",
    "   - FP parallel processing ko behtar banata hai, jis se performance improve hoti hai.<br><br>\n"
   ]
  },
  {
   "cell_type": "markdown",
   "id": "dc4aad88-36f7-4a9a-9f67-772918e26d41",
   "metadata": {
    "tags": []
   },
   "source": [
    "<h1 style=\"text-align:center; color:#005bbd; font-size:20px; font-family:Sans-serif; font-style: oblique; text-shadow: 0 0 3px white, 0 0 1px Black;\">\n",
    "   Imperative Paradigm\n",
    "</h1>"
   ]
  },
  {
   "cell_type": "markdown",
   "id": "0f7a9cba-d8e9-4675-9c19-3ef5dc7bd7a9",
   "metadata": {},
   "source": [
    "<body style=\"font-family: Sans-serif;\">\n",
    "    <div style=\"color: black; font-size: 15px; font-style: oblique; text-shadow: 0 0 3px white, 0 0 1px black; padding: 20px;\">\n",
    "    \n",
    "#### **Imperative Paradigm**\n",
    "\n",
    "Is approach mein programmer explicitly har step batata hai jo computer ko perform karna hota hai. Matlab, \"how\" (kaise) cheezein karni hain, uska detailed sequence likhte hain.\n",
    "\n",
    "- **Key Characteristics:**\n",
    "  - **State & Mutability:** <br>Variables ka use hota hai jo change ho sakte hain.\n",
    "  - **Control Flow:** <br>Loops, conditionals, aur sequential instructions se task perform kia jata hai.\n",
    "  - **Step-by-Step Instructions:** <br>Programmer computer ko har ek instruction deta hai.\n",
    "</body>"
   ]
  },
  {
   "cell_type": "code",
   "execution_count": 2,
   "id": "f573eb01-21b9-4950-a5db-b96772fc1a90",
   "metadata": {
    "tags": []
   },
   "outputs": [
    {
     "name": "stdout",
     "output_type": "stream",
     "text": [
      "[1, 4, 9, 16, 25]\n"
     ]
    }
   ],
   "source": [
    "numbers = [1, 2, 3, 4, 5]\n",
    "squared = []  # mutable list jo update hoti hai\n",
    "  \n",
    "for num in numbers:\n",
    "    squared.append(num * num)\n",
    "\n",
    "print(squared)"
   ]
  },
  {
   "cell_type": "markdown",
   "id": "807fe130-9a22-4f04-a5f3-c7c6a64625cb",
   "metadata": {},
   "source": [
    "<h1 style=\"text-align:center; color:#005bbd; font-size:20px; font-family:Sans-serif; font-style: oblique; text-shadow: 0 0 3px white, 0 0 1px Black;\">\n",
    "   Functional Paradigm\n",
    "</h1>"
   ]
  },
  {
   "cell_type": "markdown",
   "id": "5514458c-1f82-4619-835c-e64d55b08dec",
   "metadata": {},
   "source": [
    "<body style=\"font-family: Sans-serif;\">\n",
    "    <div style=\"color: black; font-size: 15px; font-style: oblique; text-shadow: 0 0 3px white, 0 0 1px black; padding: 20px;\">\n",
    "    \n",
    "#### **Functional Paradigm**\n",
    "\n",
    "  Functional programming mein focus hota hai \"what\" (kya) result chahiye, na ke process par. Yeh functions ko first-class citizens samajhta hai aur immutability par zor deta hai.  \n",
    "  Is approach mein aap side effects (jaise variables ko modify karna) ko minimize karte hain aur pure functions (jo same input pe hamesha same output dete hain) ka istemal karte hain.\n",
    "\n",
    "- **Key Characteristics:**\n",
    "  - **Immutability:** <br>Data structures change nahi hote; nayi values return hoti hain.\n",
    "  - **Pure Functions:** <br>Functions ka koi side effect nahi hota.\n",
    "  - **Higher-Order Functions:** <br>Functions ko arguments ke taur pe pass ya functions return kia ja sakta hai.\n",
    "  - **Declarative Style:** <br>Aap specify karte hain ke kya chahiye, kaise achieve hoga woh abstract hota hai.\n",
    "\n",
    "</body>"
   ]
  },
  {
   "cell_type": "code",
   "execution_count": 3,
   "id": "d8a6d4b1-b5ef-4d39-9fa7-b6d947e86759",
   "metadata": {
    "tags": []
   },
   "outputs": [
    {
     "name": "stdout",
     "output_type": "stream",
     "text": [
      "[1, 4, 9, 16, 25]\n"
     ]
    }
   ],
   "source": [
    "numbers = [1, 2, 3, 4, 5]\n",
    "squared = list(map(lambda x: x * x, numbers))\n",
    "print(squared)"
   ]
  },
  {
   "cell_type": "markdown",
   "id": "43a47478-eb0b-4973-9ca5-24e601b6a16b",
   "metadata": {},
   "source": [
    "<h1 style=\"text-align:center; color:#005bbd; font-size:20px; font-family:Sans-serif; font-style: oblique; text-shadow: 0 0 3px white, 0 0 1px Black;\">\n",
    "   Advantages\n",
    "</h1>"
   ]
  },
  {
   "cell_type": "markdown",
   "id": "11f57712-defa-4f38-9b67-9eed698039be",
   "metadata": {},
   "source": [
    "<body style=\"font-family: Sans-serif;\">\n",
    "    <div style=\"color: black; font-size: 15px; font-style: oblique; text-shadow: 0 0 3px white, 0 0 1px black; padding: 20px;\">\n",
    "\n",
    "#### **1. Predictability**\n",
    "        \n",
    "  Predictability ka matlab hai ke aapka code ya function har dafa same input par same output dega. Matlab, agar aap ek function ko same input pass karain, to woh hamesha ek hi result produce karega, bina kisi side effect ke.\n",
    "\n",
    "- **Faida:**  \n",
    "  - **Debugging asaan hoti hai:** <br> Kyun ke agar input same hai to result bhi same hona chahiye. Agar result alag aata hai to clearly pata chal jata hai ke koi issue hai.\n",
    "  - **Code ko samajhna asaan:**  <br>Jab functions pure hon (matlab side effects nahi hain), to aap easily predict kar sakte hain ke unka behavior kaisa hoga.\n",
    "\n",
    "\n",
    "</body>\n"
   ]
  },
  {
   "cell_type": "code",
   "execution_count": 4,
   "id": "55f7fec7-4ae6-4cca-8d22-118ab43d7687",
   "metadata": {
    "tags": []
   },
   "outputs": [],
   "source": [
    "def add(a, b):\n",
    "    return a + b  \n",
    "    # Pure function: same inputs, same output"
   ]
  },
  {
   "cell_type": "code",
   "execution_count": 5,
   "id": "a804c7e4-f190-4f23-b488-0ea345e33f7b",
   "metadata": {
    "tags": []
   },
   "outputs": [
    {
     "name": "stdout",
     "output_type": "stream",
     "text": [
      "5\n"
     ]
    }
   ],
   "source": [
    "# Hamesha add(2, 3) = 5, predictability ki wajah se\n",
    "\n",
    "print(add(2, 3))"
   ]
  },
  {
   "cell_type": "markdown",
   "id": "3682a84d-f057-486c-abb5-48d44107a5f7",
   "metadata": {},
   "source": [
    "<body style=\"font-family: Sans-serif;\">\n",
    "    <div style=\"color: black; font-size: 15px; font-style: oblique; text-shadow: 0 0 3px white, 0 0 1px black; padding: 20px;\">\n",
    "\n",
    "#### **2. Reusability**\n",
    "  Reusability ka matlab hai code ko aise design karna ke woh alag-alag contexts ya projects mein use kia ja sakay. Jab code modular aur generic hota hai, to ek martaba likha hua function ya module bar bar use ho sakta hai bina usay modify kiye.\n",
    "\n",
    "- **Faida:**  \n",
    "  - **Development time kam hota hai:** <br>Aap pehle se likhe functions ko reuse karke naya code teyar kar sakte hain.\n",
    "  - **Maintenance asaan hoti hai:** <br>Agar ek function ko update karna ho to woh ek jaga update hoga, aur har jagah automatically update ho jata hai.\n",
    "  - **Modular design:** <br>Code ko chhote-chhote functions ya modules mein todna reusability ko promote karta hai.\n",
    "\n",
    "</body>\n"
   ]
  },
  {
   "cell_type": "code",
   "execution_count": 6,
   "id": "af47818e-5ff2-4ab8-891b-d169ffc399c7",
   "metadata": {
    "tags": []
   },
   "outputs": [],
   "source": [
    "def multiply(a, b):\n",
    "    return a * b"
   ]
  },
  {
   "cell_type": "code",
   "execution_count": 7,
   "id": "bf7fb3c0-1436-4f90-a90e-5ee02e0fd495",
   "metadata": {
    "tags": []
   },
   "outputs": [
    {
     "name": "stdout",
     "output_type": "stream",
     "text": [
      "12 30\n"
     ]
    }
   ],
   "source": [
    "# multiply function ko different parts \n",
    "# of the program mein reuse kar sakte hain.\n",
    "\n",
    "result1 = multiply(3, 4)  # Output: 12\n",
    "result2 = multiply(5, 6)  # Output: 30\n",
    "  \n",
    "print(result1, result2)"
   ]
  },
  {
   "cell_type": "markdown",
   "id": "1e2da275-7ce1-48ff-88b7-8a1434792949",
   "metadata": {},
   "source": [
    "<body style=\"font-family: Sans-serif;\">\n",
    "    <div style=\"color: black; font-size: 15px; font-style: oblique; text-shadow: 0 0 3px white, 0 0 1px black; padding: 20px;\">\n",
    "\n",
    "#### **3 Parallel Execution**\n",
    "        \n",
    "  Parallelism ka matlab hai ke aap apne code ke multiple parts ko simultaneously (ek saath) execute kar sakte hain.<br>Yeh especially un systems par faida mand hai jahan multi-core processors hotay hain, jisse overall performance improve hoti hai.\n",
    "\n",
    "- **Faida:**  \n",
    "  - **Performance enhancement:** <br>Multiple tasks parallel execute honay se overall execution time kam ho jata hai.\n",
    "  - **Efficient resource utilization:**<br> Multi-core processors ka poora use hota hai.\n",
    "  - **Reduced latency:** <br>Large computations ko chhote parallel tasks mein tod kar jaldi results hasil kiye ja sakte hain.\n",
    "<br><br>\n",
    "        \n",
    "- **Functional Programming aur Parallelism:**  \n",
    "  Functional programming mein immutable data structures aur pure functions (jinka koi side effect nahi hota) use kiye jate hain. Is wajah se parallel execution asaan ho jata hai, kyunki functions independent tarike se chal sakte hain bina ek doosray ke data ko affect kiye.\n",
    "\n",
    "</body>\n"
   ]
  },
  {
   "cell_type": "code",
   "execution_count": 8,
   "id": "3221445c-be39-465a-aec2-e8e68e727ac1",
   "metadata": {
    "tags": []
   },
   "outputs": [],
   "source": [
    "from concurrent.futures import ThreadPoolExecutor"
   ]
  },
  {
   "cell_type": "code",
   "execution_count": 9,
   "id": "ddec5ffa-8edc-436b-9d00-6ba4c152d2e6",
   "metadata": {
    "tags": []
   },
   "outputs": [],
   "source": [
    "def square(x):\n",
    "    return x * x"
   ]
  },
  {
   "cell_type": "code",
   "execution_count": 10,
   "id": "adcb1c2a-1b62-42c6-932b-74cbd5139246",
   "metadata": {
    "tags": []
   },
   "outputs": [
    {
     "name": "stdout",
     "output_type": "stream",
     "text": [
      "[1, 4, 9, 16, 25]\n"
     ]
    }
   ],
   "source": [
    "numbers = [1, 2, 3, 4, 5]\n",
    "\n",
    "# Parallelism: ThreadPoolExecutor se same time mein multiple square()\n",
    "# calls perform karna.\n",
    "\n",
    "with ThreadPoolExecutor(max_workers=5) as executor:\n",
    "    results = list(executor.map(square, numbers))\n",
    "\n",
    "print(results)"
   ]
  }
 ],
 "metadata": {
  "kernelspec": {
   "display_name": "Python 3 (ipykernel)",
   "language": "python",
   "name": "python3"
  },
  "language_info": {
   "codemirror_mode": {
    "name": "ipython",
    "version": 3
   },
   "file_extension": ".py",
   "mimetype": "text/x-python",
   "name": "python",
   "nbconvert_exporter": "python",
   "pygments_lexer": "ipython3",
   "version": "3.10.12"
  }
 },
 "nbformat": 4,
 "nbformat_minor": 5
}
