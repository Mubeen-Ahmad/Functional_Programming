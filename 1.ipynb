{
 "cells": [
  {
   "cell_type": "markdown",
   "id": "26de551c-cce2-40ad-84be-e2e4b1a96357",
   "metadata": {
    "tags": []
   },
   "source": [
    "<h1 style=\"text-align:center; color:#005bbd; font-size:20px; font-family:Sans-serif; font-style: oblique; text-shadow: 0 0 3px white, 0 0 1px Black;\">\n",
    "   Functional programming\n",
    "</h1>"
   ]
  },
  {
   "cell_type": "markdown",
   "id": "53e51610-65c4-4115-b44e-606f7fab6d0c",
   "metadata": {},
   "source": [
    "<body style=\"font-family: Sans-serif;\">\n",
    "    <div style=\"color: black; font-size: 18px; font-style: oblique; text-shadow: 0 0 3px white, 0 0 1px black; padding: 20px;\">\n",
    "      \n",
    "1. **Functional Programming Kya Hai?**<br> \n",
    "   - Functional Programming (FP) aik aisa paradigm hai jisme functions ko pehli tarjeeh di jati hai.<br><br>\n",
    "   - Is approach mein programs ko mathematical functions ki tarah treat kiya jata hai, jahan input se output generate hota hai bina kisi external state ke badle.<br><br>\n",
    "\n",
    "2. **First-Class Functions:**  <br>\n",
    "   - FP mein functions ko variables ki tarah use kiya jata hai.  <br><br>\n",
    "   - Aap functions ko as arguments pass kar sakte hain, unko return kar sakte hain, ya variables mein store kar sakte hain.<br><br>\n",
    "\n",
    "3. **Pure Functions:**  <br>\n",
    "   - Pure functions woh functions hain jo hamesha same input par same output dete hain.  <br><br>\n",
    "   - Inka koi side effect (jaise ke external state change karna) nahi hota, jis se predictability aur testability behtar hoti hai.<br><br>\n",
    "\n",
    "4. **Immutability:**  <br>\n",
    "   - Is concept ke tehat data ko modify karne ki bajaye naye data structures create kiye jate hain.  <br><br>\n",
    "   - Yeh approach bugs kam karti hai aur code ko thread-safe banati hai.<br><br>\n",
    "\n",
    "5. **Higher-Order Functions:**  <br>\n",
    "   - Higher-order functions woh functions hain jo dusre functions ko as arguments lete hain ya functions ko return karte hain.  <br><br>\n",
    "   - Is se code ko modular aur concise banaya jata hai.<br><br>\n",
    "\n",
    "6. **Recursion:**  <br>\n",
    "   - Functional Programming mein traditional loops ke bajaye recursion ka istemal hota hai.<br><br>  \n",
    "   - Recursion complex problems ko choti, manageable functions mein todne mein madad karta hai.<br><br>\n",
    "\n",
    "7. **Function Composition:** <br> \n",
    "   - Choti functions ko combine kar ke complex operations perform kiye jate hain.<br><br>  \n",
    "   - Yeh approach code ko re-usable, modular, aur maintainable banati hai.<br><br>\n",
    "\n",
    "8. **FP ke Faaide:**  <br>\n",
    "   - Code ko samajhna, test karna, aur debug karna asaan hota hai.  <br><br>\n",
    "   - FP parallel processing ko behtar banata hai, jis se performance improve hoti hai.<br><br>\n"
   ]
  }
 ],
 "metadata": {
  "kernelspec": {
   "display_name": "Python 3 (ipykernel)",
   "language": "python",
   "name": "python3"
  },
  "language_info": {
   "codemirror_mode": {
    "name": "ipython",
    "version": 3
   },
   "file_extension": ".py",
   "mimetype": "text/x-python",
   "name": "python",
   "nbconvert_exporter": "python",
   "pygments_lexer": "ipython3",
   "version": "3.10.12"
  }
 },
 "nbformat": 4,
 "nbformat_minor": 5
}
