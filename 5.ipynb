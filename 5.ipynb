{
 "cells": [
  {
   "cell_type": "markdown",
   "id": "d60c8b65-b5c5-4118-bc87-81ca3ceb9089",
   "metadata": {
    "tags": []
   },
   "source": [
    "<h1 style=\"text-align:center; color:#005bbd; font-size:20px; font-family:Sans-serif; font-style: oblique; text-shadow: 0 0 3px white, 0 0 1px Black;\">\n",
    "   Partial Functions\n",
    "</h1>"
   ]
  },
  {
   "cell_type": "markdown",
   "id": "ca675603-1ee6-434c-8383-febae6afd9b4",
   "metadata": {},
   "source": [
    "<body style=\"font-family: Sans-serif;\">\n",
    "    <div style=\"color: black; font-size: 15px; font-style: oblique; text-shadow: 0 0 3px white, 0 0 1px black; padding: 20px;\">\n",
    "Partial Functions ka matlab hai ke aap ek aise function se kuch arguments ko fix (pre-set) kar dete hain, taake aap us function ka ek simplified version bana saken jismein baqi ke arguments baad mein pass kiye jate hain.\n",
    "<br> Ye technique code ko reusability aur clarity dene ke liye bohat useful hai."
   ]
  },
  {
   "cell_type": "markdown",
   "id": "fc05f3c3-150b-4f6b-a9b2-caa5d69a495c",
   "metadata": {
    "tags": []
   },
   "source": [
    "<body style=\"font-family: Sans-serif;\">\n",
    "    <div style=\"color: black; font-size: 15px; font-style: oblique; text-shadow: 0 0 3px white, 0 0 1px black; padding: 20px;\">\n",
    "\n",
    "**Normal Function:**\n",
    "   - Sochiye ke aapke paas ek function hai jo multiple arguments leta hai.  \n",
    "   - E.g  ek `power` function jo 2 arguments leta hai: `base` aur `exponent`"
   ]
  },
  {
   "cell_type": "code",
   "execution_count": 3,
   "id": "d6974d1a-994e-4df8-a34a-f841283edd48",
   "metadata": {
    "tags": []
   },
   "outputs": [],
   "source": [
    "def power(base, exponent):\n",
    "    return base ** exponent"
   ]
  },
  {
   "cell_type": "code",
   "execution_count": 6,
   "id": "5223e686-abf1-4e67-9ea8-2f1ef94a468c",
   "metadata": {
    "tags": []
   },
   "outputs": [
    {
     "data": {
      "text/plain": [
       "36"
      ]
     },
     "execution_count": 6,
     "metadata": {},
     "output_type": "execute_result"
    }
   ],
   "source": [
    "power(6,2)"
   ]
  },
  {
   "cell_type": "code",
   "execution_count": 7,
   "id": "72ead148-d0f8-4148-9bdb-07e57b7d720c",
   "metadata": {
    "tags": []
   },
   "outputs": [
    {
     "data": {
      "text/plain": [
       "16"
      ]
     },
     "execution_count": 7,
     "metadata": {},
     "output_type": "execute_result"
    }
   ],
   "source": [
    "power(4,2)"
   ]
  },
  {
   "cell_type": "code",
   "execution_count": 8,
   "id": "3a1029a9-80e7-49fc-9c09-0ccf8ca2a960",
   "metadata": {
    "tags": []
   },
   "outputs": [
    {
     "data": {
      "text/plain": [
       "64"
      ]
     },
     "execution_count": 8,
     "metadata": {},
     "output_type": "execute_result"
    }
   ],
   "source": [
    "power(8,2)"
   ]
  },
  {
   "cell_type": "markdown",
   "id": "2d332bb5-c970-464f-ba9c-7cd067699f98",
   "metadata": {},
   "source": [
    "<body style=\"font-family: Sans-serif;\">\n",
    "    <div style=\"color: black; font-size: 15px; font-style: oblique; text-shadow: 0 0 3px white, 0 0 1px black; padding: 20px;\">\n",
    "   Agar aap aksar kisi specific exponent ke sath calculation karte hain, to aap us exponent ko fix kar sakte hain.<br><br>Jaise, agar aapko bar bar square (exponent = 2) nikalna hai, to aap ek partial function bana sakte hain jismein exponent fix ho jaye."
   ]
  },
  {
   "cell_type": "markdown",
   "id": "736b1bec-1083-4478-bea4-3dc4f017d412",
   "metadata": {
    "tags": []
   },
   "source": [
    "<body style=\"font-family: Sans-serif;\">\n",
    "    <div style=\"color: black; font-size: 15px; font-style: oblique; text-shadow: 0 0 3px white, 0 0 1px black; padding: 20px;\">\n",
    "    \n",
    "**Partial Function Banane Ka Tareeqa:**\n",
    "        \n",
    "   - Python mein `functools.partial` ka use karke aap partial functions create kar sakte hain.\n",
    "   "
   ]
  },
  {
   "cell_type": "code",
   "execution_count": 9,
   "id": "33fdcff6-c2e9-4a9f-ad7d-237f8430a9bf",
   "metadata": {
    "tags": []
   },
   "outputs": [],
   "source": [
    "from functools import partial"
   ]
  },
  {
   "cell_type": "code",
   "execution_count": 10,
   "id": "8dc12085-2af4-4067-a7c8-f50af4bd6769",
   "metadata": {
    "tags": []
   },
   "outputs": [],
   "source": [
    "# 'power' function ke exponent argument ko fix karte hue, square function create karna:\n",
    "square = partial(power, exponent=2)"
   ]
  },
  {
   "cell_type": "code",
   "execution_count": 11,
   "id": "bd39d89a-5e8e-47c6-999c-6af04c379c2d",
   "metadata": {
    "tags": []
   },
   "outputs": [],
   "source": [
    "# Isi tarah, cube function bana sakte hain (exponent fix = 3)\n",
    "cube = partial(power, exponent=3)"
   ]
  },
  {
   "cell_type": "markdown",
   "id": "2ce710cf-534b-4afe-b9da-4c3babd6321c",
   "metadata": {},
   "source": [
    "<body style=\"font-family: Sans-serif;\">\n",
    "    <div style=\"color: black; font-size: 15px; font-style: oblique; text-shadow: 0 0 3px white, 0 0 1px black; padding: 20px;\">\n",
    "\n",
    "**Naya Function Use Karna:**\n",
    "   - Ab aap `square` aur `cube` function ko sirf base argument ke sath call kar sakte hain, kyunki exponent already fix ho chuka hai."
   ]
  },
  {
   "cell_type": "code",
   "execution_count": 14,
   "id": "47de837c-d27c-45fd-83a6-087e0312dddb",
   "metadata": {
    "tags": []
   },
   "outputs": [
    {
     "data": {
      "text/plain": [
       "16"
      ]
     },
     "execution_count": 14,
     "metadata": {},
     "output_type": "execute_result"
    }
   ],
   "source": [
    "square(4)"
   ]
  },
  {
   "cell_type": "code",
   "execution_count": 15,
   "id": "2f7e66cd-2209-4a9c-9580-66e8c56283e4",
   "metadata": {
    "tags": []
   },
   "outputs": [
    {
     "data": {
      "text/plain": [
       "27"
      ]
     },
     "execution_count": 15,
     "metadata": {},
     "output_type": "execute_result"
    }
   ],
   "source": [
    "cube(3)"
   ]
  },
  {
   "cell_type": "markdown",
   "id": "3939ee1f-a773-4345-83f6-b58e03461fb9",
   "metadata": {},
   "source": [
    "<body style=\"font-family: Sans-serif;\">\n",
    "    <div style=\"color: black; font-size: 15px; font-style: oblique; text-shadow: 0 0 3px white, 0 0 1px black; padding: 20px;\">\n",
    "Ek function jismein kuch arguments fix ho jate hain, aur baqi ke arguments call time par pass kiye jate hain.<ul>\n",
    "Use-case:<ul>\n",
    "    <li>Code reusability aur readability ko improve karna.</li>\n",
    "    <li>Repetitive argument passing se bachna.</li>\n",
    "        </ul>"
   ]
  },
  {
   "cell_type": "markdown",
   "id": "c93af9f0-93b5-412d-9453-c6fe52bc078c",
   "metadata": {
    "tags": []
   },
   "source": [
    "<h1 style=\"text-align:center; color:#005bbd; font-size:20px; font-family:Sans-serif; font-style: oblique; text-shadow: 0 0 3px white, 0 0 1px Black;\">\n",
    "Usefull Examples</h1>"
   ]
  },
  {
   "cell_type": "markdown",
   "id": "db5a30eb-92b4-46a3-8274-83b555f4ccdb",
   "metadata": {},
   "source": [
    "<body style=\"font-family: Sans-serif;\">\n",
    "    <div style=\"color: black; font-size: 15px; font-style: oblique; text-shadow: 0 0 3px white, 0 0 1px black; padding: 20px;\">\n",
    "        \n",
    "#### **Example 1: CSV File Reader Mein Fixed Parameters**\n",
    "\n",
    "Maan lijiye aapke paas ek function hai jo CSV file read karta hai jismein kaafi parameters hote hain (jaise delimiter, header, encoding, etc). <br><br>Agar aap aksar ek hi tarah ke parameters use karte hain, to aap un parameters ko fix karke partial function bana sakte hain."
   ]
  },
  {
   "cell_type": "code",
   "execution_count": 86,
   "id": "31909c64-6a5a-4c68-9ee0-61f80c276fe0",
   "metadata": {
    "tags": []
   },
   "outputs": [],
   "source": [
    "import pandas as pd\n",
    "from functools import partial"
   ]
  },
  {
   "cell_type": "code",
   "execution_count": 113,
   "id": "8f2ca364-56db-4068-a513-59b870c59cc2",
   "metadata": {
    "tags": []
   },
   "outputs": [],
   "source": [
    "def read_csv(file_path, delimiter=',', header=0):\n",
    "    \n",
    "    print(f\"Reading file: {file_path}\")\n",
    "    print(f\"Delimiter: {delimiter}, Header: {header}\")\n",
    "    \n",
    "    return pd.read_csv(file_path,delimiter=delimiter,header=header)\n"
   ]
  },
  {
   "cell_type": "code",
   "execution_count": 118,
   "id": "c034b927-7bfe-4dfb-bab7-e43b52195d41",
   "metadata": {
    "tags": []
   },
   "outputs": [],
   "source": [
    "read_custom_csv = partial(read_csv, delimiter=',',header=0)"
   ]
  },
  {
   "cell_type": "code",
   "execution_count": 119,
   "id": "445a4a30-e13b-49ed-87c0-a390b81b4186",
   "metadata": {
    "tags": []
   },
   "outputs": [
    {
     "name": "stdout",
     "output_type": "stream",
     "text": [
      "Reading file: data.csv\n",
      "Delimiter: ,, Header: 0\n"
     ]
    },
    {
     "data": {
      "text/html": [
       "<div>\n",
       "<style scoped>\n",
       "    .dataframe tbody tr th:only-of-type {\n",
       "        vertical-align: middle;\n",
       "    }\n",
       "\n",
       "    .dataframe tbody tr th {\n",
       "        vertical-align: top;\n",
       "    }\n",
       "\n",
       "    .dataframe thead th {\n",
       "        text-align: right;\n",
       "    }\n",
       "</style>\n",
       "<table border=\"1\" class=\"dataframe\">\n",
       "  <thead>\n",
       "    <tr style=\"text-align: right;\">\n",
       "      <th></th>\n",
       "      <th>Marks</th>\n",
       "    </tr>\n",
       "  </thead>\n",
       "  <tbody>\n",
       "    <tr>\n",
       "      <th>0</th>\n",
       "      <td>113</td>\n",
       "    </tr>\n",
       "    <tr>\n",
       "      <th>1</th>\n",
       "      <td>485</td>\n",
       "    </tr>\n",
       "    <tr>\n",
       "      <th>2</th>\n",
       "      <td>480</td>\n",
       "    </tr>\n",
       "    <tr>\n",
       "      <th>3</th>\n",
       "      <td>261</td>\n",
       "    </tr>\n",
       "    <tr>\n",
       "      <th>4</th>\n",
       "      <td>383</td>\n",
       "    </tr>\n",
       "    <tr>\n",
       "      <th>...</th>\n",
       "      <td>...</td>\n",
       "    </tr>\n",
       "    <tr>\n",
       "      <th>463</th>\n",
       "      <td>397</td>\n",
       "    </tr>\n",
       "    <tr>\n",
       "      <th>464</th>\n",
       "      <td>154</td>\n",
       "    </tr>\n",
       "    <tr>\n",
       "      <th>465</th>\n",
       "      <td>221</td>\n",
       "    </tr>\n",
       "    <tr>\n",
       "      <th>466</th>\n",
       "      <td>174</td>\n",
       "    </tr>\n",
       "    <tr>\n",
       "      <th>467</th>\n",
       "      <td>332</td>\n",
       "    </tr>\n",
       "  </tbody>\n",
       "</table>\n",
       "<p>468 rows × 1 columns</p>\n",
       "</div>"
      ],
      "text/plain": [
       "     Marks\n",
       "0      113\n",
       "1      485\n",
       "2      480\n",
       "3      261\n",
       "4      383\n",
       "..     ...\n",
       "463    397\n",
       "464    154\n",
       "465    221\n",
       "466    174\n",
       "467    332\n",
       "\n",
       "[468 rows x 1 columns]"
      ]
     },
     "execution_count": 119,
     "metadata": {},
     "output_type": "execute_result"
    }
   ],
   "source": [
    "read_custom_csv(\"data.csv\")"
   ]
  },
  {
   "cell_type": "markdown",
   "id": "8ee2242f-b812-4d0f-914e-cc2561b02d1a",
   "metadata": {},
   "source": [
    "<body style=\"font-family: Sans-serif;\">\n",
    "    <div style=\"color: black; font-size: 15px; font-style: oblique; text-shadow: 0 0 3px white, 0 0 1px black; padding: 20px;\">\n",
    "        \n",
    "#### **Example 2: Financial Calculations Mein Fixed Interest Rate**\n",
    "\n",
    "Maan lijiye aap ek function hai jo interest calculate karta hai. <br>Agar aap ek fixed rate (jaise 5%) aksar use karte hain, to aap partial function se us rate ko fix kar sakte hain.\n"
   ]
  },
  {
   "cell_type": "code",
   "execution_count": 137,
   "id": "9c3deed3-b7f2-4ae2-80a4-a1722b1562e9",
   "metadata": {
    "tags": []
   },
   "outputs": [],
   "source": [
    "def calculate_interest(rate,principal,time):\n",
    "    return principal * (1 + rate) ** time"
   ]
  },
  {
   "cell_type": "code",
   "execution_count": 138,
   "id": "1d6fbcf0-d241-4f28-a7d7-4965a050ab87",
   "metadata": {
    "tags": []
   },
   "outputs": [],
   "source": [
    "calculate_with_5_percent = partial(calculate_interest,0.05)"
   ]
  },
  {
   "cell_type": "code",
   "execution_count": 139,
   "id": "4196fd4c-d03a-47ba-abdb-797bd51cfc66",
   "metadata": {
    "tags": []
   },
   "outputs": [
    {
     "data": {
      "text/plain": [
       "1102.5"
      ]
     },
     "execution_count": 139,
     "metadata": {},
     "output_type": "execute_result"
    }
   ],
   "source": [
    "# Ab aap sirf principal aur time pass karenge:\n",
    "calculate_with_5_percent(1000, 2) "
   ]
  },
  {
   "cell_type": "code",
   "execution_count": 140,
   "id": "0f33dbea-38a0-4f51-94bb-5212f2129a53",
   "metadata": {
    "tags": []
   },
   "outputs": [
    {
     "data": {
      "text/plain": [
       "1050.0"
      ]
     },
     "execution_count": 140,
     "metadata": {},
     "output_type": "execute_result"
    }
   ],
   "source": [
    "calculate_with_5_percent(1000, 1) "
   ]
  },
  {
   "cell_type": "markdown",
   "id": "80be6d6d-a854-4807-8eac-e7f1d3bff025",
   "metadata": {},
   "source": [
    "<body style=\"font-family: Sans-serif;\">\n",
    "    <div style=\"color: black; font-size: 15px; font-style: oblique; text-shadow: 0 0 3px white, 0 0 1px black; padding: 20px;\">\n",
    "        \n",
    "#### **Example 3: GUI Event Handling Mein Extra Arguments Bind Karna**\n",
    "\n",
    "GUI programming mein aapko aksar event handlers define karne padte hain jismein additional arguments bhi pass karne hote hain. <br>Partial function se aap extra arguments ko fix kar sakte hain."
   ]
  },
  {
   "cell_type": "code",
   "execution_count": 141,
   "id": "9ff2123f-179a-4251-828d-077a71186779",
   "metadata": {
    "tags": []
   },
   "outputs": [],
   "source": [
    "def on_button_click(event, message):\n",
    "    print(f\"Button clicked! Message: {message}\")"
   ]
  },
  {
   "cell_type": "code",
   "execution_count": 147,
   "id": "96ae7b78-b047-4a58-ac85-f0b7b54006de",
   "metadata": {
    "tags": []
   },
   "outputs": [],
   "source": [
    "# Agar aapko ek specific message hamesha send karna hai:\n",
    "\n",
    "button_handler = partial(on_button_click, message=\"Hello World\")"
   ]
  },
  {
   "cell_type": "code",
   "execution_count": 148,
   "id": "23ca91fd-0e62-4761-bcd6-793a05d0e0d7",
   "metadata": {
    "tags": []
   },
   "outputs": [
    {
     "name": "stdout",
     "output_type": "stream",
     "text": [
      "Button clicked! Message: Hello World\n"
     ]
    }
   ],
   "source": [
    "button_handler(\"click_event\")"
   ]
  },
  {
   "cell_type": "markdown",
   "id": "df2128c9-242d-4823-a616-5667464b5654",
   "metadata": {},
   "source": [
    "<h1 style=\"text-align:center; color:#005bbd; font-size:20px; font-family:Sans-serif; font-style: oblique; text-shadow: 0 0 3px white, 0 0 1px Black;\">\n",
    "   Reduce Function\n",
    "</h1>"
   ]
  },
  {
   "cell_type": "markdown",
   "id": "ae1480be-e508-4048-b972-a3c9bb51cf1f",
   "metadata": {},
   "source": [
    "<body style=\"font-family: Sans-serif;\">\n",
    "    <div style=\"color: black; font-size: 15px; font-style: oblique; text-shadow: 0 0 3px white, 0 0 1px black; padding: 20px;\">\n",
    "Reduce ek function ko repeatedly apply karta hai iterable ke elements par, jisse poore iterable ka ek single result nikal aata hai.<br>\n",
    "Matlab, yeh ek function hai jo do values leta hai (jaise: x aur y), aur unka combination return karta hai.<br> Reduce pehle iterable ke pehle do elements ko function ke zariye combine karta hai, phir us combined result ko agle element ke sath combine karta hai, aur aise hi chalti rehti hai jab tak sare elements process na ho jayein."
   ]
  },
  {
   "cell_type": "markdown",
   "id": "3c1c0a91-0673-415f-91f8-49fd1ce52e6b",
   "metadata": {},
   "source": [
    "<body style=\"font-family: Sans-serif;\">\n",
    "    <div style=\"color: black; font-size: 15px; font-style: oblique; text-shadow: 0 0 3px white, 0 0 1px black; padding: 20px;\">\n",
    "\n",
    "#### **Basic Example Without Initializer**\n",
    "\n",
    "Maan lijiye humare paas ek list hai `[1, 2, 3, 4]` aur hum inka sum nikalna chahte hain.\n",
    "\n",
    "- **Function to Combine Two Elements (Addition):**"
   ]
  },
  {
   "cell_type": "code",
   "execution_count": 157,
   "id": "20d61557-6b98-4262-9623-ce61edc175b1",
   "metadata": {
    "tags": []
   },
   "outputs": [],
   "source": [
    "def add(x, y):\n",
    "    return x + y"
   ]
  },
  {
   "cell_type": "code",
   "execution_count": 158,
   "id": "d29c23cb-8996-4fc9-8116-b4711b01b505",
   "metadata": {
    "tags": []
   },
   "outputs": [
    {
     "data": {
      "text/plain": [
       "5"
      ]
     },
     "execution_count": 158,
     "metadata": {},
     "output_type": "execute_result"
    }
   ],
   "source": [
    "add(2,3)"
   ]
  },
  {
   "cell_type": "code",
   "execution_count": 159,
   "id": "09e33144-3948-4df5-9f9e-b967acb5dfa3",
   "metadata": {
    "tags": []
   },
   "outputs": [
    {
     "data": {
      "text/plain": [
       "10"
      ]
     },
     "execution_count": 159,
     "metadata": {},
     "output_type": "execute_result"
    }
   ],
   "source": [
    "from functools import reduce\n",
    "\n",
    "numbers = [1, 2, 3, 4]\n",
    "reduce(add, numbers)"
   ]
  },
  {
   "cell_type": "markdown",
   "id": "03c56803-e9e0-4237-a497-4d01a97d7ffa",
   "metadata": {},
   "source": [
    "<body style=\"font-family: Sans-serif;\">\n",
    "    <div style=\"color: black; font-size: 15px; font-style: oblique; text-shadow: 0 0 3px white, 0 0 1px black; padding: 20px;\">\n",
    "    \n",
    "1. Pehle do elements: `1` aur `2` → add(1, 2) = 3  \n",
    "2. Ab result `3` aur agla element `3` → add(3, 3) = 6  \n",
    "3. Ab result `6` aur agla element `4` → add(6, 4) = 10  \n",
    "4. Final result: `10`"
   ]
  },
  {
   "cell_type": "markdown",
   "id": "ab4179ad-9609-4741-bf60-f8eeb92a2f99",
   "metadata": {},
   "source": [
    "<body style=\"font-family: Sans-serif;\">\n",
    "    <div style=\"color: black; font-size: 15px; font-style: oblique; text-shadow: 0 0 3px white, 0 0 1px black; padding: 20px;\">\n",
    "\n",
    "- **Finding Maximum/Minimum:**  \n",
    "  Though Python ke built-in functions `max` aur `min` available hain, aap reduce ke zariye custom logic apply kar sakte hain."
   ]
  },
  {
   "cell_type": "code",
   "execution_count": 160,
   "id": "63af5563-e664-4e3d-977f-57cbd10d5664",
   "metadata": {
    "tags": []
   },
   "outputs": [],
   "source": [
    "def max_value(x,y):\n",
    "    if x > y:\n",
    "        return x\n",
    "    return y"
   ]
  },
  {
   "cell_type": "code",
   "execution_count": 162,
   "id": "9c10cde8-9824-4a47-981a-48d9507ab97d",
   "metadata": {
    "tags": []
   },
   "outputs": [
    {
     "data": {
      "text/plain": [
       "7"
      ]
     },
     "execution_count": 162,
     "metadata": {},
     "output_type": "execute_result"
    }
   ],
   "source": [
    "reduce(max_value,[5,4,7,4])"
   ]
  },
  {
   "cell_type": "code",
   "execution_count": 163,
   "id": "80ae8a58-13c8-47a8-b848-daf4b566bd39",
   "metadata": {
    "tags": []
   },
   "outputs": [],
   "source": [
    "def min_value(x,y):\n",
    "    if x < y:\n",
    "        return x\n",
    "    return y"
   ]
  },
  {
   "cell_type": "code",
   "execution_count": 165,
   "id": "59b92d10-423c-4dfd-94e8-7b8828f2338c",
   "metadata": {
    "tags": []
   },
   "outputs": [
    {
     "data": {
      "text/plain": [
       "4"
      ]
     },
     "execution_count": 165,
     "metadata": {},
     "output_type": "execute_result"
    }
   ],
   "source": [
    "reduce(min_value,[5,4,7,4])"
   ]
  },
  {
   "cell_type": "markdown",
   "id": "fade4426-c0b8-4807-9466-f63aa6bc6cec",
   "metadata": {
    "tags": []
   },
   "source": [
    "<h1 style=\"text-align:center; color:#005bbd; font-size:20px; font-family:Sans-serif; font-style: oblique; text-shadow: 0 0 3px white, 0 0 1px Black;\">\n",
    "   map Function\n",
    "</h1>"
   ]
  },
  {
   "cell_type": "markdown",
   "id": "0a38d7cf-74e2-45af-8b42-e578446e1813",
   "metadata": {},
   "source": [
    "<body style=\"font-family: Sans-serif;\">\n",
    "    <div style=\"color: black; font-size: 15px; font-style: oblique; text-shadow: 0 0 3px white, 0 0 1px black; padding: 20px;\">\n",
    "\n",
    "- **Map** function  built-in function hai jo ek specified function ko har element par apply karta hai jo aapke pass iterable (jaise list, tuple, etc.) hota hai.<br><br>\n",
    "        "
   ]
  },
  {
   "cell_type": "code",
   "execution_count": 36,
   "id": "e61e75e4-dabf-4fac-bb1f-b63cb26c6ee6",
   "metadata": {
    "tags": []
   },
   "outputs": [],
   "source": [
    "numbers = [1, 2, 3, 4]"
   ]
  },
  {
   "cell_type": "code",
   "execution_count": 37,
   "id": "416c6529-eeee-4dec-8387-15be37ac789b",
   "metadata": {
    "tags": []
   },
   "outputs": [],
   "source": [
    "def square(n):\n",
    "    return n * 2"
   ]
  },
  {
   "cell_type": "code",
   "execution_count": 38,
   "id": "79c0dc2f-d9ec-435b-895a-2385dfa4dcd7",
   "metadata": {
    "tags": []
   },
   "outputs": [
    {
     "data": {
      "text/plain": [
       "<map at 0x7ed709714e50>"
      ]
     },
     "execution_count": 38,
     "metadata": {},
     "output_type": "execute_result"
    }
   ],
   "source": [
    "map(square,numbers)"
   ]
  },
  {
   "cell_type": "markdown",
   "id": "b0465deb-91d3-46aa-813b-c7e79678b8e8",
   "metadata": {},
   "source": [
    "<body style=\"font-family: Sans-serif;\">\n",
    "    <div style=\"color: black; font-size: 15px; font-style: oblique; text-shadow: 0 0 3px white, 0 0 1px black; padding: 20px;\">\n",
    "        \n",
    "Map function iterator return karta hai, is liye yeh memory efficient hai.<br>Matlab, saare results ek saath memory mein load nahi hote balki demand par generate hote hain.<br>\n",
    "Hume isko loops ya list, tuple etc mein convert karna ho ga\n"
   ]
  },
  {
   "cell_type": "code",
   "execution_count": 39,
   "id": "827f2053-3844-4b5c-b39d-33d35fbaa4b5",
   "metadata": {
    "tags": []
   },
   "outputs": [
    {
     "data": {
      "text/plain": [
       "[2, 4, 6, 8]"
      ]
     },
     "execution_count": 39,
     "metadata": {},
     "output_type": "execute_result"
    }
   ],
   "source": [
    "list(map(square,numbers))"
   ]
  },
  {
   "cell_type": "code",
   "execution_count": 40,
   "id": "44a25e7a-6e64-4664-95c5-8be2ed8bf264",
   "metadata": {
    "tags": []
   },
   "outputs": [
    {
     "data": {
      "text/plain": [
       "{2, 4, 6, 8}"
      ]
     },
     "execution_count": 40,
     "metadata": {},
     "output_type": "execute_result"
    }
   ],
   "source": [
    "set(map(square,numbers))"
   ]
  },
  {
   "cell_type": "code",
   "execution_count": 41,
   "id": "4f13bfc4-5523-436b-a0a1-ecb33c3992c0",
   "metadata": {
    "tags": []
   },
   "outputs": [
    {
     "data": {
      "text/plain": [
       "(2, 4, 6, 8)"
      ]
     },
     "execution_count": 41,
     "metadata": {},
     "output_type": "execute_result"
    }
   ],
   "source": [
    "tuple(map(square,numbers))"
   ]
  },
  {
   "cell_type": "code",
   "execution_count": 42,
   "id": "084339b8-bf56-4533-a9ca-92548654c22a",
   "metadata": {
    "tags": []
   },
   "outputs": [
    {
     "data": {
      "text/plain": [
       "[2, 4, 6, 8]"
      ]
     },
     "execution_count": 42,
     "metadata": {},
     "output_type": "execute_result"
    }
   ],
   "source": [
    "[i for i in map(square,numbers)]"
   ]
  },
  {
   "cell_type": "markdown",
   "id": "69575668-f097-4b04-9e93-2cc9c3ac03de",
   "metadata": {},
   "source": [
    "<body style=\"font-family: Sans-serif;\">\n",
    "    <div style=\"color: black; font-size: 15px; font-style: oblique; text-shadow: 0 0 3px white, 0 0 1px black; padding: 20px;\">\n",
    "        \n",
    "- **Map** function aik specified function ko list ke har element par apply karta hai aur transformed elements ka iterator return karta hai. \n",
    "        \n",
    "- **Reduce** function, dosri taraf, list ke tamam elements ko sequentially combine karke ek single value generate karta hai, jaise ke sum ya product."
   ]
  },
  {
   "cell_type": "code",
   "execution_count": 43,
   "id": "3d696573-83d8-4e61-9d0c-1a6236d0a44f",
   "metadata": {
    "tags": []
   },
   "outputs": [
    {
     "data": {
      "text/plain": [
       "[1, 2, 3, 4]"
      ]
     },
     "execution_count": 43,
     "metadata": {},
     "output_type": "execute_result"
    }
   ],
   "source": [
    "numbers"
   ]
  },
  {
   "cell_type": "code",
   "execution_count": 44,
   "id": "6bb37c85-2b8a-4f3b-ae03-0f770f1ecb71",
   "metadata": {
    "tags": []
   },
   "outputs": [
    {
     "data": {
      "text/plain": [
       "[2, 4, 6, 8]"
      ]
     },
     "execution_count": 44,
     "metadata": {},
     "output_type": "execute_result"
    }
   ],
   "source": [
    "list(map(square,numbers))"
   ]
  },
  {
   "cell_type": "code",
   "execution_count": 45,
   "id": "326c8b85-aa7c-4359-9ba9-6c973c1f7003",
   "metadata": {
    "tags": []
   },
   "outputs": [],
   "source": [
    "def square(x,y):\n",
    "    return x * y"
   ]
  },
  {
   "cell_type": "code",
   "execution_count": 47,
   "id": "f0de0405-bf5f-46d0-9cd4-ee5477338c5f",
   "metadata": {
    "tags": []
   },
   "outputs": [
    {
     "data": {
      "text/plain": [
       "24"
      ]
     },
     "execution_count": 47,
     "metadata": {},
     "output_type": "execute_result"
    }
   ],
   "source": [
    "reduce(square,numbers) # reduce 2 parameters ly ga"
   ]
  },
  {
   "cell_type": "markdown",
   "id": "c445894f-d1f0-458b-bf54-831cd0b6b511",
   "metadata": {},
   "source": [
    "<h1 style=\"text-align:center; color:#005bbd; font-size:20px; font-family:Sans-serif; font-style: oblique; text-shadow: 0 0 3px white, 0 0 1px Black;\">\n",
    "   Filter Function\n",
    "</h1>"
   ]
  },
  {
   "cell_type": "markdown",
   "id": "58674af0-4638-4529-b8bb-172d22c32aba",
   "metadata": {},
   "source": [
    "<body style=\"font-family: Sans-serif;\">\n",
    "    <div style=\"color: black; font-size: 15px; font-style: oblique; text-shadow: 0 0 3px white, 0 0 1px black; padding: 20px;\">\n",
    "Filter function aik specified predicate function ko list ke har element par apply karta hai aur sirf un elements ko return karta hai jinke liye function True return karta hai. <br><br>Matlab, agar aap kisi iterable se sirf woh items nikalna chahte hain jo ek certain condition ko satisfy karte hon, to filter use karte hain.\n"
   ]
  },
  {
   "cell_type": "code",
   "execution_count": 78,
   "id": "5ae43ad3-f546-4ea3-b4cf-2b3f5fa652b7",
   "metadata": {
    "tags": []
   },
   "outputs": [],
   "source": [
    "numbers = [1, 2, 3, 4, 5, 6]"
   ]
  },
  {
   "cell_type": "code",
   "execution_count": 87,
   "id": "ac978192-de21-4780-af73-e5024851ae9b",
   "metadata": {
    "tags": []
   },
   "outputs": [],
   "source": [
    "def even(n):\n",
    "    if n%2 == 0:\n",
    "        return n"
   ]
  },
  {
   "cell_type": "code",
   "execution_count": 88,
   "id": "e916723b-60cb-449c-bbe3-7dd4a207ad1f",
   "metadata": {
    "tags": []
   },
   "outputs": [
    {
     "data": {
      "text/plain": [
       "<filter at 0x7ed70aba41f0>"
      ]
     },
     "execution_count": 88,
     "metadata": {},
     "output_type": "execute_result"
    }
   ],
   "source": [
    "filter(even,numbers)"
   ]
  },
  {
   "cell_type": "markdown",
   "id": "faaa7346-2dba-420a-bd2e-279b15daecbf",
   "metadata": {
    "tags": []
   },
   "source": [
    "<body style=\"font-family: Sans-serif;\">\n",
    "    <div style=\"color: black; font-size: 15px; font-style: oblique; text-shadow: 0 0 3px white, 0 0 1px black; padding: 20px;\">\n",
    "        \n",
    "Filter function bhi iterator return karta hai, is liye yeh memory efficient hai"
   ]
  },
  {
   "cell_type": "code",
   "execution_count": 89,
   "id": "adac6990-4c0e-4769-8dfc-5ba4644b6c38",
   "metadata": {
    "tags": []
   },
   "outputs": [
    {
     "data": {
      "text/plain": [
       "[2, 4, 6]"
      ]
     },
     "execution_count": 89,
     "metadata": {},
     "output_type": "execute_result"
    }
   ],
   "source": [
    "list(filter(even,numbers))"
   ]
  },
  {
   "cell_type": "code",
   "execution_count": 90,
   "id": "b70d93f1-55b3-430c-a6b0-f43813af6c62",
   "metadata": {
    "tags": []
   },
   "outputs": [
    {
     "data": {
      "text/plain": [
       "[None, 2, None, 4, None, 6]"
      ]
     },
     "execution_count": 90,
     "metadata": {},
     "output_type": "execute_result"
    }
   ],
   "source": [
    "list(map(even,numbers))"
   ]
  },
  {
   "cell_type": "markdown",
   "id": "830b0b45-632f-49e8-8022-3b15c5d80cf8",
   "metadata": {},
   "source": [
    "<body style=\"font-family: Sans-serif;\">\n",
    "    <div style=\"color: black; font-size: 15px; font-style: oblique; text-shadow: 0 0 3px white, 0 0 1px black; padding: 20px;\">\n",
    "        \n",
    "Map function har element par ek specified function apply karta hai aur unke transformed values return karta hai, <br>jabke filter function har element pe ek condition check karta hai aur sirf un elements ko return karta hai jinke liye condition True ho. <br><br>Matlab, map transformation ke liye use hota hai aur filter selection ke liye."
   ]
  },
  {
   "cell_type": "markdown",
   "id": "25508f9f-b1da-46a3-9c53-614a0c8a6e01",
   "metadata": {},
   "source": [
    "<h1 style=\"text-align:center; color:#005bbd; font-size:20px; font-family:Sans-serif; font-style: oblique; text-shadow: 0 0 3px white, 0 0 1px Black;\">\n",
    "   cmp_to_key Function\n",
    "</h1>"
   ]
  },
  {
   "cell_type": "markdown",
   "id": "bb912a5d-69ec-4e67-a195-7199461fd9d7",
   "metadata": {},
   "source": [
    "<body style=\"font-family: Sans-serif;\">\n",
    "    <div style=\"color: black; font-size: 15px; font-style: oblique; text-shadow: 0 0 3px white, 0 0 1px black; padding: 20px;\">\n",
    "        \n",
    "cmp_to_key ek function hai jo Python ke functools module mein available hai. <br>Iska kaam yeh hai ke aapke paas jo traditional cmp style function hai (jo do objects ko compare karta hai aur -1, 0, ya 1 return karta hai), usay ek key function mein convert kar de.<br><br>\n",
    "        cmp_to_key woh function hai jo purane cmp style comparison function ko ek aise key function mein convert kar deta hai jo Python 3 ke sorted() ya list.sort() mein use kiya ja sakta hai."
   ]
  },
  {
   "cell_type": "code",
   "execution_count": 203,
   "id": "f048d934-2b18-4fbe-8d76-14d8740b4dd5",
   "metadata": {
    "tags": []
   },
   "outputs": [
    {
     "data": {
      "text/plain": [
       "[3, 3, 4, 5]"
      ]
     },
     "execution_count": 203,
     "metadata": {},
     "output_type": "execute_result"
    }
   ],
   "source": [
    "lst = [4,3,5,3]\n",
    "sorted(lst)"
   ]
  },
  {
   "cell_type": "markdown",
   "id": "a6f1ca5f-4b78-42cf-a27f-bcd2c5d26a0d",
   "metadata": {},
   "source": [
    "<body style=\"font-family: Sans-serif;\">\n",
    "    <div style=\"color: black; font-size: 15px; font-style: oblique; text-shadow: 0 0 3px white, 0 0 1px black; padding: 20px;\">\n",
    "Simple approach se sorted() function data sort kar deta hai. <br><br>Lekin agar aapke list mein mixed data (int aur string) ho, to directly int ko string se compare karna error dega, kyun ke Python mein int aur string ko directly compare nahi kiya ja sakta."
   ]
  },
  {
   "cell_type": "code",
   "execution_count": 316,
   "id": "dadc1264-f8f7-4314-ba54-df94d31b5a61",
   "metadata": {
    "tags": []
   },
   "outputs": [
    {
     "name": "stdout",
     "output_type": "stream",
     "text": [
      "'<' not supported between instances of 'str' and 'int'\n"
     ]
    }
   ],
   "source": [
    "lst = [4,\"c\",5,3,'b','a']\n",
    "\n",
    "try:\n",
    "    sorted(lst)\n",
    "except Exception as e:\n",
    "    print(e)"
   ]
  },
  {
   "cell_type": "markdown",
   "id": "fb18a472-6e01-4c7c-b247-a003a5db4a03",
   "metadata": {},
   "source": [
    "<body style=\"font-family: Sans-serif;\">\n",
    "    <div style=\"color: black; font-size: 15px; font-style: oblique; text-shadow: 0 0 3px white, 0 0 1px black; padding: 20px;\">\n",
    "Aap key= parameter mein apna custom rule define kar sakte hain, lekin woh rule sirf same data type ke elements ko sort karega. <br>Matlab, agar list mein int aur string dono hain, to aap key function se int ko alag, string ko alag sort kar sakte hain; <br><br>magar phir aapko ye ensure karna hoga ke dono data type ke elements ke liye ek consistent order ho."
   ]
  },
  {
   "cell_type": "code",
   "execution_count": 317,
   "id": "9e94e26f-e309-47e6-936d-0a79dff7e3c2",
   "metadata": {
    "tags": []
   },
   "outputs": [],
   "source": [
    "def my_sort(a):\n",
    "    \n",
    "    if type(a) == int:\n",
    "        return -1\n",
    "    \n",
    "    elif type(a) == str:\n",
    "        return 1\n",
    "        "
   ]
  },
  {
   "cell_type": "code",
   "execution_count": 318,
   "id": "830732fe-357f-413f-a3c8-7a8e9882b04e",
   "metadata": {
    "tags": []
   },
   "outputs": [
    {
     "data": {
      "text/plain": [
       "[4, 5, 3, 'c', 'b', 'a']"
      ]
     },
     "execution_count": 318,
     "metadata": {},
     "output_type": "execute_result"
    }
   ],
   "source": [
    "sorted(lst,key=my_sort)"
   ]
  },
  {
   "cell_type": "markdown",
   "id": "18fbab1e-7a38-43d4-b1ef-2e67d24a9b2e",
   "metadata": {},
   "source": [
    "<body style=\"font-family: Sans-serif;\">\n",
    "    <div style=\"color: black; font-size: 15px; font-style: oblique; text-shadow: 0 0 3px white, 0 0 1px black; padding: 20px;\">\n",
    "        \n",
    "Agar aap chahte hain ke data type ke sath-sath unki value bhi compare ho, to aap cmp_to_key ka use kar sakte hain. <br>cmp_to_key se aap ek custom cmp function likh sakte hain jo pehle data type (jaise int ko string se pehle rakhna) ke hisaab se ordering define kare, aur phir agar data type same ho to unki values ko compare kare. <br><br>Is tarah aap ek mixed list ko, jisme int aur string dono shamil hon, ek custom order ke mutabiq sort kar sakte hain."
   ]
  },
  {
   "cell_type": "code",
   "execution_count": 319,
   "id": "72c93c02-92c4-441e-8801-3eb45b708d21",
   "metadata": {
    "tags": []
   },
   "outputs": [],
   "source": [
    "from functools import cmp_to_key"
   ]
  },
  {
   "cell_type": "code",
   "execution_count": 323,
   "id": "6fa1e474-a176-4bef-8ea4-96c0ef09e940",
   "metadata": {
    "tags": []
   },
   "outputs": [],
   "source": [
    "def compare(a,b):\n",
    "    if a > b:\n",
    "        return 1\n",
    "    elif a < b:\n",
    "        return -1\n",
    "    return 0"
   ]
  },
  {
   "cell_type": "code",
   "execution_count": 324,
   "id": "3bf57e77-9e69-45f0-b7d2-87371e0ce1a1",
   "metadata": {
    "tags": []
   },
   "outputs": [],
   "source": [
    "def fix_sort(a, b):\n",
    "    \n",
    "    if isinstance(a,int) and isinstance(b,int):\n",
    "        return compare(a,b)\n",
    "    \n",
    "    elif isinstance(a,str) and isinstance(b,str):\n",
    "        return compare(a,b)\n",
    "    \n",
    "    else:\n",
    "        if isinstance(a,str):\n",
    "            return 1\n",
    "        return -1"
   ]
  },
  {
   "cell_type": "code",
   "execution_count": 325,
   "id": "e7fef6c8-9c7c-480d-8db5-6b6daa7c6e05",
   "metadata": {
    "tags": []
   },
   "outputs": [
    {
     "data": {
      "text/plain": [
       "[3, 4, 5, 'a', 'b', 'c']"
      ]
     },
     "execution_count": 325,
     "metadata": {},
     "output_type": "execute_result"
    }
   ],
   "source": [
    "sorted(lst, key=cmp_to_key(fix_sort))"
   ]
  }
 ],
 "metadata": {
  "kernelspec": {
   "display_name": "Python 3 (ipykernel)",
   "language": "python",
   "name": "python3"
  },
  "language_info": {
   "codemirror_mode": {
    "name": "ipython",
    "version": 3
   },
   "file_extension": ".py",
   "mimetype": "text/x-python",
   "name": "python",
   "nbconvert_exporter": "python",
   "pygments_lexer": "ipython3",
   "version": "3.10.12"
  }
 },
 "nbformat": 4,
 "nbformat_minor": 5
}
