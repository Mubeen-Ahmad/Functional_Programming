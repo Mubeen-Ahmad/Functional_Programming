{
 "cells": [
  {
   "cell_type": "markdown",
   "id": "c1b8193a-ea14-4a53-a206-c423af2d7121",
   "metadata": {},
   "source": [
    "<h1 style=\"text-align:center; color:#005bbd; font-size:20px; font-family:Sans-serif; font-style: oblique; text-shadow: 0 0 3px white, 0 0 1px Black;\">\n",
    "   Types of Function\n",
    "</h1>"
   ]
  },
  {
   "cell_type": "markdown",
   "id": "e2f998bf-0799-40fb-adca-341f73e41b0d",
   "metadata": {},
   "source": [
    "<body style=\"font-family: Sans-serif;\">\n",
    "    <div style=\"color: black; font-size: 18px; font-style: oblique; text-shadow: 0 0 3px white, 0 0 1px black; padding: 20px;\">\n",
    "<ul><li>Pure Functions:\n",
    "                <ul>Aise functions jo same input per hamesha same output dete hain aur inme koi side-effects (jaise global variables ko modify karna) nahi hotay. <br>Yeh predictability aur testability ko improve karta hai."
   ]
  },
  {
   "cell_type": "code",
   "execution_count": 3,
   "id": "2fbc9d0b-a369-4568-b844-95b77b060f1b",
   "metadata": {
    "tags": []
   },
   "outputs": [
    {
     "data": {
      "text/plain": [
       "7"
      ]
     },
     "execution_count": 3,
     "metadata": {},
     "output_type": "execute_result"
    }
   ],
   "source": [
    "def add_numbers(a, b):\n",
    "    \n",
    "    # Yeh function do numbers ko add karta hai.\n",
    "    \n",
    "    # Isme koi side-effect nahi hai,\n",
    "    # aur same input per hamesha same output deta hai.\n",
    "    \n",
    "    return a + b\n",
    "\n",
    "add_numbers(3, 4)"
   ]
  },
  {
   "cell_type": "markdown",
   "id": "6063906f-aa73-47bd-a691-d35b0e1461a9",
   "metadata": {},
   "source": [
    "<body style=\"font-family: Sans-serif;\">\n",
    "    <div style=\"color: black; font-size: 18px; font-style: oblique; text-shadow: 0 0 3px white, 0 0 1px black; padding: 20px;\">\n",
    "<ul><li>First-Class Functions:<ul>Functions ko variables ki tarah treat kia jata hai.<br><br>\n",
    "    Matlab aap functions ko arguments ke taur pe pass kar sakte hain,<br><br>return kar sakte hain, \n",
    "    <br><br>ya kisi variable ko assign kar sakte hain."
   ]
  },
  {
   "cell_type": "code",
   "execution_count": 137,
   "id": "b2702177-23ce-447a-ba4e-fc53123c097d",
   "metadata": {
    "tags": []
   },
   "outputs": [],
   "source": [
    "def square(x):\n",
    "    return x * x"
   ]
  },
  {
   "cell_type": "code",
   "execution_count": 138,
   "id": "8a02cd10-1b4b-4a37-bf1a-00613571a055",
   "metadata": {
    "tags": []
   },
   "outputs": [
    {
     "data": {
      "text/plain": [
       "25"
      ]
     },
     "execution_count": 138,
     "metadata": {},
     "output_type": "execute_result"
    }
   ],
   "source": [
    "square(5)"
   ]
  },
  {
   "cell_type": "code",
   "execution_count": 145,
   "id": "e9e677ee-b5ca-4687-b277-fa82ec69a4b9",
   "metadata": {
    "tags": []
   },
   "outputs": [
    {
     "data": {
      "text/plain": [
       "4"
      ]
     },
     "execution_count": 145,
     "metadata": {},
     "output_type": "execute_result"
    }
   ],
   "source": [
    "x = square\n",
    "x(2)"
   ]
  },
  {
   "cell_type": "code",
   "execution_count": 139,
   "id": "9ab30db9-c838-4826-b769-0cc5ab9e7b74",
   "metadata": {
    "tags": []
   },
   "outputs": [],
   "source": [
    "def apply_func(func, value):\n",
    "    return func(value)"
   ]
  },
  {
   "cell_type": "code",
   "execution_count": 141,
   "id": "c046728e-849b-4dd7-9ff6-6b756b2555af",
   "metadata": {
    "tags": []
   },
   "outputs": [
    {
     "data": {
      "text/plain": [
       "25"
      ]
     },
     "execution_count": 141,
     "metadata": {},
     "output_type": "execute_result"
    }
   ],
   "source": [
    "apply_func(square,5)"
   ]
  },
  {
   "cell_type": "markdown",
   "id": "3c9a0bf8-8c85-4002-bcb8-4ebd21cf43fc",
   "metadata": {},
   "source": [
    "<body style=\"font-family: Sans-serif;\">\n",
    "    <div style=\"color: black; font-size: 18px; font-style: oblique; text-shadow: 0 0 3px white, 0 0 1px black; padding: 20px;\">\n",
    "<ul>apply_func function ek higher-order function hai, jo ek function ko argument ke taur par accept karta hai<br><br>Ab sawaal yeh hai ke agar hum function ko alag se call kar sakte hain (jaise square(5)), to phir function mein function pass kyun karte hain?<ul><br>\n",
    "\n",
    "1. **Abstraction aur Reusability:**\n",
    "   - Agar aap directly `square(5)` call karte hain, to aap sirf square function ke liye code likh rahe hote hain.\n",
    "   - Lekin agar aap `apply_func` jaisa generic function banate hain, to aap kisi bhi function (jo ek argument leta ho) ko pass kar sakte hain. Yeh code ko reusable aur modular banata hai.\n",
    "   - Misal ke taur par, agar aapke paas aur functions hain jaise `cube(x)` ya koi aur calculation, to aap unhe bhi easily `apply_func` ke through call kar sakte hain.\n",
    "\n",
    "2. **Dynamic Behavior:**\n",
    "   - Functions ko argument ke taur par pass karne se aap dynamic behavior create kar sakte hain. Aap run-time pe decide kar sakte hain ke kis function ko call karna hai.\n",
    "   - Yeh approach functional programming ka hissa hai jahan functions ko first-class citizens maana jata hai.\n",
    "\n",
    "3. **Code Simplification:**\n",
    "   - Aap higher-order functions se common patterns ko encapsulate kar sakte hain. Agar aapke paas bohat se similar operations hain jo sirf function mein fark rakhte hain, to ek generic wrapper function se aap code ko simplify kar sakte hain.\n",
    "   - Misal ke taur par, aap logging, error handling, ya performance measuring jaisa behavior add kar sakte hain higher-order function ke through bina har function ke andar changes kiye."
   ]
  },
  {
   "cell_type": "code",
   "execution_count": 142,
   "id": "3abde0f0-054f-4c44-be39-95e770182982",
   "metadata": {
    "tags": []
   },
   "outputs": [],
   "source": [
    "def square(x):\n",
    "    return x * x\n",
    "\n",
    "def cube(x):\n",
    "    return x * x * x\n",
    "\n",
    "def apply_func(func, value):\n",
    "    \n",
    "    # Yahan hum function ko parameter ke taur par pass kar rahe hain\n",
    "    # Yeh generic function hai jo kisi bhi function ko call kar sakta hai\n",
    "    \n",
    "    return func(value)\n",
    "\n"
   ]
  },
  {
   "cell_type": "code",
   "execution_count": 143,
   "id": "c72591df-9912-423d-b661-fffd07ae4c41",
   "metadata": {
    "tags": []
   },
   "outputs": [
    {
     "name": "stdout",
     "output_type": "stream",
     "text": [
      "25\n"
     ]
    }
   ],
   "source": [
    "# Direct call\n",
    "print(square(5))  # Output: 25"
   ]
  },
  {
   "cell_type": "code",
   "execution_count": 144,
   "id": "b0a7ccc3-a92a-4734-892e-649e9ea8cf49",
   "metadata": {
    "tags": []
   },
   "outputs": [
    {
     "name": "stdout",
     "output_type": "stream",
     "text": [
      "25\n",
      "27\n"
     ]
    }
   ],
   "source": [
    "# Higher-order function ke through call\n",
    "print(apply_func(square, 5))  # Output: 25\n",
    "print(apply_func(cube, 3))    # Output: 27"
   ]
  }
 ],
 "metadata": {
  "kernelspec": {
   "display_name": "Python 3 (ipykernel)",
   "language": "python",
   "name": "python3"
  },
  "language_info": {
   "codemirror_mode": {
    "name": "ipython",
    "version": 3
   },
   "file_extension": ".py",
   "mimetype": "text/x-python",
   "name": "python",
   "nbconvert_exporter": "python",
   "pygments_lexer": "ipython3",
   "version": "3.10.12"
  }
 },
 "nbformat": 4,
 "nbformat_minor": 5
}
