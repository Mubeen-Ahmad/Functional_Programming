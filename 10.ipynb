{
 "cells": [
  {
   "cell_type": "markdown",
   "id": "25cb386a-fefb-41d2-aa52-953ae1cfcafa",
   "metadata": {},
   "source": [
    "<h1 style=\"text-align:center; color:#005bbd; font-size:20px; font-family:Sans-serif; font-style: oblique; text-shadow: 0 0 3px white, 0 0 1px Black;\">Iterable\n",
    "</h1>"
   ]
  },
  {
   "cell_type": "markdown",
   "id": "f558febe-1023-406c-beac-92ceeb4b40e2",
   "metadata": {},
   "source": [
    "<body style=\"font-family: Sans-serif;\">\n",
    "    <div style=\"color: black; font-size: 15px; font-style: oblique; text-shadow: 0 0 3px white, 0 0 1px black; padding: 20px;\">\n",
    "Iterable aik aisi object ya collection hoti hai jisse hum loop ke zariye data nikal sakte hain, jaise list, tuple, set, dictionary, ya string."
   ]
  },
  {
   "cell_type": "code",
   "execution_count": 13,
   "id": "a37377dc-5fb2-4e4d-90ef-70314e1829da",
   "metadata": {
    "tags": []
   },
   "outputs": [],
   "source": [
    "lst = [1,2,3] # list\n",
    "tp = (1,2,3)  # tuple\n",
    "st = {1,2,3}  # set\n",
    "dc = {\"name\":\"Mubeen\",\"Student\":\"CS\"} # dictionary\n",
    "string = \"Mubeen\" # string"
   ]
  },
  {
   "cell_type": "markdown",
   "id": "3d149d55-ad63-4f58-a049-fdeb96de9c27",
   "metadata": {},
   "source": [
    "<h1 style=\"text-align:center; color:#005bbd; font-size:20px; font-family:Sans-serif; font-style: oblique; text-shadow: 0 0 3px white, 0 0 1px Black;\">Iterator\n",
    "</h1>"
   ]
  },
  {
   "cell_type": "markdown",
   "id": "a09b0cf2-c15f-4a98-8f20-b581393500f6",
   "metadata": {},
   "source": [
    "<body style=\"font-family: Sans-serif;\">\n",
    "    <div style=\"color: black; font-size: 15px; font-style: oblique; text-shadow: 0 0 3px white, 0 0 1px black; padding: 20px;\">\n",
    "Iterator aik aisa object hota hai jo ek sequence (list, tuple, dictionary, ya string) se aik aik karke values return karta hai<br><br>\n",
    "\n",
    "- **`Iterator`** ka kaam yeh hota hai ke jo bhi **`iterable`** object hai, usko aik aik karke access kare.\n",
    "- Jaise ek string ko lo, \"Mubeen\" ek **`iterable`** hai kyunki isme multiple characters mojood hain. \n",
    "- Agar hum is string ka **`iterator`** banayen, to yeh ek aik karke har character ko retrieve karega. \n",
    "\n",
    "    - Pehle M, phir u, phir b, uske baad e, e, aur phir n. <br><br>\n",
    "\n",
    "- **`Iterator`** ka basic kaam yahi hai ke kisi bhi iterable structure ko step by step process kare, bina ek saath poora data load kiye. "
   ]
  },
  {
   "cell_type": "markdown",
   "id": "5984815e-bfeb-4339-85a1-c6d6563a4bf8",
   "metadata": {},
   "source": [
    "<body style=\"font-family: Sans-serif;\">\n",
    "    <div style=\"color: black; font-size: 15px; font-style: oblique; text-shadow: 0 0 3px white, 0 0 1px black; padding: 20px;\">\n",
    "Ab question ye hy ky iterables object ko iterable (1 1 kr ky kasy access kia jai) ?\n",
    "\n",
    "- Is k lye **`iter()`** function use kiya jata hai. Yeh function kisi bhi iterable object (jaise list, tuple, string, set, dict) ka iterator banata hai"
   ]
  },
  {
   "cell_type": "code",
   "execution_count": 26,
   "id": "4b1800ed-45f7-4f1e-9c79-5eb809182633",
   "metadata": {
    "tags": []
   },
   "outputs": [],
   "source": [
    "string = \"Mubeen\""
   ]
  },
  {
   "cell_type": "code",
   "execution_count": 28,
   "id": "f3849ea9-804c-49a4-8c84-e6dcbac50507",
   "metadata": {
    "tags": []
   },
   "outputs": [],
   "source": [
    "it = iter(string)"
   ]
  },
  {
   "cell_type": "code",
   "execution_count": 29,
   "id": "df6a7707-6f66-481a-b730-1b79f84389b8",
   "metadata": {
    "tags": []
   },
   "outputs": [
    {
     "data": {
      "text/plain": [
       "<str_iterator at 0x765bec3e2710>"
      ]
     },
     "execution_count": 29,
     "metadata": {},
     "output_type": "execute_result"
    }
   ],
   "source": [
    "it"
   ]
  },
  {
   "cell_type": "code",
   "execution_count": 30,
   "id": "facdaaa2-eaf8-4ccf-8aea-b3e3368ed9ab",
   "metadata": {
    "tags": []
   },
   "outputs": [
    {
     "data": {
      "text/plain": [
       "str_iterator"
      ]
     },
     "execution_count": 30,
     "metadata": {},
     "output_type": "execute_result"
    }
   ],
   "source": [
    "type(it)"
   ]
  },
  {
   "cell_type": "markdown",
   "id": "c7579ece-d958-443b-9d72-3c1a1d1c8720",
   "metadata": {},
   "source": [
    "<body style=\"font-family: Sans-serif;\">\n",
    "    <div style=\"color: black; font-size: 15px; font-style: oblique; text-shadow: 0 0 3px white, 0 0 1px black; padding: 20px;\">\n",
    "Jab Aap iter(string) likhte ho, to Python uska ek iterator object bana deta hai. Yeh iterator memory location pe store hota hai, aur jab Aap it print karte ho, to yeh uska address show karta hai, jaise:<br><br>\n",
    "        \n",
    "```python\n",
    "        it # output is <str_iterator at 0x765bec3e2710>\n",
    "```\n",
    "<br><br>\n",
    "str_iterator means ye string iterator<br>\n",
    "Normal string **`iterable`** hoti hai, lekin **`iterator`** nahi hoti.<br><br>\n",
    "        \n",
    "```python\n",
    "    print(type(string)) # <class 'str'>\n",
    "    print(type(it))     # <class 'str_iterator'>\n",
    "```"
   ]
  },
  {
   "cell_type": "markdown",
   "id": "2c80c6c1-00c1-4502-8575-1820e3895d60",
   "metadata": {},
   "source": [
    "<body style=\"font-family: Sans-serif;\">\n",
    "    <div style=\"color: black; font-size: 15px; font-style: oblique; text-shadow: 0 0 3px white, 0 0 1px black; padding: 20px;\">\n",
    "        \n",
    "Ab baat aati hn ky ky string (iterable) ko iterator iter() function sy bana lia hy to ab 1 1 kr ky kasy values ko Access kia jai ?<br><br>\n",
    "        \n",
    "- Agar string **`(iterable)`** ko **`iter()`** function se **`iterator`** bana liya hai, to **`next()`** function use karke uski values ek ek karke print ki ja sakti hain.\n"
   ]
  },
  {
   "cell_type": "code",
   "execution_count": 55,
   "id": "819728d7-5c7a-4fb5-9a3a-077fd3c5e743",
   "metadata": {
    "tags": []
   },
   "outputs": [
    {
     "data": {
      "text/plain": [
       "<str_iterator at 0x765bec2038e0>"
      ]
     },
     "execution_count": 55,
     "metadata": {},
     "output_type": "execute_result"
    }
   ],
   "source": [
    "string = \"Mubeen\"\n",
    "\n",
    "it = iter(string)\n",
    "it"
   ]
  },
  {
   "cell_type": "code",
   "execution_count": 56,
   "id": "33ea2d2c-e571-45e3-a6fc-ea406ffddf5c",
   "metadata": {
    "tags": []
   },
   "outputs": [
    {
     "name": "stdout",
     "output_type": "stream",
     "text": [
      "M\n",
      "u\n",
      "b\n",
      "e\n",
      "e\n",
      "n\n"
     ]
    }
   ],
   "source": [
    "print(next(it))  # Output: M\n",
    "print(next(it))  # Output: u\n",
    "print(next(it))  # Output: b\n",
    "print(next(it))  # Output: e\n",
    "print(next(it))  # Output: e\n",
    "print(next(it))  # Output: n"
   ]
  },
  {
   "cell_type": "markdown",
   "id": "e4dac692-72db-47ff-98c3-77d6766c72a2",
   "metadata": {
    "tags": []
   },
   "source": [
    "<body style=\"font-family: Sans-serif;\">\n",
    "    <div style=\"color: black; font-size: 15px; font-style: oblique; text-shadow: 0 0 3px white, 0 0 1px black; padding: 20px;\">\n",
    "        \n",
    "Agar last value (n) tak saari values print ho chuki hain aur dubara next(it) call karoge, to **`StopIteration`** error aayega"
   ]
  },
  {
   "cell_type": "code",
   "execution_count": 57,
   "id": "c2b1ad45-85b3-4e89-a56a-e25e189c9df6",
   "metadata": {
    "tags": []
   },
   "outputs": [
    {
     "ename": "StopIteration",
     "evalue": "",
     "output_type": "error",
     "traceback": [
      "\u001b[0;31m---------------------------------------------------------------------------\u001b[0m",
      "\u001b[0;31mStopIteration\u001b[0m                             Traceback (most recent call last)",
      "Cell \u001b[0;32mIn[57], line 1\u001b[0m\n\u001b[0;32m----> 1\u001b[0m \u001b[38;5;28mprint\u001b[39m(\u001b[38;5;28;43mnext\u001b[39;49m\u001b[43m(\u001b[49m\u001b[43mit\u001b[49m\u001b[43m)\u001b[49m)\n",
      "\u001b[0;31mStopIteration\u001b[0m: "
     ]
    }
   ],
   "source": [
    "print(next(it))"
   ]
  },
  {
   "cell_type": "code",
   "execution_count": 58,
   "id": "08681fe1-bbc8-4928-aa02-448eeb9747ce",
   "metadata": {
    "tags": []
   },
   "outputs": [
    {
     "data": {
      "text/plain": [
       "<list_iterator at 0x765bec2028f0>"
      ]
     },
     "execution_count": 58,
     "metadata": {},
     "output_type": "execute_result"
    }
   ],
   "source": [
    "lst = [1,2,3,4,5]\n",
    "\n",
    "lst_it = iter(lst)\n",
    "lst_it"
   ]
  },
  {
   "cell_type": "code",
   "execution_count": 59,
   "id": "27b3c34d-8ad9-45aa-b9f8-df03a360c081",
   "metadata": {
    "tags": []
   },
   "outputs": [
    {
     "name": "stdout",
     "output_type": "stream",
     "text": [
      "1\n",
      "2\n",
      "3\n",
      "4\n",
      "5\n"
     ]
    }
   ],
   "source": [
    "print(next(lst_it)) # 1\n",
    "print(next(lst_it)) # 2\n",
    "print(next(lst_it)) # 3\n",
    "print(next(lst_it)) # 4\n",
    "print(next(lst_it)) # 5"
   ]
  },
  {
   "cell_type": "code",
   "execution_count": 60,
   "id": "88b1b34c-0cbc-4f53-bab8-0c99d98ce0c4",
   "metadata": {
    "tags": []
   },
   "outputs": [
    {
     "ename": "StopIteration",
     "evalue": "",
     "output_type": "error",
     "traceback": [
      "\u001b[0;31m---------------------------------------------------------------------------\u001b[0m",
      "\u001b[0;31mStopIteration\u001b[0m                             Traceback (most recent call last)",
      "Cell \u001b[0;32mIn[60], line 1\u001b[0m\n\u001b[0;32m----> 1\u001b[0m \u001b[38;5;28mprint\u001b[39m(\u001b[38;5;28;43mnext\u001b[39;49m\u001b[43m(\u001b[49m\u001b[43mlst_it\u001b[49m\u001b[43m)\u001b[49m)\n",
      "\u001b[0;31mStopIteration\u001b[0m: "
     ]
    }
   ],
   "source": [
    "print(next(lst_it))"
   ]
  },
  {
   "cell_type": "markdown",
   "id": "641b80c3-09bb-445e-9747-ccbc80487643",
   "metadata": {},
   "source": [
    "<body style=\"font-family: Sans-serif;\">\n",
    "    <div style=\"color: black; font-size: 15px; font-style: oblique; text-shadow: 0 0 3px white, 0 0 1px black; padding: 20px;\"> \n",
    "\n",
    "#### Access With Loop\n",
    "        \n",
    "Loop use karne ka faida yahi hai ke baar baar next() likhne ki zaroorat nahi hoti"
   ]
  },
  {
   "cell_type": "code",
   "execution_count": 61,
   "id": "de090864-1cb9-41d5-86f4-44f623e3c8ae",
   "metadata": {
    "tags": []
   },
   "outputs": [
    {
     "name": "stdout",
     "output_type": "stream",
     "text": [
      "M\n",
      "u\n",
      "b\n",
      "e\n",
      "e\n",
      "n\n"
     ]
    }
   ],
   "source": [
    "string = \"Mubeen\"\n",
    "it = iter(string)\n",
    "\n",
    "while True:\n",
    "    try:\n",
    "        \n",
    "        print(next(it))\n",
    "        \n",
    "    except StopIteration:\n",
    "        break  # Jab sab characters print ho jayein to loop stop ho jayega"
   ]
  },
  {
   "cell_type": "markdown",
   "id": "ac82094f-8ab2-4540-b83c-135b02c20b13",
   "metadata": {},
   "source": [
    "<body style=\"font-family: Sans-serif;\">\n",
    "    <div style=\"color: black; font-size: 15px; font-style: oblique; text-shadow: 0 0 3px white, 0 0 1px black; padding: 20px;\"> \n",
    "        \n",
    "#### Access with for Loop\n",
    "        \n",
    "for loop automatically next() function ko call kar deta, jab tak StopIteration error na aaye."
   ]
  },
  {
   "cell_type": "code",
   "execution_count": 62,
   "id": "9dd8a51d-3512-4b62-a6f9-04e546f3d5ef",
   "metadata": {
    "tags": []
   },
   "outputs": [
    {
     "name": "stdout",
     "output_type": "stream",
     "text": [
      "M\n",
      "u\n",
      "b\n",
      "e\n",
      "e\n",
      "n\n"
     ]
    }
   ],
   "source": [
    "string = \"Mubeen\"\n",
    "it = iter(string)  # Iterator\n",
    "for char in it:\n",
    "    print(char)"
   ]
  },
  {
   "cell_type": "markdown",
   "id": "1ea72460-8ae5-46c0-898b-23d2a548d66d",
   "metadata": {},
   "source": [
    "<body style=\"font-family: Sans-serif;\">\n",
    "    <div style=\"color: black; font-size: 15px; font-style: oblique; text-shadow: 0 0 3px white, 0 0 1px black; padding: 20px;\"> \n",
    "        \n",
    "Jo **datatypes sequence mein access kiye ja sakte hain** unhein **iterables** kaha jata hai. \n",
    "\n",
    "Jaise **list**, **tuple**, **string**, **set**, etc. Ye **iterables** hote hain kyunki inke elements ko ek ek kar ke access kiya ja sakta hai.\n",
    "\n",
    "Phir, agar hum in iterables ko **iterator** mein convert karte hain, to hum **`iter()` function** ka use karte hain. Uske baad, **`next()` function** ke zariye hum **1 by 1** values ko access kar sakte hain. \n"
   ]
  },
  {
   "cell_type": "code",
   "execution_count": 64,
   "id": "7caa8d1f-c388-453c-a99a-ee12dc5d136b",
   "metadata": {
    "tags": []
   },
   "outputs": [],
   "source": [
    "lst = [1,2,3] # list\n",
    "tp = (1,2,3)  # tuple\n",
    "st = {1,2,3}  # set\n",
    "dc = {\"name\":\"Mubeen\",\"Student\":\"CS\"} # dictionary\n",
    "string = \"Mubeen\" # string"
   ]
  },
  {
   "cell_type": "code",
   "execution_count": 65,
   "id": "d5a880d3-b975-424e-b330-6f4660050081",
   "metadata": {
    "tags": []
   },
   "outputs": [
    {
     "name": "stdout",
     "output_type": "stream",
     "text": [
      "[1, 2, 3] \n",
      "\n",
      "1\n",
      "2\n",
      "3\n"
     ]
    }
   ],
   "source": [
    "# list iteration\n",
    "print(lst,\"\\n\")\n",
    "for i in lst:\n",
    "    print(i)"
   ]
  },
  {
   "cell_type": "code",
   "execution_count": 66,
   "id": "52698d70-ee2d-4fa8-8dad-7f7ed5e3830d",
   "metadata": {
    "tags": []
   },
   "outputs": [
    {
     "name": "stdout",
     "output_type": "stream",
     "text": [
      "(1, 2, 3) \n",
      "\n",
      "1\n",
      "2\n",
      "3\n"
     ]
    }
   ],
   "source": [
    "# tuple iteration\n",
    "print(tp,\"\\n\")\n",
    "for i in tp:\n",
    "    print(i)"
   ]
  },
  {
   "cell_type": "code",
   "execution_count": 67,
   "id": "62cdba68-e9bd-4d21-bc1e-c797d2f2395d",
   "metadata": {
    "tags": []
   },
   "outputs": [
    {
     "name": "stdout",
     "output_type": "stream",
     "text": [
      "{1, 2, 3} \n",
      "\n",
      "1\n",
      "2\n",
      "3\n"
     ]
    }
   ],
   "source": [
    "# set iteration\n",
    "print(st,\"\\n\")\n",
    "for i in st:\n",
    "    print(i)"
   ]
  },
  {
   "cell_type": "code",
   "execution_count": 68,
   "id": "f490cdac-d563-42bf-8eea-a1c8d1087c1d",
   "metadata": {
    "tags": []
   },
   "outputs": [
    {
     "name": "stdout",
     "output_type": "stream",
     "text": [
      "{'name': 'Mubeen', 'Student': 'CS'} \n",
      "\n",
      "name Mubeen\n",
      "Student CS\n"
     ]
    }
   ],
   "source": [
    "# dictionary iteration\n",
    "print(dc,\"\\n\")\n",
    "for k,v in dc.items():\n",
    "    print(k,v)"
   ]
  },
  {
   "cell_type": "code",
   "execution_count": 69,
   "id": "85f0aad1-0f30-4537-a004-adc7fbe423ab",
   "metadata": {
    "tags": []
   },
   "outputs": [
    {
     "name": "stdout",
     "output_type": "stream",
     "text": [
      "Mubeen \n",
      "\n",
      "M\n",
      "u\n",
      "b\n",
      "e\n",
      "e\n",
      "n\n"
     ]
    }
   ],
   "source": [
    "# string iteration\n",
    "print(string,\"\\n\")\n",
    "for i in string:\n",
    "    print(i)"
   ]
  },
  {
   "cell_type": "markdown",
   "id": "d1f37ffa-1ebc-423a-b843-4b30ca3e0145",
   "metadata": {},
   "source": [
    "<body style=\"font-family: Sans-serif;\">\n",
    "    <div style=\"color: black; font-size: 15px; font-style: oblique; text-shadow: 0 0 3px white, 0 0 1px black; padding: 20px;\">\n",
    "\n",
    "### **Concepts:**\n",
    "\n",
    "- **Iterable:**  \n",
    "  - Aisa object jo iterate (loop) kiya ja sakta hai.  \n",
    "  - Misal: List, Tuple, String, Dictionary, Set.  \n",
    "  - Iterable mein __iter__ method hota hai jo ek iterator return karta hai.<br><br>\n",
    "\n",
    "- **Iterator:**  \n",
    "  - Aisa object jo state maintain karta hai aur next element provide karta hai jab next() call hota hai.  \n",
    "  - Iterator mein __next__ method hota hai jo next element return karta hai, aur jab elements khatam ho jate hain to StopIteration exception raise karta hai.<br><br>\n",
    "\n",
    "- **Iteration:**  \n",
    "  - Process jismein hum iterable ke elements ko sequentially access karte hain, jaise for loop ke zariye.\n",
    "\n",
    "---"
   ]
  },
  {
   "cell_type": "markdown",
   "id": "f6d8264f-e4a4-46d3-8d1f-a6dbc308e32e",
   "metadata": {},
   "source": [
    "<body style=\"font-family: Sans-serif;\">\n",
    "    <div style=\"color: black; font-size: 15px; font-style: oblique; text-shadow: 0 0 3px white, 0 0 1px black; padding: 20px;\">\n",
    "        <h1>Sequential process</h1>\n",
    "        \n",
    "Iterators ka jo khas feature hai wo yeh hai ke woh ek waqt mein **sirf ek value** access karte hain. Jab ek value **use** ho jati hai (yaani usko return kar diya jata hai), to woh **access nahi ki ja sakti** phir se, aur next value ko access karte hain.\n",
    "\n",
    "Iska matlab hai ke **iterators ek sequential process** follow karte hain, jismein aap ek waqt par sirf ek element dekh sakte ho, aur jaise hi wo element return ho jata hai, **uski state puri tarah se khatam** ho jati hai.\n",
    "\n",
    "### **Key Points**\n",
    "1. **State Maintain Karna:**\n",
    "   - Iterator **apni state** maintain karta hai. Yeh state usko ye batati hai ke abhi kis element par hai aur agla element kahan se lana hai.<br><br>\n",
    "   \n",
    "2. **Single Access per Value:**\n",
    "   - Jab iterator ka `next()` function call hota hai, wo ek element return karta hai aur us element ki value **phir se access nahi ki ja sakti** jab tak aap dobara uss element ko loop ya kisi naye iterator ke zariye access nahi karte.<br><br>\n",
    "\n",
    "3. **Old Value Ko Access Nahi Kar Sakte:**\n",
    "   - Agar aap kisi iterator se value access kar chuke ho, to uss value ko dobara nahi dekh sakte. Jo purani values hain, woh **discard ho chuki hoti hain**, aur aapko unhe dobara access karne ke liye **naya iterator** banana padta hai.\n",
    "        \n",
    "### **Example**\n",
    "Imagine karen ke aap ek list `[10, 20, 30]` ke elements ko ek iterator ke zariye access kar rahe hain.\n",
    "\n",
    "- **State 1:** Pehli call par `10` ko access kiya gaya, iterator ab state mein hai:  \n",
    "  - Current: 10  \n",
    "  - Agla: 20  <br><br>\n",
    "\n",
    "- **State 2:** Doosri call par iterator `20` ko access karta hai, aur current state mein:  \n",
    "  - Current: 20  \n",
    "  - Agla: 30  <br><br> \n",
    "\n",
    "- **State 3:** Teesri call par `30` ko access kiya jata hai, aur ab iterator exhausted ho jata hai:\n",
    "  - Current: 30  \n",
    "  - Agla: None (Iterator exhausted)\n"
   ]
  },
  {
   "cell_type": "markdown",
   "id": "bbd54e12-cade-47d4-a791-0dd15ab31ba0",
   "metadata": {},
   "source": [
    "<h1 style=\"text-align:center; color:#005bbd; font-size:20px; font-family:Sans-serif; font-style: oblique; text-shadow: 0 0 3px white, 0 0 1px Black;\">Concept - Is All Iterables are Iterators ?\n",
    "</h1>"
   ]
  },
  {
   "cell_type": "markdown",
   "id": "d83c25df-9a6c-4e05-aeb8-142fdb09299e",
   "metadata": {},
   "source": [
    "<body style=\"font-family: Sans-serif;\">\n",
    "    <div style=\"color: black; font-size: 15px; font-style: oblique; text-shadow: 0 0 3px white, 0 0 1px black; padding: 20px;\">\n",
    "        \n",
    "Nahi, **sabhi iterables ko iterator nahi banaya ja sakta**. "
   ]
  },
  {
   "cell_type": "markdown",
   "id": "1d14b088-9eb7-4d94-9049-77fdc8e19f42",
   "metadata": {
    "tags": []
   },
   "source": [
    "<body style=\"font-family: Sans-serif;\">\n",
    "    <div style=\"color: black; font-size: 15px; font-style: oblique; text-shadow: 0 0 3px white, 0 0 1px black; padding: 20px;\">\n",
    "        \n",
    "**Integer aur Float Objects**\n",
    "- **Integer** aur **float** objects directly **iterable** ya **iterator** nahi ban sakte.\n"
   ]
  },
  {
   "cell_type": "code",
   "execution_count": 96,
   "id": "a40e77dc-5f6a-4771-8eb1-b4827c61f90b",
   "metadata": {
    "tags": []
   },
   "outputs": [
    {
     "ename": "TypeError",
     "evalue": "'int' object is not iterable",
     "output_type": "error",
     "traceback": [
      "\u001b[0;31m---------------------------------------------------------------------------\u001b[0m",
      "\u001b[0;31mTypeError\u001b[0m                                 Traceback (most recent call last)",
      "Cell \u001b[0;32mIn[96], line 3\u001b[0m\n\u001b[1;32m      1\u001b[0m num \u001b[38;5;241m=\u001b[39m \u001b[38;5;241m123\u001b[39m\n\u001b[0;32m----> 3\u001b[0m \u001b[38;5;28;43miter\u001b[39;49m\u001b[43m(\u001b[49m\u001b[43mnum\u001b[49m\u001b[43m)\u001b[49m  \u001b[38;5;66;03m# TypeError: 'int' object is not iterable\u001b[39;00m\n",
      "\u001b[0;31mTypeError\u001b[0m: 'int' object is not iterable"
     ]
    }
   ],
   "source": [
    "num = 123\n",
    "\n",
    "iter(num)  # TypeError: 'int' object is not iterable"
   ]
  },
  {
   "cell_type": "markdown",
   "id": "ab596790-d363-4e92-809b-66e27d708a51",
   "metadata": {},
   "source": [
    "<body style=\"font-family: Sans-serif;\">\n",
    "    <div style=\"color: black; font-size: 15px; font-style: oblique; text-shadow: 0 0 3px white, 0 0 1px black; padding: 20px;\">\n",
    "        \n",
    "**Functions**\n",
    "- Functions aur lambdas directly **iterable** nahi hote\n"
   ]
  },
  {
   "cell_type": "code",
   "execution_count": 97,
   "id": "9a9c7f20-5635-4c05-8eb7-5370498cab6d",
   "metadata": {
    "tags": []
   },
   "outputs": [
    {
     "ename": "TypeError",
     "evalue": "'function' object is not iterable",
     "output_type": "error",
     "traceback": [
      "\u001b[0;31m---------------------------------------------------------------------------\u001b[0m",
      "\u001b[0;31mTypeError\u001b[0m                                 Traceback (most recent call last)",
      "Cell \u001b[0;32mIn[97], line 4\u001b[0m\n\u001b[1;32m      1\u001b[0m \u001b[38;5;28;01mdef\u001b[39;00m \u001b[38;5;21mmy_function\u001b[39m():\n\u001b[1;32m      2\u001b[0m     \u001b[38;5;28;01mreturn\u001b[39;00m \u001b[38;5;241m10\u001b[39m\n\u001b[0;32m----> 4\u001b[0m \u001b[38;5;28;43miter\u001b[39;49m\u001b[43m(\u001b[49m\u001b[43mmy_function\u001b[49m\u001b[43m)\u001b[49m\n",
      "\u001b[0;31mTypeError\u001b[0m: 'function' object is not iterable"
     ]
    }
   ],
   "source": [
    "def my_function():\n",
    "    return 10\n",
    "\n",
    "iter(my_function)"
   ]
  },
  {
   "cell_type": "markdown",
   "id": "a8d88554-e376-4cc2-813f-958680cd6b15",
   "metadata": {},
   "source": [
    "<body style=\"font-family: Sans-serif;\">\n",
    "    <div style=\"color: black; font-size: 15px; font-style: oblique; text-shadow: 0 0 3px white, 0 0 1px black; padding: 20px;\">\n",
    "        \n",
    "**How to Check Iterables**\n",
    "\n",
    "Aap **`isinstance()`** function ka bhi use kar sakte hain jo object ko check karta hai ke wo **`Iterable`** class ka instance hai ya nahi."
   ]
  },
  {
   "cell_type": "code",
   "execution_count": 98,
   "id": "3a4e0a86-3cb7-4e0c-9249-71affb6b7d0a",
   "metadata": {
    "tags": []
   },
   "outputs": [],
   "source": [
    "from collections.abc import Iterable"
   ]
  },
  {
   "cell_type": "code",
   "execution_count": 100,
   "id": "a0745cee-7c2f-4e6d-a5fc-d2a5f9fae670",
   "metadata": {
    "tags": []
   },
   "outputs": [
    {
     "data": {
      "text/plain": [
       "True"
      ]
     },
     "execution_count": 100,
     "metadata": {},
     "output_type": "execute_result"
    }
   ],
   "source": [
    "isinstance([1,2,3], Iterable)"
   ]
  },
  {
   "cell_type": "code",
   "execution_count": 101,
   "id": "cd83cba9-bb40-4b57-a87d-ab569bb570a4",
   "metadata": {
    "tags": []
   },
   "outputs": [
    {
     "data": {
      "text/plain": [
       "False"
      ]
     },
     "execution_count": 101,
     "metadata": {},
     "output_type": "execute_result"
    }
   ],
   "source": [
    "isinstance(1, Iterable)"
   ]
  },
  {
   "cell_type": "markdown",
   "id": "b33f516a-5e9e-4d3c-9230-62a1f8c07008",
   "metadata": {},
   "source": [
    "<h1 style=\"text-align:center; color:#005bbd; font-size:20px; font-family:Sans-serif; font-style: oblique; text-shadow: 0 0 3px white, 0 0 1px Black;\">itertools module\n",
    "</h1>"
   ]
  },
  {
   "cell_type": "markdown",
   "id": "d63ed2a4-4022-4e0c-a641-b028c87b292c",
   "metadata": {
    "tags": []
   },
   "source": [
    "<body style=\"font-family: Sans-serif;\">\n",
    "    <div style=\"color: black; font-size: 15px; font-style: oblique; text-shadow: 0 0 3px white, 0 0 1px black; padding: 20px;\">\n",
    "       \n",
    "### **1. `chain()` (Multiple Iterables ko Join Karna)**\n",
    "\n",
    "#### **Explanation:**\n",
    "- `itertools.chain()` ek aisa function hai jo **multiple iterables** (jaise list, tuple, etc.) ko ek single iterator me **combine** karta hai.\n",
    "- Matlab agar aapke paas multiple lists hain, to `chain()` unhe **ek saath iterate** karne ka tareeqa dega."
   ]
  },
  {
   "cell_type": "code",
   "execution_count": 2,
   "id": "5ea2df47-b122-417f-b65f-47cd0bd9849b",
   "metadata": {
    "tags": []
   },
   "outputs": [],
   "source": [
    "import itertools"
   ]
  },
  {
   "cell_type": "code",
   "execution_count": 79,
   "id": "d16249c6-434d-4025-890b-67855dc9a5a1",
   "metadata": {
    "tags": []
   },
   "outputs": [],
   "source": [
    "a = [1, 2, 3] # list \n",
    "b = {4, 5, 6} # set\n",
    "c = [7,8]     # list"
   ]
  },
  {
   "cell_type": "code",
   "execution_count": 83,
   "id": "0e63cca5-21fb-4b1e-9a23-fbc302bb5750",
   "metadata": {
    "tags": []
   },
   "outputs": [
    {
     "data": {
      "text/plain": [
       "<itertools.chain at 0x765be3f2ffd0>"
      ]
     },
     "execution_count": 83,
     "metadata": {},
     "output_type": "execute_result"
    }
   ],
   "source": [
    "itertools.chain(a, b, c)"
   ]
  },
  {
   "cell_type": "code",
   "execution_count": 84,
   "id": "b3ea9b74-f37b-4aa5-a4c1-3fe25418cc42",
   "metadata": {
    "tags": []
   },
   "outputs": [
    {
     "name": "stdout",
     "output_type": "stream",
     "text": [
      "1\n",
      "2\n",
      "3\n",
      "4\n",
      "5\n",
      "6\n",
      "7\n",
      "8\n"
     ]
    }
   ],
   "source": [
    "for num in itertools.chain(a, b, c):\n",
    "    print(num)"
   ]
  },
  {
   "cell_type": "markdown",
   "id": "1649415a-6d7b-4b1d-9a49-892332cf41bb",
   "metadata": {},
   "source": [
    "<body style=\"font-family: Sans-serif;\">\n",
    "    <div style=\"color: black; font-size: 15px; font-style: oblique; text-shadow: 0 0 3px white, 0 0 1px black; padding: 20px;\">\n",
    "      \n",
    "### **2. `permutations()` (All Possible Orders)**\n",
    "\n",
    "#### **Explanation:**\n",
    "- `itertools.permutations()` function kisi bhi iterable ke saare possible **arrangements** ya orders generate karta hai.\n",
    "- Matlab agar aapke paas kuch items hain, to yeh un items ko har possible tarike se arrange karke dega.\n"
   ]
  },
  {
   "cell_type": "code",
   "execution_count": 85,
   "id": "dd8cdc20-4245-4a6e-868c-9be31db5f749",
   "metadata": {
    "tags": []
   },
   "outputs": [],
   "source": [
    "numbers = [1, 2, 3]"
   ]
  },
  {
   "cell_type": "code",
   "execution_count": 86,
   "id": "4ab45a0a-3537-437a-874e-2a27541d976b",
   "metadata": {
    "tags": []
   },
   "outputs": [
    {
     "data": {
      "text/plain": [
       "<itertools.permutations at 0x765be3fb5bc0>"
      ]
     },
     "execution_count": 86,
     "metadata": {},
     "output_type": "execute_result"
    }
   ],
   "source": [
    "itertools.permutations(numbers)"
   ]
  },
  {
   "cell_type": "code",
   "execution_count": 87,
   "id": "2e2e281c-420e-4180-b497-1dfa04afd024",
   "metadata": {
    "tags": []
   },
   "outputs": [
    {
     "name": "stdout",
     "output_type": "stream",
     "text": [
      "(1, 2, 3)\n",
      "(1, 3, 2)\n",
      "(2, 1, 3)\n",
      "(2, 3, 1)\n",
      "(3, 1, 2)\n",
      "(3, 2, 1)\n"
     ]
    }
   ],
   "source": [
    "for perm in itertools.permutations(numbers):\n",
    "    print(perm)"
   ]
  },
  {
   "cell_type": "markdown",
   "id": "5dddf585-0b1b-41ce-81ff-6a742588c474",
   "metadata": {},
   "source": [
    "<body style=\"font-family: Sans-serif;\">\n",
    "    <div style=\"color: black; font-size: 15px; font-style: oblique; text-shadow: 0 0 3px white, 0 0 1px black; padding: 20px;\">\n",
    "       \n",
    "### **3. `combinations()` (All Possible Combinations)**\n",
    "\n",
    "#### **Explanation:**\n",
    "- `itertools.combinations()` kisi iterable se **sab possible combinations** generate karta hai, jismein har combination ek specified length ka hota hai.\n",
    "- Yeh function **order** ka khayal nahi rakhta, aur **repetition** allow nahi karta.\n"
   ]
  },
  {
   "cell_type": "code",
   "execution_count": 20,
   "id": "af24ef6d-4206-4b95-8663-d38614a037b0",
   "metadata": {
    "tags": []
   },
   "outputs": [],
   "source": [
    "items = [1, 2, 3]"
   ]
  },
  {
   "cell_type": "code",
   "execution_count": 13,
   "id": "d492f928-8a32-434d-b4a5-b9fdc50a6cfd",
   "metadata": {
    "tags": []
   },
   "outputs": [
    {
     "data": {
      "text/plain": [
       "<itertools.combinations at 0x7acd2dbc2cf0>"
      ]
     },
     "execution_count": 13,
     "metadata": {},
     "output_type": "execute_result"
    }
   ],
   "source": [
    "itertools.combinations(items, 2)"
   ]
  },
  {
   "cell_type": "code",
   "execution_count": 27,
   "id": "a3b9b9fb-ba3d-4acb-8d85-13312a324269",
   "metadata": {
    "tags": []
   },
   "outputs": [
    {
     "name": "stdout",
     "output_type": "stream",
     "text": [
      "(1, 2)\n",
      "(1, 3)\n",
      "(2, 3)\n"
     ]
    }
   ],
   "source": [
    "for combo in itertools.combinations(items, 2):\n",
    "    print(combo)"
   ]
  },
  {
   "cell_type": "markdown",
   "id": "d5c5db0e-793f-4286-a032-173dcd914b3a",
   "metadata": {},
   "source": [
    "<body style=\"font-family: Sans-serif;\">\n",
    "    <div style=\"color: black; font-size: 15px; font-style: oblique; text-shadow: 0 0 3px white, 0 0 1px black; padding: 20px;\">\n",
    "    \n",
    " \n",
    "| Aspect          | `permutations()`                             | `combinations()`                           |\n",
    "|-----------------|----------------------------------------------|--------------------------------------------|\n",
    "| **Order**       | Order matter karta hai (items ka arrangement important hai) | Order matter nahi karta (items ka arrangement same hota hai) |\n",
    "| **Example**     | `(1, 2)` aur `(2, 1)` alag hote hain       | `(1, 2)` aur `(2, 1)` ek hi combination hain |\n",
    "| **Use Case**    | Jab aapko **all possible orders** chahiye ho, jaise password combinations | Jab aapko **subsets** ya combinations chahiye ho, jaise team selection |\n",
    "\n",
    "---\n",
    "        \n",
    "- **`permutations()`** tab use hota hai jab aapko **sab possible orders** chahiye ho, jaise arranging items in a particular sequence, password generation, ya kisi cheez ke multiple arrangements.\n",
    "  \n",
    "- **`combinations()`** tab use hota hai jab aapko **subsets** ya **groupings** chahiye ho, lekin order ka matter nahi ho, jaise team members ka selection jahan order ka koi significance nahi hota.\n",
    "\n",
    "---"
   ]
  },
  {
   "cell_type": "markdown",
   "id": "5e6c604a-02f5-4b14-8828-e87af6cf88b0",
   "metadata": {},
   "source": [
    "<body style=\"font-family: Sans-serif;\">\n",
    "    <div style=\"color: black; font-size: 15px; font-style: oblique; text-shadow: 0 0 3px white, 0 0 1px black; padding: 20px;\">\n",
    "        \n",
    "### **4. `accumulate()` (Cumulative Sum ya Product)**\n",
    "\n",
    "#### **Explanation:**\n",
    "- `itertools.accumulate()` iterable ke elements ka **cumulative sum** ya **product** calculate karta hai.\n",
    "- Yeh function ek accumulator create karta hai jo har element ke saath cumulative calculation karta hai."
   ]
  },
  {
   "cell_type": "code",
   "execution_count": 7,
   "id": "d7c1ae1f-3f79-4197-bada-4034b4c86e19",
   "metadata": {
    "tags": []
   },
   "outputs": [],
   "source": [
    "numbers = [1, 2, 3, 4]"
   ]
  },
  {
   "cell_type": "code",
   "execution_count": 8,
   "id": "7d40d218-c469-40c5-89f4-f12532f7295c",
   "metadata": {
    "tags": []
   },
   "outputs": [
    {
     "data": {
      "text/plain": [
       "<itertools.accumulate at 0x7acd3758f9c0>"
      ]
     },
     "execution_count": 8,
     "metadata": {},
     "output_type": "execute_result"
    }
   ],
   "source": [
    "itertools.accumulate(numbers)"
   ]
  },
  {
   "cell_type": "code",
   "execution_count": null,
   "id": "565dacf8-40c5-4cdd-8d26-2171d0f76552",
   "metadata": {},
   "outputs": [],
   "source": [
    "# 1 -> 1\n",
    "# 1 + 2 = 3\n",
    "# 3 + 3 = 6\n",
    "# 6 + 4 = 10"
   ]
  },
  {
   "cell_type": "code",
   "execution_count": 11,
   "id": "77c51157-8a71-4e92-b4a5-f8d3eb19afce",
   "metadata": {
    "tags": []
   },
   "outputs": [
    {
     "name": "stdout",
     "output_type": "stream",
     "text": [
      "1\n",
      "3\n",
      "6\n",
      "10\n"
     ]
    }
   ],
   "source": [
    "for acc in itertools.accumulate(numbers):\n",
    "    print(acc)"
   ]
  },
  {
   "cell_type": "markdown",
   "id": "4041ba22-5c44-42e4-9502-56fbd2597f19",
   "metadata": {},
   "source": [
    "<body style=\"font-family: Sans-serif;\">\n",
    "    <div style=\"color: black; font-size: 15px; font-style: oblique; text-shadow: 0 0 3px white, 0 0 1px black; padding: 20px;\">\n",
    "\n",
    "### **4. `cycle()` (Infinite Loop)**\n",
    "\n",
    "#### **Explanation:**\n",
    "- `itertools.cycle()` ek aisa function hai jo ek iterable (like a list) ko **infinite loop me repeat** karta hai.\n",
    "- Matlab ek baar iterable complete hone ke baad, wo **dobara se start ho jata hai** aur yeh process kab tak chalega jab tak aap usse stop nahi karte.\n"
   ]
  },
  {
   "cell_type": "code",
   "execution_count": 3,
   "id": "78132b8e-7f17-494a-97bf-d5c6a6109b55",
   "metadata": {
    "tags": []
   },
   "outputs": [],
   "source": [
    "colors = [\"Red\", \"Green\", \"Blue\"]"
   ]
  },
  {
   "cell_type": "code",
   "execution_count": 4,
   "id": "14e8ef99-286e-481e-8493-222a542e2af5",
   "metadata": {
    "tags": []
   },
   "outputs": [
    {
     "data": {
      "text/plain": [
       "<itertools.cycle at 0x7acd34dfc780>"
      ]
     },
     "execution_count": 4,
     "metadata": {},
     "output_type": "execute_result"
    }
   ],
   "source": [
    "itertools.cycle(colors)"
   ]
  },
  {
   "cell_type": "code",
   "execution_count": 5,
   "id": "93ae8eec-2dff-44ca-9012-d409a448adab",
   "metadata": {
    "tags": []
   },
   "outputs": [
    {
     "name": "stdout",
     "output_type": "stream",
     "text": [
      "Red\n",
      "Green\n",
      "Blue\n",
      "Forcefully Break kia ja raha hy\n"
     ]
    }
   ],
   "source": [
    "for color in itertools.cycle(colors):\n",
    "\n",
    "    print(color)  # Ye kabhi rukega nahi (infinite loop)\n",
    "    \n",
    "    if color == \"Blue\":\n",
    "        print(\"Forcefully Break kia ja raha hy\")\n",
    "        break"
   ]
  },
  {
   "cell_type": "markdown",
   "id": "1958ef14-5c40-44f2-945c-abb2f46dc25f",
   "metadata": {},
   "source": [
    "<h1 style=\"text-align:center; color:#005bbd; font-size:20px; font-family:Sans-serif; font-style: oblique; text-shadow: 0 0 3px white, 0 0 1px Black;\">Built-in Functions\n",
    "</h1>"
   ]
  },
  {
   "cell_type": "markdown",
   "id": "f1d4e74d-2270-4e08-b607-d13fdecdb5a8",
   "metadata": {},
   "source": [
    "<body style=\"font-family: Sans-serif;\">\n",
    "    <div style=\"color: black; font-size: 15px; font-style: oblique; text-shadow: 0 0 3px white, 0 0 1px black; padding: 20px;\">\n",
    "\n",
    "### **1. `zip()` Function**\n",
    "\n",
    "#### **Explanation:**\n",
    "- `zip()` function multiple iterables ko **pairwise combine** karta hai. Matlab, har iterable ke corresponding elements ko ek **tuple** me combine karta hai.\n",
    "- Agar multiple lists hain, to `zip()` unki corresponding elements ko ek saath le kar combine karta hai.\n"
   ]
  },
  {
   "cell_type": "code",
   "execution_count": 28,
   "id": "0a9ed5d6-66c3-4250-bb62-41ba20ac60ea",
   "metadata": {
    "tags": []
   },
   "outputs": [],
   "source": [
    "names = [\"student1\", \"student2\", \"student3\"]\n",
    "marks = [25, 30, 35]"
   ]
  },
  {
   "cell_type": "code",
   "execution_count": 29,
   "id": "f74cde44-b17b-4167-82de-78092de3f285",
   "metadata": {
    "tags": []
   },
   "outputs": [
    {
     "data": {
      "text/plain": [
       "<zip at 0x7acd34011cc0>"
      ]
     },
     "execution_count": 29,
     "metadata": {},
     "output_type": "execute_result"
    }
   ],
   "source": [
    "zip(names,marks)"
   ]
  },
  {
   "cell_type": "code",
   "execution_count": 32,
   "id": "f7349ce5-63a2-44ea-b547-de33abcee576",
   "metadata": {
    "tags": []
   },
   "outputs": [
    {
     "data": {
      "text/plain": [
       "[('student1', 25), ('student2', 30), ('student3', 35)]"
      ]
     },
     "execution_count": 32,
     "metadata": {},
     "output_type": "execute_result"
    }
   ],
   "source": [
    "list(zip(names,marks))"
   ]
  },
  {
   "cell_type": "code",
   "execution_count": 40,
   "id": "b46fa6b7-d3f5-46b2-b812-11b62eea96ed",
   "metadata": {
    "tags": []
   },
   "outputs": [
    {
     "data": {
      "text/plain": [
       "{'student1': 25, 'student2': 30, 'student3': 35}"
      ]
     },
     "execution_count": 40,
     "metadata": {},
     "output_type": "execute_result"
    }
   ],
   "source": [
    "dict(zip(names,marks))"
   ]
  },
  {
   "cell_type": "code",
   "execution_count": 41,
   "id": "a7df955e-5ac7-4155-b2be-d00970d6942c",
   "metadata": {
    "tags": []
   },
   "outputs": [
    {
     "name": "stdout",
     "output_type": "stream",
     "text": [
      "('student1', 25)\n",
      "('student2', 30)\n",
      "('student3', 35)\n"
     ]
    }
   ],
   "source": [
    "for item in zip(names,marks):\n",
    "    print(item)"
   ]
  },
  {
   "cell_type": "markdown",
   "id": "25e3fb39-c445-49fa-9a52-ea7b7bbccd91",
   "metadata": {},
   "source": [
    "<body style=\"font-family: Sans-serif;\">\n",
    "    <div style=\"color: black; font-size: 15px; font-style: oblique; text-shadow: 0 0 3px white, 0 0 1px black; padding: 20px;\">\n",
    "        \n",
    "**`zip()`** aur **`itertools.chain()`** dono ka purpose thoda different hai. \n",
    "\n",
    "Dono hi iterables ko manipulate karte hain, lekin kaafi fundamental differences hain unke kaam karne ke tareeqe mein."
   ]
  },
  {
   "cell_type": "markdown",
   "id": "6b32c414-2d93-4fc5-af0f-06d3e76d7d2d",
   "metadata": {
    "tags": []
   },
   "source": [
    "<body style=\"font-family: Sans-serif;\">\n",
    "    <div style=\"color: black; font-size: 15px; font-style: oblique; text-shadow: 0 0 3px white, 0 0 1px black; padding: 20px;\">\n",
    "        \n",
    "- `zip()` function har iterable ke corresponding elements ko ek sath pair kar deta hai, yani pehle `names[0]` ko `marks[0]` ke saath pair karega, phir `names[1]` ko `marks[1]`, aur aise hi.\n",
    "- Agar iterables ki length different ho, toh zip minimum length ke iterables ko consider karega.\n"
   ]
  },
  {
   "cell_type": "code",
   "execution_count": 47,
   "id": "b144d460-81e4-4771-8c71-9ac4dd6d93db",
   "metadata": {
    "tags": []
   },
   "outputs": [
    {
     "name": "stdout",
     "output_type": "stream",
     "text": [
      "('student1', 25)\n",
      "('student2', 30)\n",
      "('student3', 35)\n"
     ]
    }
   ],
   "source": [
    "names = [\"student1\", \"student2\", \"student3\"]\n",
    "marks = [25, 30, 35]\n",
    "\n",
    "for item in zip(names,marks):\n",
    "    print(item)"
   ]
  },
  {
   "cell_type": "markdown",
   "id": "2805f514-7bad-4ee6-95e1-fde9a056c05e",
   "metadata": {},
   "source": [
    "<body style=\"font-family: Sans-serif;\">\n",
    "    <div style=\"color: black; font-size: 15px; font-style: oblique; text-shadow: 0 0 3px white, 0 0 1px black; padding: 20px;\">\n",
    "        \n",
    "- `itertools.chain()` function `names` aur `marks` ko **ek sath** jodta hai. Yani, pehle `names` ke saare elements ko sequentially access karega, phir `marks` ke elements ko.\n",
    "- Agar aap chahein, to multiple iterables ko chain kar sakte hain, jaise: `chain(iterable1, iterable2, iterable3)`"
   ]
  },
  {
   "cell_type": "code",
   "execution_count": 48,
   "id": "c3646744-7b90-4bed-88b4-fdf6c9504ea5",
   "metadata": {
    "tags": []
   },
   "outputs": [
    {
     "name": "stdout",
     "output_type": "stream",
     "text": [
      "student1\n",
      "student2\n",
      "student3\n",
      "25\n",
      "30\n",
      "35\n"
     ]
    }
   ],
   "source": [
    "names = [\"student1\", \"student2\", \"student3\"]\n",
    "marks = [25, 30, 35]\n",
    "\n",
    "for item in itertools.chain(names, marks):\n",
    "    print(item)"
   ]
  },
  {
   "cell_type": "markdown",
   "id": "d3ea6f39-bcc5-45f4-a6a3-24b127d1c57d",
   "metadata": {},
   "source": [
    "<body style=\"font-family: Sans-serif;\">\n",
    "    <div style=\"color: black; font-size: 15px; font-style: oblique; text-shadow: 0 0 3px white, 0 0 1px black; padding: 20px;\">\n",
    "        \n",
    "### **2. `enumerate()` Function**\n",
    "\n",
    "#### **Explanation:**\n",
    "- `enumerate()` function ko use karke aap kisi iterable (list, tuple, etc.) ko **index ke saath iterate** kar sakte hain. Yeh function har element ke saath uska **index** bhi return karta hai.\n"
   ]
  },
  {
   "cell_type": "code",
   "execution_count": 49,
   "id": "6b8ec864-81a9-4201-b271-e9be52b8e26a",
   "metadata": {
    "tags": []
   },
   "outputs": [],
   "source": [
    "fruits = [\"apple\", \"banana\", \"cherry\"]"
   ]
  },
  {
   "cell_type": "code",
   "execution_count": 53,
   "id": "b826c339-be36-40fe-a758-70e6d303ab79",
   "metadata": {
    "tags": []
   },
   "outputs": [
    {
     "name": "stdout",
     "output_type": "stream",
     "text": [
      "0 apple\n",
      "1 banana\n",
      "2 cherry\n"
     ]
    }
   ],
   "source": [
    "for index, fruit in enumerate(fruits):\n",
    "    print(index, fruit)"
   ]
  },
  {
   "cell_type": "code",
   "execution_count": 62,
   "id": "48a7ed22-1815-4b70-bf3f-0b28304915c9",
   "metadata": {
    "tags": []
   },
   "outputs": [
    {
     "data": {
      "text/plain": [
       "[(0, 'apple'), (1, 'banana'), (2, 'cherry')]"
      ]
     },
     "execution_count": 62,
     "metadata": {},
     "output_type": "execute_result"
    }
   ],
   "source": [
    "list(enumerate(fruits))"
   ]
  },
  {
   "cell_type": "code",
   "execution_count": 61,
   "id": "9a407eb3-b01d-4e35-be76-b4e0a6c3373c",
   "metadata": {
    "tags": []
   },
   "outputs": [
    {
     "data": {
      "text/plain": [
       "{0: 'apple', 1: 'banana', 2: 'cherry'}"
      ]
     },
     "execution_count": 61,
     "metadata": {},
     "output_type": "execute_result"
    }
   ],
   "source": [
    "dict(enumerate(fruits))"
   ]
  },
  {
   "cell_type": "markdown",
   "id": "afbee35d-a2d3-4361-b044-00fb95737c45",
   "metadata": {},
   "source": [
    "<body style=\"font-family: Sans-serif;\">\n",
    "    <div style=\"color: black; font-size: 15px; font-style: oblique; text-shadow: 0 0 3px white, 0 0 1px black; padding: 20px;\">\n",
    "        \n",
    "enumerate() function mein aap start argument ko use karke starting index value ko change kar sakte hain."
   ]
  },
  {
   "cell_type": "code",
   "execution_count": 70,
   "id": "1a69aac7-1dbd-41e4-998a-9f2779f258e0",
   "metadata": {
    "tags": []
   },
   "outputs": [
    {
     "data": {
      "text/plain": [
       "[(1, 'student1'), (2, 'student2'), (3, 'student3')]"
      ]
     },
     "execution_count": 70,
     "metadata": {},
     "output_type": "execute_result"
    }
   ],
   "source": [
    "names = [\"student1\", \"student2\", \"student3\"]\n",
    "\n",
    "list(enumerate(names, start=1))"
   ]
  },
  {
   "cell_type": "code",
   "execution_count": 71,
   "id": "5f763c91-9664-433a-adc3-5bb95a5989fe",
   "metadata": {
    "tags": []
   },
   "outputs": [
    {
     "name": "stdout",
     "output_type": "stream",
     "text": [
      "1 student1\n",
      "2 student2\n",
      "3 student3\n"
     ]
    }
   ],
   "source": [
    "enumerated = enumerate(names, start=1)\n",
    "for index, name in enumerated:\n",
    "    print(index, name)"
   ]
  }
 ],
 "metadata": {
  "kernelspec": {
   "display_name": "Python 3 (ipykernel)",
   "language": "python",
   "name": "python3"
  },
  "language_info": {
   "codemirror_mode": {
    "name": "ipython",
    "version": 3
   },
   "file_extension": ".py",
   "mimetype": "text/x-python",
   "name": "python",
   "nbconvert_exporter": "python",
   "pygments_lexer": "ipython3",
   "version": "3.10.12"
  }
 },
 "nbformat": 4,
 "nbformat_minor": 5
}
