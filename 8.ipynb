{
 "cells": [
  {
   "cell_type": "markdown",
   "id": "9199d85c-01ed-4640-85ee-5518d5065a22",
   "metadata": {
    "tags": []
   },
   "source": [
    "<h1 style=\"text-align:center; color:#005bbd; font-size:20px; font-family:Sans-serif; font-style: oblique; text-shadow: 0 0 3px white, 0 0 1px Black;\">Currying\n",
    "</h1>"
   ]
  },
  {
   "cell_type": "markdown",
   "id": "15f462d1-9469-466a-bcb6-201a5005669a",
   "metadata": {},
   "source": [
    "<body style=\"font-family: Sans-serif;\">\n",
    "    <div style=\"color: black; font-size: 15px; font-style: oblique; text-shadow: 0 0 3px white, 0 0 1px black; padding: 20px;\">\n",
    "\n",
    "### **Currying**\n",
    "\n",
    "#### Currying aik programming technique hai jismein ek **`multi-argument`** function ko sequential **`single-argument`** functions mein tod diya jata hai. \n",
    "\n",
    "Matlab, agar aap ke paas aik function hai jo ek saath multiple arguments leta hai, to currying se aap usko is tarah convert kar dete hain ke pehla function ek argument leta hai aur phir ek naya function return karta hai jo agla argument leta hai, aur aise hi sequence chalti rehti hai jab tak tamam arguments process na ho jayen.\n"
   ]
  },
  {
   "cell_type": "markdown",
   "id": "9571983d-49b2-4b5d-9962-d80f48e1a782",
   "metadata": {},
   "source": [
    "<body style=\"font-family: Sans-serif;\">\n",
    "    <div style=\"color: black; font-size: 15px; font-style: oblique; text-shadow: 0 0 3px white, 0 0 1px black; padding: 20px;\">\n",
    "        \n",
    "### Example aap ke paas aik function hai jo 2 numbers ka multiplication karta hai:"
   ]
  },
  {
   "cell_type": "code",
   "execution_count": 14,
   "id": "c7ea1df2-d5fd-401f-b7d8-c47d8ac2ece2",
   "metadata": {
    "tags": []
   },
   "outputs": [
    {
     "data": {
      "text/plain": [
       "6"
      ]
     },
     "execution_count": 14,
     "metadata": {},
     "output_type": "execute_result"
    }
   ],
   "source": [
    "def multiply(x, y):\n",
    "    return x * y\n",
    "\n",
    "multiply(2, 3)"
   ]
  },
  {
   "cell_type": "markdown",
   "id": "a739db6c-acd9-4081-acab-b2b0f21c6f9e",
   "metadata": {},
   "source": [
    "<body style=\"font-family: Sans-serif;\">\n",
    "    <div style=\"color: black; font-size: 15px; font-style: oblique; text-shadow: 0 0 3px white, 0 0 1px black; padding: 20px;\">\n",
    "        \n",
    "#### Ab hum is function ko currying ki madad se aise likhenge ke pehla function `x` leta hai aur phir ek aur function return karta hai jo `y` leta hai:"
   ]
  },
  {
   "cell_type": "code",
   "execution_count": 15,
   "id": "7112add8-8592-4e5f-994d-d9c9b475950f",
   "metadata": {
    "tags": []
   },
   "outputs": [],
   "source": [
    "def curried_multiply(x):\n",
    "    def multiply_with_x(y):\n",
    "        return x * y\n",
    "    return multiply_with_x"
   ]
  },
  {
   "cell_type": "code",
   "execution_count": 4,
   "id": "a34034b3-865c-4673-9e66-bc8bdd620efe",
   "metadata": {
    "tags": []
   },
   "outputs": [],
   "source": [
    "times_two = curried_multiply(2) "
   ]
  },
  {
   "cell_type": "markdown",
   "id": "fed4941b-ff71-4edf-a328-80fd0741efaf",
   "metadata": {},
   "source": [
    "<body style=\"font-family: Sans-serif;\">\n",
    "    <div style=\"color: black; font-size: 15px; font-style: oblique; text-shadow: 0 0 3px white, 0 0 1px black; padding: 20px;\">\n",
    "    \n",
    "### Yeh function ban jata hai jo har value ko 2 se multiply karega."
   ]
  },
  {
   "cell_type": "code",
   "execution_count": 5,
   "id": "52764c4b-abbc-40b3-8341-929b3788a7cd",
   "metadata": {
    "tags": []
   },
   "outputs": [
    {
     "data": {
      "text/plain": [
       "6"
      ]
     },
     "execution_count": 5,
     "metadata": {},
     "output_type": "execute_result"
    }
   ],
   "source": [
    "times_two(3)"
   ]
  },
  {
   "cell_type": "code",
   "execution_count": 6,
   "id": "7e7bf7e1-ee43-4fa5-aad2-6e466890fa9a",
   "metadata": {
    "tags": []
   },
   "outputs": [
    {
     "data": {
      "text/plain": [
       "8"
      ]
     },
     "execution_count": 6,
     "metadata": {},
     "output_type": "execute_result"
    }
   ],
   "source": [
    "times_two(4)"
   ]
  },
  {
   "cell_type": "markdown",
   "id": "0c967927-bc9a-4628-97a0-f0331c94c51e",
   "metadata": {},
   "source": [
    "<h1 style=\"text-align:center; color:#005bbd; font-size:20px; font-family:Sans-serif; font-style: oblique; text-shadow: 0 0 3px white, 0 0 1px Black;\">Composition\n",
    "</h1>"
   ]
  },
  {
   "cell_type": "markdown",
   "id": "ddc31754-6893-4685-84ae-1d375879ff17",
   "metadata": {},
   "source": [
    "<body style=\"font-family: Sans-serif;\">\n",
    "    <div style=\"color: black; font-size: 15px; font-style: oblique; text-shadow: 0 0 3px white, 0 0 1px black; padding: 20px;\">\n",
    "\n",
    "### **Composition**\n",
    "\n",
    "#### Function Composition ka matlab hai do ya zyada functions ko is tarah jodna ke ek naya function ban jaye. \n",
    "#### Isme pehle ek function apna kaam karta hai, uska output doosre function ko input ke taur par milta hai, aur phir final result milta hai.\n"
   ]
  },
  {
   "cell_type": "code",
   "execution_count": 91,
   "id": "5b0671ae-0712-427c-9168-1760592bd91c",
   "metadata": {
    "tags": []
   },
   "outputs": [],
   "source": [
    "def f(x):\n",
    "    return x + 1\n",
    "\n",
    "def g(x):\n",
    "    return x * 2\n",
    "\n",
    "def compose(f, g):\n",
    "    return lambda x: f(g(x))"
   ]
  },
  {
   "cell_type": "markdown",
   "id": "a75dd5c6-bb5a-4e8a-a256-68a8f12b0c48",
   "metadata": {},
   "source": [
    "<body style=\"font-family: Sans-serif;\">\n",
    "    <div style=\"color: black; font-size: 15px; font-style: oblique; text-shadow: 0 0 3px white, 0 0 1px black; padding: 20px;\">\n",
    "    Example 2"
   ]
  },
  {
   "cell_type": "code",
   "execution_count": 118,
   "id": "3b4bed12-9f77-4002-94fd-bd06c5632d3f",
   "metadata": {
    "tags": []
   },
   "outputs": [],
   "source": [
    "def filter_even(numbers):\n",
    "    return [n for n in numbers if n % 2 == 0]\n",
    "\n",
    "def square(numbers):\n",
    "    return [n * n for n in numbers]\n",
    "\n",
    "def compose(f,g):\n",
    "    def inner(x):\n",
    "        return f(g(x))\n",
    "    return inner"
   ]
  },
  {
   "cell_type": "code",
   "execution_count": 119,
   "id": "53010de9-dc6c-4901-9172-42e65db00188",
   "metadata": {
    "tags": []
   },
   "outputs": [
    {
     "data": {
      "text/plain": [
       "[4, 16]"
      ]
     },
     "execution_count": 119,
     "metadata": {},
     "output_type": "execute_result"
    }
   ],
   "source": [
    "compose(filter_even,square)([1,2,3,4])"
   ]
  },
  {
   "cell_type": "code",
   "execution_count": 120,
   "id": "a8d6dd16-439e-4b0b-8d25-84f8df548c30",
   "metadata": {
    "tags": []
   },
   "outputs": [],
   "source": [
    "# short hand\n",
    "def compose(f, g):\n",
    "    return lambda x: f(g(x))\n"
   ]
  },
  {
   "cell_type": "code",
   "execution_count": 121,
   "id": "ff727738-67f5-4d7e-817c-c89b31b1c7be",
   "metadata": {
    "tags": []
   },
   "outputs": [
    {
     "data": {
      "text/plain": [
       "[4, 16]"
      ]
     },
     "execution_count": 121,
     "metadata": {},
     "output_type": "execute_result"
    }
   ],
   "source": [
    "compose(filter_even,square)([1,2,3,4])"
   ]
  },
  {
   "cell_type": "markdown",
   "id": "ca09c315-7497-472f-aab1-46f0d4c68b86",
   "metadata": {},
   "source": [
    "<body style=\"font-family: Sans-serif;\">\n",
    "    <div style=\"color: black; font-size: 15px; font-style: oblique; text-shadow: 0 0 3px white, 0 0 1px black; padding: 20px;\">\n",
    "    \n",
    "### Lakin ye Concept to Closure Function aur HOF Mein Tha ?"
   ]
  },
  {
   "cell_type": "markdown",
   "id": "444f12b0-263c-4d46-9b29-83737684e423",
   "metadata": {},
   "source": [
    "<body style=\"font-family: Sans-serif;\">\n",
    "    <div style=\"color: black; font-size: 20px; font-style: oblique; text-shadow: 0 0 3px white, 0 0 1px black; padding: 20px;\">\n",
    "        \n",
    "- **Currying ka maksad** ye hota hai ke multi-argument function ko nested single-argument functions mein convert kar diya jaye. Is tarah har function sirf ek argument leta hai, jisse partial application aur function composition asaan ho jati hai.\n",
    "\n",
    "- **Closure ka maksad** ye hota hai ke outer function ke variables (ya arguments) ko inner function capture kar le, taa ke outer function ke execution ke baad bhi inner function un captured values ko use kar sake.\n",
    "\n",
    "- **Function Composition ka maksad** ye hota hai ke do ya zyada functions ko combine karke ek naya function banaya jaye, jahan ek function ka output doosre function ka input ban jata hai. Is se complex operations ko simple functions ki chaining se asaan banaya ja sakta hai.\n",
    "        \n",
    "    </div>\n",
    "</body>\n"
   ]
  },
  {
   "cell_type": "markdown",
   "id": "a0cbc202-67d5-4bf9-9862-2bc348c968fe",
   "metadata": {},
   "source": [
    "<h1 style=\"text-align:center; color:#005bbd; font-size:25px; font-family:Sans-serif; font-style: oblique; text-shadow: 0 0 3px white, 0 0 1px Black;\">Differences\n",
    "</h1>"
   ]
  },
  {
   "cell_type": "markdown",
   "id": "232f5d00-d370-4d75-8d48-5ced8f703ebb",
   "metadata": {},
   "source": [
    "<body style=\"font-family: Sans-serif;\">\n",
    "    <div style=\"color: black; font-size: 18px; font-style: oblique; text-shadow: 0 0 3px white, 0 0 1px black; padding: 20px;\">\n",
    "        \n",
    "- **Closure:**  \n",
    "    - **Concept:** Outer function apne variables ko capture karke inner function ke zariye return kar deta hai.  \n",
    "    - **Focus:** Inner function ko outer function ka environment (variables) yaad rehna.  <br><br>\n",
    "\n",
    "- **Currying:**  \n",
    "    - **Concept:** Ek function jo multiple arguments leta hai, use sequential single-argument functions mein todna.  \n",
    "    - **Focus:** Function ko parts mein divide karke partial application asaan banana.  <br><br>\n",
    "\n",
    "- **Higher-Order Functions (HOF):**  \n",
    "    - **Concept:** Aise functions jo dusre functions ko argument ke taur par lete hain ya function ko return karte hain.  \n",
    "    - **Focus:** Functions ko first-class citizens ke tor par treat karna.  <br><br>\n",
    "\n",
    "- **Decorator:**  \n",
    "    - **Concept:** Ek special type ka higher-order function jo function ke behavior ko modify ya extend karta hai.  \n",
    "    - **Focus:** Same as HOF lekin ek specific syntax (i.e., `@`) se apply hota hai. <br><br>\n",
    "\n",
    "- **Function Composition:**  \n",
    "    - **Concept:** Functions ko combine karke ek naya function banana, jahan ek function ka output doosre function ka input ban jata hai.  \n",
    "    - **Focus:** Simple functions ko chain karke complex operations perform karna. <br><br>\n",
    "\n",
    "        <hr>\n",
    "        \n",
    "- **Closure:** Outer function ke variables ko capture karke inner function return karna.  \n",
    "- **Currying:** Multiple arguments ko sequence of single-argument functions mein divide karna.  \n",
    "- **HOF:** Ek function jo dusre function ko call ya return karta hai.  \n",
    "- **Decorator:** HOF ka hi ek special form hai jo `@` syntax se apply hota hai.  \n",
    "- **Composition:** 2 ya zyada functions ko combine karke naya function banana, jahan ek function ka output, doosre function ka input banta hai.\n",
    "    </div>\n",
    "</body>"
   ]
  },
  {
   "cell_type": "code",
   "execution_count": 74,
   "id": "03d0a7f6-2476-4fab-b408-2eee9fd4f34e",
   "metadata": {
    "tags": []
   },
   "outputs": [
    {
     "name": "stdout",
     "output_type": "stream",
     "text": [
      "5\n",
      "6\n"
     ]
    }
   ],
   "source": [
    "# HOF call other function\n",
    "\n",
    "def hof(func,x,y):\n",
    "    return func(x,y)\n",
    "\n",
    "def my_sum(x,y):\n",
    "    return x+y\n",
    "\n",
    "def multiply(x,y):\n",
    "    return x * y\n",
    "\n",
    "print(hof(my_sum,2,3))\n",
    "print(hof(multiply,2,3))"
   ]
  },
  {
   "cell_type": "code",
   "execution_count": 26,
   "id": "4a93378b-b019-42ab-bdf9-440c86794a30",
   "metadata": {
    "tags": []
   },
   "outputs": [
    {
     "name": "stdout",
     "output_type": "stream",
     "text": [
      "10\n",
      "20\n"
     ]
    }
   ],
   "source": [
    "# HOF return other function\n",
    "\n",
    "def get_multiplier():\n",
    "    def multiply(x):\n",
    "        return x * 2  \n",
    "    return multiply\n",
    "\n",
    "double = get_multiplier()\n",
    "\n",
    "print(double(5))\n",
    "print(double(10))"
   ]
  },
  {
   "cell_type": "code",
   "execution_count": 42,
   "id": "e67edc9d-22d0-4c6c-8b54-c486bd7f4eeb",
   "metadata": {
    "tags": []
   },
   "outputs": [],
   "source": [
    "# HOF return other function inside inside the inner function \n",
    "\n",
    "def get_multiplier(func):\n",
    "    def multiply(x,y):\n",
    "        return func(x,y)\n",
    "    return multiply\n",
    "\n",
    "def put_value(x,y):\n",
    "    print(\"Passing x and y\")\n",
    "    return x * y"
   ]
  },
  {
   "cell_type": "code",
   "execution_count": 45,
   "id": "83f4a564-def0-4dc1-8b4f-a43348f9c881",
   "metadata": {
    "tags": []
   },
   "outputs": [
    {
     "name": "stdout",
     "output_type": "stream",
     "text": [
      "Passing x and y\n"
     ]
    },
    {
     "data": {
      "text/plain": [
       "8"
      ]
     },
     "execution_count": 45,
     "metadata": {},
     "output_type": "execute_result"
    }
   ],
   "source": [
    "get_multiplier(put_value)(2,4)"
   ]
  },
  {
   "cell_type": "code",
   "execution_count": 46,
   "id": "723b95d0-75a6-4404-922c-86023b02b4a0",
   "metadata": {
    "tags": []
   },
   "outputs": [],
   "source": [
    "# HOF Type 1 --> Decorators \n",
    "\n",
    "def get_multiplier(func):\n",
    "    def multiply(x,y):\n",
    "        return func(x,y)\n",
    "    return multiply\n",
    "\n",
    "@get_multiplier\n",
    "def put_value(x,y):\n",
    "    print(\"Passing x and y\")\n",
    "    return x * y"
   ]
  },
  {
   "cell_type": "code",
   "execution_count": 49,
   "id": "37d70f34-a6b7-4069-b5c5-76e0421d0c79",
   "metadata": {
    "tags": []
   },
   "outputs": [
    {
     "name": "stdout",
     "output_type": "stream",
     "text": [
      "Passing x and y\n"
     ]
    },
    {
     "data": {
      "text/plain": [
       "8"
      ]
     },
     "execution_count": 49,
     "metadata": {},
     "output_type": "execute_result"
    }
   ],
   "source": [
    "put_value(2,4) "
   ]
  },
  {
   "cell_type": "code",
   "execution_count": 50,
   "id": "f8f275c6-34d3-4e9c-8fdb-f2e554aff3ca",
   "metadata": {
    "tags": []
   },
   "outputs": [
    {
     "name": "stdout",
     "output_type": "stream",
     "text": [
      "10\n"
     ]
    }
   ],
   "source": [
    "# HOF Type 2 --> Closure \n",
    "\n",
    "def multiplier(n):\n",
    "    def multiply(x):\n",
    "        return x * n  # Here 'n' capture from outer scope called Closure\n",
    "    return multiply\n",
    "\n",
    "double = multiplier(2)\n",
    "print(double(5))"
   ]
  },
  {
   "cell_type": "code",
   "execution_count": 72,
   "id": "38989fd0-c868-4388-a3ed-9d97713df62f",
   "metadata": {
    "tags": []
   },
   "outputs": [
    {
     "name": "stdout",
     "output_type": "stream",
     "text": [
      "9\n"
     ]
    }
   ],
   "source": [
    "def func1(x,y,z):\n",
    "    return x + y + z\n",
    "\n",
    "print(func1(2,3,4))"
   ]
  },
  {
   "cell_type": "code",
   "execution_count": 73,
   "id": "f223dc68-acfd-49b2-a7c1-817fe3c1ea69",
   "metadata": {
    "tags": []
   },
   "outputs": [
    {
     "data": {
      "text/plain": [
       "9"
      ]
     },
     "execution_count": 73,
     "metadata": {},
     "output_type": "execute_result"
    }
   ],
   "source": [
    "# HOF Type 3 --> Currying \n",
    "\n",
    "def func1(x):\n",
    "    def func2(y):\n",
    "        def func3(z):\n",
    "            return x+y+z\n",
    "        return func3\n",
    "    return func2\n",
    "\n",
    "func1(2)(3)(4)"
   ]
  },
  {
   "cell_type": "code",
   "execution_count": 122,
   "id": "171557e3-8c3a-46a1-b543-90aba98c4e0e",
   "metadata": {
    "tags": []
   },
   "outputs": [],
   "source": [
    "# HOF Type 4 --> Composition \n",
    "\n",
    "def filter_even(numbers):\n",
    "    return [n for n in numbers if n % 2 == 0]\n",
    "\n",
    "def square(numbers):\n",
    "    return [n * n for n in numbers]\n",
    "\n",
    "def compose(func1,func2):\n",
    "    return lambda n : func2(func1(n))"
   ]
  },
  {
   "cell_type": "code",
   "execution_count": 124,
   "id": "becaf63b-c60e-40e1-aaca-351c41a3286c",
   "metadata": {
    "tags": []
   },
   "outputs": [
    {
     "data": {
      "text/plain": [
       "[4, 16, 36, 64, 100]"
      ]
     },
     "execution_count": 124,
     "metadata": {},
     "output_type": "execute_result"
    }
   ],
   "source": [
    "compose(filter_even,square)([1,2,3,4,5,6,7,8,9,10])"
   ]
  }
 ],
 "metadata": {
  "kernelspec": {
   "display_name": "Python 3 (ipykernel)",
   "language": "python",
   "name": "python3"
  },
  "language_info": {
   "codemirror_mode": {
    "name": "ipython",
    "version": 3
   },
   "file_extension": ".py",
   "mimetype": "text/x-python",
   "name": "python",
   "nbconvert_exporter": "python",
   "pygments_lexer": "ipython3",
   "version": "3.10.12"
  }
 },
 "nbformat": 4,
 "nbformat_minor": 5
}
