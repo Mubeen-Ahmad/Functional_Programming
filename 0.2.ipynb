{
 "cells": [
  {
   "cell_type": "markdown",
   "id": "4899b163-687e-4760-88d3-74f28c9aa2ce",
   "metadata": {},
   "source": [
    "<h1 style=\"text-align:center; color:#005bbd; font-size:20px; font-family:Sans-serif; font-style: oblique; text-shadow: 0 0 3px white, 0 0 1px Black;\">\n",
    "   Lambda Function\n",
    "</h1>"
   ]
  },
  {
   "cell_type": "markdown",
   "id": "16d5ea2c-f2c3-49fd-95b2-9b1463a62e93",
   "metadata": {},
   "source": [
    "<body style=\"font-family: Sans-serif;\">\n",
    "    <div style=\"color: black; font-size: 15px; font-style: oblique; text-shadow: 0 0 3px white, 0 0 1px black; padding: 20px;\">\n",
    "        \n",
    "Python lambda functions ko \"anonymous functions\" bhi kehte hain, kyun ke inka koi naam nahi hota. <br><br>Normal functions banane ke liye hum `def` keyword use karte hain, magar lambda functions ke liye `lambda` keyword use hota hai.<br><br>Lambda functions sirf **ek hi expression** par mabni hote hain, jo evaluate ho kar return bhi ho jata hai."
   ]
  },
  {
   "cell_type": "code",
   "execution_count": 1,
   "id": "9fde0f50-e053-41aa-9440-c38c25d1d782",
   "metadata": {
    "tags": []
   },
   "outputs": [
    {
     "data": {
      "text/plain": [
       "<function __main__.<lambda>(arguments)>"
      ]
     },
     "execution_count": 1,
     "metadata": {},
     "output_type": "execute_result"
    }
   ],
   "source": [
    "lambda arguments: expression"
   ]
  },
  {
   "cell_type": "markdown",
   "id": "64656790-cdae-48ee-ba02-3d928d71f33e",
   "metadata": {},
   "source": [
    "<body style=\"font-family: Sans-serif;\">\n",
    "    <div style=\"color: black; font-size: 15px; font-style: oblique; text-shadow: 0 0 3px white, 0 0 1px black; padding: 20px;\">\n",
    "        \n",
    "#### Iska matlab hai ke aap `lambda` likh kar, uske baad arguments likhen aur colon ke baad ek expression jo evaluate ho kar result return kare."
   ]
  },
  {
   "cell_type": "code",
   "execution_count": 2,
   "id": "c2f11f9d-ef70-49ef-b666-986cc228d69f",
   "metadata": {
    "tags": []
   },
   "outputs": [],
   "source": [
    "name = lambda arg1: \"Welcome \" + arg1"
   ]
  },
  {
   "cell_type": "code",
   "execution_count": 3,
   "id": "50f75655-2709-450a-b0c2-8f99f45637c5",
   "metadata": {
    "tags": []
   },
   "outputs": [
    {
     "name": "stdout",
     "output_type": "stream",
     "text": [
      "Welcome Mubeen\n"
     ]
    }
   ],
   "source": [
    "print(name(\"Mubeen\"))"
   ]
  },
  {
   "cell_type": "markdown",
   "id": "6bfc7bed-3aac-4380-8d17-6f28da355b6e",
   "metadata": {},
   "source": [
    "<body style=\"font-family: Sans-serif;\">\n",
    "    <div style=\"color: black; font-size: 15px; font-style: oblique; text-shadow: 0 0 3px white, 0 0 1px black; padding: 20px;\">\n",
    "        \n",
    "**Multiple Arguments**"
   ]
  },
  {
   "cell_type": "code",
   "execution_count": 6,
   "id": "59b9a3d7-4f87-499f-9650-a8ee1ba5b388",
   "metadata": {
    "tags": []
   },
   "outputs": [
    {
     "name": "stdout",
     "output_type": "stream",
     "text": [
      "('Mubeen', 'Ahmad')\n"
     ]
    }
   ],
   "source": [
    "func = lambda arg1, arg2: (arg1, arg2)\n",
    "   \n",
    "print(func(\"Mubeen\", \"Ahmad\")) # return tuple"
   ]
  },
  {
   "cell_type": "code",
   "execution_count": 7,
   "id": "4b4ab25a-a6e1-41be-9686-952d2b568cab",
   "metadata": {
    "tags": []
   },
   "outputs": [
    {
     "name": "stdout",
     "output_type": "stream",
     "text": [
      "['Mubeen', 'Ahmad']\n"
     ]
    }
   ],
   "source": [
    "func = lambda arg1, arg2: [arg1, arg2]\n",
    "print(func(\"Mubeen\", \"Ahmad\")) # return list"
   ]
  },
  {
   "cell_type": "markdown",
   "id": "74742ca5-20e5-4426-954e-79d6e581079c",
   "metadata": {},
   "source": [
    "<body style=\"font-family: Sans-serif;\">\n",
    "    <div style=\"color: black; font-size: 15px; font-style: oblique; text-shadow: 0 0 3px white, 0 0 1px black; padding: 20px;\">\n",
    "        \n",
    "**Single Expression Limitation**"
   ]
  },
  {
   "cell_type": "code",
   "execution_count": 8,
   "id": "7a93e89a-afa8-427a-add7-703af17b86a4",
   "metadata": {
    "tags": []
   },
   "outputs": [
    {
     "name": "stdout",
     "output_type": "stream",
     "text": [
      "False\n",
      "True\n"
     ]
    }
   ],
   "source": [
    "age = lambda age: age > 10\n",
    "\n",
    "print(age(10))  # Output: False\n",
    "print(age(11))  # Output: True"
   ]
  },
  {
   "cell_type": "markdown",
   "id": "21bf0cb1-8860-4db1-bf32-c3e35c90e5b0",
   "metadata": {},
   "source": [
    "<body style=\"font-family: Sans-serif;\">\n",
    "    <div style=\"color: black; font-size: 15px; font-style: oblique; text-shadow: 0 0 3px white, 0 0 1px black; padding: 20px;\">\n",
    "        \n",
    "**One-line Lambda Call**\n",
    "\n",
    "- #### Lambda ko bina kisi variable assignment ke bhi call kar sakte hain."
   ]
  },
  {
   "cell_type": "code",
   "execution_count": 10,
   "id": "6ae8f9db-7740-4618-b23b-3771154c2b89",
   "metadata": {
    "tags": []
   },
   "outputs": [
    {
     "data": {
      "text/plain": [
       "'hello'"
      ]
     },
     "execution_count": 10,
     "metadata": {},
     "output_type": "execute_result"
    }
   ],
   "source": [
    "(lambda: \"hello\")()"
   ]
  },
  {
   "cell_type": "markdown",
   "id": "236e3824-e58e-4475-be80-667035bcf1b6",
   "metadata": {},
   "source": [
    "<body style=\"font-family: Sans-serif;\">\n",
    "    <div style=\"color: black; font-size: 15px; font-style: oblique; text-shadow: 0 0 3px white, 0 0 1px black; padding: 20px;\">\n",
    "    \n",
    "**Conditional Expression with Lambda**\n",
    "- #### 2 numbers me se badda number choose karne ke liye."
   ]
  },
  {
   "cell_type": "code",
   "execution_count": 11,
   "id": "8ebf96a9-753c-4fa4-a7f9-d4b770027360",
   "metadata": {
    "tags": []
   },
   "outputs": [
    {
     "name": "stdout",
     "output_type": "stream",
     "text": [
      "11\n",
      "30\n"
     ]
    }
   ],
   "source": [
    "greater = lambda a, b: a if (a > b) else b\n",
    "   \n",
    "print(greater(10, 11))  # Output: 11\n",
    "print(greater(30, 11))  # Output: 30"
   ]
  },
  {
   "cell_type": "markdown",
   "id": "e070bd39-8d10-43ef-a1df-0fc21170bc81",
   "metadata": {
    "tags": []
   },
   "source": [
    "<body style=\"font-family: Sans-serif;\">\n",
    "    <div style=\"color: black; font-size: 15px; font-style: oblique; text-shadow: 0 0 3px white, 0 0 1px black; padding: 20px;\">\n",
    "    \n",
    "**Finding Greater Numbers in a List of Lists**"
   ]
  },
  {
   "cell_type": "code",
   "execution_count": 55,
   "id": "de7f4c25-ee93-4788-b63e-adf40dd5e09c",
   "metadata": {
    "tags": []
   },
   "outputs": [
    {
     "name": "stdout",
     "output_type": "stream",
     "text": [
      "[4, 64, 12]\n"
     ]
    }
   ],
   "source": [
    "data = [[4, 3, 2], [1, 4, 16, 64], [3, 6, 9, 12]]\n",
    "\n",
    "# Har list me se maximum value nikalne ke liye:\n",
    "greater = lambda arg: [max(sorted(i)) for i in arg]\n",
    "print(greater(data))"
   ]
  },
  {
   "cell_type": "code",
   "execution_count": 58,
   "id": "5cf046ef-d804-4a63-a4b9-96b4c25d1a41",
   "metadata": {
    "tags": []
   },
   "outputs": [
    {
     "name": "stdout",
     "output_type": "stream",
     "text": [
      "[3, 16, 9]\n"
     ]
    }
   ],
   "source": [
    "# Har list me se second largest element nikalne ke liye:\n",
    "\n",
    "second_greater = lambda lst:[sorted(list(set(i)),reverse=True)[1:][0] for i in lst]\n",
    "print(second_greater(data))"
   ]
  },
  {
   "cell_type": "markdown",
   "id": "ee73c5b8-ce63-4337-945c-f2f8d74cb68e",
   "metadata": {},
   "source": [
    "<h1 style=\"text-align:center; color:#005bbd; font-size:20px; font-family:Sans-serif; font-style: oblique; text-shadow: 0 0 3px white, 0 0 1px Black;\">\n",
    "   Doc String\n",
    "</h1>"
   ]
  },
  {
   "cell_type": "markdown",
   "id": "cb03cee7-842b-4a73-949a-8589747bd7a9",
   "metadata": {},
   "source": [
    "<body style=\"font-family: Sans-serif;\">\n",
    "    <div style=\"color: black; font-size: 15px; font-style: oblique; text-shadow: 0 0 3px white, 0 0 1px black; padding: 20px;\">\n",
    "        \n",
    "Python docstrings, yaani documentation strings, aik aisa tareeqa hai jisse hum Python modules, functions, classes, aur methods ke sath unki documentation directly source code mein attach kar dete hain.<br><br>Yeh comments ki tarah hote hain, lekin inka maqsad sirf code ko document karna hota hai — matlab batana ke yeh function ya module kya karta hai, na ke kaise karta hai.\n",
    "<br><br>\n",
    "#### **Key Points:**\n",
    "        \n",
    "- **Location:**  \n",
    "  Docstring hamesha function, module ya class ke shuru mein pehle statement ke tor par likha jata hai.  \n",
    "  Yeh triple quotes (''' ya \"\"\") mein likha jata hai.\n",
    "\n",
    "- **Purpose:**  \n",
    "  Docstring ka maqsad yeh batana hota hai ke yeh code block kya karta hai.  \n",
    "  Yeh code ke internal working (logic) ke baare mein detail nahi deta, balkay overall functionality batata hai.\n",
    "\n",
    "- **Accessing Docstrings:**  \n",
    "  Aap docstrings ko built-in `__doc__` attribute se access kar sakte hain.  \n",
    "  Misal ke taur par, `print(len.__doc__)` len function ki documentation print karega.\n",
    "\n",
    "- **Comparison with Regular Comments:**  \n",
    "  Normal comments code mein likhe jate hain lekin docstrings ko runtime par bhi access kiya ja sakta hai (jaise IDEs aur help() function ke through).\n"
   ]
  },
  {
   "cell_type": "markdown",
   "id": "25a175f7-7143-4524-9043-7cfc07b1f70d",
   "metadata": {},
   "source": [
    "<body style=\"font-family: Sans-serif;\">\n",
    "    <div style=\"color: black; font-size: 15px; font-style: oblique; text-shadow: 0 0 3px white, 0 0 1px black; padding: 20px;\">\n",
    "    \n",
    "**Built-in Functions Documentation:**\n",
    "\n",
    "- **len Function:**"
   ]
  },
  {
   "cell_type": "code",
   "execution_count": 81,
   "id": "5065e9c8-b071-4215-8286-c73eafdabef4",
   "metadata": {
    "tags": []
   },
   "outputs": [
    {
     "name": "stdout",
     "output_type": "stream",
     "text": [
      "Return the number of items in a container.\n"
     ]
    }
   ],
   "source": [
    "# len function ki documentation print karna\n",
    "\n",
    "print(len.__doc__)"
   ]
  },
  {
   "cell_type": "markdown",
   "id": "e2544fad-c636-46ef-a4a2-2992f80ddb82",
   "metadata": {},
   "source": [
    "<body style=\"font-family: Sans-serif;\">\n",
    "    <div style=\"color: black; font-size: 15px; font-style: oblique; text-shadow: 0 0 3px white, 0 0 1px black; padding: 20px;\">\n",
    "        \n",
    "- **print Function:**"
   ]
  },
  {
   "cell_type": "code",
   "execution_count": 82,
   "id": "96445e5d-5074-4737-962e-f2b9b14768c6",
   "metadata": {
    "tags": []
   },
   "outputs": [
    {
     "name": "stdout",
     "output_type": "stream",
     "text": [
      "print(value, ..., sep=' ', end='\\n', file=sys.stdout, flush=False)\n",
      "\n",
      "Prints the values to a stream, or to sys.stdout by default.\n",
      "Optional keyword arguments:\n",
      "file:  a file-like object (stream); defaults to the current sys.stdout.\n",
      "sep:   string inserted between values, default a space.\n",
      "end:   string appended after the last value, default a newline.\n",
      "flush: whether to forcibly flush the stream.\n"
     ]
    }
   ],
   "source": [
    "print(print.__doc__)"
   ]
  },
  {
   "cell_type": "markdown",
   "id": "8c20828b-1887-4856-b687-733f53801d94",
   "metadata": {},
   "source": [
    "<body style=\"font-family: Sans-serif;\">\n",
    "    <div style=\"color: black; font-size: 15px; font-style: oblique; text-shadow: 0 0 3px white, 0 0 1px black; padding: 20px;\">\n",
    "        \n",
    "- **range Function:**"
   ]
  },
  {
   "cell_type": "code",
   "execution_count": 83,
   "id": "6c0db3d9-afbe-4b36-9302-3dc3a1cbfd18",
   "metadata": {
    "tags": []
   },
   "outputs": [
    {
     "name": "stdout",
     "output_type": "stream",
     "text": [
      "range(stop) -> range object\n",
      "range(start, stop[, step]) -> range object\n",
      "\n",
      "Return an object that produces a sequence of integers from start (inclusive)\n",
      "to stop (exclusive) by step.  range(i, j) produces i, i+1, i+2, ..., j-1.\n",
      "start defaults to 0, and stop is omitted!  range(4) produces 0, 1, 2, 3.\n",
      "These are exactly the valid indices for a list of 4 elements.\n",
      "When step is given, it specifies the increment (or decrement).\n"
     ]
    }
   ],
   "source": [
    "print(range.__doc__)"
   ]
  },
  {
   "cell_type": "markdown",
   "id": "4e94e824-0b24-44de-81ba-7fa4eb1023dd",
   "metadata": {},
   "source": [
    "<body style=\"font-family: Sans-serif;\">\n",
    "    <div style=\"color: black; font-size: 15px; font-style: oblique; text-shadow: 0 0 3px white, 0 0 1px black; padding: 20px;\">\n",
    "        \n",
    "**Apna Khud ka Docstring Banaty hn:**"
   ]
  },
  {
   "cell_type": "code",
   "execution_count": 84,
   "id": "0e6d34eb-b5da-4a01-ae34-1ebc720dcb7c",
   "metadata": {
    "tags": []
   },
   "outputs": [],
   "source": [
    "def my_sum(x, y):\n",
    "    \n",
    "    \"\"\"\n",
    "        my_sum(x, y) --> sum of x and y\n",
    "        Return the sum of only two Numbers.\n",
    "    \"\"\"\n",
    "    \n",
    "    return x + y"
   ]
  },
  {
   "cell_type": "code",
   "execution_count": 85,
   "id": "3fe297c1-f4e2-4691-bfb1-a6939a43109d",
   "metadata": {
    "tags": []
   },
   "outputs": [
    {
     "name": "stdout",
     "output_type": "stream",
     "text": [
      "\n",
      "        my_sum(x, y) --> sum of x and y\n",
      "        Return the sum of only two Numbers.\n",
      "    \n"
     ]
    }
   ],
   "source": [
    "# my_sum function ka docstring print karna\n",
    "print(my_sum.__doc__)"
   ]
  },
  {
   "cell_type": "markdown",
   "id": "b6900dd9-ebe6-46d9-8f3a-a26bc221c837",
   "metadata": {},
   "source": [
    "<body style=\"font-family: Sans-serif;\">\n",
    "    <div style=\"color: black; font-size: 15px; font-style: oblique; text-shadow: 0 0 3px white, 0 0 1px black; padding: 20px;\">\n",
    "  \n",
    "#### **Docstring mein Kya Include Karna Chahiye**\n",
    "  Achi docstring mein yeh shamil ho sakta hai:  \n",
    "  - Function ya module ka purpose  \n",
    "  - Parameters aur unke types (agar zaroori ho)  \n",
    "  - Return value  \n",
    "  - Agar koi exceptions raise ho sakte hain to unka zikr  \n",
    "  - Examples (optional)"
   ]
  }
 ],
 "metadata": {
  "kernelspec": {
   "display_name": "Python 3 (ipykernel)",
   "language": "python",
   "name": "python3"
  },
  "language_info": {
   "codemirror_mode": {
    "name": "ipython",
    "version": 3
   },
   "file_extension": ".py",
   "mimetype": "text/x-python",
   "name": "python",
   "nbconvert_exporter": "python",
   "pygments_lexer": "ipython3",
   "version": "3.10.12"
  }
 },
 "nbformat": 4,
 "nbformat_minor": 5
}
